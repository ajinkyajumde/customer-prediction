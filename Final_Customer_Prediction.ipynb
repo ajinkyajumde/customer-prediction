{
  "cells": [
    {
      "cell_type": "markdown",
      "metadata": {
        "id": "view-in-github",
        "colab_type": "text"
      },
      "source": [
        "<a href=\"https://colab.research.google.com/github/ajinkyajumde/customer-prediction/blob/main/Final_Customer_Prediction.ipynb\" target=\"_parent\"><img src=\"https://colab.research.google.com/assets/colab-badge.svg\" alt=\"Open In Colab\"/></a>"
      ]
    },
    {
      "cell_type": "code",
      "execution_count": 68,
      "metadata": {
        "id": "tzNkH4pPTGxz"
      },
      "outputs": [],
      "source": [
        "import pandas as pd\n",
        "import numpy as np\n",
        "import matplotlib.pyplot as plt\n",
        "import seaborn as sns\n",
        "\n",
        "from sklearn.model_selection import train_test_split\n",
        "from sklearn.model_selection import GridSearchCV\n",
        "from sklearn.model_selection import RandomizedSearchCV\n",
        "from sklearn.model_selection import train_test_split\n",
        "from sklearn import ensemble"
      ]
    },
    {
      "cell_type": "code",
      "execution_count": 69,
      "metadata": {
        "colab": {
          "base_uri": "https://localhost:8080/"
        },
        "id": "1foyqW2GTYaR",
        "outputId": "30471607-e3e2-4a67-c71c-2411fa08e894"
      },
      "outputs": [
        {
          "output_type": "stream",
          "name": "stdout",
          "text": [
            "Drive already mounted at /content/drive; to attempt to forcibly remount, call drive.mount(\"/content/drive\", force_remount=True).\n"
          ]
        }
      ],
      "source": [
        "from google.colab import drive\n",
        "drive.mount('/content/drive')"
      ]
    },
    {
      "cell_type": "code",
      "execution_count": 70,
      "metadata": {
        "id": "f4flj--6iCAb"
      },
      "outputs": [],
      "source": [
        "data='/content/drive/MyDrive/Almabetter projects/Customer prediction/train_wn75k28.csv'\n",
        "test_dataset=pd.read_csv(data)"
      ]
    },
    {
      "cell_type": "code",
      "execution_count": 71,
      "metadata": {
        "colab": {
          "base_uri": "https://localhost:8080/",
          "height": 270
        },
        "id": "98BpkLUhiOKt",
        "outputId": "469e4a50-76bc-4572-b3e6-31bdff8a1a7b"
      },
      "outputs": [
        {
          "output_type": "execute_result",
          "data": {
            "text/plain": [
              "   id  created_at  campaign_var_1  campaign_var_2  products_purchased  \\\n",
              "0   1  2021-01-01               1               2                 2.0   \n",
              "1   2  2021-01-01               2               1                 2.0   \n",
              "2   3  2021-01-01               9               3                 3.0   \n",
              "3   4  2021-01-01               6               7                 2.0   \n",
              "4   5  2021-01-01               4               6                 NaN   \n",
              "\n",
              "  signup_date  user_activity_var_1  user_activity_var_2  user_activity_var_3  \\\n",
              "0  2020-09-24                    0                    0                    0   \n",
              "1  2020-09-19                    1                    0                    1   \n",
              "2  2021-08-11                    1                    0                    0   \n",
              "3  2017-10-04                    0                    0                    0   \n",
              "4  2020-06-08                    0                    0                    0   \n",
              "\n",
              "   user_activity_var_4  user_activity_var_5  user_activity_var_6  \\\n",
              "0                    0                    0                    0   \n",
              "1                    0                    0                    0   \n",
              "2                    0                    0                    0   \n",
              "3                    0                    0                    0   \n",
              "4                    0                    0                    0   \n",
              "\n",
              "   user_activity_var_7  user_activity_var_8  user_activity_var_9  \\\n",
              "0                    1                    1                    0   \n",
              "1                    1                    0                    0   \n",
              "2                    0                    0                    0   \n",
              "3                    0                    0                    0   \n",
              "4                    1                    0                    0   \n",
              "\n",
              "   user_activity_var_10  user_activity_var_11  user_activity_var_12  buy  \n",
              "0                     0                     0                     0    0  \n",
              "1                     0                     0                     0    0  \n",
              "2                     0                     0                     0    0  \n",
              "3                     0                     0                     0    0  \n",
              "4                     0                     1                     0    0  "
            ],
            "text/html": [
              "\n",
              "  <div id=\"df-6a31cff7-1bde-492f-9b18-fe8834482fb0\">\n",
              "    <div class=\"colab-df-container\">\n",
              "      <div>\n",
              "<style scoped>\n",
              "    .dataframe tbody tr th:only-of-type {\n",
              "        vertical-align: middle;\n",
              "    }\n",
              "\n",
              "    .dataframe tbody tr th {\n",
              "        vertical-align: top;\n",
              "    }\n",
              "\n",
              "    .dataframe thead th {\n",
              "        text-align: right;\n",
              "    }\n",
              "</style>\n",
              "<table border=\"1\" class=\"dataframe\">\n",
              "  <thead>\n",
              "    <tr style=\"text-align: right;\">\n",
              "      <th></th>\n",
              "      <th>id</th>\n",
              "      <th>created_at</th>\n",
              "      <th>campaign_var_1</th>\n",
              "      <th>campaign_var_2</th>\n",
              "      <th>products_purchased</th>\n",
              "      <th>signup_date</th>\n",
              "      <th>user_activity_var_1</th>\n",
              "      <th>user_activity_var_2</th>\n",
              "      <th>user_activity_var_3</th>\n",
              "      <th>user_activity_var_4</th>\n",
              "      <th>user_activity_var_5</th>\n",
              "      <th>user_activity_var_6</th>\n",
              "      <th>user_activity_var_7</th>\n",
              "      <th>user_activity_var_8</th>\n",
              "      <th>user_activity_var_9</th>\n",
              "      <th>user_activity_var_10</th>\n",
              "      <th>user_activity_var_11</th>\n",
              "      <th>user_activity_var_12</th>\n",
              "      <th>buy</th>\n",
              "    </tr>\n",
              "  </thead>\n",
              "  <tbody>\n",
              "    <tr>\n",
              "      <th>0</th>\n",
              "      <td>1</td>\n",
              "      <td>2021-01-01</td>\n",
              "      <td>1</td>\n",
              "      <td>2</td>\n",
              "      <td>2.0</td>\n",
              "      <td>2020-09-24</td>\n",
              "      <td>0</td>\n",
              "      <td>0</td>\n",
              "      <td>0</td>\n",
              "      <td>0</td>\n",
              "      <td>0</td>\n",
              "      <td>0</td>\n",
              "      <td>1</td>\n",
              "      <td>1</td>\n",
              "      <td>0</td>\n",
              "      <td>0</td>\n",
              "      <td>0</td>\n",
              "      <td>0</td>\n",
              "      <td>0</td>\n",
              "    </tr>\n",
              "    <tr>\n",
              "      <th>1</th>\n",
              "      <td>2</td>\n",
              "      <td>2021-01-01</td>\n",
              "      <td>2</td>\n",
              "      <td>1</td>\n",
              "      <td>2.0</td>\n",
              "      <td>2020-09-19</td>\n",
              "      <td>1</td>\n",
              "      <td>0</td>\n",
              "      <td>1</td>\n",
              "      <td>0</td>\n",
              "      <td>0</td>\n",
              "      <td>0</td>\n",
              "      <td>1</td>\n",
              "      <td>0</td>\n",
              "      <td>0</td>\n",
              "      <td>0</td>\n",
              "      <td>0</td>\n",
              "      <td>0</td>\n",
              "      <td>0</td>\n",
              "    </tr>\n",
              "    <tr>\n",
              "      <th>2</th>\n",
              "      <td>3</td>\n",
              "      <td>2021-01-01</td>\n",
              "      <td>9</td>\n",
              "      <td>3</td>\n",
              "      <td>3.0</td>\n",
              "      <td>2021-08-11</td>\n",
              "      <td>1</td>\n",
              "      <td>0</td>\n",
              "      <td>0</td>\n",
              "      <td>0</td>\n",
              "      <td>0</td>\n",
              "      <td>0</td>\n",
              "      <td>0</td>\n",
              "      <td>0</td>\n",
              "      <td>0</td>\n",
              "      <td>0</td>\n",
              "      <td>0</td>\n",
              "      <td>0</td>\n",
              "      <td>0</td>\n",
              "    </tr>\n",
              "    <tr>\n",
              "      <th>3</th>\n",
              "      <td>4</td>\n",
              "      <td>2021-01-01</td>\n",
              "      <td>6</td>\n",
              "      <td>7</td>\n",
              "      <td>2.0</td>\n",
              "      <td>2017-10-04</td>\n",
              "      <td>0</td>\n",
              "      <td>0</td>\n",
              "      <td>0</td>\n",
              "      <td>0</td>\n",
              "      <td>0</td>\n",
              "      <td>0</td>\n",
              "      <td>0</td>\n",
              "      <td>0</td>\n",
              "      <td>0</td>\n",
              "      <td>0</td>\n",
              "      <td>0</td>\n",
              "      <td>0</td>\n",
              "      <td>0</td>\n",
              "    </tr>\n",
              "    <tr>\n",
              "      <th>4</th>\n",
              "      <td>5</td>\n",
              "      <td>2021-01-01</td>\n",
              "      <td>4</td>\n",
              "      <td>6</td>\n",
              "      <td>NaN</td>\n",
              "      <td>2020-06-08</td>\n",
              "      <td>0</td>\n",
              "      <td>0</td>\n",
              "      <td>0</td>\n",
              "      <td>0</td>\n",
              "      <td>0</td>\n",
              "      <td>0</td>\n",
              "      <td>1</td>\n",
              "      <td>0</td>\n",
              "      <td>0</td>\n",
              "      <td>0</td>\n",
              "      <td>1</td>\n",
              "      <td>0</td>\n",
              "      <td>0</td>\n",
              "    </tr>\n",
              "  </tbody>\n",
              "</table>\n",
              "</div>\n",
              "      <button class=\"colab-df-convert\" onclick=\"convertToInteractive('df-6a31cff7-1bde-492f-9b18-fe8834482fb0')\"\n",
              "              title=\"Convert this dataframe to an interactive table.\"\n",
              "              style=\"display:none;\">\n",
              "        \n",
              "  <svg xmlns=\"http://www.w3.org/2000/svg\" height=\"24px\"viewBox=\"0 0 24 24\"\n",
              "       width=\"24px\">\n",
              "    <path d=\"M0 0h24v24H0V0z\" fill=\"none\"/>\n",
              "    <path d=\"M18.56 5.44l.94 2.06.94-2.06 2.06-.94-2.06-.94-.94-2.06-.94 2.06-2.06.94zm-11 1L8.5 8.5l.94-2.06 2.06-.94-2.06-.94L8.5 2.5l-.94 2.06-2.06.94zm10 10l.94 2.06.94-2.06 2.06-.94-2.06-.94-.94-2.06-.94 2.06-2.06.94z\"/><path d=\"M17.41 7.96l-1.37-1.37c-.4-.4-.92-.59-1.43-.59-.52 0-1.04.2-1.43.59L10.3 9.45l-7.72 7.72c-.78.78-.78 2.05 0 2.83L4 21.41c.39.39.9.59 1.41.59.51 0 1.02-.2 1.41-.59l7.78-7.78 2.81-2.81c.8-.78.8-2.07 0-2.86zM5.41 20L4 18.59l7.72-7.72 1.47 1.35L5.41 20z\"/>\n",
              "  </svg>\n",
              "      </button>\n",
              "      \n",
              "  <style>\n",
              "    .colab-df-container {\n",
              "      display:flex;\n",
              "      flex-wrap:wrap;\n",
              "      gap: 12px;\n",
              "    }\n",
              "\n",
              "    .colab-df-convert {\n",
              "      background-color: #E8F0FE;\n",
              "      border: none;\n",
              "      border-radius: 50%;\n",
              "      cursor: pointer;\n",
              "      display: none;\n",
              "      fill: #1967D2;\n",
              "      height: 32px;\n",
              "      padding: 0 0 0 0;\n",
              "      width: 32px;\n",
              "    }\n",
              "\n",
              "    .colab-df-convert:hover {\n",
              "      background-color: #E2EBFA;\n",
              "      box-shadow: 0px 1px 2px rgba(60, 64, 67, 0.3), 0px 1px 3px 1px rgba(60, 64, 67, 0.15);\n",
              "      fill: #174EA6;\n",
              "    }\n",
              "\n",
              "    [theme=dark] .colab-df-convert {\n",
              "      background-color: #3B4455;\n",
              "      fill: #D2E3FC;\n",
              "    }\n",
              "\n",
              "    [theme=dark] .colab-df-convert:hover {\n",
              "      background-color: #434B5C;\n",
              "      box-shadow: 0px 1px 3px 1px rgba(0, 0, 0, 0.15);\n",
              "      filter: drop-shadow(0px 1px 2px rgba(0, 0, 0, 0.3));\n",
              "      fill: #FFFFFF;\n",
              "    }\n",
              "  </style>\n",
              "\n",
              "      <script>\n",
              "        const buttonEl =\n",
              "          document.querySelector('#df-6a31cff7-1bde-492f-9b18-fe8834482fb0 button.colab-df-convert');\n",
              "        buttonEl.style.display =\n",
              "          google.colab.kernel.accessAllowed ? 'block' : 'none';\n",
              "\n",
              "        async function convertToInteractive(key) {\n",
              "          const element = document.querySelector('#df-6a31cff7-1bde-492f-9b18-fe8834482fb0');\n",
              "          const dataTable =\n",
              "            await google.colab.kernel.invokeFunction('convertToInteractive',\n",
              "                                                     [key], {});\n",
              "          if (!dataTable) return;\n",
              "\n",
              "          const docLinkHtml = 'Like what you see? Visit the ' +\n",
              "            '<a target=\"_blank\" href=https://colab.research.google.com/notebooks/data_table.ipynb>data table notebook</a>'\n",
              "            + ' to learn more about interactive tables.';\n",
              "          element.innerHTML = '';\n",
              "          dataTable['output_type'] = 'display_data';\n",
              "          await google.colab.output.renderOutput(dataTable, element);\n",
              "          const docLink = document.createElement('div');\n",
              "          docLink.innerHTML = docLinkHtml;\n",
              "          element.appendChild(docLink);\n",
              "        }\n",
              "      </script>\n",
              "    </div>\n",
              "  </div>\n",
              "  "
            ]
          },
          "metadata": {},
          "execution_count": 71
        }
      ],
      "source": [
        "test_dataset.head(5)"
      ]
    },
    {
      "cell_type": "code",
      "execution_count": 72,
      "metadata": {
        "colab": {
          "base_uri": "https://localhost:8080/",
          "height": 270
        },
        "id": "6m8T30tniRJ6",
        "outputId": "20455540-1422-4d55-bd1e-69cedd859291"
      },
      "outputs": [
        {
          "output_type": "execute_result",
          "data": {
            "text/plain": [
              "          id  created_at  campaign_var_1  campaign_var_2  products_purchased  \\\n",
              "39156  39157  2021-12-31              11              11                 2.0   \n",
              "39157  39158  2021-12-31               3               9                 3.0   \n",
              "39158  39159  2021-12-31               8               7                 2.0   \n",
              "39159  39160  2021-12-31               7              12                 2.0   \n",
              "39160  39161  2021-12-31               2               5                 NaN   \n",
              "\n",
              "      signup_date  user_activity_var_1  user_activity_var_2  \\\n",
              "39156  2017-10-19                    1                    0   \n",
              "39157         NaN                    0                    0   \n",
              "39158         NaN                    1                    0   \n",
              "39159         NaN                    0                    0   \n",
              "39160  2019-08-11                    1                    0   \n",
              "\n",
              "       user_activity_var_3  user_activity_var_4  user_activity_var_5  \\\n",
              "39156                    0                    0                    1   \n",
              "39157                    0                    0                    0   \n",
              "39158                    0                    0                    1   \n",
              "39159                    0                    0                    0   \n",
              "39160                    0                    0                    0   \n",
              "\n",
              "       user_activity_var_6  user_activity_var_7  user_activity_var_8  \\\n",
              "39156                    1                    1                    0   \n",
              "39157                    0                    0                    0   \n",
              "39158                    0                    1                    0   \n",
              "39159                    1                    0                    0   \n",
              "39160                    0                    1                    0   \n",
              "\n",
              "       user_activity_var_9  user_activity_var_10  user_activity_var_11  \\\n",
              "39156                    0                     0                     0   \n",
              "39157                    0                     0                     0   \n",
              "39158                    0                     0                     0   \n",
              "39159                    0                     0                     1   \n",
              "39160                    0                     0                     0   \n",
              "\n",
              "       user_activity_var_12  buy  \n",
              "39156                     0    0  \n",
              "39157                     0    0  \n",
              "39158                     0    0  \n",
              "39159                     0    0  \n",
              "39160                     0    0  "
            ],
            "text/html": [
              "\n",
              "  <div id=\"df-1b708d29-8db2-4456-a5c3-416f5ff60329\">\n",
              "    <div class=\"colab-df-container\">\n",
              "      <div>\n",
              "<style scoped>\n",
              "    .dataframe tbody tr th:only-of-type {\n",
              "        vertical-align: middle;\n",
              "    }\n",
              "\n",
              "    .dataframe tbody tr th {\n",
              "        vertical-align: top;\n",
              "    }\n",
              "\n",
              "    .dataframe thead th {\n",
              "        text-align: right;\n",
              "    }\n",
              "</style>\n",
              "<table border=\"1\" class=\"dataframe\">\n",
              "  <thead>\n",
              "    <tr style=\"text-align: right;\">\n",
              "      <th></th>\n",
              "      <th>id</th>\n",
              "      <th>created_at</th>\n",
              "      <th>campaign_var_1</th>\n",
              "      <th>campaign_var_2</th>\n",
              "      <th>products_purchased</th>\n",
              "      <th>signup_date</th>\n",
              "      <th>user_activity_var_1</th>\n",
              "      <th>user_activity_var_2</th>\n",
              "      <th>user_activity_var_3</th>\n",
              "      <th>user_activity_var_4</th>\n",
              "      <th>user_activity_var_5</th>\n",
              "      <th>user_activity_var_6</th>\n",
              "      <th>user_activity_var_7</th>\n",
              "      <th>user_activity_var_8</th>\n",
              "      <th>user_activity_var_9</th>\n",
              "      <th>user_activity_var_10</th>\n",
              "      <th>user_activity_var_11</th>\n",
              "      <th>user_activity_var_12</th>\n",
              "      <th>buy</th>\n",
              "    </tr>\n",
              "  </thead>\n",
              "  <tbody>\n",
              "    <tr>\n",
              "      <th>39156</th>\n",
              "      <td>39157</td>\n",
              "      <td>2021-12-31</td>\n",
              "      <td>11</td>\n",
              "      <td>11</td>\n",
              "      <td>2.0</td>\n",
              "      <td>2017-10-19</td>\n",
              "      <td>1</td>\n",
              "      <td>0</td>\n",
              "      <td>0</td>\n",
              "      <td>0</td>\n",
              "      <td>1</td>\n",
              "      <td>1</td>\n",
              "      <td>1</td>\n",
              "      <td>0</td>\n",
              "      <td>0</td>\n",
              "      <td>0</td>\n",
              "      <td>0</td>\n",
              "      <td>0</td>\n",
              "      <td>0</td>\n",
              "    </tr>\n",
              "    <tr>\n",
              "      <th>39157</th>\n",
              "      <td>39158</td>\n",
              "      <td>2021-12-31</td>\n",
              "      <td>3</td>\n",
              "      <td>9</td>\n",
              "      <td>3.0</td>\n",
              "      <td>NaN</td>\n",
              "      <td>0</td>\n",
              "      <td>0</td>\n",
              "      <td>0</td>\n",
              "      <td>0</td>\n",
              "      <td>0</td>\n",
              "      <td>0</td>\n",
              "      <td>0</td>\n",
              "      <td>0</td>\n",
              "      <td>0</td>\n",
              "      <td>0</td>\n",
              "      <td>0</td>\n",
              "      <td>0</td>\n",
              "      <td>0</td>\n",
              "    </tr>\n",
              "    <tr>\n",
              "      <th>39158</th>\n",
              "      <td>39159</td>\n",
              "      <td>2021-12-31</td>\n",
              "      <td>8</td>\n",
              "      <td>7</td>\n",
              "      <td>2.0</td>\n",
              "      <td>NaN</td>\n",
              "      <td>1</td>\n",
              "      <td>0</td>\n",
              "      <td>0</td>\n",
              "      <td>0</td>\n",
              "      <td>1</td>\n",
              "      <td>0</td>\n",
              "      <td>1</td>\n",
              "      <td>0</td>\n",
              "      <td>0</td>\n",
              "      <td>0</td>\n",
              "      <td>0</td>\n",
              "      <td>0</td>\n",
              "      <td>0</td>\n",
              "    </tr>\n",
              "    <tr>\n",
              "      <th>39159</th>\n",
              "      <td>39160</td>\n",
              "      <td>2021-12-31</td>\n",
              "      <td>7</td>\n",
              "      <td>12</td>\n",
              "      <td>2.0</td>\n",
              "      <td>NaN</td>\n",
              "      <td>0</td>\n",
              "      <td>0</td>\n",
              "      <td>0</td>\n",
              "      <td>0</td>\n",
              "      <td>0</td>\n",
              "      <td>1</td>\n",
              "      <td>0</td>\n",
              "      <td>0</td>\n",
              "      <td>0</td>\n",
              "      <td>0</td>\n",
              "      <td>1</td>\n",
              "      <td>0</td>\n",
              "      <td>0</td>\n",
              "    </tr>\n",
              "    <tr>\n",
              "      <th>39160</th>\n",
              "      <td>39161</td>\n",
              "      <td>2021-12-31</td>\n",
              "      <td>2</td>\n",
              "      <td>5</td>\n",
              "      <td>NaN</td>\n",
              "      <td>2019-08-11</td>\n",
              "      <td>1</td>\n",
              "      <td>0</td>\n",
              "      <td>0</td>\n",
              "      <td>0</td>\n",
              "      <td>0</td>\n",
              "      <td>0</td>\n",
              "      <td>1</td>\n",
              "      <td>0</td>\n",
              "      <td>0</td>\n",
              "      <td>0</td>\n",
              "      <td>0</td>\n",
              "      <td>0</td>\n",
              "      <td>0</td>\n",
              "    </tr>\n",
              "  </tbody>\n",
              "</table>\n",
              "</div>\n",
              "      <button class=\"colab-df-convert\" onclick=\"convertToInteractive('df-1b708d29-8db2-4456-a5c3-416f5ff60329')\"\n",
              "              title=\"Convert this dataframe to an interactive table.\"\n",
              "              style=\"display:none;\">\n",
              "        \n",
              "  <svg xmlns=\"http://www.w3.org/2000/svg\" height=\"24px\"viewBox=\"0 0 24 24\"\n",
              "       width=\"24px\">\n",
              "    <path d=\"M0 0h24v24H0V0z\" fill=\"none\"/>\n",
              "    <path d=\"M18.56 5.44l.94 2.06.94-2.06 2.06-.94-2.06-.94-.94-2.06-.94 2.06-2.06.94zm-11 1L8.5 8.5l.94-2.06 2.06-.94-2.06-.94L8.5 2.5l-.94 2.06-2.06.94zm10 10l.94 2.06.94-2.06 2.06-.94-2.06-.94-.94-2.06-.94 2.06-2.06.94z\"/><path d=\"M17.41 7.96l-1.37-1.37c-.4-.4-.92-.59-1.43-.59-.52 0-1.04.2-1.43.59L10.3 9.45l-7.72 7.72c-.78.78-.78 2.05 0 2.83L4 21.41c.39.39.9.59 1.41.59.51 0 1.02-.2 1.41-.59l7.78-7.78 2.81-2.81c.8-.78.8-2.07 0-2.86zM5.41 20L4 18.59l7.72-7.72 1.47 1.35L5.41 20z\"/>\n",
              "  </svg>\n",
              "      </button>\n",
              "      \n",
              "  <style>\n",
              "    .colab-df-container {\n",
              "      display:flex;\n",
              "      flex-wrap:wrap;\n",
              "      gap: 12px;\n",
              "    }\n",
              "\n",
              "    .colab-df-convert {\n",
              "      background-color: #E8F0FE;\n",
              "      border: none;\n",
              "      border-radius: 50%;\n",
              "      cursor: pointer;\n",
              "      display: none;\n",
              "      fill: #1967D2;\n",
              "      height: 32px;\n",
              "      padding: 0 0 0 0;\n",
              "      width: 32px;\n",
              "    }\n",
              "\n",
              "    .colab-df-convert:hover {\n",
              "      background-color: #E2EBFA;\n",
              "      box-shadow: 0px 1px 2px rgba(60, 64, 67, 0.3), 0px 1px 3px 1px rgba(60, 64, 67, 0.15);\n",
              "      fill: #174EA6;\n",
              "    }\n",
              "\n",
              "    [theme=dark] .colab-df-convert {\n",
              "      background-color: #3B4455;\n",
              "      fill: #D2E3FC;\n",
              "    }\n",
              "\n",
              "    [theme=dark] .colab-df-convert:hover {\n",
              "      background-color: #434B5C;\n",
              "      box-shadow: 0px 1px 3px 1px rgba(0, 0, 0, 0.15);\n",
              "      filter: drop-shadow(0px 1px 2px rgba(0, 0, 0, 0.3));\n",
              "      fill: #FFFFFF;\n",
              "    }\n",
              "  </style>\n",
              "\n",
              "      <script>\n",
              "        const buttonEl =\n",
              "          document.querySelector('#df-1b708d29-8db2-4456-a5c3-416f5ff60329 button.colab-df-convert');\n",
              "        buttonEl.style.display =\n",
              "          google.colab.kernel.accessAllowed ? 'block' : 'none';\n",
              "\n",
              "        async function convertToInteractive(key) {\n",
              "          const element = document.querySelector('#df-1b708d29-8db2-4456-a5c3-416f5ff60329');\n",
              "          const dataTable =\n",
              "            await google.colab.kernel.invokeFunction('convertToInteractive',\n",
              "                                                     [key], {});\n",
              "          if (!dataTable) return;\n",
              "\n",
              "          const docLinkHtml = 'Like what you see? Visit the ' +\n",
              "            '<a target=\"_blank\" href=https://colab.research.google.com/notebooks/data_table.ipynb>data table notebook</a>'\n",
              "            + ' to learn more about interactive tables.';\n",
              "          element.innerHTML = '';\n",
              "          dataTable['output_type'] = 'display_data';\n",
              "          await google.colab.output.renderOutput(dataTable, element);\n",
              "          const docLink = document.createElement('div');\n",
              "          docLink.innerHTML = docLinkHtml;\n",
              "          element.appendChild(docLink);\n",
              "        }\n",
              "      </script>\n",
              "    </div>\n",
              "  </div>\n",
              "  "
            ]
          },
          "metadata": {},
          "execution_count": 72
        }
      ],
      "source": [
        "test_dataset.tail(5)"
      ]
    },
    {
      "cell_type": "code",
      "execution_count": 73,
      "metadata": {
        "colab": {
          "base_uri": "https://localhost:8080/",
          "height": 364
        },
        "id": "KW2UVf9qic5R",
        "outputId": "dade6d86-510c-45cc-bc10-7be5b160bb65"
      },
      "outputs": [
        {
          "output_type": "execute_result",
          "data": {
            "text/plain": [
              "                 id  campaign_var_1  campaign_var_2  products_purchased  \\\n",
              "count  39161.000000    39161.000000    39161.000000        18250.000000   \n",
              "mean   19581.000000        6.523812        6.452746            2.154137   \n",
              "std    11304.951283        3.472944        2.614296            0.779815   \n",
              "min        1.000000        1.000000        1.000000            1.000000   \n",
              "25%     9791.000000        4.000000        5.000000            2.000000   \n",
              "50%    19581.000000        6.000000        6.000000            2.000000   \n",
              "75%    29371.000000        9.000000        8.000000            3.000000   \n",
              "max    39161.000000       16.000000       15.000000            4.000000   \n",
              "\n",
              "       user_activity_var_1  user_activity_var_2  user_activity_var_3  \\\n",
              "count         39161.000000         39161.000000         39161.000000   \n",
              "mean              0.400092             0.006716             0.102832   \n",
              "std               0.509194             0.081676             0.303743   \n",
              "min               0.000000             0.000000             0.000000   \n",
              "25%               0.000000             0.000000             0.000000   \n",
              "50%               0.000000             0.000000             0.000000   \n",
              "75%               1.000000             0.000000             0.000000   \n",
              "max               3.000000             1.000000             1.000000   \n",
              "\n",
              "       user_activity_var_4  user_activity_var_5  user_activity_var_6  \\\n",
              "count         39161.000000         39161.000000         39161.000000   \n",
              "mean              0.011465             0.151503             0.499834   \n",
              "std               0.106463             0.359681             0.558166   \n",
              "min               0.000000             0.000000             0.000000   \n",
              "25%               0.000000             0.000000             0.000000   \n",
              "50%               0.000000             0.000000             0.000000   \n",
              "75%               0.000000             0.000000             1.000000   \n",
              "max               1.000000             2.000000             3.000000   \n",
              "\n",
              "       user_activity_var_7  user_activity_var_8  user_activity_var_9  \\\n",
              "count         39161.000000         39161.000000         39161.000000   \n",
              "mean              0.286612             0.174434             0.011440   \n",
              "std               0.455784             0.379689             0.106346   \n",
              "min               0.000000             0.000000             0.000000   \n",
              "25%               0.000000             0.000000             0.000000   \n",
              "50%               0.000000             0.000000             0.000000   \n",
              "75%               1.000000             0.000000             0.000000   \n",
              "max               2.000000             2.000000             1.000000   \n",
              "\n",
              "       user_activity_var_10  user_activity_var_11  user_activity_var_12  \\\n",
              "count          39161.000000          39161.000000          39161.000000   \n",
              "mean               0.000383              0.218942              0.000562   \n",
              "std                0.019568              0.431544              0.023696   \n",
              "min                0.000000              0.000000              0.000000   \n",
              "25%                0.000000              0.000000              0.000000   \n",
              "50%                0.000000              0.000000              0.000000   \n",
              "75%                0.000000              0.000000              0.000000   \n",
              "max                1.000000              4.000000              1.000000   \n",
              "\n",
              "                buy  \n",
              "count  39161.000000  \n",
              "mean       0.051020  \n",
              "std        0.220042  \n",
              "min        0.000000  \n",
              "25%        0.000000  \n",
              "50%        0.000000  \n",
              "75%        0.000000  \n",
              "max        1.000000  "
            ],
            "text/html": [
              "\n",
              "  <div id=\"df-9caaabbe-9dc2-45dc-9997-45709a360914\">\n",
              "    <div class=\"colab-df-container\">\n",
              "      <div>\n",
              "<style scoped>\n",
              "    .dataframe tbody tr th:only-of-type {\n",
              "        vertical-align: middle;\n",
              "    }\n",
              "\n",
              "    .dataframe tbody tr th {\n",
              "        vertical-align: top;\n",
              "    }\n",
              "\n",
              "    .dataframe thead th {\n",
              "        text-align: right;\n",
              "    }\n",
              "</style>\n",
              "<table border=\"1\" class=\"dataframe\">\n",
              "  <thead>\n",
              "    <tr style=\"text-align: right;\">\n",
              "      <th></th>\n",
              "      <th>id</th>\n",
              "      <th>campaign_var_1</th>\n",
              "      <th>campaign_var_2</th>\n",
              "      <th>products_purchased</th>\n",
              "      <th>user_activity_var_1</th>\n",
              "      <th>user_activity_var_2</th>\n",
              "      <th>user_activity_var_3</th>\n",
              "      <th>user_activity_var_4</th>\n",
              "      <th>user_activity_var_5</th>\n",
              "      <th>user_activity_var_6</th>\n",
              "      <th>user_activity_var_7</th>\n",
              "      <th>user_activity_var_8</th>\n",
              "      <th>user_activity_var_9</th>\n",
              "      <th>user_activity_var_10</th>\n",
              "      <th>user_activity_var_11</th>\n",
              "      <th>user_activity_var_12</th>\n",
              "      <th>buy</th>\n",
              "    </tr>\n",
              "  </thead>\n",
              "  <tbody>\n",
              "    <tr>\n",
              "      <th>count</th>\n",
              "      <td>39161.000000</td>\n",
              "      <td>39161.000000</td>\n",
              "      <td>39161.000000</td>\n",
              "      <td>18250.000000</td>\n",
              "      <td>39161.000000</td>\n",
              "      <td>39161.000000</td>\n",
              "      <td>39161.000000</td>\n",
              "      <td>39161.000000</td>\n",
              "      <td>39161.000000</td>\n",
              "      <td>39161.000000</td>\n",
              "      <td>39161.000000</td>\n",
              "      <td>39161.000000</td>\n",
              "      <td>39161.000000</td>\n",
              "      <td>39161.000000</td>\n",
              "      <td>39161.000000</td>\n",
              "      <td>39161.000000</td>\n",
              "      <td>39161.000000</td>\n",
              "    </tr>\n",
              "    <tr>\n",
              "      <th>mean</th>\n",
              "      <td>19581.000000</td>\n",
              "      <td>6.523812</td>\n",
              "      <td>6.452746</td>\n",
              "      <td>2.154137</td>\n",
              "      <td>0.400092</td>\n",
              "      <td>0.006716</td>\n",
              "      <td>0.102832</td>\n",
              "      <td>0.011465</td>\n",
              "      <td>0.151503</td>\n",
              "      <td>0.499834</td>\n",
              "      <td>0.286612</td>\n",
              "      <td>0.174434</td>\n",
              "      <td>0.011440</td>\n",
              "      <td>0.000383</td>\n",
              "      <td>0.218942</td>\n",
              "      <td>0.000562</td>\n",
              "      <td>0.051020</td>\n",
              "    </tr>\n",
              "    <tr>\n",
              "      <th>std</th>\n",
              "      <td>11304.951283</td>\n",
              "      <td>3.472944</td>\n",
              "      <td>2.614296</td>\n",
              "      <td>0.779815</td>\n",
              "      <td>0.509194</td>\n",
              "      <td>0.081676</td>\n",
              "      <td>0.303743</td>\n",
              "      <td>0.106463</td>\n",
              "      <td>0.359681</td>\n",
              "      <td>0.558166</td>\n",
              "      <td>0.455784</td>\n",
              "      <td>0.379689</td>\n",
              "      <td>0.106346</td>\n",
              "      <td>0.019568</td>\n",
              "      <td>0.431544</td>\n",
              "      <td>0.023696</td>\n",
              "      <td>0.220042</td>\n",
              "    </tr>\n",
              "    <tr>\n",
              "      <th>min</th>\n",
              "      <td>1.000000</td>\n",
              "      <td>1.000000</td>\n",
              "      <td>1.000000</td>\n",
              "      <td>1.000000</td>\n",
              "      <td>0.000000</td>\n",
              "      <td>0.000000</td>\n",
              "      <td>0.000000</td>\n",
              "      <td>0.000000</td>\n",
              "      <td>0.000000</td>\n",
              "      <td>0.000000</td>\n",
              "      <td>0.000000</td>\n",
              "      <td>0.000000</td>\n",
              "      <td>0.000000</td>\n",
              "      <td>0.000000</td>\n",
              "      <td>0.000000</td>\n",
              "      <td>0.000000</td>\n",
              "      <td>0.000000</td>\n",
              "    </tr>\n",
              "    <tr>\n",
              "      <th>25%</th>\n",
              "      <td>9791.000000</td>\n",
              "      <td>4.000000</td>\n",
              "      <td>5.000000</td>\n",
              "      <td>2.000000</td>\n",
              "      <td>0.000000</td>\n",
              "      <td>0.000000</td>\n",
              "      <td>0.000000</td>\n",
              "      <td>0.000000</td>\n",
              "      <td>0.000000</td>\n",
              "      <td>0.000000</td>\n",
              "      <td>0.000000</td>\n",
              "      <td>0.000000</td>\n",
              "      <td>0.000000</td>\n",
              "      <td>0.000000</td>\n",
              "      <td>0.000000</td>\n",
              "      <td>0.000000</td>\n",
              "      <td>0.000000</td>\n",
              "    </tr>\n",
              "    <tr>\n",
              "      <th>50%</th>\n",
              "      <td>19581.000000</td>\n",
              "      <td>6.000000</td>\n",
              "      <td>6.000000</td>\n",
              "      <td>2.000000</td>\n",
              "      <td>0.000000</td>\n",
              "      <td>0.000000</td>\n",
              "      <td>0.000000</td>\n",
              "      <td>0.000000</td>\n",
              "      <td>0.000000</td>\n",
              "      <td>0.000000</td>\n",
              "      <td>0.000000</td>\n",
              "      <td>0.000000</td>\n",
              "      <td>0.000000</td>\n",
              "      <td>0.000000</td>\n",
              "      <td>0.000000</td>\n",
              "      <td>0.000000</td>\n",
              "      <td>0.000000</td>\n",
              "    </tr>\n",
              "    <tr>\n",
              "      <th>75%</th>\n",
              "      <td>29371.000000</td>\n",
              "      <td>9.000000</td>\n",
              "      <td>8.000000</td>\n",
              "      <td>3.000000</td>\n",
              "      <td>1.000000</td>\n",
              "      <td>0.000000</td>\n",
              "      <td>0.000000</td>\n",
              "      <td>0.000000</td>\n",
              "      <td>0.000000</td>\n",
              "      <td>1.000000</td>\n",
              "      <td>1.000000</td>\n",
              "      <td>0.000000</td>\n",
              "      <td>0.000000</td>\n",
              "      <td>0.000000</td>\n",
              "      <td>0.000000</td>\n",
              "      <td>0.000000</td>\n",
              "      <td>0.000000</td>\n",
              "    </tr>\n",
              "    <tr>\n",
              "      <th>max</th>\n",
              "      <td>39161.000000</td>\n",
              "      <td>16.000000</td>\n",
              "      <td>15.000000</td>\n",
              "      <td>4.000000</td>\n",
              "      <td>3.000000</td>\n",
              "      <td>1.000000</td>\n",
              "      <td>1.000000</td>\n",
              "      <td>1.000000</td>\n",
              "      <td>2.000000</td>\n",
              "      <td>3.000000</td>\n",
              "      <td>2.000000</td>\n",
              "      <td>2.000000</td>\n",
              "      <td>1.000000</td>\n",
              "      <td>1.000000</td>\n",
              "      <td>4.000000</td>\n",
              "      <td>1.000000</td>\n",
              "      <td>1.000000</td>\n",
              "    </tr>\n",
              "  </tbody>\n",
              "</table>\n",
              "</div>\n",
              "      <button class=\"colab-df-convert\" onclick=\"convertToInteractive('df-9caaabbe-9dc2-45dc-9997-45709a360914')\"\n",
              "              title=\"Convert this dataframe to an interactive table.\"\n",
              "              style=\"display:none;\">\n",
              "        \n",
              "  <svg xmlns=\"http://www.w3.org/2000/svg\" height=\"24px\"viewBox=\"0 0 24 24\"\n",
              "       width=\"24px\">\n",
              "    <path d=\"M0 0h24v24H0V0z\" fill=\"none\"/>\n",
              "    <path d=\"M18.56 5.44l.94 2.06.94-2.06 2.06-.94-2.06-.94-.94-2.06-.94 2.06-2.06.94zm-11 1L8.5 8.5l.94-2.06 2.06-.94-2.06-.94L8.5 2.5l-.94 2.06-2.06.94zm10 10l.94 2.06.94-2.06 2.06-.94-2.06-.94-.94-2.06-.94 2.06-2.06.94z\"/><path d=\"M17.41 7.96l-1.37-1.37c-.4-.4-.92-.59-1.43-.59-.52 0-1.04.2-1.43.59L10.3 9.45l-7.72 7.72c-.78.78-.78 2.05 0 2.83L4 21.41c.39.39.9.59 1.41.59.51 0 1.02-.2 1.41-.59l7.78-7.78 2.81-2.81c.8-.78.8-2.07 0-2.86zM5.41 20L4 18.59l7.72-7.72 1.47 1.35L5.41 20z\"/>\n",
              "  </svg>\n",
              "      </button>\n",
              "      \n",
              "  <style>\n",
              "    .colab-df-container {\n",
              "      display:flex;\n",
              "      flex-wrap:wrap;\n",
              "      gap: 12px;\n",
              "    }\n",
              "\n",
              "    .colab-df-convert {\n",
              "      background-color: #E8F0FE;\n",
              "      border: none;\n",
              "      border-radius: 50%;\n",
              "      cursor: pointer;\n",
              "      display: none;\n",
              "      fill: #1967D2;\n",
              "      height: 32px;\n",
              "      padding: 0 0 0 0;\n",
              "      width: 32px;\n",
              "    }\n",
              "\n",
              "    .colab-df-convert:hover {\n",
              "      background-color: #E2EBFA;\n",
              "      box-shadow: 0px 1px 2px rgba(60, 64, 67, 0.3), 0px 1px 3px 1px rgba(60, 64, 67, 0.15);\n",
              "      fill: #174EA6;\n",
              "    }\n",
              "\n",
              "    [theme=dark] .colab-df-convert {\n",
              "      background-color: #3B4455;\n",
              "      fill: #D2E3FC;\n",
              "    }\n",
              "\n",
              "    [theme=dark] .colab-df-convert:hover {\n",
              "      background-color: #434B5C;\n",
              "      box-shadow: 0px 1px 3px 1px rgba(0, 0, 0, 0.15);\n",
              "      filter: drop-shadow(0px 1px 2px rgba(0, 0, 0, 0.3));\n",
              "      fill: #FFFFFF;\n",
              "    }\n",
              "  </style>\n",
              "\n",
              "      <script>\n",
              "        const buttonEl =\n",
              "          document.querySelector('#df-9caaabbe-9dc2-45dc-9997-45709a360914 button.colab-df-convert');\n",
              "        buttonEl.style.display =\n",
              "          google.colab.kernel.accessAllowed ? 'block' : 'none';\n",
              "\n",
              "        async function convertToInteractive(key) {\n",
              "          const element = document.querySelector('#df-9caaabbe-9dc2-45dc-9997-45709a360914');\n",
              "          const dataTable =\n",
              "            await google.colab.kernel.invokeFunction('convertToInteractive',\n",
              "                                                     [key], {});\n",
              "          if (!dataTable) return;\n",
              "\n",
              "          const docLinkHtml = 'Like what you see? Visit the ' +\n",
              "            '<a target=\"_blank\" href=https://colab.research.google.com/notebooks/data_table.ipynb>data table notebook</a>'\n",
              "            + ' to learn more about interactive tables.';\n",
              "          element.innerHTML = '';\n",
              "          dataTable['output_type'] = 'display_data';\n",
              "          await google.colab.output.renderOutput(dataTable, element);\n",
              "          const docLink = document.createElement('div');\n",
              "          docLink.innerHTML = docLinkHtml;\n",
              "          element.appendChild(docLink);\n",
              "        }\n",
              "      </script>\n",
              "    </div>\n",
              "  </div>\n",
              "  "
            ]
          },
          "metadata": {},
          "execution_count": 73
        }
      ],
      "source": [
        "test_dataset.describe()"
      ]
    },
    {
      "cell_type": "code",
      "execution_count": 74,
      "metadata": {
        "colab": {
          "base_uri": "https://localhost:8080/"
        },
        "id": "Lhj45tEXil-6",
        "outputId": "6965d25c-653c-488c-b80f-326e3db7a216"
      },
      "outputs": [
        {
          "output_type": "stream",
          "name": "stdout",
          "text": [
            "<class 'pandas.core.frame.DataFrame'>\n",
            "RangeIndex: 39161 entries, 0 to 39160\n",
            "Data columns (total 19 columns):\n",
            " #   Column                Non-Null Count  Dtype  \n",
            "---  ------                --------------  -----  \n",
            " 0   id                    39161 non-null  int64  \n",
            " 1   created_at            39161 non-null  object \n",
            " 2   campaign_var_1        39161 non-null  int64  \n",
            " 3   campaign_var_2        39161 non-null  int64  \n",
            " 4   products_purchased    18250 non-null  float64\n",
            " 5   signup_date           24048 non-null  object \n",
            " 6   user_activity_var_1   39161 non-null  int64  \n",
            " 7   user_activity_var_2   39161 non-null  int64  \n",
            " 8   user_activity_var_3   39161 non-null  int64  \n",
            " 9   user_activity_var_4   39161 non-null  int64  \n",
            " 10  user_activity_var_5   39161 non-null  int64  \n",
            " 11  user_activity_var_6   39161 non-null  int64  \n",
            " 12  user_activity_var_7   39161 non-null  int64  \n",
            " 13  user_activity_var_8   39161 non-null  int64  \n",
            " 14  user_activity_var_9   39161 non-null  int64  \n",
            " 15  user_activity_var_10  39161 non-null  int64  \n",
            " 16  user_activity_var_11  39161 non-null  int64  \n",
            " 17  user_activity_var_12  39161 non-null  int64  \n",
            " 18  buy                   39161 non-null  int64  \n",
            "dtypes: float64(1), int64(16), object(2)\n",
            "memory usage: 5.7+ MB\n"
          ]
        }
      ],
      "source": [
        "test_dataset.info()"
      ]
    },
    {
      "cell_type": "code",
      "execution_count": 75,
      "metadata": {
        "id": "g0thTn0fjBYA"
      },
      "outputs": [],
      "source": [
        "test_dataset=test_dataset.drop(columns=['signup_date','id','created_at'],axis=1)"
      ]
    },
    {
      "cell_type": "code",
      "execution_count": 76,
      "metadata": {
        "id": "d_JmBBp9iu51"
      },
      "outputs": [],
      "source": [
        "test_dataset=test_dataset.dropna()"
      ]
    },
    {
      "cell_type": "code",
      "execution_count": 77,
      "metadata": {
        "colab": {
          "base_uri": "https://localhost:8080/"
        },
        "id": "LNtvebjGi33V",
        "outputId": "a1188711-657c-4782-ff57-43c131ae4ee5"
      },
      "outputs": [
        {
          "output_type": "stream",
          "name": "stdout",
          "text": [
            "<class 'pandas.core.frame.DataFrame'>\n",
            "Int64Index: 18250 entries, 0 to 39159\n",
            "Data columns (total 16 columns):\n",
            " #   Column                Non-Null Count  Dtype  \n",
            "---  ------                --------------  -----  \n",
            " 0   campaign_var_1        18250 non-null  int64  \n",
            " 1   campaign_var_2        18250 non-null  int64  \n",
            " 2   products_purchased    18250 non-null  float64\n",
            " 3   user_activity_var_1   18250 non-null  int64  \n",
            " 4   user_activity_var_2   18250 non-null  int64  \n",
            " 5   user_activity_var_3   18250 non-null  int64  \n",
            " 6   user_activity_var_4   18250 non-null  int64  \n",
            " 7   user_activity_var_5   18250 non-null  int64  \n",
            " 8   user_activity_var_6   18250 non-null  int64  \n",
            " 9   user_activity_var_7   18250 non-null  int64  \n",
            " 10  user_activity_var_8   18250 non-null  int64  \n",
            " 11  user_activity_var_9   18250 non-null  int64  \n",
            " 12  user_activity_var_10  18250 non-null  int64  \n",
            " 13  user_activity_var_11  18250 non-null  int64  \n",
            " 14  user_activity_var_12  18250 non-null  int64  \n",
            " 15  buy                   18250 non-null  int64  \n",
            "dtypes: float64(1), int64(15)\n",
            "memory usage: 2.4 MB\n"
          ]
        }
      ],
      "source": [
        "test_dataset.info()"
      ]
    },
    {
      "cell_type": "code",
      "execution_count": 78,
      "metadata": {
        "colab": {
          "base_uri": "https://localhost:8080/"
        },
        "id": "o-D4nBnsjT1E",
        "outputId": "6c69383c-b81a-451c-96df-9f3d771b2258"
      },
      "outputs": [
        {
          "output_type": "execute_result",
          "data": {
            "text/plain": [
              "0    17297\n",
              "1      953\n",
              "Name: buy, dtype: int64"
            ]
          },
          "metadata": {},
          "execution_count": 78
        }
      ],
      "source": [
        "test_dataset['buy'].value_counts()"
      ]
    },
    {
      "cell_type": "code",
      "source": [
        "for i in list(test_dataset.describe()):\n",
        "  print(f'The Value count for {i} is','\\n')\n",
        "  print(test_dataset[i].value_counts())"
      ],
      "metadata": {
        "colab": {
          "base_uri": "https://localhost:8080/"
        },
        "id": "MLAxZcX7gsgX",
        "outputId": "13846ffa-b34c-4d83-8684-0ea58879f10a"
      },
      "execution_count": 79,
      "outputs": [
        {
          "output_type": "stream",
          "name": "stdout",
          "text": [
            "The Value count for campaign_var_1 is \n",
            "\n",
            "4     2035\n",
            "5     2016\n",
            "3     1935\n",
            "2     1918\n",
            "6     1900\n",
            "7     1676\n",
            "8     1523\n",
            "9     1188\n",
            "10     980\n",
            "1      975\n",
            "11     718\n",
            "12     549\n",
            "13     399\n",
            "14     240\n",
            "15     146\n",
            "16      52\n",
            "Name: campaign_var_1, dtype: int64\n",
            "The Value count for campaign_var_2 is \n",
            "\n",
            "6     2688\n",
            "5     2567\n",
            "7     2488\n",
            "8     2062\n",
            "4     2050\n",
            "3     1539\n",
            "9     1531\n",
            "2     1013\n",
            "10     952\n",
            "11     541\n",
            "1      341\n",
            "12     286\n",
            "13     143\n",
            "14      46\n",
            "15       3\n",
            "Name: campaign_var_2, dtype: int64\n",
            "The Value count for products_purchased is \n",
            "\n",
            "2.0    8867\n",
            "3.0    5024\n",
            "1.0    3643\n",
            "4.0     716\n",
            "Name: products_purchased, dtype: int64\n",
            "The Value count for user_activity_var_1 is \n",
            "\n",
            "0    11342\n",
            "1     6765\n",
            "2      143\n",
            "Name: user_activity_var_1, dtype: int64\n",
            "The Value count for user_activity_var_2 is \n",
            "\n",
            "0    18126\n",
            "1      124\n",
            "Name: user_activity_var_2, dtype: int64\n",
            "The Value count for user_activity_var_3 is \n",
            "\n",
            "0    16274\n",
            "1     1976\n",
            "Name: user_activity_var_3, dtype: int64\n",
            "The Value count for user_activity_var_4 is \n",
            "\n",
            "0    18039\n",
            "1      211\n",
            "Name: user_activity_var_4, dtype: int64\n",
            "The Value count for user_activity_var_5 is \n",
            "\n",
            "0    15376\n",
            "1     2868\n",
            "2        6\n",
            "Name: user_activity_var_5, dtype: int64\n",
            "The Value count for user_activity_var_6 is \n",
            "\n",
            "0    9564\n",
            "1    8128\n",
            "2     549\n",
            "3       9\n",
            "Name: user_activity_var_6, dtype: int64\n",
            "The Value count for user_activity_var_7 is \n",
            "\n",
            "0    12810\n",
            "1     5412\n",
            "2       28\n",
            "Name: user_activity_var_7, dtype: int64\n",
            "The Value count for user_activity_var_8 is \n",
            "\n",
            "0    15524\n",
            "1     2725\n",
            "2        1\n",
            "Name: user_activity_var_8, dtype: int64\n",
            "The Value count for user_activity_var_9 is \n",
            "\n",
            "0    18017\n",
            "1      233\n",
            "Name: user_activity_var_9, dtype: int64\n",
            "The Value count for user_activity_var_10 is \n",
            "\n",
            "0    18240\n",
            "1       10\n",
            "Name: user_activity_var_10, dtype: int64\n",
            "The Value count for user_activity_var_11 is \n",
            "\n",
            "0    14280\n",
            "1     3846\n",
            "2      111\n",
            "3       13\n",
            "Name: user_activity_var_11, dtype: int64\n",
            "The Value count for user_activity_var_12 is \n",
            "\n",
            "0    18239\n",
            "1       11\n",
            "Name: user_activity_var_12, dtype: int64\n",
            "The Value count for buy is \n",
            "\n",
            "0    17297\n",
            "1      953\n",
            "Name: buy, dtype: int64\n"
          ]
        }
      ]
    },
    {
      "cell_type": "code",
      "source": [
        "test_dataset=test_dataset.drop(columns=['user_activity_var_2','user_activity_var_3','user_activity_var_4','user_activity_var_9','user_activity_var_10','user_activity_var_12','products_purchased'],axis=1)"
      ],
      "metadata": {
        "id": "rZ1czxeJijOk"
      },
      "execution_count": 80,
      "outputs": []
    },
    {
      "cell_type": "code",
      "source": [
        "buyers=test_dataset[test_dataset['buy']==1]\n",
        "non_buyers=test_dataset[test_dataset['buy']==0]"
      ],
      "metadata": {
        "id": "qmV9SbBmRPlj"
      },
      "execution_count": 81,
      "outputs": []
    },
    {
      "cell_type": "code",
      "source": [
        "# Distribution plot\n",
        "for i in list(test_dataset.describe()):\n",
        "   plt.figure(figsize=(8,5))\n",
        "   ax = sns.distplot(buyers[i],label='buy',hist=False)\n",
        "   ax = sns.distplot(non_buyers[i],label='didnt buy',hist=False)\n",
        "   ax.set(xlabel=i)\n",
        "plt.show()"
      ],
      "metadata": {
        "colab": {
          "base_uri": "https://localhost:8080/",
          "height": 1000
        },
        "id": "iIEaDB9RP77q",
        "outputId": "dcd678f0-38ac-464a-ef22-face68504c00"
      },
      "execution_count": 82,
      "outputs": [
        {
          "output_type": "stream",
          "name": "stderr",
          "text": [
            "/usr/local/lib/python3.7/dist-packages/seaborn/distributions.py:2619: FutureWarning: `distplot` is a deprecated function and will be removed in a future version. Please adapt your code to use either `displot` (a figure-level function with similar flexibility) or `kdeplot` (an axes-level function for kernel density plots).\n",
            "  warnings.warn(msg, FutureWarning)\n",
            "/usr/local/lib/python3.7/dist-packages/seaborn/distributions.py:2619: FutureWarning: `distplot` is a deprecated function and will be removed in a future version. Please adapt your code to use either `displot` (a figure-level function with similar flexibility) or `kdeplot` (an axes-level function for kernel density plots).\n",
            "  warnings.warn(msg, FutureWarning)\n",
            "/usr/local/lib/python3.7/dist-packages/seaborn/distributions.py:2619: FutureWarning: `distplot` is a deprecated function and will be removed in a future version. Please adapt your code to use either `displot` (a figure-level function with similar flexibility) or `kdeplot` (an axes-level function for kernel density plots).\n",
            "  warnings.warn(msg, FutureWarning)\n",
            "/usr/local/lib/python3.7/dist-packages/seaborn/distributions.py:2619: FutureWarning: `distplot` is a deprecated function and will be removed in a future version. Please adapt your code to use either `displot` (a figure-level function with similar flexibility) or `kdeplot` (an axes-level function for kernel density plots).\n",
            "  warnings.warn(msg, FutureWarning)\n",
            "/usr/local/lib/python3.7/dist-packages/seaborn/distributions.py:2619: FutureWarning: `distplot` is a deprecated function and will be removed in a future version. Please adapt your code to use either `displot` (a figure-level function with similar flexibility) or `kdeplot` (an axes-level function for kernel density plots).\n",
            "  warnings.warn(msg, FutureWarning)\n",
            "/usr/local/lib/python3.7/dist-packages/seaborn/distributions.py:2619: FutureWarning: `distplot` is a deprecated function and will be removed in a future version. Please adapt your code to use either `displot` (a figure-level function with similar flexibility) or `kdeplot` (an axes-level function for kernel density plots).\n",
            "  warnings.warn(msg, FutureWarning)\n",
            "/usr/local/lib/python3.7/dist-packages/seaborn/distributions.py:2619: FutureWarning: `distplot` is a deprecated function and will be removed in a future version. Please adapt your code to use either `displot` (a figure-level function with similar flexibility) or `kdeplot` (an axes-level function for kernel density plots).\n",
            "  warnings.warn(msg, FutureWarning)\n",
            "/usr/local/lib/python3.7/dist-packages/seaborn/distributions.py:2619: FutureWarning: `distplot` is a deprecated function and will be removed in a future version. Please adapt your code to use either `displot` (a figure-level function with similar flexibility) or `kdeplot` (an axes-level function for kernel density plots).\n",
            "  warnings.warn(msg, FutureWarning)\n",
            "/usr/local/lib/python3.7/dist-packages/seaborn/distributions.py:2619: FutureWarning: `distplot` is a deprecated function and will be removed in a future version. Please adapt your code to use either `displot` (a figure-level function with similar flexibility) or `kdeplot` (an axes-level function for kernel density plots).\n",
            "  warnings.warn(msg, FutureWarning)\n",
            "/usr/local/lib/python3.7/dist-packages/seaborn/distributions.py:2619: FutureWarning: `distplot` is a deprecated function and will be removed in a future version. Please adapt your code to use either `displot` (a figure-level function with similar flexibility) or `kdeplot` (an axes-level function for kernel density plots).\n",
            "  warnings.warn(msg, FutureWarning)\n",
            "/usr/local/lib/python3.7/dist-packages/seaborn/distributions.py:2619: FutureWarning: `distplot` is a deprecated function and will be removed in a future version. Please adapt your code to use either `displot` (a figure-level function with similar flexibility) or `kdeplot` (an axes-level function for kernel density plots).\n",
            "  warnings.warn(msg, FutureWarning)\n",
            "/usr/local/lib/python3.7/dist-packages/seaborn/distributions.py:2619: FutureWarning: `distplot` is a deprecated function and will be removed in a future version. Please adapt your code to use either `displot` (a figure-level function with similar flexibility) or `kdeplot` (an axes-level function for kernel density plots).\n",
            "  warnings.warn(msg, FutureWarning)\n",
            "/usr/local/lib/python3.7/dist-packages/seaborn/distributions.py:2619: FutureWarning: `distplot` is a deprecated function and will be removed in a future version. Please adapt your code to use either `displot` (a figure-level function with similar flexibility) or `kdeplot` (an axes-level function for kernel density plots).\n",
            "  warnings.warn(msg, FutureWarning)\n",
            "/usr/local/lib/python3.7/dist-packages/seaborn/distributions.py:2619: FutureWarning: `distplot` is a deprecated function and will be removed in a future version. Please adapt your code to use either `displot` (a figure-level function with similar flexibility) or `kdeplot` (an axes-level function for kernel density plots).\n",
            "  warnings.warn(msg, FutureWarning)\n",
            "/usr/local/lib/python3.7/dist-packages/seaborn/distributions.py:2619: FutureWarning: `distplot` is a deprecated function and will be removed in a future version. Please adapt your code to use either `displot` (a figure-level function with similar flexibility) or `kdeplot` (an axes-level function for kernel density plots).\n",
            "  warnings.warn(msg, FutureWarning)\n",
            "/usr/local/lib/python3.7/dist-packages/seaborn/distributions.py:2619: FutureWarning: `distplot` is a deprecated function and will be removed in a future version. Please adapt your code to use either `displot` (a figure-level function with similar flexibility) or `kdeplot` (an axes-level function for kernel density plots).\n",
            "  warnings.warn(msg, FutureWarning)\n",
            "/usr/local/lib/python3.7/dist-packages/seaborn/distributions.py:2619: FutureWarning: `distplot` is a deprecated function and will be removed in a future version. Please adapt your code to use either `displot` (a figure-level function with similar flexibility) or `kdeplot` (an axes-level function for kernel density plots).\n",
            "  warnings.warn(msg, FutureWarning)\n",
            "/usr/local/lib/python3.7/dist-packages/seaborn/distributions.py:316: UserWarning: Dataset has 0 variance; skipping density estimate. Pass `warn_singular=False` to disable this warning.\n",
            "  warnings.warn(msg, UserWarning)\n",
            "/usr/local/lib/python3.7/dist-packages/seaborn/distributions.py:2619: FutureWarning: `distplot` is a deprecated function and will be removed in a future version. Please adapt your code to use either `displot` (a figure-level function with similar flexibility) or `kdeplot` (an axes-level function for kernel density plots).\n",
            "  warnings.warn(msg, FutureWarning)\n",
            "/usr/local/lib/python3.7/dist-packages/seaborn/distributions.py:316: UserWarning: Dataset has 0 variance; skipping density estimate. Pass `warn_singular=False` to disable this warning.\n",
            "  warnings.warn(msg, UserWarning)\n"
          ]
        },
        {
          "output_type": "display_data",
          "data": {
            "text/plain": [
              "<Figure size 576x360 with 1 Axes>"
            ],
            "image/png": "[encoded data removed]"
          },
          "metadata": {
            "needs_background": "light"
          }
        },
        {
          "output_type": "display_data",
          "data": {
            "text/plain": [
              "<Figure size 576x360 with 1 Axes>"
            ],
            "image/png": "[encoded data removed]"
          },
          "metadata": {
            "needs_background": "light"
          }
        },
        {
          "output_type": "display_data",
          "data": {
            "text/plain": [
              "<Figure size 576x360 with 1 Axes>"
            ],
            "image/png": "[encoded data removed]"
          },
          "metadata": {
            "needs_background": "light"
          }
        },
        {
          "output_type": "display_data",
          "data": {
            "text/plain": [
              "<Figure size 576x360 with 1 Axes>"
            ],
            "image/png": "[encoded data removed]"
          },
          "metadata": {
            "needs_background": "light"
          }
        },
        {
          "output_type": "display_data",
          "data": {
            "text/plain": [
              "<Figure size 576x360 with 1 Axes>"
            ],
            "image/png": "[encoded data removed]"
          },
          "metadata": {
            "needs_background": "light"
          }
        },
        {
          "output_type": "display_data",
          "data": {
            "text/plain": [
              "<Figure size 576x360 with 1 Axes>"
            ],
            "image/png": "[encoded data removed]"
          },
          "metadata": {
            "needs_background": "light"
          }
        },
        {
          "output_type": "display_data",
          "data": {
            "text/plain": [
              "<Figure size 576x360 with 1 Axes>"
            ],
            "image/png": "[encoded data removed]"
          },
          "metadata": {
            "needs_background": "light"
          }
        },
        {
          "output_type": "display_data",
          "data": {
            "text/plain": [
              "<Figure size 576x360 with 1 Axes>"
            ],
            "image/png": "[encoded data removed]"
          },
          "metadata": {
            "needs_background": "light"
          }
        },
        {
          "output_type": "display_data",
          "data": {
            "text/plain": [
              "<Figure size 576x360 with 1 Axes>"
            ],
            "image/png": "[encoded data removed]"
          },
          "metadata": {
            "needs_background": "light"
          }
        }
      ]
    },
    {
      "cell_type": "code",
      "source": [
        "lst=list(test_dataset.columns)\n",
        "lst"
      ],
      "metadata": {
        "colab": {
          "base_uri": "https://localhost:8080/"
        },
        "id": "a8yRZHn2Cj5t",
        "outputId": "8a3fe44e-8830-4d7f-c35c-f9ba97f1b3d7"
      },
      "execution_count": 83,
      "outputs": [
        {
          "output_type": "execute_result",
          "data": {
            "text/plain": [
              "['campaign_var_1',\n",
              " 'campaign_var_2',\n",
              " 'user_activity_var_1',\n",
              " 'user_activity_var_5',\n",
              " 'user_activity_var_6',\n",
              " 'user_activity_var_7',\n",
              " 'user_activity_var_8',\n",
              " 'user_activity_var_11',\n",
              " 'buy']"
            ]
          },
          "metadata": {},
          "execution_count": 83
        }
      ]
    },
    {
      "cell_type": "code",
      "source": [
        "test_dataset=pd.get_dummies(test_dataset, columns=['campaign_var_1',\n",
        " 'campaign_var_2',\n",
        " 'user_activity_var_1',\n",
        " 'user_activity_var_5',\n",
        " 'user_activity_var_6',\n",
        " 'user_activity_var_7',\n",
        " 'user_activity_var_8',\n",
        " 'user_activity_var_11'], prefix=['campaign_var_1',\n",
        " 'campaign_var_2',\n",
        " 'user_activity_var_1',\n",
        " 'user_activity_var_5',\n",
        " 'user_activity_var_6',\n",
        " 'user_activity_var_7',\n",
        " 'user_activity_var_8',\n",
        " 'user_activity_var_11'])"
      ],
      "metadata": {
        "id": "7O-nqIrhCi_2"
      },
      "execution_count": 84,
      "outputs": []
    },
    {
      "cell_type": "code",
      "execution_count": 85,
      "metadata": {
        "colab": {
          "base_uri": "https://localhost:8080/",
          "height": 296
        },
        "id": "fn0Nk3Dvj9eZ",
        "outputId": "bcd24624-d1cc-45ae-92fa-8d68d4f6038d"
      },
      "outputs": [
        {
          "output_type": "execute_result",
          "data": {
            "text/plain": [
              "<matplotlib.axes._subplots.AxesSubplot at 0x7f6edb115090>"
            ]
          },
          "metadata": {},
          "execution_count": 85
        },
        {
          "output_type": "display_data",
          "data": {
            "text/plain": [
              "<Figure size 432x288 with 1 Axes>"
            ],
            "image/png": "[encoded data removed]"
          },
          "metadata": {
            "needs_background": "light"
          }
        }
      ],
      "source": [
        "sns.countplot(x=test_dataset['buy'])"
      ]
    },
    {
      "cell_type": "code",
      "source": [
        "# Importing SMOTE\n",
        "from imblearn.over_sampling import SMOTE"
      ],
      "metadata": {
        "id": "M_QKDCggoPYa"
      },
      "execution_count": 86,
      "outputs": []
    },
    {
      "cell_type": "code",
      "execution_count": 87,
      "metadata": {
        "id": "A6I1u91GoTFT"
      },
      "outputs": [],
      "source": [
        " # Data for all the independent variables\n",
        "X = test_dataset.drop(labels='buy',axis=1)\n",
        "\n",
        " # Data for the dependent variable\n",
        "Y = test_dataset['buy']"
      ]
    },
    {
      "cell_type": "code",
      "execution_count": 88,
      "metadata": {
        "colab": {
          "base_uri": "https://localhost:8080/"
        },
        "id": "eG5-y-ZwTF4w",
        "outputId": "1545f1ae-22db-4411-9702-f88a58ebf03b"
      },
      "outputs": [
        {
          "output_type": "execute_result",
          "data": {
            "text/plain": [
              "((18250, 51), (18250,))"
            ]
          },
          "metadata": {},
          "execution_count": 88
        }
      ],
      "source": [
        "X.shape, Y.shape"
      ]
    },
    {
      "cell_type": "code",
      "execution_count": 89,
      "metadata": {
        "id": "vMPrQ-6rTF15"
      },
      "outputs": [],
      "source": [
        "# Train-test split\n",
        "\n",
        "X_train, X_test, Y_train, Y_test = train_test_split(X,Y,test_size = 0.2, random_state=1)"
      ]
    },
    {
      "cell_type": "code",
      "source": [
        "from sklearn.model_selection import StratifiedKFold\n",
        "from imblearn.over_sampling import SMOTE\n",
        "Xtrain=X_train\n",
        "cv = StratifiedKFold(n_splits=5)\n",
        "X_train, Y_train = SMOTE().fit_resample(X_train, Y_train)"
      ],
      "metadata": {
        "id": "HwRm4JtS2Y5q"
      },
      "execution_count": 90,
      "outputs": []
    },
    {
      "cell_type": "code",
      "source": [
        "print('Before SMOTE oversampling X_train shape=',Xtrain.shape)\n",
        "print('After SMOTE oversampling X_train shape=',X_train.shape)"
      ],
      "metadata": {
        "colab": {
          "base_uri": "https://localhost:8080/"
        },
        "id": "XOAJ19ilrGZW",
        "outputId": "e97d449e-b04e-4775-8a4c-460723493af8"
      },
      "execution_count": 91,
      "outputs": [
        {
          "output_type": "stream",
          "name": "stdout",
          "text": [
            "Before SMOTE oversampling X_train shape= (14600, 51)\n",
            "After SMOTE oversampling X_train shape= (27678, 51)\n"
          ]
        }
      ]
    },
    {
      "cell_type": "code",
      "source": [
        "Y_train.value_counts()"
      ],
      "metadata": {
        "colab": {
          "base_uri": "https://localhost:8080/"
        },
        "id": "pw15PWlG44CO",
        "outputId": "acc3d5d5-f3b9-415b-bb4e-951756f97f79"
      },
      "execution_count": 92,
      "outputs": [
        {
          "output_type": "execute_result",
          "data": {
            "text/plain": [
              "0    13839\n",
              "1    13839\n",
              "Name: buy, dtype: int64"
            ]
          },
          "metadata": {},
          "execution_count": 92
        }
      ]
    },
    {
      "cell_type": "code",
      "execution_count": 93,
      "metadata": {
        "colab": {
          "base_uri": "https://localhost:8080/"
        },
        "id": "GiF-sNv4TFy1",
        "outputId": "ee8e2736-4599-40f5-91ec-abb3afba4b27"
      },
      "outputs": [
        {
          "output_type": "stream",
          "name": "stdout",
          "text": [
            "(27678, 51) (27678,)\n",
            "(3650, 51) (3650,)\n"
          ]
        }
      ],
      "source": [
        "# Check the shape of train dataset\n",
        "print(X_train.shape,Y_train.shape)\n",
        "\n",
        "# Check the shape of test dataset\n",
        "print(X_test.shape, Y_test.shape)"
      ]
    },
    {
      "cell_type": "code",
      "source": [
        "# Importing XGBoost\n",
        "from xgboost import XGBClassifier"
      ],
      "metadata": {
        "id": "79gRurlnNyuR"
      },
      "execution_count": 94,
      "outputs": []
    },
    {
      "cell_type": "code",
      "source": [
        "# Impoting metrics\n",
        "from sklearn import metrics\n",
        "from sklearn.metrics import confusion_matrix\n",
        "from sklearn.metrics import f1_score\n",
        "from sklearn.metrics import classification_report"
      ],
      "metadata": {
        "id": "Wuc0ItusGMEb"
      },
      "execution_count": 95,
      "outputs": []
    },
    {
      "cell_type": "code",
      "source": [
        "# hyperparameter tuning with XGBoost\n",
        "\n",
        "# creating a KFold object \n",
        "folds = 3\n",
        "\n",
        "# specify range of hyperparameters\n",
        "param_grid = {'learning_rate': [0.01,0.1,0.5,1,10,50], \n",
        "             'subsample': [0.3, 0.6, 0.9,1]}          \n",
        "\n",
        "\n",
        "# specify model\n",
        "xgb_model = XGBClassifier(max_depth=3, n_estimators=200)\n",
        "\n",
        "# set up GridSearchCV()\n",
        "model_cv = GridSearchCV(estimator = xgb_model, \n",
        "                        param_grid = param_grid, \n",
        "                        scoring= 'roc_auc', \n",
        "                        cv = folds, \n",
        "                        verbose = 1,\n",
        "                        return_train_score=True)      \n",
        "\n",
        "# fit the model\n",
        "model_cv.fit(X_train, Y_train) "
      ],
      "metadata": {
        "colab": {
          "base_uri": "https://localhost:8080/"
        },
        "id": "xcblD3z-MNEc",
        "outputId": "6fac413f-d830-4262-d7c8-5e2fb40f80cc"
      },
      "execution_count": 96,
      "outputs": [
        {
          "output_type": "stream",
          "name": "stdout",
          "text": [
            "Fitting 3 folds for each of 24 candidates, totalling 72 fits\n"
          ]
        },
        {
          "output_type": "execute_result",
          "data": {
            "text/plain": [
              "GridSearchCV(cv=3, estimator=XGBClassifier(n_estimators=200),\n",
              "             param_grid={'learning_rate': [0.01, 0.1, 0.5, 1, 10, 50],\n",
              "                         'subsample': [0.3, 0.6, 0.9, 1]},\n",
              "             return_train_score=True, scoring='roc_auc', verbose=1)"
            ]
          },
          "metadata": {},
          "execution_count": 96
        }
      ]
    },
    {
      "cell_type": "code",
      "source": [
        "cv_results = pd.DataFrame(model_cv.cv_results_)\n",
        "cv_results"
      ],
      "metadata": {
        "colab": {
          "base_uri": "https://localhost:8080/",
          "height": 1000
        },
        "id": "EwOGpzvrNhfb",
        "outputId": "257d82d4-47d1-4cf1-da4a-36b2c2f7eac3"
      },
      "execution_count": 97,
      "outputs": [
        {
          "output_type": "execute_result",
          "data": {
            "text/plain": [
              "    mean_fit_time  std_fit_time  mean_score_time  std_score_time  \\\n",
              "0        5.662122      0.015218         0.056896        0.001364   \n",
              "1        6.703297      0.304236         0.054176        0.000532   \n",
              "2        5.398706      0.317518         0.052770        0.000572   \n",
              "3        4.636450      0.028351         0.053722        0.003088   \n",
              "4        5.405624      0.008052         0.043866        0.003398   \n",
              "5        6.328056      0.014612         0.044056        0.003286   \n",
              "6        5.038009      0.004995         0.041690        0.000260   \n",
              "7        4.539298      0.007854         0.041404        0.000612   \n",
              "8        5.920141      0.308068         0.047675        0.001262   \n",
              "9        6.715587      0.415960         0.052946        0.012355   \n",
              "10       5.031522      0.008937         0.044721        0.002491   \n",
              "11       4.558895      0.014070         0.043622        0.002448   \n",
              "12       5.560700      0.015854         0.052597        0.000533   \n",
              "13       6.423854      0.016876         0.050551        0.000843   \n",
              "14       5.075851      0.009655         0.049146        0.000827   \n",
              "15       4.540960      0.005756         0.048205        0.001309   \n",
              "16       2.711689      0.010407         0.018101        0.000776   \n",
              "17       2.990079      0.004386         0.017538        0.000193   \n",
              "18       2.566972      0.007942         0.018498        0.001610   \n",
              "19       2.372864      0.001254         0.019909        0.002544   \n",
              "20       2.680741      0.003299         0.017334        0.000352   \n",
              "21       2.982172      0.013958         0.017506        0.000222   \n",
              "22       2.552670      0.010802         0.017556        0.000250   \n",
              "23       2.352705      0.002911         0.017136        0.000189   \n",
              "\n",
              "   param_learning_rate param_subsample  \\\n",
              "0                 0.01             0.3   \n",
              "1                 0.01             0.6   \n",
              "2                 0.01             0.9   \n",
              "3                 0.01               1   \n",
              "4                  0.1             0.3   \n",
              "5                  0.1             0.6   \n",
              "6                  0.1             0.9   \n",
              "7                  0.1               1   \n",
              "8                  0.5             0.3   \n",
              "9                  0.5             0.6   \n",
              "10                 0.5             0.9   \n",
              "11                 0.5               1   \n",
              "12                   1             0.3   \n",
              "13                   1             0.6   \n",
              "14                   1             0.9   \n",
              "15                   1               1   \n",
              "16                  10             0.3   \n",
              "17                  10             0.6   \n",
              "18                  10             0.9   \n",
              "19                  10               1   \n",
              "20                  50             0.3   \n",
              "21                  50             0.6   \n",
              "22                  50             0.9   \n",
              "23                  50               1   \n",
              "\n",
              "                                       params  split0_test_score  \\\n",
              "0   {'learning_rate': 0.01, 'subsample': 0.3}           0.877641   \n",
              "1   {'learning_rate': 0.01, 'subsample': 0.6}           0.878277   \n",
              "2   {'learning_rate': 0.01, 'subsample': 0.9}           0.874695   \n",
              "3     {'learning_rate': 0.01, 'subsample': 1}           0.874511   \n",
              "4    {'learning_rate': 0.1, 'subsample': 0.3}           0.960202   \n",
              "5    {'learning_rate': 0.1, 'subsample': 0.6}           0.958736   \n",
              "6    {'learning_rate': 0.1, 'subsample': 0.9}           0.958298   \n",
              "7      {'learning_rate': 0.1, 'subsample': 1}           0.958366   \n",
              "8    {'learning_rate': 0.5, 'subsample': 0.3}           0.965566   \n",
              "9    {'learning_rate': 0.5, 'subsample': 0.6}           0.965296   \n",
              "10   {'learning_rate': 0.5, 'subsample': 0.9}           0.964028   \n",
              "11     {'learning_rate': 0.5, 'subsample': 1}           0.963676   \n",
              "12     {'learning_rate': 1, 'subsample': 0.3}           0.964578   \n",
              "13     {'learning_rate': 1, 'subsample': 0.6}           0.965379   \n",
              "14     {'learning_rate': 1, 'subsample': 0.9}           0.964501   \n",
              "15       {'learning_rate': 1, 'subsample': 1}           0.964398   \n",
              "16    {'learning_rate': 10, 'subsample': 0.3}           0.500000   \n",
              "17    {'learning_rate': 10, 'subsample': 0.6}           0.500000   \n",
              "18    {'learning_rate': 10, 'subsample': 0.9}           0.500000   \n",
              "19      {'learning_rate': 10, 'subsample': 1}           0.500000   \n",
              "20    {'learning_rate': 50, 'subsample': 0.3}           0.500000   \n",
              "21    {'learning_rate': 50, 'subsample': 0.6}           0.500000   \n",
              "22    {'learning_rate': 50, 'subsample': 0.9}           0.500000   \n",
              "23      {'learning_rate': 50, 'subsample': 1}           0.500000   \n",
              "\n",
              "    split1_test_score  split2_test_score  mean_test_score  std_test_score  \\\n",
              "0            0.890243           0.892601         0.886828        0.006567   \n",
              "1            0.889943           0.890175         0.886131        0.005555   \n",
              "2            0.885395           0.885918         0.882003        0.005172   \n",
              "3            0.885806           0.885953         0.882090        0.005359   \n",
              "4            0.987613           0.986693         0.978169        0.012711   \n",
              "5            0.987525           0.986969         0.977743        0.013442   \n",
              "6            0.987230           0.986328         0.977286        0.013431   \n",
              "7            0.986938           0.986120         0.977141        0.013280   \n",
              "8            0.995027           0.994685         0.985093        0.013808   \n",
              "9            0.995087           0.994652         0.985012        0.013942   \n",
              "10           0.994860           0.994444         0.984444        0.014437   \n",
              "11           0.994442           0.993861         0.983993        0.014368   \n",
              "12           0.994654           0.994111         0.984448        0.014052   \n",
              "13           0.996090           0.995662         0.985710        0.014378   \n",
              "14           0.996216           0.995815         0.985511        0.014857   \n",
              "15           0.996146           0.995623         0.985389        0.014844   \n",
              "16           0.500000           0.500000         0.500000        0.000000   \n",
              "17           0.500000           0.500000         0.500000        0.000000   \n",
              "18           0.500000           0.500000         0.500000        0.000000   \n",
              "19           0.500000           0.500000         0.500000        0.000000   \n",
              "20           0.500000           0.500000         0.500000        0.000000   \n",
              "21           0.500000           0.500000         0.500000        0.000000   \n",
              "22           0.500000           0.500000         0.500000        0.000000   \n",
              "23           0.500000           0.500000         0.500000        0.000000   \n",
              "\n",
              "    rank_test_score  split0_train_score  split1_train_score  \\\n",
              "0                13            0.897737            0.884756   \n",
              "1                14            0.898990            0.883511   \n",
              "2                16            0.894933            0.880376   \n",
              "3                15            0.895352            0.880967   \n",
              "4                 9            0.988392            0.974584   \n",
              "5                10            0.987617            0.974090   \n",
              "6                11            0.986914            0.973930   \n",
              "7                12            0.987145            0.973364   \n",
              "8                 4            0.996334            0.984384   \n",
              "9                 5            0.996341            0.984780   \n",
              "10                7            0.995547            0.984235   \n",
              "11                8            0.994882            0.982770   \n",
              "12                6            0.997020            0.984534   \n",
              "13                1            0.997630            0.986635   \n",
              "14                2            0.997694            0.987432   \n",
              "15                3            0.997482            0.987277   \n",
              "16               17            0.500000            0.500000   \n",
              "17               17            0.500000            0.500000   \n",
              "18               17            0.500000            0.500000   \n",
              "19               17            0.500000            0.500000   \n",
              "20               17            0.500000            0.500000   \n",
              "21               17            0.500000            0.500000   \n",
              "22               17            0.500000            0.500000   \n",
              "23               17            0.500000            0.500000   \n",
              "\n",
              "    split2_train_score  mean_train_score  std_train_score  \n",
              "0             0.885345          0.889279         0.005985  \n",
              "1             0.882989          0.888497         0.007423  \n",
              "2             0.878957          0.884755         0.007220  \n",
              "3             0.879071          0.885130         0.007269  \n",
              "4             0.974905          0.979294         0.006435  \n",
              "5             0.975024          0.978910         0.006169  \n",
              "6             0.974499          0.978448         0.005991  \n",
              "7             0.974282          0.978264         0.006291  \n",
              "8             0.985114          0.988611         0.005469  \n",
              "9             0.985378          0.988833         0.005315  \n",
              "10            0.984211          0.987998         0.005338  \n",
              "11            0.983149          0.986934         0.005622  \n",
              "12            0.984737          0.988764         0.005838  \n",
              "13            0.987489          0.990584         0.004994  \n",
              "14            0.987886          0.991004         0.004734  \n",
              "15            0.987692          0.990817         0.004716  \n",
              "16            0.500000          0.500000         0.000000  \n",
              "17            0.500000          0.500000         0.000000  \n",
              "18            0.500000          0.500000         0.000000  \n",
              "19            0.500000          0.500000         0.000000  \n",
              "20            0.500000          0.500000         0.000000  \n",
              "21            0.500000          0.500000         0.000000  \n",
              "22            0.500000          0.500000         0.000000  \n",
              "23            0.500000          0.500000         0.000000  "
            ],
            "text/html": [
              "\n",
              "  <div id=\"df-68f5b5f3-4f4e-4db3-b629-a6dabf5a939f\">\n",
              "    <div class=\"colab-df-container\">\n",
              "      <div>\n",
              "<style scoped>\n",
              "    .dataframe tbody tr th:only-of-type {\n",
              "        vertical-align: middle;\n",
              "    }\n",
              "\n",
              "    .dataframe tbody tr th {\n",
              "        vertical-align: top;\n",
              "    }\n",
              "\n",
              "    .dataframe thead th {\n",
              "        text-align: right;\n",
              "    }\n",
              "</style>\n",
              "<table border=\"1\" class=\"dataframe\">\n",
              "  <thead>\n",
              "    <tr style=\"text-align: right;\">\n",
              "      <th></th>\n",
              "      <th>mean_fit_time</th>\n",
              "      <th>std_fit_time</th>\n",
              "      <th>mean_score_time</th>\n",
              "      <th>std_score_time</th>\n",
              "      <th>param_learning_rate</th>\n",
              "      <th>param_subsample</th>\n",
              "      <th>params</th>\n",
              "      <th>split0_test_score</th>\n",
              "      <th>split1_test_score</th>\n",
              "      <th>split2_test_score</th>\n",
              "      <th>mean_test_score</th>\n",
              "      <th>std_test_score</th>\n",
              "      <th>rank_test_score</th>\n",
              "      <th>split0_train_score</th>\n",
              "      <th>split1_train_score</th>\n",
              "      <th>split2_train_score</th>\n",
              "      <th>mean_train_score</th>\n",
              "      <th>std_train_score</th>\n",
              "    </tr>\n",
              "  </thead>\n",
              "  <tbody>\n",
              "    <tr>\n",
              "      <th>0</th>\n",
              "      <td>5.662122</td>\n",
              "      <td>0.015218</td>\n",
              "      <td>0.056896</td>\n",
              "      <td>0.001364</td>\n",
              "      <td>0.01</td>\n",
              "      <td>0.3</td>\n",
              "      <td>{'learning_rate': 0.01, 'subsample': 0.3}</td>\n",
              "      <td>0.877641</td>\n",
              "      <td>0.890243</td>\n",
              "      <td>0.892601</td>\n",
              "      <td>0.886828</td>\n",
              "      <td>0.006567</td>\n",
              "      <td>13</td>\n",
              "      <td>0.897737</td>\n",
              "      <td>0.884756</td>\n",
              "      <td>0.885345</td>\n",
              "      <td>0.889279</td>\n",
              "      <td>0.005985</td>\n",
              "    </tr>\n",
              "    <tr>\n",
              "      <th>1</th>\n",
              "      <td>6.703297</td>\n",
              "      <td>0.304236</td>\n",
              "      <td>0.054176</td>\n",
              "      <td>0.000532</td>\n",
              "      <td>0.01</td>\n",
              "      <td>0.6</td>\n",
              "      <td>{'learning_rate': 0.01, 'subsample': 0.6}</td>\n",
              "      <td>0.878277</td>\n",
              "      <td>0.889943</td>\n",
              "      <td>0.890175</td>\n",
              "      <td>0.886131</td>\n",
              "      <td>0.005555</td>\n",
              "      <td>14</td>\n",
              "      <td>0.898990</td>\n",
              "      <td>0.883511</td>\n",
              "      <td>0.882989</td>\n",
              "      <td>0.888497</td>\n",
              "      <td>0.007423</td>\n",
              "    </tr>\n",
              "    <tr>\n",
              "      <th>2</th>\n",
              "      <td>5.398706</td>\n",
              "      <td>0.317518</td>\n",
              "      <td>0.052770</td>\n",
              "      <td>0.000572</td>\n",
              "      <td>0.01</td>\n",
              "      <td>0.9</td>\n",
              "      <td>{'learning_rate': 0.01, 'subsample': 0.9}</td>\n",
              "      <td>0.874695</td>\n",
              "      <td>0.885395</td>\n",
              "      <td>0.885918</td>\n",
              "      <td>0.882003</td>\n",
              "      <td>0.005172</td>\n",
              "      <td>16</td>\n",
              "      <td>0.894933</td>\n",
              "      <td>0.880376</td>\n",
              "      <td>0.878957</td>\n",
              "      <td>0.884755</td>\n",
              "      <td>0.007220</td>\n",
              "    </tr>\n",
              "    <tr>\n",
              "      <th>3</th>\n",
              "      <td>4.636450</td>\n",
              "      <td>0.028351</td>\n",
              "      <td>0.053722</td>\n",
              "      <td>0.003088</td>\n",
              "      <td>0.01</td>\n",
              "      <td>1</td>\n",
              "      <td>{'learning_rate': 0.01, 'subsample': 1}</td>\n",
              "      <td>0.874511</td>\n",
              "      <td>0.885806</td>\n",
              "      <td>0.885953</td>\n",
              "      <td>0.882090</td>\n",
              "      <td>0.005359</td>\n",
              "      <td>15</td>\n",
              "      <td>0.895352</td>\n",
              "      <td>0.880967</td>\n",
              "      <td>0.879071</td>\n",
              "      <td>0.885130</td>\n",
              "      <td>0.007269</td>\n",
              "    </tr>\n",
              "    <tr>\n",
              "      <th>4</th>\n",
              "      <td>5.405624</td>\n",
              "      <td>0.008052</td>\n",
              "      <td>0.043866</td>\n",
              "      <td>0.003398</td>\n",
              "      <td>0.1</td>\n",
              "      <td>0.3</td>\n",
              "      <td>{'learning_rate': 0.1, 'subsample': 0.3}</td>\n",
              "      <td>0.960202</td>\n",
              "      <td>0.987613</td>\n",
              "      <td>0.986693</td>\n",
              "      <td>0.978169</td>\n",
              "      <td>0.012711</td>\n",
              "      <td>9</td>\n",
              "      <td>0.988392</td>\n",
              "      <td>0.974584</td>\n",
              "      <td>0.974905</td>\n",
              "      <td>0.979294</td>\n",
              "      <td>0.006435</td>\n",
              "    </tr>\n",
              "    <tr>\n",
              "      <th>5</th>\n",
              "      <td>6.328056</td>\n",
              "      <td>0.014612</td>\n",
              "      <td>0.044056</td>\n",
              "      <td>0.003286</td>\n",
              "      <td>0.1</td>\n",
              "      <td>0.6</td>\n",
              "      <td>{'learning_rate': 0.1, 'subsample': 0.6}</td>\n",
              "      <td>0.958736</td>\n",
              "      <td>0.987525</td>\n",
              "      <td>0.986969</td>\n",
              "      <td>0.977743</td>\n",
              "      <td>0.013442</td>\n",
              "      <td>10</td>\n",
              "      <td>0.987617</td>\n",
              "      <td>0.974090</td>\n",
              "      <td>0.975024</td>\n",
              "      <td>0.978910</td>\n",
              "      <td>0.006169</td>\n",
              "    </tr>\n",
              "    <tr>\n",
              "      <th>6</th>\n",
              "      <td>5.038009</td>\n",
              "      <td>0.004995</td>\n",
              "      <td>0.041690</td>\n",
              "      <td>0.000260</td>\n",
              "      <td>0.1</td>\n",
              "      <td>0.9</td>\n",
              "      <td>{'learning_rate': 0.1, 'subsample': 0.9}</td>\n",
              "      <td>0.958298</td>\n",
              "      <td>0.987230</td>\n",
              "      <td>0.986328</td>\n",
              "      <td>0.977286</td>\n",
              "      <td>0.013431</td>\n",
              "      <td>11</td>\n",
              "      <td>0.986914</td>\n",
              "      <td>0.973930</td>\n",
              "      <td>0.974499</td>\n",
              "      <td>0.978448</td>\n",
              "      <td>0.005991</td>\n",
              "    </tr>\n",
              "    <tr>\n",
              "      <th>7</th>\n",
              "      <td>4.539298</td>\n",
              "      <td>0.007854</td>\n",
              "      <td>0.041404</td>\n",
              "      <td>0.000612</td>\n",
              "      <td>0.1</td>\n",
              "      <td>1</td>\n",
              "      <td>{'learning_rate': 0.1, 'subsample': 1}</td>\n",
              "      <td>0.958366</td>\n",
              "      <td>0.986938</td>\n",
              "      <td>0.986120</td>\n",
              "      <td>0.977141</td>\n",
              "      <td>0.013280</td>\n",
              "      <td>12</td>\n",
              "      <td>0.987145</td>\n",
              "      <td>0.973364</td>\n",
              "      <td>0.974282</td>\n",
              "      <td>0.978264</td>\n",
              "      <td>0.006291</td>\n",
              "    </tr>\n",
              "    <tr>\n",
              "      <th>8</th>\n",
              "      <td>5.920141</td>\n",
              "      <td>0.308068</td>\n",
              "      <td>0.047675</td>\n",
              "      <td>0.001262</td>\n",
              "      <td>0.5</td>\n",
              "      <td>0.3</td>\n",
              "      <td>{'learning_rate': 0.5, 'subsample': 0.3}</td>\n",
              "      <td>0.965566</td>\n",
              "      <td>0.995027</td>\n",
              "      <td>0.994685</td>\n",
              "      <td>0.985093</td>\n",
              "      <td>0.013808</td>\n",
              "      <td>4</td>\n",
              "      <td>0.996334</td>\n",
              "      <td>0.984384</td>\n",
              "      <td>0.985114</td>\n",
              "      <td>0.988611</td>\n",
              "      <td>0.005469</td>\n",
              "    </tr>\n",
              "    <tr>\n",
              "      <th>9</th>\n",
              "      <td>6.715587</td>\n",
              "      <td>0.415960</td>\n",
              "      <td>0.052946</td>\n",
              "      <td>0.012355</td>\n",
              "      <td>0.5</td>\n",
              "      <td>0.6</td>\n",
              "      <td>{'learning_rate': 0.5, 'subsample': 0.6}</td>\n",
              "      <td>0.965296</td>\n",
              "      <td>0.995087</td>\n",
              "      <td>0.994652</td>\n",
              "      <td>0.985012</td>\n",
              "      <td>0.013942</td>\n",
              "      <td>5</td>\n",
              "      <td>0.996341</td>\n",
              "      <td>0.984780</td>\n",
              "      <td>0.985378</td>\n",
              "      <td>0.988833</td>\n",
              "      <td>0.005315</td>\n",
              "    </tr>\n",
              "    <tr>\n",
              "      <th>10</th>\n",
              "      <td>5.031522</td>\n",
              "      <td>0.008937</td>\n",
              "      <td>0.044721</td>\n",
              "      <td>0.002491</td>\n",
              "      <td>0.5</td>\n",
              "      <td>0.9</td>\n",
              "      <td>{'learning_rate': 0.5, 'subsample': 0.9}</td>\n",
              "      <td>0.964028</td>\n",
              "      <td>0.994860</td>\n",
              "      <td>0.994444</td>\n",
              "      <td>0.984444</td>\n",
              "      <td>0.014437</td>\n",
              "      <td>7</td>\n",
              "      <td>0.995547</td>\n",
              "      <td>0.984235</td>\n",
              "      <td>0.984211</td>\n",
              "      <td>0.987998</td>\n",
              "      <td>0.005338</td>\n",
              "    </tr>\n",
              "    <tr>\n",
              "      <th>11</th>\n",
              "      <td>4.558895</td>\n",
              "      <td>0.014070</td>\n",
              "      <td>0.043622</td>\n",
              "      <td>0.002448</td>\n",
              "      <td>0.5</td>\n",
              "      <td>1</td>\n",
              "      <td>{'learning_rate': 0.5, 'subsample': 1}</td>\n",
              "      <td>0.963676</td>\n",
              "      <td>0.994442</td>\n",
              "      <td>0.993861</td>\n",
              "      <td>0.983993</td>\n",
              "      <td>0.014368</td>\n",
              "      <td>8</td>\n",
              "      <td>0.994882</td>\n",
              "      <td>0.982770</td>\n",
              "      <td>0.983149</td>\n",
              "      <td>0.986934</td>\n",
              "      <td>0.005622</td>\n",
              "    </tr>\n",
              "    <tr>\n",
              "      <th>12</th>\n",
              "      <td>5.560700</td>\n",
              "      <td>0.015854</td>\n",
              "      <td>0.052597</td>\n",
              "      <td>0.000533</td>\n",
              "      <td>1</td>\n",
              "      <td>0.3</td>\n",
              "      <td>{'learning_rate': 1, 'subsample': 0.3}</td>\n",
              "      <td>0.964578</td>\n",
              "      <td>0.994654</td>\n",
              "      <td>0.994111</td>\n",
              "      <td>0.984448</td>\n",
              "      <td>0.014052</td>\n",
              "      <td>6</td>\n",
              "      <td>0.997020</td>\n",
              "      <td>0.984534</td>\n",
              "      <td>0.984737</td>\n",
              "      <td>0.988764</td>\n",
              "      <td>0.005838</td>\n",
              "    </tr>\n",
              "    <tr>\n",
              "      <th>13</th>\n",
              "      <td>6.423854</td>\n",
              "      <td>0.016876</td>\n",
              "      <td>0.050551</td>\n",
              "      <td>0.000843</td>\n",
              "      <td>1</td>\n",
              "      <td>0.6</td>\n",
              "      <td>{'learning_rate': 1, 'subsample': 0.6}</td>\n",
              "      <td>0.965379</td>\n",
              "      <td>0.996090</td>\n",
              "      <td>0.995662</td>\n",
              "      <td>0.985710</td>\n",
              "      <td>0.014378</td>\n",
              "      <td>1</td>\n",
              "      <td>0.997630</td>\n",
              "      <td>0.986635</td>\n",
              "      <td>0.987489</td>\n",
              "      <td>0.990584</td>\n",
              "      <td>0.004994</td>\n",
              "    </tr>\n",
              "    <tr>\n",
              "      <th>14</th>\n",
              "      <td>5.075851</td>\n",
              "      <td>0.009655</td>\n",
              "      <td>0.049146</td>\n",
              "      <td>0.000827</td>\n",
              "      <td>1</td>\n",
              "      <td>0.9</td>\n",
              "      <td>{'learning_rate': 1, 'subsample': 0.9}</td>\n",
              "      <td>0.964501</td>\n",
              "      <td>0.996216</td>\n",
              "      <td>0.995815</td>\n",
              "      <td>0.985511</td>\n",
              "      <td>0.014857</td>\n",
              "      <td>2</td>\n",
              "      <td>0.997694</td>\n",
              "      <td>0.987432</td>\n",
              "      <td>0.987886</td>\n",
              "      <td>0.991004</td>\n",
              "      <td>0.004734</td>\n",
              "    </tr>\n",
              "    <tr>\n",
              "      <th>15</th>\n",
              "      <td>4.540960</td>\n",
              "      <td>0.005756</td>\n",
              "      <td>0.048205</td>\n",
              "      <td>0.001309</td>\n",
              "      <td>1</td>\n",
              "      <td>1</td>\n",
              "      <td>{'learning_rate': 1, 'subsample': 1}</td>\n",
              "      <td>0.964398</td>\n",
              "      <td>0.996146</td>\n",
              "      <td>0.995623</td>\n",
              "      <td>0.985389</td>\n",
              "      <td>0.014844</td>\n",
              "      <td>3</td>\n",
              "      <td>0.997482</td>\n",
              "      <td>0.987277</td>\n",
              "      <td>0.987692</td>\n",
              "      <td>0.990817</td>\n",
              "      <td>0.004716</td>\n",
              "    </tr>\n",
              "    <tr>\n",
              "      <th>16</th>\n",
              "      <td>2.711689</td>\n",
              "      <td>0.010407</td>\n",
              "      <td>0.018101</td>\n",
              "      <td>0.000776</td>\n",
              "      <td>10</td>\n",
              "      <td>0.3</td>\n",
              "      <td>{'learning_rate': 10, 'subsample': 0.3}</td>\n",
              "      <td>0.500000</td>\n",
              "      <td>0.500000</td>\n",
              "      <td>0.500000</td>\n",
              "      <td>0.500000</td>\n",
              "      <td>0.000000</td>\n",
              "      <td>17</td>\n",
              "      <td>0.500000</td>\n",
              "      <td>0.500000</td>\n",
              "      <td>0.500000</td>\n",
              "      <td>0.500000</td>\n",
              "      <td>0.000000</td>\n",
              "    </tr>\n",
              "    <tr>\n",
              "      <th>17</th>\n",
              "      <td>2.990079</td>\n",
              "      <td>0.004386</td>\n",
              "      <td>0.017538</td>\n",
              "      <td>0.000193</td>\n",
              "      <td>10</td>\n",
              "      <td>0.6</td>\n",
              "      <td>{'learning_rate': 10, 'subsample': 0.6}</td>\n",
              "      <td>0.500000</td>\n",
              "      <td>0.500000</td>\n",
              "      <td>0.500000</td>\n",
              "      <td>0.500000</td>\n",
              "      <td>0.000000</td>\n",
              "      <td>17</td>\n",
              "      <td>0.500000</td>\n",
              "      <td>0.500000</td>\n",
              "      <td>0.500000</td>\n",
              "      <td>0.500000</td>\n",
              "      <td>0.000000</td>\n",
              "    </tr>\n",
              "    <tr>\n",
              "      <th>18</th>\n",
              "      <td>2.566972</td>\n",
              "      <td>0.007942</td>\n",
              "      <td>0.018498</td>\n",
              "      <td>0.001610</td>\n",
              "      <td>10</td>\n",
              "      <td>0.9</td>\n",
              "      <td>{'learning_rate': 10, 'subsample': 0.9}</td>\n",
              "      <td>0.500000</td>\n",
              "      <td>0.500000</td>\n",
              "      <td>0.500000</td>\n",
              "      <td>0.500000</td>\n",
              "      <td>0.000000</td>\n",
              "      <td>17</td>\n",
              "      <td>0.500000</td>\n",
              "      <td>0.500000</td>\n",
              "      <td>0.500000</td>\n",
              "      <td>0.500000</td>\n",
              "      <td>0.000000</td>\n",
              "    </tr>\n",
              "    <tr>\n",
              "      <th>19</th>\n",
              "      <td>2.372864</td>\n",
              "      <td>0.001254</td>\n",
              "      <td>0.019909</td>\n",
              "      <td>0.002544</td>\n",
              "      <td>10</td>\n",
              "      <td>1</td>\n",
              "      <td>{'learning_rate': 10, 'subsample': 1}</td>\n",
              "      <td>0.500000</td>\n",
              "      <td>0.500000</td>\n",
              "      <td>0.500000</td>\n",
              "      <td>0.500000</td>\n",
              "      <td>0.000000</td>\n",
              "      <td>17</td>\n",
              "      <td>0.500000</td>\n",
              "      <td>0.500000</td>\n",
              "      <td>0.500000</td>\n",
              "      <td>0.500000</td>\n",
              "      <td>0.000000</td>\n",
              "    </tr>\n",
              "    <tr>\n",
              "      <th>20</th>\n",
              "      <td>2.680741</td>\n",
              "      <td>0.003299</td>\n",
              "      <td>0.017334</td>\n",
              "      <td>0.000352</td>\n",
              "      <td>50</td>\n",
              "      <td>0.3</td>\n",
              "      <td>{'learning_rate': 50, 'subsample': 0.3}</td>\n",
              "      <td>0.500000</td>\n",
              "      <td>0.500000</td>\n",
              "      <td>0.500000</td>\n",
              "      <td>0.500000</td>\n",
              "      <td>0.000000</td>\n",
              "      <td>17</td>\n",
              "      <td>0.500000</td>\n",
              "      <td>0.500000</td>\n",
              "      <td>0.500000</td>\n",
              "      <td>0.500000</td>\n",
              "      <td>0.000000</td>\n",
              "    </tr>\n",
              "    <tr>\n",
              "      <th>21</th>\n",
              "      <td>2.982172</td>\n",
              "      <td>0.013958</td>\n",
              "      <td>0.017506</td>\n",
              "      <td>0.000222</td>\n",
              "      <td>50</td>\n",
              "      <td>0.6</td>\n",
              "      <td>{'learning_rate': 50, 'subsample': 0.6}</td>\n",
              "      <td>0.500000</td>\n",
              "      <td>0.500000</td>\n",
              "      <td>0.500000</td>\n",
              "      <td>0.500000</td>\n",
              "      <td>0.000000</td>\n",
              "      <td>17</td>\n",
              "      <td>0.500000</td>\n",
              "      <td>0.500000</td>\n",
              "      <td>0.500000</td>\n",
              "      <td>0.500000</td>\n",
              "      <td>0.000000</td>\n",
              "    </tr>\n",
              "    <tr>\n",
              "      <th>22</th>\n",
              "      <td>2.552670</td>\n",
              "      <td>0.010802</td>\n",
              "      <td>0.017556</td>\n",
              "      <td>0.000250</td>\n",
              "      <td>50</td>\n",
              "      <td>0.9</td>\n",
              "      <td>{'learning_rate': 50, 'subsample': 0.9}</td>\n",
              "      <td>0.500000</td>\n",
              "      <td>0.500000</td>\n",
              "      <td>0.500000</td>\n",
              "      <td>0.500000</td>\n",
              "      <td>0.000000</td>\n",
              "      <td>17</td>\n",
              "      <td>0.500000</td>\n",
              "      <td>0.500000</td>\n",
              "      <td>0.500000</td>\n",
              "      <td>0.500000</td>\n",
              "      <td>0.000000</td>\n",
              "    </tr>\n",
              "    <tr>\n",
              "      <th>23</th>\n",
              "      <td>2.352705</td>\n",
              "      <td>0.002911</td>\n",
              "      <td>0.017136</td>\n",
              "      <td>0.000189</td>\n",
              "      <td>50</td>\n",
              "      <td>1</td>\n",
              "      <td>{'learning_rate': 50, 'subsample': 1}</td>\n",
              "      <td>0.500000</td>\n",
              "      <td>0.500000</td>\n",
              "      <td>0.500000</td>\n",
              "      <td>0.500000</td>\n",
              "      <td>0.000000</td>\n",
              "      <td>17</td>\n",
              "      <td>0.500000</td>\n",
              "      <td>0.500000</td>\n",
              "      <td>0.500000</td>\n",
              "      <td>0.500000</td>\n",
              "      <td>0.000000</td>\n",
              "    </tr>\n",
              "  </tbody>\n",
              "</table>\n",
              "</div>\n",
              "      <button class=\"colab-df-convert\" onclick=\"convertToInteractive('df-68f5b5f3-4f4e-4db3-b629-a6dabf5a939f')\"\n",
              "              title=\"Convert this dataframe to an interactive table.\"\n",
              "              style=\"display:none;\">\n",
              "        \n",
              "  <svg xmlns=\"http://www.w3.org/2000/svg\" height=\"24px\"viewBox=\"0 0 24 24\"\n",
              "       width=\"24px\">\n",
              "    <path d=\"M0 0h24v24H0V0z\" fill=\"none\"/>\n",
              "    <path d=\"M18.56 5.44l.94 2.06.94-2.06 2.06-.94-2.06-.94-.94-2.06-.94 2.06-2.06.94zm-11 1L8.5 8.5l.94-2.06 2.06-.94-2.06-.94L8.5 2.5l-.94 2.06-2.06.94zm10 10l.94 2.06.94-2.06 2.06-.94-2.06-.94-.94-2.06-.94 2.06-2.06.94z\"/><path d=\"M17.41 7.96l-1.37-1.37c-.4-.4-.92-.59-1.43-.59-.52 0-1.04.2-1.43.59L10.3 9.45l-7.72 7.72c-.78.78-.78 2.05 0 2.83L4 21.41c.39.39.9.59 1.41.59.51 0 1.02-.2 1.41-.59l7.78-7.78 2.81-2.81c.8-.78.8-2.07 0-2.86zM5.41 20L4 18.59l7.72-7.72 1.47 1.35L5.41 20z\"/>\n",
              "  </svg>\n",
              "      </button>\n",
              "      \n",
              "  <style>\n",
              "    .colab-df-container {\n",
              "      display:flex;\n",
              "      flex-wrap:wrap;\n",
              "      gap: 12px;\n",
              "    }\n",
              "\n",
              "    .colab-df-convert {\n",
              "      background-color: #E8F0FE;\n",
              "      border: none;\n",
              "      border-radius: 50%;\n",
              "      cursor: pointer;\n",
              "      display: none;\n",
              "      fill: #1967D2;\n",
              "      height: 32px;\n",
              "      padding: 0 0 0 0;\n",
              "      width: 32px;\n",
              "    }\n",
              "\n",
              "    .colab-df-convert:hover {\n",
              "      background-color: #E2EBFA;\n",
              "      box-shadow: 0px 1px 2px rgba(60, 64, 67, 0.3), 0px 1px 3px 1px rgba(60, 64, 67, 0.15);\n",
              "      fill: #174EA6;\n",
              "    }\n",
              "\n",
              "    [theme=dark] .colab-df-convert {\n",
              "      background-color: #3B4455;\n",
              "      fill: #D2E3FC;\n",
              "    }\n",
              "\n",
              "    [theme=dark] .colab-df-convert:hover {\n",
              "      background-color: #434B5C;\n",
              "      box-shadow: 0px 1px 3px 1px rgba(0, 0, 0, 0.15);\n",
              "      filter: drop-shadow(0px 1px 2px rgba(0, 0, 0, 0.3));\n",
              "      fill: #FFFFFF;\n",
              "    }\n",
              "  </style>\n",
              "\n",
              "      <script>\n",
              "        const buttonEl =\n",
              "          document.querySelector('#df-68f5b5f3-4f4e-4db3-b629-a6dabf5a939f button.colab-df-convert');\n",
              "        buttonEl.style.display =\n",
              "          google.colab.kernel.accessAllowed ? 'block' : 'none';\n",
              "\n",
              "        async function convertToInteractive(key) {\n",
              "          const element = document.querySelector('#df-68f5b5f3-4f4e-4db3-b629-a6dabf5a939f');\n",
              "          const dataTable =\n",
              "            await google.colab.kernel.invokeFunction('convertToInteractive',\n",
              "                                                     [key], {});\n",
              "          if (!dataTable) return;\n",
              "\n",
              "          const docLinkHtml = 'Like what you see? Visit the ' +\n",
              "            '<a target=\"_blank\" href=https://colab.research.google.com/notebooks/data_table.ipynb>data table notebook</a>'\n",
              "            + ' to learn more about interactive tables.';\n",
              "          element.innerHTML = '';\n",
              "          dataTable['output_type'] = 'display_data';\n",
              "          await google.colab.output.renderOutput(dataTable, element);\n",
              "          const docLink = document.createElement('div');\n",
              "          docLink.innerHTML = docLinkHtml;\n",
              "          element.appendChild(docLink);\n",
              "        }\n",
              "      </script>\n",
              "    </div>\n",
              "  </div>\n",
              "  "
            ]
          },
          "metadata": {},
          "execution_count": 97
        }
      ]
    },
    {
      "cell_type": "code",
      "source": [
        "# # plotting\n",
        "plt.figure(figsize=(16,6))\n",
        "\n",
        "param_grid = {'learning_rate': [0.01,0.1,0.5,1,10], \n",
        "             'subsample': [0.3, 0.6, 0.9,1]} \n",
        "\n",
        "\n",
        "for n, subsample in enumerate(param_grid['subsample']):\n",
        "    \n",
        "\n",
        "    # subplot 1/n\n",
        "    plt.subplot(1,len(param_grid['subsample']), n+1)\n",
        "    df = cv_results[cv_results['param_subsample']==subsample]\n",
        "\n",
        "    plt.plot(df[\"param_learning_rate\"], df[\"mean_test_score\"])\n",
        "    plt.plot(df[\"param_learning_rate\"], df[\"mean_train_score\"])\n",
        "    plt.xlabel('learning_rate')\n",
        "    plt.ylabel('AUC')\n",
        "    plt.title(\"subsample={0}\".format(subsample))\n",
        "    plt.ylim([0.60, 1])\n",
        "    plt.legend(['test score', 'train score'], loc='upper left')\n",
        "    plt.xscale('log')"
      ],
      "metadata": {
        "colab": {
          "base_uri": "https://localhost:8080/",
          "height": 409
        },
        "id": "8INRs-lQOGTm",
        "outputId": "cc6aa5aa-6061-448d-de35-40bf80277e70"
      },
      "execution_count": 98,
      "outputs": [
        {
          "output_type": "display_data",
          "data": {
            "text/plain": [
              "<Figure size 1152x432 with 4 Axes>"
            ],
            "image/png": "[encoded data removed]"
          },
          "metadata": {
            "needs_background": "light"
          }
        }
      ]
    },
    {
      "cell_type": "code",
      "source": [
        "model_cv.best_params_"
      ],
      "metadata": {
        "colab": {
          "base_uri": "https://localhost:8080/"
        },
        "id": "hGJYXX2XOlMs",
        "outputId": "b22a564b-48ba-48da-964d-375295af064a"
      },
      "execution_count": 99,
      "outputs": [
        {
          "output_type": "execute_result",
          "data": {
            "text/plain": [
              "{'learning_rate': 1, 'subsample': 0.6}"
            ]
          },
          "metadata": {},
          "execution_count": 99
        }
      ]
    },
    {
      "cell_type": "code",
      "source": [
        "# chosen hyperparameters\n",
        "# 'objective':'binary:logistic' outputs probability rather than label, which we need for calculating auc\n",
        "params = {'learning_rate': 1,\n",
        "           \n",
        "          \n",
        "          'subsample':0.6,\n",
        "         'objective':'binary:logistic'}\n",
        "\n",
        "# fit model on training data\n",
        "xgb_imb_model = XGBClassifier(params = params)\n",
        "xgb_imb_model.fit(X_train, Y_train)"
      ],
      "metadata": {
        "colab": {
          "base_uri": "https://localhost:8080/"
        },
        "id": "iZkz0XY1Oqft",
        "outputId": "bd1f33a0-509c-4c81-f7cf-9e6376358c4a"
      },
      "execution_count": 100,
      "outputs": [
        {
          "output_type": "execute_result",
          "data": {
            "text/plain": [
              "XGBClassifier(params={'learning_rate': 1, 'objective': 'binary:logistic',\n",
              "                      'subsample': 0.6})"
            ]
          },
          "metadata": {},
          "execution_count": 100
        }
      ]
    },
    {
      "cell_type": "code",
      "source": [
        "# Predictions on the train set\n",
        "Y_train_pred = xgb_imb_model.predict(X_train)"
      ],
      "metadata": {
        "id": "xGZxkZf6Oxf0"
      },
      "execution_count": 101,
      "outputs": []
    },
    {
      "cell_type": "code",
      "source": [
        "# Confusion matrix\n",
        "confusion = confusion_matrix(Y_train, Y_train_pred)\n",
        "print(confusion)\n"
      ],
      "metadata": {
        "colab": {
          "base_uri": "https://localhost:8080/"
        },
        "id": "SpDoQhz2O6Oe",
        "outputId": "1f7b05cf-2f37-4349-82a7-0da400c701ce"
      },
      "execution_count": 102,
      "outputs": [
        {
          "output_type": "stream",
          "name": "stdout",
          "text": [
            "[[13440   399]\n",
            " [ 1839 12000]]\n"
          ]
        }
      ]
    },
    {
      "cell_type": "code",
      "source": [
        "TP = confusion[1,1] # true positive \n",
        "TN = confusion[0,0] # true negatives\n",
        "FP = confusion[0,1] # false positives\n",
        "FN = confusion[1,0] # false negatives"
      ],
      "metadata": {
        "id": "QktQZfIMJdka"
      },
      "execution_count": 103,
      "outputs": []
    },
    {
      "cell_type": "code",
      "source": [
        "# Accuracy\n",
        "print(\"Accuracy:-\",metrics.accuracy_score(Y_train, Y_train_pred))\n",
        "\n",
        "# Sensitivity\n",
        "print(\"Sensitivity:-\",TP / float(TP+FN))\n",
        "\n",
        "# Specificity\n",
        "print(\"Specificity:-\", TN / float(TN+FP))\n",
        "\n",
        "# F1 score\n",
        "print(\"F1-Score:-\", f1_score(Y_train, Y_train_pred))"
      ],
      "metadata": {
        "colab": {
          "base_uri": "https://localhost:8080/"
        },
        "outputId": "9ad589bc-e433-4201-abba-b563e35f6e83",
        "id": "UKVyYQyYJdkb"
      },
      "execution_count": 104,
      "outputs": [
        {
          "output_type": "stream",
          "name": "stdout",
          "text": [
            "Accuracy:- 0.9191415564708433\n",
            "Sensitivity:- 0.8671146759158899\n",
            "Specificity:- 0.9711684370257967\n",
            "F1-Score:- 0.9147038646238279\n"
          ]
        }
      ]
    },
    {
      "cell_type": "code",
      "source": [
        "Y_test_pred = xgb_imb_model.predict(X_test)"
      ],
      "metadata": {
        "id": "hh-yWdMs85CF"
      },
      "execution_count": 105,
      "outputs": []
    },
    {
      "cell_type": "code",
      "source": [
        "# Confusion matrix\n",
        "confusion = confusion_matrix(Y_test, Y_test_pred)\n",
        "print(confusion)\n"
      ],
      "metadata": {
        "colab": {
          "base_uri": "https://localhost:8080/"
        },
        "id": "ABX-sbTF84-p",
        "outputId": "bd4c3867-2a67-499b-9611-66e8379fcebc"
      },
      "execution_count": 106,
      "outputs": [
        {
          "output_type": "stream",
          "name": "stdout",
          "text": [
            "[[3351  107]\n",
            " [ 134   58]]\n"
          ]
        }
      ]
    },
    {
      "cell_type": "code",
      "source": [
        "TP = confusion[1,1] # true positive \n",
        "TN = confusion[0,0] # true negatives\n",
        "FP = confusion[0,1] # false positives\n",
        "FN = confusion[1,0] # false negatives"
      ],
      "metadata": {
        "id": "mfAwA7pvJi-F"
      },
      "execution_count": 107,
      "outputs": []
    },
    {
      "cell_type": "code",
      "source": [
        "# Accuracy\n",
        "print(\"Accuracy:-\",metrics.accuracy_score(Y_train, Y_train_pred))\n",
        "\n",
        "# Sensitivity\n",
        "print(\"Sensitivity:-\",TP / float(TP+FN))\n",
        "\n",
        "# Specificity\n",
        "print(\"Specificity:-\", TN / float(TN+FP))\n",
        "\n",
        "# F1 score\n",
        "print(\"F1-Score:-\", f1_score(Y_test, Y_test_pred))"
      ],
      "metadata": {
        "colab": {
          "base_uri": "https://localhost:8080/"
        },
        "outputId": "1e3b95c0-6b7e-45a9-ebce-c2f05062d39b",
        "id": "RJXee56gJi-F"
      },
      "execution_count": 108,
      "outputs": [
        {
          "output_type": "stream",
          "name": "stdout",
          "text": [
            "Accuracy:- 0.9191415564708433\n",
            "Sensitivity:- 0.3020833333333333\n",
            "Specificity:- 0.9690572585309427\n",
            "F1-Score:- 0.32492997198879553\n"
          ]
        }
      ]
    },
    {
      "cell_type": "markdown",
      "source": [
        "## LOGISTIC REGRESSION MODEL WITH K FOLD CROSS VALIDATION"
      ],
      "metadata": {
        "id": "3BqyIQy1R-_M"
      }
    },
    {
      "cell_type": "code",
      "source": [
        "# Importing scikit logistic regression module\n",
        "from sklearn.linear_model import LogisticRegression"
      ],
      "metadata": {
        "id": "UCHmB9uS_Bst"
      },
      "execution_count": 109,
      "outputs": []
    },
    {
      "cell_type": "code",
      "source": [
        "# Impoting metrics\n",
        "from sklearn import metrics\n",
        "from sklearn.metrics import confusion_matrix\n",
        "from sklearn.metrics import f1_score\n",
        "from sklearn.metrics import classification_report"
      ],
      "metadata": {
        "id": "LeTjaEll_BpA"
      },
      "execution_count": 110,
      "outputs": []
    },
    {
      "cell_type": "code",
      "source": [
        "# Importing libraries for cross validation\n",
        "from sklearn.model_selection import KFold\n",
        "from sklearn.model_selection import cross_val_score\n",
        "from sklearn.model_selection import GridSearchCV"
      ],
      "metadata": {
        "id": "0BrNSdEA_BlU"
      },
      "execution_count": 111,
      "outputs": []
    },
    {
      "cell_type": "code",
      "source": [
        "# Creating KFold object with 5 splits\n",
        "folds = KFold(n_splits=5, shuffle=True, random_state=4)\n",
        "\n",
        "# Specify params\n",
        "params = {\"C\": [0.001,0.05,0.01, 0.1, 1, 10, 100,150,250]}\n",
        "\n",
        "# Specifing score as recall as we are more focused on acheiving the higher sensitivity than the accuracy\n",
        "model_cv = GridSearchCV(estimator = LogisticRegression(),\n",
        "                        param_grid = params, \n",
        "                        scoring= 'roc_auc', \n",
        "                        cv = folds, \n",
        "                        verbose = 1,\n",
        "                        return_train_score=True) \n",
        "\n",
        "# Fit the model\n",
        "model_cv.fit(X_train, Y_train)"
      ],
      "metadata": {
        "colab": {
          "base_uri": "https://localhost:8080/"
        },
        "id": "tv8ROEjd_BiS",
        "outputId": "d9a6a4ad-7e89-4f40-db9e-59b7070ffaa4"
      },
      "execution_count": 112,
      "outputs": [
        {
          "output_type": "stream",
          "name": "stdout",
          "text": [
            "Fitting 5 folds for each of 9 candidates, totalling 45 fits\n"
          ]
        },
        {
          "output_type": "stream",
          "name": "stderr",
          "text": [
            "/usr/local/lib/python3.7/dist-packages/sklearn/linear_model/_logistic.py:818: ConvergenceWarning: lbfgs failed to converge (status=1):\n",
            "STOP: TOTAL NO. of ITERATIONS REACHED LIMIT.\n",
            "\n",
            "Increase the number of iterations (max_iter) or scale the data as shown in:\n",
            "    https://scikit-learn.org/stable/modules/preprocessing.html\n",
            "Please also refer to the documentation for alternative solver options:\n",
            "    https://scikit-learn.org/stable/modules/linear_model.html#logistic-regression\n",
            "  extra_warning_msg=_LOGISTIC_SOLVER_CONVERGENCE_MSG,\n",
            "/usr/local/lib/python3.7/dist-packages/sklearn/linear_model/_logistic.py:818: ConvergenceWarning: lbfgs failed to converge (status=1):\n",
            "STOP: TOTAL NO. of ITERATIONS REACHED LIMIT.\n",
            "\n",
            "Increase the number of iterations (max_iter) or scale the data as shown in:\n",
            "    https://scikit-learn.org/stable/modules/preprocessing.html\n",
            "Please also refer to the documentation for alternative solver options:\n",
            "    https://scikit-learn.org/stable/modules/linear_model.html#logistic-regression\n",
            "  extra_warning_msg=_LOGISTIC_SOLVER_CONVERGENCE_MSG,\n",
            "/usr/local/lib/python3.7/dist-packages/sklearn/linear_model/_logistic.py:818: ConvergenceWarning: lbfgs failed to converge (status=1):\n",
            "STOP: TOTAL NO. of ITERATIONS REACHED LIMIT.\n",
            "\n",
            "Increase the number of iterations (max_iter) or scale the data as shown in:\n",
            "    https://scikit-learn.org/stable/modules/preprocessing.html\n",
            "Please also refer to the documentation for alternative solver options:\n",
            "    https://scikit-learn.org/stable/modules/linear_model.html#logistic-regression\n",
            "  extra_warning_msg=_LOGISTIC_SOLVER_CONVERGENCE_MSG,\n",
            "/usr/local/lib/python3.7/dist-packages/sklearn/linear_model/_logistic.py:818: ConvergenceWarning: lbfgs failed to converge (status=1):\n",
            "STOP: TOTAL NO. of ITERATIONS REACHED LIMIT.\n",
            "\n",
            "Increase the number of iterations (max_iter) or scale the data as shown in:\n",
            "    https://scikit-learn.org/stable/modules/preprocessing.html\n",
            "Please also refer to the documentation for alternative solver options:\n",
            "    https://scikit-learn.org/stable/modules/linear_model.html#logistic-regression\n",
            "  extra_warning_msg=_LOGISTIC_SOLVER_CONVERGENCE_MSG,\n",
            "/usr/local/lib/python3.7/dist-packages/sklearn/linear_model/_logistic.py:818: ConvergenceWarning: lbfgs failed to converge (status=1):\n",
            "STOP: TOTAL NO. of ITERATIONS REACHED LIMIT.\n",
            "\n",
            "Increase the number of iterations (max_iter) or scale the data as shown in:\n",
            "    https://scikit-learn.org/stable/modules/preprocessing.html\n",
            "Please also refer to the documentation for alternative solver options:\n",
            "    https://scikit-learn.org/stable/modules/linear_model.html#logistic-regression\n",
            "  extra_warning_msg=_LOGISTIC_SOLVER_CONVERGENCE_MSG,\n",
            "/usr/local/lib/python3.7/dist-packages/sklearn/linear_model/_logistic.py:818: ConvergenceWarning: lbfgs failed to converge (status=1):\n",
            "STOP: TOTAL NO. of ITERATIONS REACHED LIMIT.\n",
            "\n",
            "Increase the number of iterations (max_iter) or scale the data as shown in:\n",
            "    https://scikit-learn.org/stable/modules/preprocessing.html\n",
            "Please also refer to the documentation for alternative solver options:\n",
            "    https://scikit-learn.org/stable/modules/linear_model.html#logistic-regression\n",
            "  extra_warning_msg=_LOGISTIC_SOLVER_CONVERGENCE_MSG,\n",
            "/usr/local/lib/python3.7/dist-packages/sklearn/linear_model/_logistic.py:818: ConvergenceWarning: lbfgs failed to converge (status=1):\n",
            "STOP: TOTAL NO. of ITERATIONS REACHED LIMIT.\n",
            "\n",
            "Increase the number of iterations (max_iter) or scale the data as shown in:\n",
            "    https://scikit-learn.org/stable/modules/preprocessing.html\n",
            "Please also refer to the documentation for alternative solver options:\n",
            "    https://scikit-learn.org/stable/modules/linear_model.html#logistic-regression\n",
            "  extra_warning_msg=_LOGISTIC_SOLVER_CONVERGENCE_MSG,\n",
            "/usr/local/lib/python3.7/dist-packages/sklearn/linear_model/_logistic.py:818: ConvergenceWarning: lbfgs failed to converge (status=1):\n",
            "STOP: TOTAL NO. of ITERATIONS REACHED LIMIT.\n",
            "\n",
            "Increase the number of iterations (max_iter) or scale the data as shown in:\n",
            "    https://scikit-learn.org/stable/modules/preprocessing.html\n",
            "Please also refer to the documentation for alternative solver options:\n",
            "    https://scikit-learn.org/stable/modules/linear_model.html#logistic-regression\n",
            "  extra_warning_msg=_LOGISTIC_SOLVER_CONVERGENCE_MSG,\n",
            "/usr/local/lib/python3.7/dist-packages/sklearn/linear_model/_logistic.py:818: ConvergenceWarning: lbfgs failed to converge (status=1):\n",
            "STOP: TOTAL NO. of ITERATIONS REACHED LIMIT.\n",
            "\n",
            "Increase the number of iterations (max_iter) or scale the data as shown in:\n",
            "    https://scikit-learn.org/stable/modules/preprocessing.html\n",
            "Please also refer to the documentation for alternative solver options:\n",
            "    https://scikit-learn.org/stable/modules/linear_model.html#logistic-regression\n",
            "  extra_warning_msg=_LOGISTIC_SOLVER_CONVERGENCE_MSG,\n",
            "/usr/local/lib/python3.7/dist-packages/sklearn/linear_model/_logistic.py:818: ConvergenceWarning: lbfgs failed to converge (status=1):\n",
            "STOP: TOTAL NO. of ITERATIONS REACHED LIMIT.\n",
            "\n",
            "Increase the number of iterations (max_iter) or scale the data as shown in:\n",
            "    https://scikit-learn.org/stable/modules/preprocessing.html\n",
            "Please also refer to the documentation for alternative solver options:\n",
            "    https://scikit-learn.org/stable/modules/linear_model.html#logistic-regression\n",
            "  extra_warning_msg=_LOGISTIC_SOLVER_CONVERGENCE_MSG,\n",
            "/usr/local/lib/python3.7/dist-packages/sklearn/linear_model/_logistic.py:818: ConvergenceWarning: lbfgs failed to converge (status=1):\n",
            "STOP: TOTAL NO. of ITERATIONS REACHED LIMIT.\n",
            "\n",
            "Increase the number of iterations (max_iter) or scale the data as shown in:\n",
            "    https://scikit-learn.org/stable/modules/preprocessing.html\n",
            "Please also refer to the documentation for alternative solver options:\n",
            "    https://scikit-learn.org/stable/modules/linear_model.html#logistic-regression\n",
            "  extra_warning_msg=_LOGISTIC_SOLVER_CONVERGENCE_MSG,\n",
            "/usr/local/lib/python3.7/dist-packages/sklearn/linear_model/_logistic.py:818: ConvergenceWarning: lbfgs failed to converge (status=1):\n",
            "STOP: TOTAL NO. of ITERATIONS REACHED LIMIT.\n",
            "\n",
            "Increase the number of iterations (max_iter) or scale the data as shown in:\n",
            "    https://scikit-learn.org/stable/modules/preprocessing.html\n",
            "Please also refer to the documentation for alternative solver options:\n",
            "    https://scikit-learn.org/stable/modules/linear_model.html#logistic-regression\n",
            "  extra_warning_msg=_LOGISTIC_SOLVER_CONVERGENCE_MSG,\n",
            "/usr/local/lib/python3.7/dist-packages/sklearn/linear_model/_logistic.py:818: ConvergenceWarning: lbfgs failed to converge (status=1):\n",
            "STOP: TOTAL NO. of ITERATIONS REACHED LIMIT.\n",
            "\n",
            "Increase the number of iterations (max_iter) or scale the data as shown in:\n",
            "    https://scikit-learn.org/stable/modules/preprocessing.html\n",
            "Please also refer to the documentation for alternative solver options:\n",
            "    https://scikit-learn.org/stable/modules/linear_model.html#logistic-regression\n",
            "  extra_warning_msg=_LOGISTIC_SOLVER_CONVERGENCE_MSG,\n",
            "/usr/local/lib/python3.7/dist-packages/sklearn/linear_model/_logistic.py:818: ConvergenceWarning: lbfgs failed to converge (status=1):\n",
            "STOP: TOTAL NO. of ITERATIONS REACHED LIMIT.\n",
            "\n",
            "Increase the number of iterations (max_iter) or scale the data as shown in:\n",
            "    https://scikit-learn.org/stable/modules/preprocessing.html\n",
            "Please also refer to the documentation for alternative solver options:\n",
            "    https://scikit-learn.org/stable/modules/linear_model.html#logistic-regression\n",
            "  extra_warning_msg=_LOGISTIC_SOLVER_CONVERGENCE_MSG,\n",
            "/usr/local/lib/python3.7/dist-packages/sklearn/linear_model/_logistic.py:818: ConvergenceWarning: lbfgs failed to converge (status=1):\n",
            "STOP: TOTAL NO. of ITERATIONS REACHED LIMIT.\n",
            "\n",
            "Increase the number of iterations (max_iter) or scale the data as shown in:\n",
            "    https://scikit-learn.org/stable/modules/preprocessing.html\n",
            "Please also refer to the documentation for alternative solver options:\n",
            "    https://scikit-learn.org/stable/modules/linear_model.html#logistic-regression\n",
            "  extra_warning_msg=_LOGISTIC_SOLVER_CONVERGENCE_MSG,\n",
            "/usr/local/lib/python3.7/dist-packages/sklearn/linear_model/_logistic.py:818: ConvergenceWarning: lbfgs failed to converge (status=1):\n",
            "STOP: TOTAL NO. of ITERATIONS REACHED LIMIT.\n",
            "\n",
            "Increase the number of iterations (max_iter) or scale the data as shown in:\n",
            "    https://scikit-learn.org/stable/modules/preprocessing.html\n",
            "Please also refer to the documentation for alternative solver options:\n",
            "    https://scikit-learn.org/stable/modules/linear_model.html#logistic-regression\n",
            "  extra_warning_msg=_LOGISTIC_SOLVER_CONVERGENCE_MSG,\n",
            "/usr/local/lib/python3.7/dist-packages/sklearn/linear_model/_logistic.py:818: ConvergenceWarning: lbfgs failed to converge (status=1):\n",
            "STOP: TOTAL NO. of ITERATIONS REACHED LIMIT.\n",
            "\n",
            "Increase the number of iterations (max_iter) or scale the data as shown in:\n",
            "    https://scikit-learn.org/stable/modules/preprocessing.html\n",
            "Please also refer to the documentation for alternative solver options:\n",
            "    https://scikit-learn.org/stable/modules/linear_model.html#logistic-regression\n",
            "  extra_warning_msg=_LOGISTIC_SOLVER_CONVERGENCE_MSG,\n",
            "/usr/local/lib/python3.7/dist-packages/sklearn/linear_model/_logistic.py:818: ConvergenceWarning: lbfgs failed to converge (status=1):\n",
            "STOP: TOTAL NO. of ITERATIONS REACHED LIMIT.\n",
            "\n",
            "Increase the number of iterations (max_iter) or scale the data as shown in:\n",
            "    https://scikit-learn.org/stable/modules/preprocessing.html\n",
            "Please also refer to the documentation for alternative solver options:\n",
            "    https://scikit-learn.org/stable/modules/linear_model.html#logistic-regression\n",
            "  extra_warning_msg=_LOGISTIC_SOLVER_CONVERGENCE_MSG,\n",
            "/usr/local/lib/python3.7/dist-packages/sklearn/linear_model/_logistic.py:818: ConvergenceWarning: lbfgs failed to converge (status=1):\n",
            "STOP: TOTAL NO. of ITERATIONS REACHED LIMIT.\n",
            "\n",
            "Increase the number of iterations (max_iter) or scale the data as shown in:\n",
            "    https://scikit-learn.org/stable/modules/preprocessing.html\n",
            "Please also refer to the documentation for alternative solver options:\n",
            "    https://scikit-learn.org/stable/modules/linear_model.html#logistic-regression\n",
            "  extra_warning_msg=_LOGISTIC_SOLVER_CONVERGENCE_MSG,\n",
            "/usr/local/lib/python3.7/dist-packages/sklearn/linear_model/_logistic.py:818: ConvergenceWarning: lbfgs failed to converge (status=1):\n",
            "STOP: TOTAL NO. of ITERATIONS REACHED LIMIT.\n",
            "\n",
            "Increase the number of iterations (max_iter) or scale the data as shown in:\n",
            "    https://scikit-learn.org/stable/modules/preprocessing.html\n",
            "Please also refer to the documentation for alternative solver options:\n",
            "    https://scikit-learn.org/stable/modules/linear_model.html#logistic-regression\n",
            "  extra_warning_msg=_LOGISTIC_SOLVER_CONVERGENCE_MSG,\n",
            "/usr/local/lib/python3.7/dist-packages/sklearn/linear_model/_logistic.py:818: ConvergenceWarning: lbfgs failed to converge (status=1):\n",
            "STOP: TOTAL NO. of ITERATIONS REACHED LIMIT.\n",
            "\n",
            "Increase the number of iterations (max_iter) or scale the data as shown in:\n",
            "    https://scikit-learn.org/stable/modules/preprocessing.html\n",
            "Please also refer to the documentation for alternative solver options:\n",
            "    https://scikit-learn.org/stable/modules/linear_model.html#logistic-regression\n",
            "  extra_warning_msg=_LOGISTIC_SOLVER_CONVERGENCE_MSG,\n",
            "/usr/local/lib/python3.7/dist-packages/sklearn/linear_model/_logistic.py:818: ConvergenceWarning: lbfgs failed to converge (status=1):\n",
            "STOP: TOTAL NO. of ITERATIONS REACHED LIMIT.\n",
            "\n",
            "Increase the number of iterations (max_iter) or scale the data as shown in:\n",
            "    https://scikit-learn.org/stable/modules/preprocessing.html\n",
            "Please also refer to the documentation for alternative solver options:\n",
            "    https://scikit-learn.org/stable/modules/linear_model.html#logistic-regression\n",
            "  extra_warning_msg=_LOGISTIC_SOLVER_CONVERGENCE_MSG,\n",
            "/usr/local/lib/python3.7/dist-packages/sklearn/linear_model/_logistic.py:818: ConvergenceWarning: lbfgs failed to converge (status=1):\n",
            "STOP: TOTAL NO. of ITERATIONS REACHED LIMIT.\n",
            "\n",
            "Increase the number of iterations (max_iter) or scale the data as shown in:\n",
            "    https://scikit-learn.org/stable/modules/preprocessing.html\n",
            "Please also refer to the documentation for alternative solver options:\n",
            "    https://scikit-learn.org/stable/modules/linear_model.html#logistic-regression\n",
            "  extra_warning_msg=_LOGISTIC_SOLVER_CONVERGENCE_MSG,\n",
            "/usr/local/lib/python3.7/dist-packages/sklearn/linear_model/_logistic.py:818: ConvergenceWarning: lbfgs failed to converge (status=1):\n",
            "STOP: TOTAL NO. of ITERATIONS REACHED LIMIT.\n",
            "\n",
            "Increase the number of iterations (max_iter) or scale the data as shown in:\n",
            "    https://scikit-learn.org/stable/modules/preprocessing.html\n",
            "Please also refer to the documentation for alternative solver options:\n",
            "    https://scikit-learn.org/stable/modules/linear_model.html#logistic-regression\n",
            "  extra_warning_msg=_LOGISTIC_SOLVER_CONVERGENCE_MSG,\n",
            "/usr/local/lib/python3.7/dist-packages/sklearn/linear_model/_logistic.py:818: ConvergenceWarning: lbfgs failed to converge (status=1):\n",
            "STOP: TOTAL NO. of ITERATIONS REACHED LIMIT.\n",
            "\n",
            "Increase the number of iterations (max_iter) or scale the data as shown in:\n",
            "    https://scikit-learn.org/stable/modules/preprocessing.html\n",
            "Please also refer to the documentation for alternative solver options:\n",
            "    https://scikit-learn.org/stable/modules/linear_model.html#logistic-regression\n",
            "  extra_warning_msg=_LOGISTIC_SOLVER_CONVERGENCE_MSG,\n",
            "/usr/local/lib/python3.7/dist-packages/sklearn/linear_model/_logistic.py:818: ConvergenceWarning: lbfgs failed to converge (status=1):\n",
            "STOP: TOTAL NO. of ITERATIONS REACHED LIMIT.\n",
            "\n",
            "Increase the number of iterations (max_iter) or scale the data as shown in:\n",
            "    https://scikit-learn.org/stable/modules/preprocessing.html\n",
            "Please also refer to the documentation for alternative solver options:\n",
            "    https://scikit-learn.org/stable/modules/linear_model.html#logistic-regression\n",
            "  extra_warning_msg=_LOGISTIC_SOLVER_CONVERGENCE_MSG,\n"
          ]
        },
        {
          "output_type": "execute_result",
          "data": {
            "text/plain": [
              "GridSearchCV(cv=KFold(n_splits=5, random_state=4, shuffle=True),\n",
              "             estimator=LogisticRegression(),\n",
              "             param_grid={'C': [0.001, 0.05, 0.01, 0.1, 1, 10, 100, 150, 250]},\n",
              "             return_train_score=True, scoring='roc_auc', verbose=1)"
            ]
          },
          "metadata": {},
          "execution_count": 112
        }
      ]
    },
    {
      "cell_type": "code",
      "source": [
        "# results of grid search CV\n",
        "cv_results = pd.DataFrame(model_cv.cv_results_)\n",
        "cv_results"
      ],
      "metadata": {
        "colab": {
          "base_uri": "https://localhost:8080/",
          "height": 564
        },
        "id": "tTTpWfUL_BeO",
        "outputId": "165a032f-fb53-4aed-a91b-d613a6982c4a"
      },
      "execution_count": 113,
      "outputs": [
        {
          "output_type": "execute_result",
          "data": {
            "text/plain": [
              "   mean_fit_time  std_fit_time  mean_score_time  std_score_time param_C  \\\n",
              "0       0.236930      0.014878         0.008191        0.000126   0.001   \n",
              "1       0.395546      0.013430         0.008070        0.000186    0.05   \n",
              "2       0.326288      0.017729         0.009099        0.002040    0.01   \n",
              "3       0.418920      0.042501         0.008041        0.000294     0.1   \n",
              "4       0.564042      0.015585         0.008705        0.001057       1   \n",
              "5       0.571067      0.020340         0.008179        0.000401      10   \n",
              "6       0.580280      0.022980         0.008084        0.000181     100   \n",
              "7       0.583931      0.020463         0.008142        0.000520     150   \n",
              "8       0.575336      0.025164         0.008781        0.000859     250   \n",
              "\n",
              "         params  split0_test_score  split1_test_score  split2_test_score  \\\n",
              "0  {'C': 0.001}           0.971485           0.975710           0.977675   \n",
              "1   {'C': 0.05}           0.976449           0.981410           0.981672   \n",
              "2   {'C': 0.01}           0.974184           0.978721           0.980144   \n",
              "3    {'C': 0.1}           0.977104           0.982156           0.982070   \n",
              "4      {'C': 1}           0.978557           0.983472           0.982892   \n",
              "5     {'C': 10}           0.979261           0.983606           0.983316   \n",
              "6    {'C': 100}           0.979488           0.983566           0.983295   \n",
              "7    {'C': 150}           0.979532           0.983571           0.983308   \n",
              "8    {'C': 250}           0.979477           0.983565           0.983289   \n",
              "\n",
              "   split3_test_score  ...  mean_test_score  std_test_score  rank_test_score  \\\n",
              "0           0.977015  ...         0.975639        0.002180                9   \n",
              "1           0.980347  ...         0.980078        0.001884                7   \n",
              "2           0.978555  ...         0.978034        0.002015                8   \n",
              "3           0.980897  ...         0.980666        0.001851                6   \n",
              "4           0.982006  ...         0.981803        0.001710                5   \n",
              "5           0.982398  ...         0.982162        0.001542                4   \n",
              "6           0.982459  ...         0.982207        0.001448                2   \n",
              "7           0.982473  ...         0.982222        0.001435                1   \n",
              "8           0.982439  ...         0.982201        0.001451                3   \n",
              "\n",
              "   split0_train_score  split1_train_score  split2_train_score  \\\n",
              "0            0.976749            0.975715            0.975358   \n",
              "1            0.981192            0.980018            0.980165   \n",
              "2            0.979099            0.977965            0.978060   \n",
              "3            0.981801            0.980618            0.980801   \n",
              "4            0.982988            0.981920            0.982039   \n",
              "5            0.983270            0.982292            0.982343   \n",
              "6            0.983293            0.982379            0.982392   \n",
              "7            0.983308            0.982373            0.982399   \n",
              "8            0.983302            0.982374            0.982394   \n",
              "\n",
              "   split3_train_score  split4_train_score  mean_train_score  std_train_score  \n",
              "0            0.975912            0.975539          0.975855         0.000483  \n",
              "1            0.980438            0.980283          0.980419         0.000410  \n",
              "2            0.978416            0.978076          0.978323         0.000417  \n",
              "3            0.981075            0.980923          0.981044         0.000407  \n",
              "4            0.982313            0.982234          0.982299         0.000372  \n",
              "5            0.982615            0.982601          0.982624         0.000348  \n",
              "6            0.982679            0.982687          0.982686         0.000331  \n",
              "7            0.982684            0.982669          0.982686         0.000337  \n",
              "8            0.982671            0.982683          0.982685         0.000335  \n",
              "\n",
              "[9 rows x 21 columns]"
            ],
            "text/html": [
              "\n",
              "  <div id=\"df-c5e28b85-cacd-4350-9b1f-ffd888ab1910\">\n",
              "    <div class=\"colab-df-container\">\n",
              "      <div>\n",
              "<style scoped>\n",
              "    .dataframe tbody tr th:only-of-type {\n",
              "        vertical-align: middle;\n",
              "    }\n",
              "\n",
              "    .dataframe tbody tr th {\n",
              "        vertical-align: top;\n",
              "    }\n",
              "\n",
              "    .dataframe thead th {\n",
              "        text-align: right;\n",
              "    }\n",
              "</style>\n",
              "<table border=\"1\" class=\"dataframe\">\n",
              "  <thead>\n",
              "    <tr style=\"text-align: right;\">\n",
              "      <th></th>\n",
              "      <th>mean_fit_time</th>\n",
              "      <th>std_fit_time</th>\n",
              "      <th>mean_score_time</th>\n",
              "      <th>std_score_time</th>\n",
              "      <th>param_C</th>\n",
              "      <th>params</th>\n",
              "      <th>split0_test_score</th>\n",
              "      <th>split1_test_score</th>\n",
              "      <th>split2_test_score</th>\n",
              "      <th>split3_test_score</th>\n",
              "      <th>...</th>\n",
              "      <th>mean_test_score</th>\n",
              "      <th>std_test_score</th>\n",
              "      <th>rank_test_score</th>\n",
              "      <th>split0_train_score</th>\n",
              "      <th>split1_train_score</th>\n",
              "      <th>split2_train_score</th>\n",
              "      <th>split3_train_score</th>\n",
              "      <th>split4_train_score</th>\n",
              "      <th>mean_train_score</th>\n",
              "      <th>std_train_score</th>\n",
              "    </tr>\n",
              "  </thead>\n",
              "  <tbody>\n",
              "    <tr>\n",
              "      <th>0</th>\n",
              "      <td>0.236930</td>\n",
              "      <td>0.014878</td>\n",
              "      <td>0.008191</td>\n",
              "      <td>0.000126</td>\n",
              "      <td>0.001</td>\n",
              "      <td>{'C': 0.001}</td>\n",
              "      <td>0.971485</td>\n",
              "      <td>0.975710</td>\n",
              "      <td>0.977675</td>\n",
              "      <td>0.977015</td>\n",
              "      <td>...</td>\n",
              "      <td>0.975639</td>\n",
              "      <td>0.002180</td>\n",
              "      <td>9</td>\n",
              "      <td>0.976749</td>\n",
              "      <td>0.975715</td>\n",
              "      <td>0.975358</td>\n",
              "      <td>0.975912</td>\n",
              "      <td>0.975539</td>\n",
              "      <td>0.975855</td>\n",
              "      <td>0.000483</td>\n",
              "    </tr>\n",
              "    <tr>\n",
              "      <th>1</th>\n",
              "      <td>0.395546</td>\n",
              "      <td>0.013430</td>\n",
              "      <td>0.008070</td>\n",
              "      <td>0.000186</td>\n",
              "      <td>0.05</td>\n",
              "      <td>{'C': 0.05}</td>\n",
              "      <td>0.976449</td>\n",
              "      <td>0.981410</td>\n",
              "      <td>0.981672</td>\n",
              "      <td>0.980347</td>\n",
              "      <td>...</td>\n",
              "      <td>0.980078</td>\n",
              "      <td>0.001884</td>\n",
              "      <td>7</td>\n",
              "      <td>0.981192</td>\n",
              "      <td>0.980018</td>\n",
              "      <td>0.980165</td>\n",
              "      <td>0.980438</td>\n",
              "      <td>0.980283</td>\n",
              "      <td>0.980419</td>\n",
              "      <td>0.000410</td>\n",
              "    </tr>\n",
              "    <tr>\n",
              "      <th>2</th>\n",
              "      <td>0.326288</td>\n",
              "      <td>0.017729</td>\n",
              "      <td>0.009099</td>\n",
              "      <td>0.002040</td>\n",
              "      <td>0.01</td>\n",
              "      <td>{'C': 0.01}</td>\n",
              "      <td>0.974184</td>\n",
              "      <td>0.978721</td>\n",
              "      <td>0.980144</td>\n",
              "      <td>0.978555</td>\n",
              "      <td>...</td>\n",
              "      <td>0.978034</td>\n",
              "      <td>0.002015</td>\n",
              "      <td>8</td>\n",
              "      <td>0.979099</td>\n",
              "      <td>0.977965</td>\n",
              "      <td>0.978060</td>\n",
              "      <td>0.978416</td>\n",
              "      <td>0.978076</td>\n",
              "      <td>0.978323</td>\n",
              "      <td>0.000417</td>\n",
              "    </tr>\n",
              "    <tr>\n",
              "      <th>3</th>\n",
              "      <td>0.418920</td>\n",
              "      <td>0.042501</td>\n",
              "      <td>0.008041</td>\n",
              "      <td>0.000294</td>\n",
              "      <td>0.1</td>\n",
              "      <td>{'C': 0.1}</td>\n",
              "      <td>0.977104</td>\n",
              "      <td>0.982156</td>\n",
              "      <td>0.982070</td>\n",
              "      <td>0.980897</td>\n",
              "      <td>...</td>\n",
              "      <td>0.980666</td>\n",
              "      <td>0.001851</td>\n",
              "      <td>6</td>\n",
              "      <td>0.981801</td>\n",
              "      <td>0.980618</td>\n",
              "      <td>0.980801</td>\n",
              "      <td>0.981075</td>\n",
              "      <td>0.980923</td>\n",
              "      <td>0.981044</td>\n",
              "      <td>0.000407</td>\n",
              "    </tr>\n",
              "    <tr>\n",
              "      <th>4</th>\n",
              "      <td>0.564042</td>\n",
              "      <td>0.015585</td>\n",
              "      <td>0.008705</td>\n",
              "      <td>0.001057</td>\n",
              "      <td>1</td>\n",
              "      <td>{'C': 1}</td>\n",
              "      <td>0.978557</td>\n",
              "      <td>0.983472</td>\n",
              "      <td>0.982892</td>\n",
              "      <td>0.982006</td>\n",
              "      <td>...</td>\n",
              "      <td>0.981803</td>\n",
              "      <td>0.001710</td>\n",
              "      <td>5</td>\n",
              "      <td>0.982988</td>\n",
              "      <td>0.981920</td>\n",
              "      <td>0.982039</td>\n",
              "      <td>0.982313</td>\n",
              "      <td>0.982234</td>\n",
              "      <td>0.982299</td>\n",
              "      <td>0.000372</td>\n",
              "    </tr>\n",
              "    <tr>\n",
              "      <th>5</th>\n",
              "      <td>0.571067</td>\n",
              "      <td>0.020340</td>\n",
              "      <td>0.008179</td>\n",
              "      <td>0.000401</td>\n",
              "      <td>10</td>\n",
              "      <td>{'C': 10}</td>\n",
              "      <td>0.979261</td>\n",
              "      <td>0.983606</td>\n",
              "      <td>0.983316</td>\n",
              "      <td>0.982398</td>\n",
              "      <td>...</td>\n",
              "      <td>0.982162</td>\n",
              "      <td>0.001542</td>\n",
              "      <td>4</td>\n",
              "      <td>0.983270</td>\n",
              "      <td>0.982292</td>\n",
              "      <td>0.982343</td>\n",
              "      <td>0.982615</td>\n",
              "      <td>0.982601</td>\n",
              "      <td>0.982624</td>\n",
              "      <td>0.000348</td>\n",
              "    </tr>\n",
              "    <tr>\n",
              "      <th>6</th>\n",
              "      <td>0.580280</td>\n",
              "      <td>0.022980</td>\n",
              "      <td>0.008084</td>\n",
              "      <td>0.000181</td>\n",
              "      <td>100</td>\n",
              "      <td>{'C': 100}</td>\n",
              "      <td>0.979488</td>\n",
              "      <td>0.983566</td>\n",
              "      <td>0.983295</td>\n",
              "      <td>0.982459</td>\n",
              "      <td>...</td>\n",
              "      <td>0.982207</td>\n",
              "      <td>0.001448</td>\n",
              "      <td>2</td>\n",
              "      <td>0.983293</td>\n",
              "      <td>0.982379</td>\n",
              "      <td>0.982392</td>\n",
              "      <td>0.982679</td>\n",
              "      <td>0.982687</td>\n",
              "      <td>0.982686</td>\n",
              "      <td>0.000331</td>\n",
              "    </tr>\n",
              "    <tr>\n",
              "      <th>7</th>\n",
              "      <td>0.583931</td>\n",
              "      <td>0.020463</td>\n",
              "      <td>0.008142</td>\n",
              "      <td>0.000520</td>\n",
              "      <td>150</td>\n",
              "      <td>{'C': 150}</td>\n",
              "      <td>0.979532</td>\n",
              "      <td>0.983571</td>\n",
              "      <td>0.983308</td>\n",
              "      <td>0.982473</td>\n",
              "      <td>...</td>\n",
              "      <td>0.982222</td>\n",
              "      <td>0.001435</td>\n",
              "      <td>1</td>\n",
              "      <td>0.983308</td>\n",
              "      <td>0.982373</td>\n",
              "      <td>0.982399</td>\n",
              "      <td>0.982684</td>\n",
              "      <td>0.982669</td>\n",
              "      <td>0.982686</td>\n",
              "      <td>0.000337</td>\n",
              "    </tr>\n",
              "    <tr>\n",
              "      <th>8</th>\n",
              "      <td>0.575336</td>\n",
              "      <td>0.025164</td>\n",
              "      <td>0.008781</td>\n",
              "      <td>0.000859</td>\n",
              "      <td>250</td>\n",
              "      <td>{'C': 250}</td>\n",
              "      <td>0.979477</td>\n",
              "      <td>0.983565</td>\n",
              "      <td>0.983289</td>\n",
              "      <td>0.982439</td>\n",
              "      <td>...</td>\n",
              "      <td>0.982201</td>\n",
              "      <td>0.001451</td>\n",
              "      <td>3</td>\n",
              "      <td>0.983302</td>\n",
              "      <td>0.982374</td>\n",
              "      <td>0.982394</td>\n",
              "      <td>0.982671</td>\n",
              "      <td>0.982683</td>\n",
              "      <td>0.982685</td>\n",
              "      <td>0.000335</td>\n",
              "    </tr>\n",
              "  </tbody>\n",
              "</table>\n",
              "<p>9 rows × 21 columns</p>\n",
              "</div>\n",
              "      <button class=\"colab-df-convert\" onclick=\"convertToInteractive('df-c5e28b85-cacd-4350-9b1f-ffd888ab1910')\"\n",
              "              title=\"Convert this dataframe to an interactive table.\"\n",
              "              style=\"display:none;\">\n",
              "        \n",
              "  <svg xmlns=\"http://www.w3.org/2000/svg\" height=\"24px\"viewBox=\"0 0 24 24\"\n",
              "       width=\"24px\">\n",
              "    <path d=\"M0 0h24v24H0V0z\" fill=\"none\"/>\n",
              "    <path d=\"M18.56 5.44l.94 2.06.94-2.06 2.06-.94-2.06-.94-.94-2.06-.94 2.06-2.06.94zm-11 1L8.5 8.5l.94-2.06 2.06-.94-2.06-.94L8.5 2.5l-.94 2.06-2.06.94zm10 10l.94 2.06.94-2.06 2.06-.94-2.06-.94-.94-2.06-.94 2.06-2.06.94z\"/><path d=\"M17.41 7.96l-1.37-1.37c-.4-.4-.92-.59-1.43-.59-.52 0-1.04.2-1.43.59L10.3 9.45l-7.72 7.72c-.78.78-.78 2.05 0 2.83L4 21.41c.39.39.9.59 1.41.59.51 0 1.02-.2 1.41-.59l7.78-7.78 2.81-2.81c.8-.78.8-2.07 0-2.86zM5.41 20L4 18.59l7.72-7.72 1.47 1.35L5.41 20z\"/>\n",
              "  </svg>\n",
              "      </button>\n",
              "      \n",
              "  <style>\n",
              "    .colab-df-container {\n",
              "      display:flex;\n",
              "      flex-wrap:wrap;\n",
              "      gap: 12px;\n",
              "    }\n",
              "\n",
              "    .colab-df-convert {\n",
              "      background-color: #E8F0FE;\n",
              "      border: none;\n",
              "      border-radius: 50%;\n",
              "      cursor: pointer;\n",
              "      display: none;\n",
              "      fill: #1967D2;\n",
              "      height: 32px;\n",
              "      padding: 0 0 0 0;\n",
              "      width: 32px;\n",
              "    }\n",
              "\n",
              "    .colab-df-convert:hover {\n",
              "      background-color: #E2EBFA;\n",
              "      box-shadow: 0px 1px 2px rgba(60, 64, 67, 0.3), 0px 1px 3px 1px rgba(60, 64, 67, 0.15);\n",
              "      fill: #174EA6;\n",
              "    }\n",
              "\n",
              "    [theme=dark] .colab-df-convert {\n",
              "      background-color: #3B4455;\n",
              "      fill: #D2E3FC;\n",
              "    }\n",
              "\n",
              "    [theme=dark] .colab-df-convert:hover {\n",
              "      background-color: #434B5C;\n",
              "      box-shadow: 0px 1px 3px 1px rgba(0, 0, 0, 0.15);\n",
              "      filter: drop-shadow(0px 1px 2px rgba(0, 0, 0, 0.3));\n",
              "      fill: #FFFFFF;\n",
              "    }\n",
              "  </style>\n",
              "\n",
              "      <script>\n",
              "        const buttonEl =\n",
              "          document.querySelector('#df-c5e28b85-cacd-4350-9b1f-ffd888ab1910 button.colab-df-convert');\n",
              "        buttonEl.style.display =\n",
              "          google.colab.kernel.accessAllowed ? 'block' : 'none';\n",
              "\n",
              "        async function convertToInteractive(key) {\n",
              "          const element = document.querySelector('#df-c5e28b85-cacd-4350-9b1f-ffd888ab1910');\n",
              "          const dataTable =\n",
              "            await google.colab.kernel.invokeFunction('convertToInteractive',\n",
              "                                                     [key], {});\n",
              "          if (!dataTable) return;\n",
              "\n",
              "          const docLinkHtml = 'Like what you see? Visit the ' +\n",
              "            '<a target=\"_blank\" href=https://colab.research.google.com/notebooks/data_table.ipynb>data table notebook</a>'\n",
              "            + ' to learn more about interactive tables.';\n",
              "          element.innerHTML = '';\n",
              "          dataTable['output_type'] = 'display_data';\n",
              "          await google.colab.output.renderOutput(dataTable, element);\n",
              "          const docLink = document.createElement('div');\n",
              "          docLink.innerHTML = docLinkHtml;\n",
              "          element.appendChild(docLink);\n",
              "        }\n",
              "      </script>\n",
              "    </div>\n",
              "  </div>\n",
              "  "
            ]
          },
          "metadata": {},
          "execution_count": 113
        }
      ]
    },
    {
      "cell_type": "code",
      "source": [
        "# plot of C versus train and validation scores\n",
        "\n",
        "plt.figure(figsize=(8, 6))\n",
        "plt.plot(cv_results['param_C'], cv_results['mean_test_score'])\n",
        "plt.plot(cv_results['param_C'], cv_results['mean_train_score'])\n",
        "plt.xlabel('C')\n",
        "plt.ylabel('roc_auc')\n",
        "plt.legend(['test result', 'train result'], loc='upper left')\n",
        "plt.xscale('log')"
      ],
      "metadata": {
        "colab": {
          "base_uri": "https://localhost:8080/",
          "height": 394
        },
        "id": "aZxAWoHk_BaO",
        "outputId": "87dc1246-af1f-4e77-d121-94ed1d385fe6"
      },
      "execution_count": 114,
      "outputs": [
        {
          "output_type": "display_data",
          "data": {
            "text/plain": [
              "<Figure size 576x432 with 1 Axes>"
            ],
            "image/png": "[encoded data removed]"
          },
          "metadata": {
            "needs_background": "light"
          }
        }
      ]
    },
    {
      "cell_type": "code",
      "source": [
        "# Best score with best C\n",
        "best_score = model_cv.best_score_\n",
        "best_C = model_cv.best_params_['C']\n",
        "\n",
        "print(\" The highest test roc_auc is {0} at C = {1}\".format(best_score, best_C))"
      ],
      "metadata": {
        "colab": {
          "base_uri": "https://localhost:8080/"
        },
        "id": "0OD_z1om_BWf",
        "outputId": "e453369e-f009-4a7e-937f-a9bada539e30"
      },
      "execution_count": 115,
      "outputs": [
        {
          "output_type": "stream",
          "name": "stdout",
          "text": [
            " The highest test roc_auc is 0.9822219393804451 at C = 150\n"
          ]
        }
      ]
    },
    {
      "cell_type": "code",
      "source": [
        "# Instantiate the model with best C\n",
        "logistic_imb = LogisticRegression(C=150)"
      ],
      "metadata": {
        "id": "ROwBTfEX_BSq"
      },
      "execution_count": 116,
      "outputs": []
    },
    {
      "cell_type": "code",
      "source": [
        "# Fit the model on the train set\n",
        "logistic_imb_model = logistic_imb.fit(X_train, Y_train)"
      ],
      "metadata": {
        "id": "Mgl6ZIrf_11Y",
        "colab": {
          "base_uri": "https://localhost:8080/"
        },
        "outputId": "c2819fcf-3aa5-41ec-bb45-45cc13ffb9d1"
      },
      "execution_count": 117,
      "outputs": [
        {
          "output_type": "stream",
          "name": "stderr",
          "text": [
            "/usr/local/lib/python3.7/dist-packages/sklearn/linear_model/_logistic.py:818: ConvergenceWarning: lbfgs failed to converge (status=1):\n",
            "STOP: TOTAL NO. of ITERATIONS REACHED LIMIT.\n",
            "\n",
            "Increase the number of iterations (max_iter) or scale the data as shown in:\n",
            "    https://scikit-learn.org/stable/modules/preprocessing.html\n",
            "Please also refer to the documentation for alternative solver options:\n",
            "    https://scikit-learn.org/stable/modules/linear_model.html#logistic-regression\n",
            "  extra_warning_msg=_LOGISTIC_SOLVER_CONVERGENCE_MSG,\n"
          ]
        }
      ]
    },
    {
      "cell_type": "code",
      "source": [
        "# Predictions on the train set\n",
        "Y_train_pred = logistic_imb_model.predict(X_train)"
      ],
      "metadata": {
        "id": "mFYalbs7_8Ct"
      },
      "execution_count": 118,
      "outputs": []
    },
    {
      "cell_type": "code",
      "source": [
        "# Confusion matrix\n",
        "confusion = metrics.confusion_matrix(Y_train, Y_train_pred)\n",
        "print(confusion)"
      ],
      "metadata": {
        "colab": {
          "base_uri": "https://localhost:8080/"
        },
        "id": "pdK0EWXk__Ft",
        "outputId": "54b46162-190f-4e8c-ac57-1ddad6155aa4"
      },
      "execution_count": 119,
      "outputs": [
        {
          "output_type": "stream",
          "name": "stdout",
          "text": [
            "[[13547   292]\n",
            " [ 1412 12427]]\n"
          ]
        }
      ]
    },
    {
      "cell_type": "code",
      "source": [
        "TP = confusion[1,1] # true positive \n",
        "TN = confusion[0,0] # true negatives\n",
        "FP = confusion[0,1] # false positives\n",
        "FN = confusion[1,0] # false negatives"
      ],
      "metadata": {
        "id": "1EbwqVsMAMPA"
      },
      "execution_count": 120,
      "outputs": []
    },
    {
      "cell_type": "code",
      "source": [
        "# Accuracy\n",
        "print(\"Accuracy:-\",metrics.accuracy_score(Y_train, Y_train_pred))\n",
        "\n",
        "# Sensitivity\n",
        "print(\"Sensitivity:-\",TP / float(TP+FN))\n",
        "\n",
        "# Specificity\n",
        "print(\"Specificity:-\", TN / float(TN+FP))\n",
        "\n",
        "# F1 score\n",
        "print(\"F1-Score:-\", f1_score(Y_train, Y_train_pred))"
      ],
      "metadata": {
        "colab": {
          "base_uri": "https://localhost:8080/"
        },
        "id": "qyEKkIBdAR10",
        "outputId": "a93c4560-d038-4b5d-e0b9-9e452b1bbe86"
      },
      "execution_count": 121,
      "outputs": [
        {
          "output_type": "stream",
          "name": "stdout",
          "text": [
            "Accuracy:- 0.9384348580099718\n",
            "Sensitivity:- 0.8979695064672303\n",
            "Specificity:- 0.9789002095527134\n",
            "F1-Score:- 0.9358385420588899\n"
          ]
        }
      ]
    },
    {
      "cell_type": "code",
      "source": [
        "# Predictions on the train set\n",
        "Y_test_pred = logistic_imb_model.predict(X_test)"
      ],
      "metadata": {
        "id": "hGYkW1IuRzzn"
      },
      "execution_count": 122,
      "outputs": []
    },
    {
      "cell_type": "code",
      "source": [
        "# Confusion matrix\n",
        "confusion = metrics.confusion_matrix(Y_test, Y_test_pred)\n",
        "print(confusion)"
      ],
      "metadata": {
        "colab": {
          "base_uri": "https://localhost:8080/"
        },
        "outputId": "78bd1ac4-2a57-43f1-fd77-9795e395f931",
        "id": "3we6vPraRzzo"
      },
      "execution_count": 123,
      "outputs": [
        {
          "output_type": "stream",
          "name": "stdout",
          "text": [
            "[[3381   77]\n",
            " [ 139   53]]\n"
          ]
        }
      ]
    },
    {
      "cell_type": "code",
      "source": [
        "TP = confusion[1,1] # true positive \n",
        "TN = confusion[0,0] # true negatives\n",
        "FP = confusion[0,1] # false positives\n",
        "FN = confusion[1,0] # false negatives"
      ],
      "metadata": {
        "id": "wIdBwbTLRzzo"
      },
      "execution_count": 124,
      "outputs": []
    },
    {
      "cell_type": "code",
      "source": [
        "# Accuracy\n",
        "print(\"Accuracy:-\",metrics.accuracy_score(Y_test, Y_test_pred))\n",
        "\n",
        "# Sensitivity\n",
        "print(\"Sensitivity:-\",TP / float(TP+FN))\n",
        "\n",
        "# Specificity\n",
        "print(\"Specificity:-\", TN / float(TN+FP))\n",
        "\n",
        "# F1 score\n",
        "print(\"F1-Score:-\", f1_score(Y_test, Y_test_pred))"
      ],
      "metadata": {
        "colab": {
          "base_uri": "https://localhost:8080/"
        },
        "outputId": "6c4d113d-053a-4021-f54d-adb358c515fd",
        "id": "UecCFnLtRzzo"
      },
      "execution_count": 125,
      "outputs": [
        {
          "output_type": "stream",
          "name": "stdout",
          "text": [
            "Accuracy:- 0.9408219178082192\n",
            "Sensitivity:- 0.2760416666666667\n",
            "Specificity:- 0.9777327935222672\n",
            "F1-Score:- 0.32919254658385094\n"
          ]
        }
      ]
    },
    {
      "cell_type": "markdown",
      "source": [
        "## **KNN MODEL**"
      ],
      "metadata": {
        "id": "bsBjMrtYRvzi"
      }
    },
    {
      "cell_type": "code",
      "source": [
        "# Import KNeighborsClassifier\n",
        "from sklearn.neighbors import KNeighborsClassifier\n",
        "\n",
        "#Setup arrays to store training and test accuracies\n",
        "neighbors = np.arange(1,20)\n",
        "train_accuracy =np.empty(len(neighbors))\n",
        "test_accuracy = np.empty(len(neighbors))\n",
        "\n",
        "for i,k in enumerate(neighbors):\n",
        "    # Setup a knn classifier with k neighbors\n",
        "    knn = KNeighborsClassifier(n_neighbors=k)\n",
        "    \n",
        "    # Fit the model\n",
        "    knn.fit(X_train, Y_train)\n",
        "    \n",
        "    # Compute accuracy on the training set\n",
        "    train_accuracy[i] = knn.score(X_train, Y_train)\n",
        "    \n",
        "    # Compute accuracy on the test set\n",
        "    test_accuracy[i] = knn.score(X_test, Y_test) "
      ],
      "metadata": {
        "id": "Owhe4bwPOmWl"
      },
      "execution_count": 126,
      "outputs": []
    },
    {
      "cell_type": "code",
      "source": [
        "# Generate plot\n",
        "plt.title('k-NN Varying number of neighbors')\n",
        "plt.plot(neighbors, test_accuracy, label='Testing Accuracy')\n",
        "plt.plot(neighbors, train_accuracy, label='Training accuracy')\n",
        "plt.legend()\n",
        "plt.xlabel('Number of neighbors')\n",
        "plt.ylabel('Accuracy')\n",
        "plt.show()"
      ],
      "metadata": {
        "colab": {
          "base_uri": "https://localhost:8080/",
          "height": 295
        },
        "id": "1qh6tl-yO_Pj",
        "outputId": "405018ec-5d2a-4d8a-d3e8-7ca1fa6fdbbd"
      },
      "execution_count": 127,
      "outputs": [
        {
          "output_type": "display_data",
          "data": {
            "text/plain": [
              "<Figure size 432x288 with 1 Axes>"
            ],
            "image/png": "[encoded data removed]"
          },
          "metadata": {
            "needs_background": "light"
          }
        }
      ]
    },
    {
      "cell_type": "code",
      "source": [
        "# Setup a knn classifier with k neighbors\n",
        "knn = KNeighborsClassifier(n_neighbors=2)"
      ],
      "metadata": {
        "id": "i3Md8rGhSFqZ"
      },
      "execution_count": 128,
      "outputs": []
    },
    {
      "cell_type": "code",
      "source": [
        "# Fit the model\n",
        "kn_model=knn.fit(X_train,Y_train)"
      ],
      "metadata": {
        "id": "OVVvYInXSORv"
      },
      "execution_count": 129,
      "outputs": []
    },
    {
      "cell_type": "code",
      "source": [
        "# Predictions on the train set\n",
        "Y_train_pred = kn_model.predict(X_train)"
      ],
      "metadata": {
        "id": "yuQrGucKPVwx"
      },
      "execution_count": 130,
      "outputs": []
    },
    {
      "cell_type": "code",
      "source": [
        "# Confusion matrix\n",
        "confusion = metrics.confusion_matrix(Y_train, Y_train_pred)\n",
        "print(confusion)"
      ],
      "metadata": {
        "colab": {
          "base_uri": "https://localhost:8080/"
        },
        "outputId": "754a1703-9246-4741-a34c-dfd3fa1c86a1",
        "id": "xUJEx47ePVwy"
      },
      "execution_count": 131,
      "outputs": [
        {
          "output_type": "stream",
          "name": "stdout",
          "text": [
            "[[13813    26]\n",
            " [ 1553 12286]]\n"
          ]
        }
      ]
    },
    {
      "cell_type": "code",
      "source": [
        "TP = confusion[1,1] # true positive \n",
        "TN = confusion[0,0] # true negatives\n",
        "FP = confusion[0,1] # false positives\n",
        "FN = confusion[1,0] # false negatives"
      ],
      "metadata": {
        "id": "FZlVJ_t6PVwy"
      },
      "execution_count": 132,
      "outputs": []
    },
    {
      "cell_type": "code",
      "source": [
        "# Accuracy\n",
        "print(\"Accuracy:-\",metrics.accuracy_score(Y_train, Y_train_pred))\n",
        "\n",
        "# Sensitivity\n",
        "print(\"Sensitivity:-\",TP / float(TP+FN))\n",
        "\n",
        "# Specificity\n",
        "print(\"Specificity:-\", TN / float(TN+FP))\n",
        "\n",
        "# F1 score\n",
        "print(\"F1-Score:-\", f1_score(Y_train, Y_train_pred))"
      ],
      "metadata": {
        "colab": {
          "base_uri": "https://localhost:8080/"
        },
        "outputId": "4e741967-448f-4caa-fbcc-d1c2bf93adfc",
        "id": "Kmfq7lrUPVwy"
      },
      "execution_count": 133,
      "outputs": [
        {
          "output_type": "stream",
          "name": "stdout",
          "text": [
            "Accuracy:- 0.9429510802803671\n",
            "Sensitivity:- 0.8877809090252186\n",
            "Specificity:- 0.9981212515355156\n",
            "F1-Score:- 0.9396198998126266\n"
          ]
        }
      ]
    },
    {
      "cell_type": "code",
      "source": [
        "# Predictions on the train set\n",
        "Y_test_pred = kn_model.predict(X_test)"
      ],
      "metadata": {
        "id": "fxMTe7c_RTfS"
      },
      "execution_count": 134,
      "outputs": []
    },
    {
      "cell_type": "code",
      "source": [
        "# Confusion matrix\n",
        "confusion = metrics.confusion_matrix(Y_test, Y_test_pred)\n",
        "print(confusion)"
      ],
      "metadata": {
        "colab": {
          "base_uri": "https://localhost:8080/"
        },
        "outputId": "7e03317a-aee7-4c40-a82a-efca5fc96536",
        "id": "eHWMEMMxRJ9O"
      },
      "execution_count": 135,
      "outputs": [
        {
          "output_type": "stream",
          "name": "stdout",
          "text": [
            "[[3439   19]\n",
            " [ 181   11]]\n"
          ]
        }
      ]
    },
    {
      "cell_type": "code",
      "source": [
        "TP = confusion[1,1] # true positive \n",
        "TN = confusion[0,0] # true negatives\n",
        "FP = confusion[0,1] # false positives\n",
        "FN = confusion[1,0] # false negatives"
      ],
      "metadata": {
        "id": "iqAGQ2ElRJ9O"
      },
      "execution_count": 136,
      "outputs": []
    },
    {
      "cell_type": "code",
      "source": [
        "# Accuracy\n",
        "print(\"Accuracy:-\",metrics.accuracy_score(Y_test, Y_test_pred))\n",
        "\n",
        "# Sensitivity\n",
        "print(\"Sensitivity:-\",TP / float(TP+FN))\n",
        "\n",
        "# Specificity\n",
        "print(\"Specificity:-\", TN / float(TN+FP))\n",
        "\n",
        "# F1 score\n",
        "print(\"F1-Score:-\", f1_score(Y_test, Y_test_pred))"
      ],
      "metadata": {
        "colab": {
          "base_uri": "https://localhost:8080/"
        },
        "outputId": "763b3837-a5c8-4645-d5d5-6d8c23ad74b8",
        "id": "dh96ApDjRJ9P"
      },
      "execution_count": 137,
      "outputs": [
        {
          "output_type": "stream",
          "name": "stdout",
          "text": [
            "Accuracy:- 0.9452054794520548\n",
            "Sensitivity:- 0.057291666666666664\n",
            "Specificity:- 0.9945054945054945\n",
            "F1-Score:- 0.09909909909909909\n"
          ]
        }
      ]
    }
  ],
  "metadata": {
    "colab": {
      "collapsed_sections": [],
      "name": "Final Customer Prediction.ipynb",
      "provenance": [],
      "authorship_tag": "ABX9TyN1YWiI7OI58Gy4UDA22d9q",
      "include_colab_link": true
    },
    "kernelspec": {
      "display_name": "Python 3",
      "name": "python3"
    },
    "language_info": {
      "name": "python"
    }
  },
  "nbformat": 4,
  "nbformat_minor": 0
}