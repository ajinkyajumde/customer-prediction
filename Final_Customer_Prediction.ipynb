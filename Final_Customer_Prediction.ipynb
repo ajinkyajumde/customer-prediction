{
  "cells": [
    {
      "cell_type": "markdown",
      "metadata": {
        "id": "view-in-github",
        "colab_type": "text"
      },
      "source": [
        "<a href=\"https://colab.research.google.com/github/ajinkyajumde/customer-prediction/blob/main/Final_Customer_Prediction.ipynb\" target=\"_parent\"><img src=\"https://colab.research.google.com/assets/colab-badge.svg\" alt=\"Open In Colab\"/></a>"
      ]
    },
    {
      "cell_type": "code",
      "execution_count": null,
      "metadata": {
        "id": "tzNkH4pPTGxz"
      },
      "outputs": [],
      "source": [
        "#importing all the neccessary libraries\n",
        "import pandas as pd\n",
        "import numpy as np\n",
        "import matplotlib.pyplot as plt\n",
        "import seaborn as sns\n",
        "\n",
        "from sklearn.model_selection import train_test_split\n",
        "from sklearn.model_selection import GridSearchCV\n",
        "from sklearn.model_selection import RandomizedSearchCV\n",
        "from sklearn.model_selection import train_test_split\n",
        "from sklearn import ensemble\n",
        "from statsmodels.stats.outliers_influence import variance_inflation_factor\n",
        "from google.colab import drive\n",
        "from datetime import datetime\n",
        "import datetime as dt\n",
        "from imblearn.over_sampling import ADASYN\n",
        "# Importing XGBoost\n",
        "from xgboost import XGBClassifier\n",
        "# Impoting metrics\n",
        "from sklearn import metrics\n",
        "from sklearn.metrics import confusion_matrix\n",
        "from sklearn.metrics import f1_score\n",
        "from sklearn.metrics import classification_report\n",
        "# Importing scikit logistic regression module\n",
        "from sklearn.linear_model import LogisticRegression\n",
        "# Impoting metrics\n",
        "from sklearn import metrics\n",
        "from sklearn.metrics import confusion_matrix\n",
        "from sklearn.metrics import f1_score\n",
        "from sklearn.metrics import classification_report\n",
        "# Importing libraries for cross validation\n",
        "from sklearn.model_selection import KFold\n",
        "from sklearn.model_selection import cross_val_score\n",
        "from sklearn.model_selection import GridSearchCV\n",
        "# Import KNeighborsClassifier\n",
        "from sklearn.neighbors import KNeighborsClassifier\n",
        "# Importing random forest classifier\n",
        "from sklearn.ensemble import RandomForestClassifier"
      ]
    },
    {
      "cell_type": "code",
      "execution_count": null,
      "metadata": {
        "id": "1foyqW2GTYaR",
        "colab": {
          "base_uri": "https://localhost:8080/"
        },
        "outputId": "ad94bc67-f91e-4a39-8011-4404229d2a57"
      },
      "outputs": [
        {
          "output_type": "stream",
          "name": "stdout",
          "text": [
            "Drive already mounted at /content/drive; to attempt to forcibly remount, call drive.mount(\"/content/drive\", force_remount=True).\n"
          ]
        }
      ],
      "source": [
        "#mounting the google drive for importing the csv files uploaded on the drive\n",
        "drive.mount('/content/drive')"
      ]
    },
    {
      "cell_type": "code",
      "execution_count": null,
      "metadata": {
        "id": "f4flj--6iCAb"
      },
      "outputs": [],
      "source": [
        "#assigning the neccessary path to create a dataframe for the pandas operation\n",
        "data='/content/drive/MyDrive/Almabetter projects/Customer prediction/train_wn75k28.csv'\n",
        "test_dataset=pd.read_csv(data)"
      ]
    },
    {
      "cell_type": "markdown",
      "source": [
        "## **DATA INSPECTION**"
      ],
      "metadata": {
        "id": "OCYAemvOGAmJ"
      }
    },
    {
      "cell_type": "code",
      "execution_count": null,
      "metadata": {
        "id": "98BpkLUhiOKt",
        "colab": {
          "base_uri": "https://localhost:8080/",
          "height": 270
        },
        "outputId": "acb24c7c-2cb5-426b-dd68-698f4fd802fb"
      },
      "outputs": [
        {
          "output_type": "execute_result",
          "data": {
            "text/plain": [
              "   id  created_at  campaign_var_1  campaign_var_2  products_purchased  \\\n",
              "0   1  2021-01-01               1               2                 2.0   \n",
              "1   2  2021-01-01               2               1                 2.0   \n",
              "2   3  2021-01-01               9               3                 3.0   \n",
              "3   4  2021-01-01               6               7                 2.0   \n",
              "4   5  2021-01-01               4               6                 NaN   \n",
              "\n",
              "  signup_date  user_activity_var_1  user_activity_var_2  user_activity_var_3  \\\n",
              "0  2020-09-24                    0                    0                    0   \n",
              "1  2020-09-19                    1                    0                    1   \n",
              "2  2021-08-11                    1                    0                    0   \n",
              "3  2017-10-04                    0                    0                    0   \n",
              "4  2020-06-08                    0                    0                    0   \n",
              "\n",
              "   user_activity_var_4  user_activity_var_5  user_activity_var_6  \\\n",
              "0                    0                    0                    0   \n",
              "1                    0                    0                    0   \n",
              "2                    0                    0                    0   \n",
              "3                    0                    0                    0   \n",
              "4                    0                    0                    0   \n",
              "\n",
              "   user_activity_var_7  user_activity_var_8  user_activity_var_9  \\\n",
              "0                    1                    1                    0   \n",
              "1                    1                    0                    0   \n",
              "2                    0                    0                    0   \n",
              "3                    0                    0                    0   \n",
              "4                    1                    0                    0   \n",
              "\n",
              "   user_activity_var_10  user_activity_var_11  user_activity_var_12  buy  \n",
              "0                     0                     0                     0    0  \n",
              "1                     0                     0                     0    0  \n",
              "2                     0                     0                     0    0  \n",
              "3                     0                     0                     0    0  \n",
              "4                     0                     1                     0    0  "
            ],
            "text/html": [
              "\n",
              "  <div id=\"df-f9df3a04-a9a8-4814-894e-579287dbfba2\">\n",
              "    <div class=\"colab-df-container\">\n",
              "      <div>\n",
              "<style scoped>\n",
              "    .dataframe tbody tr th:only-of-type {\n",
              "        vertical-align: middle;\n",
              "    }\n",
              "\n",
              "    .dataframe tbody tr th {\n",
              "        vertical-align: top;\n",
              "    }\n",
              "\n",
              "    .dataframe thead th {\n",
              "        text-align: right;\n",
              "    }\n",
              "</style>\n",
              "<table border=\"1\" class=\"dataframe\">\n",
              "  <thead>\n",
              "    <tr style=\"text-align: right;\">\n",
              "      <th></th>\n",
              "      <th>id</th>\n",
              "      <th>created_at</th>\n",
              "      <th>campaign_var_1</th>\n",
              "      <th>campaign_var_2</th>\n",
              "      <th>products_purchased</th>\n",
              "      <th>signup_date</th>\n",
              "      <th>user_activity_var_1</th>\n",
              "      <th>user_activity_var_2</th>\n",
              "      <th>user_activity_var_3</th>\n",
              "      <th>user_activity_var_4</th>\n",
              "      <th>user_activity_var_5</th>\n",
              "      <th>user_activity_var_6</th>\n",
              "      <th>user_activity_var_7</th>\n",
              "      <th>user_activity_var_8</th>\n",
              "      <th>user_activity_var_9</th>\n",
              "      <th>user_activity_var_10</th>\n",
              "      <th>user_activity_var_11</th>\n",
              "      <th>user_activity_var_12</th>\n",
              "      <th>buy</th>\n",
              "    </tr>\n",
              "  </thead>\n",
              "  <tbody>\n",
              "    <tr>\n",
              "      <th>0</th>\n",
              "      <td>1</td>\n",
              "      <td>2021-01-01</td>\n",
              "      <td>1</td>\n",
              "      <td>2</td>\n",
              "      <td>2.0</td>\n",
              "      <td>2020-09-24</td>\n",
              "      <td>0</td>\n",
              "      <td>0</td>\n",
              "      <td>0</td>\n",
              "      <td>0</td>\n",
              "      <td>0</td>\n",
              "      <td>0</td>\n",
              "      <td>1</td>\n",
              "      <td>1</td>\n",
              "      <td>0</td>\n",
              "      <td>0</td>\n",
              "      <td>0</td>\n",
              "      <td>0</td>\n",
              "      <td>0</td>\n",
              "    </tr>\n",
              "    <tr>\n",
              "      <th>1</th>\n",
              "      <td>2</td>\n",
              "      <td>2021-01-01</td>\n",
              "      <td>2</td>\n",
              "      <td>1</td>\n",
              "      <td>2.0</td>\n",
              "      <td>2020-09-19</td>\n",
              "      <td>1</td>\n",
              "      <td>0</td>\n",
              "      <td>1</td>\n",
              "      <td>0</td>\n",
              "      <td>0</td>\n",
              "      <td>0</td>\n",
              "      <td>1</td>\n",
              "      <td>0</td>\n",
              "      <td>0</td>\n",
              "      <td>0</td>\n",
              "      <td>0</td>\n",
              "      <td>0</td>\n",
              "      <td>0</td>\n",
              "    </tr>\n",
              "    <tr>\n",
              "      <th>2</th>\n",
              "      <td>3</td>\n",
              "      <td>2021-01-01</td>\n",
              "      <td>9</td>\n",
              "      <td>3</td>\n",
              "      <td>3.0</td>\n",
              "      <td>2021-08-11</td>\n",
              "      <td>1</td>\n",
              "      <td>0</td>\n",
              "      <td>0</td>\n",
              "      <td>0</td>\n",
              "      <td>0</td>\n",
              "      <td>0</td>\n",
              "      <td>0</td>\n",
              "      <td>0</td>\n",
              "      <td>0</td>\n",
              "      <td>0</td>\n",
              "      <td>0</td>\n",
              "      <td>0</td>\n",
              "      <td>0</td>\n",
              "    </tr>\n",
              "    <tr>\n",
              "      <th>3</th>\n",
              "      <td>4</td>\n",
              "      <td>2021-01-01</td>\n",
              "      <td>6</td>\n",
              "      <td>7</td>\n",
              "      <td>2.0</td>\n",
              "      <td>2017-10-04</td>\n",
              "      <td>0</td>\n",
              "      <td>0</td>\n",
              "      <td>0</td>\n",
              "      <td>0</td>\n",
              "      <td>0</td>\n",
              "      <td>0</td>\n",
              "      <td>0</td>\n",
              "      <td>0</td>\n",
              "      <td>0</td>\n",
              "      <td>0</td>\n",
              "      <td>0</td>\n",
              "      <td>0</td>\n",
              "      <td>0</td>\n",
              "    </tr>\n",
              "    <tr>\n",
              "      <th>4</th>\n",
              "      <td>5</td>\n",
              "      <td>2021-01-01</td>\n",
              "      <td>4</td>\n",
              "      <td>6</td>\n",
              "      <td>NaN</td>\n",
              "      <td>2020-06-08</td>\n",
              "      <td>0</td>\n",
              "      <td>0</td>\n",
              "      <td>0</td>\n",
              "      <td>0</td>\n",
              "      <td>0</td>\n",
              "      <td>0</td>\n",
              "      <td>1</td>\n",
              "      <td>0</td>\n",
              "      <td>0</td>\n",
              "      <td>0</td>\n",
              "      <td>1</td>\n",
              "      <td>0</td>\n",
              "      <td>0</td>\n",
              "    </tr>\n",
              "  </tbody>\n",
              "</table>\n",
              "</div>\n",
              "      <button class=\"colab-df-convert\" onclick=\"convertToInteractive('df-f9df3a04-a9a8-4814-894e-579287dbfba2')\"\n",
              "              title=\"Convert this dataframe to an interactive table.\"\n",
              "              style=\"display:none;\">\n",
              "        \n",
              "  <svg xmlns=\"http://www.w3.org/2000/svg\" height=\"24px\"viewBox=\"0 0 24 24\"\n",
              "       width=\"24px\">\n",
              "    <path d=\"M0 0h24v24H0V0z\" fill=\"none\"/>\n",
              "    <path d=\"M18.56 5.44l.94 2.06.94-2.06 2.06-.94-2.06-.94-.94-2.06-.94 2.06-2.06.94zm-11 1L8.5 8.5l.94-2.06 2.06-.94-2.06-.94L8.5 2.5l-.94 2.06-2.06.94zm10 10l.94 2.06.94-2.06 2.06-.94-2.06-.94-.94-2.06-.94 2.06-2.06.94z\"/><path d=\"M17.41 7.96l-1.37-1.37c-.4-.4-.92-.59-1.43-.59-.52 0-1.04.2-1.43.59L10.3 9.45l-7.72 7.72c-.78.78-.78 2.05 0 2.83L4 21.41c.39.39.9.59 1.41.59.51 0 1.02-.2 1.41-.59l7.78-7.78 2.81-2.81c.8-.78.8-2.07 0-2.86zM5.41 20L4 18.59l7.72-7.72 1.47 1.35L5.41 20z\"/>\n",
              "  </svg>\n",
              "      </button>\n",
              "      \n",
              "  <style>\n",
              "    .colab-df-container {\n",
              "      display:flex;\n",
              "      flex-wrap:wrap;\n",
              "      gap: 12px;\n",
              "    }\n",
              "\n",
              "    .colab-df-convert {\n",
              "      background-color: #E8F0FE;\n",
              "      border: none;\n",
              "      border-radius: 50%;\n",
              "      cursor: pointer;\n",
              "      display: none;\n",
              "      fill: #1967D2;\n",
              "      height: 32px;\n",
              "      padding: 0 0 0 0;\n",
              "      width: 32px;\n",
              "    }\n",
              "\n",
              "    .colab-df-convert:hover {\n",
              "      background-color: #E2EBFA;\n",
              "      box-shadow: 0px 1px 2px rgba(60, 64, 67, 0.3), 0px 1px 3px 1px rgba(60, 64, 67, 0.15);\n",
              "      fill: #174EA6;\n",
              "    }\n",
              "\n",
              "    [theme=dark] .colab-df-convert {\n",
              "      background-color: #3B4455;\n",
              "      fill: #D2E3FC;\n",
              "    }\n",
              "\n",
              "    [theme=dark] .colab-df-convert:hover {\n",
              "      background-color: #434B5C;\n",
              "      box-shadow: 0px 1px 3px 1px rgba(0, 0, 0, 0.15);\n",
              "      filter: drop-shadow(0px 1px 2px rgba(0, 0, 0, 0.3));\n",
              "      fill: #FFFFFF;\n",
              "    }\n",
              "  </style>\n",
              "\n",
              "      <script>\n",
              "        const buttonEl =\n",
              "          document.querySelector('#df-f9df3a04-a9a8-4814-894e-579287dbfba2 button.colab-df-convert');\n",
              "        buttonEl.style.display =\n",
              "          google.colab.kernel.accessAllowed ? 'block' : 'none';\n",
              "\n",
              "        async function convertToInteractive(key) {\n",
              "          const element = document.querySelector('#df-f9df3a04-a9a8-4814-894e-579287dbfba2');\n",
              "          const dataTable =\n",
              "            await google.colab.kernel.invokeFunction('convertToInteractive',\n",
              "                                                     [key], {});\n",
              "          if (!dataTable) return;\n",
              "\n",
              "          const docLinkHtml = 'Like what you see? Visit the ' +\n",
              "            '<a target=\"_blank\" href=https://colab.research.google.com/notebooks/data_table.ipynb>data table notebook</a>'\n",
              "            + ' to learn more about interactive tables.';\n",
              "          element.innerHTML = '';\n",
              "          dataTable['output_type'] = 'display_data';\n",
              "          await google.colab.output.renderOutput(dataTable, element);\n",
              "          const docLink = document.createElement('div');\n",
              "          docLink.innerHTML = docLinkHtml;\n",
              "          element.appendChild(docLink);\n",
              "        }\n",
              "      </script>\n",
              "    </div>\n",
              "  </div>\n",
              "  "
            ]
          },
          "metadata": {},
          "execution_count": 89
        }
      ],
      "source": [
        "test_dataset.head(5)"
      ]
    },
    {
      "cell_type": "code",
      "execution_count": null,
      "metadata": {
        "id": "6m8T30tniRJ6",
        "colab": {
          "base_uri": "https://localhost:8080/",
          "height": 270
        },
        "outputId": "23d35388-e576-4b5a-b2e8-e7c0e22c25c2"
      },
      "outputs": [
        {
          "output_type": "execute_result",
          "data": {
            "text/plain": [
              "          id  created_at  campaign_var_1  campaign_var_2  products_purchased  \\\n",
              "39156  39157  2021-12-31              11              11                 2.0   \n",
              "39157  39158  2021-12-31               3               9                 3.0   \n",
              "39158  39159  2021-12-31               8               7                 2.0   \n",
              "39159  39160  2021-12-31               7              12                 2.0   \n",
              "39160  39161  2021-12-31               2               5                 NaN   \n",
              "\n",
              "      signup_date  user_activity_var_1  user_activity_var_2  \\\n",
              "39156  2017-10-19                    1                    0   \n",
              "39157         NaN                    0                    0   \n",
              "39158         NaN                    1                    0   \n",
              "39159         NaN                    0                    0   \n",
              "39160  2019-08-11                    1                    0   \n",
              "\n",
              "       user_activity_var_3  user_activity_var_4  user_activity_var_5  \\\n",
              "39156                    0                    0                    1   \n",
              "39157                    0                    0                    0   \n",
              "39158                    0                    0                    1   \n",
              "39159                    0                    0                    0   \n",
              "39160                    0                    0                    0   \n",
              "\n",
              "       user_activity_var_6  user_activity_var_7  user_activity_var_8  \\\n",
              "39156                    1                    1                    0   \n",
              "39157                    0                    0                    0   \n",
              "39158                    0                    1                    0   \n",
              "39159                    1                    0                    0   \n",
              "39160                    0                    1                    0   \n",
              "\n",
              "       user_activity_var_9  user_activity_var_10  user_activity_var_11  \\\n",
              "39156                    0                     0                     0   \n",
              "39157                    0                     0                     0   \n",
              "39158                    0                     0                     0   \n",
              "39159                    0                     0                     1   \n",
              "39160                    0                     0                     0   \n",
              "\n",
              "       user_activity_var_12  buy  \n",
              "39156                     0    0  \n",
              "39157                     0    0  \n",
              "39158                     0    0  \n",
              "39159                     0    0  \n",
              "39160                     0    0  "
            ],
            "text/html": [
              "\n",
              "  <div id=\"df-f3c96f5d-ba80-4ac2-9d31-a16ddca07132\">\n",
              "    <div class=\"colab-df-container\">\n",
              "      <div>\n",
              "<style scoped>\n",
              "    .dataframe tbody tr th:only-of-type {\n",
              "        vertical-align: middle;\n",
              "    }\n",
              "\n",
              "    .dataframe tbody tr th {\n",
              "        vertical-align: top;\n",
              "    }\n",
              "\n",
              "    .dataframe thead th {\n",
              "        text-align: right;\n",
              "    }\n",
              "</style>\n",
              "<table border=\"1\" class=\"dataframe\">\n",
              "  <thead>\n",
              "    <tr style=\"text-align: right;\">\n",
              "      <th></th>\n",
              "      <th>id</th>\n",
              "      <th>created_at</th>\n",
              "      <th>campaign_var_1</th>\n",
              "      <th>campaign_var_2</th>\n",
              "      <th>products_purchased</th>\n",
              "      <th>signup_date</th>\n",
              "      <th>user_activity_var_1</th>\n",
              "      <th>user_activity_var_2</th>\n",
              "      <th>user_activity_var_3</th>\n",
              "      <th>user_activity_var_4</th>\n",
              "      <th>user_activity_var_5</th>\n",
              "      <th>user_activity_var_6</th>\n",
              "      <th>user_activity_var_7</th>\n",
              "      <th>user_activity_var_8</th>\n",
              "      <th>user_activity_var_9</th>\n",
              "      <th>user_activity_var_10</th>\n",
              "      <th>user_activity_var_11</th>\n",
              "      <th>user_activity_var_12</th>\n",
              "      <th>buy</th>\n",
              "    </tr>\n",
              "  </thead>\n",
              "  <tbody>\n",
              "    <tr>\n",
              "      <th>39156</th>\n",
              "      <td>39157</td>\n",
              "      <td>2021-12-31</td>\n",
              "      <td>11</td>\n",
              "      <td>11</td>\n",
              "      <td>2.0</td>\n",
              "      <td>2017-10-19</td>\n",
              "      <td>1</td>\n",
              "      <td>0</td>\n",
              "      <td>0</td>\n",
              "      <td>0</td>\n",
              "      <td>1</td>\n",
              "      <td>1</td>\n",
              "      <td>1</td>\n",
              "      <td>0</td>\n",
              "      <td>0</td>\n",
              "      <td>0</td>\n",
              "      <td>0</td>\n",
              "      <td>0</td>\n",
              "      <td>0</td>\n",
              "    </tr>\n",
              "    <tr>\n",
              "      <th>39157</th>\n",
              "      <td>39158</td>\n",
              "      <td>2021-12-31</td>\n",
              "      <td>3</td>\n",
              "      <td>9</td>\n",
              "      <td>3.0</td>\n",
              "      <td>NaN</td>\n",
              "      <td>0</td>\n",
              "      <td>0</td>\n",
              "      <td>0</td>\n",
              "      <td>0</td>\n",
              "      <td>0</td>\n",
              "      <td>0</td>\n",
              "      <td>0</td>\n",
              "      <td>0</td>\n",
              "      <td>0</td>\n",
              "      <td>0</td>\n",
              "      <td>0</td>\n",
              "      <td>0</td>\n",
              "      <td>0</td>\n",
              "    </tr>\n",
              "    <tr>\n",
              "      <th>39158</th>\n",
              "      <td>39159</td>\n",
              "      <td>2021-12-31</td>\n",
              "      <td>8</td>\n",
              "      <td>7</td>\n",
              "      <td>2.0</td>\n",
              "      <td>NaN</td>\n",
              "      <td>1</td>\n",
              "      <td>0</td>\n",
              "      <td>0</td>\n",
              "      <td>0</td>\n",
              "      <td>1</td>\n",
              "      <td>0</td>\n",
              "      <td>1</td>\n",
              "      <td>0</td>\n",
              "      <td>0</td>\n",
              "      <td>0</td>\n",
              "      <td>0</td>\n",
              "      <td>0</td>\n",
              "      <td>0</td>\n",
              "    </tr>\n",
              "    <tr>\n",
              "      <th>39159</th>\n",
              "      <td>39160</td>\n",
              "      <td>2021-12-31</td>\n",
              "      <td>7</td>\n",
              "      <td>12</td>\n",
              "      <td>2.0</td>\n",
              "      <td>NaN</td>\n",
              "      <td>0</td>\n",
              "      <td>0</td>\n",
              "      <td>0</td>\n",
              "      <td>0</td>\n",
              "      <td>0</td>\n",
              "      <td>1</td>\n",
              "      <td>0</td>\n",
              "      <td>0</td>\n",
              "      <td>0</td>\n",
              "      <td>0</td>\n",
              "      <td>1</td>\n",
              "      <td>0</td>\n",
              "      <td>0</td>\n",
              "    </tr>\n",
              "    <tr>\n",
              "      <th>39160</th>\n",
              "      <td>39161</td>\n",
              "      <td>2021-12-31</td>\n",
              "      <td>2</td>\n",
              "      <td>5</td>\n",
              "      <td>NaN</td>\n",
              "      <td>2019-08-11</td>\n",
              "      <td>1</td>\n",
              "      <td>0</td>\n",
              "      <td>0</td>\n",
              "      <td>0</td>\n",
              "      <td>0</td>\n",
              "      <td>0</td>\n",
              "      <td>1</td>\n",
              "      <td>0</td>\n",
              "      <td>0</td>\n",
              "      <td>0</td>\n",
              "      <td>0</td>\n",
              "      <td>0</td>\n",
              "      <td>0</td>\n",
              "    </tr>\n",
              "  </tbody>\n",
              "</table>\n",
              "</div>\n",
              "      <button class=\"colab-df-convert\" onclick=\"convertToInteractive('df-f3c96f5d-ba80-4ac2-9d31-a16ddca07132')\"\n",
              "              title=\"Convert this dataframe to an interactive table.\"\n",
              "              style=\"display:none;\">\n",
              "        \n",
              "  <svg xmlns=\"http://www.w3.org/2000/svg\" height=\"24px\"viewBox=\"0 0 24 24\"\n",
              "       width=\"24px\">\n",
              "    <path d=\"M0 0h24v24H0V0z\" fill=\"none\"/>\n",
              "    <path d=\"M18.56 5.44l.94 2.06.94-2.06 2.06-.94-2.06-.94-.94-2.06-.94 2.06-2.06.94zm-11 1L8.5 8.5l.94-2.06 2.06-.94-2.06-.94L8.5 2.5l-.94 2.06-2.06.94zm10 10l.94 2.06.94-2.06 2.06-.94-2.06-.94-.94-2.06-.94 2.06-2.06.94z\"/><path d=\"M17.41 7.96l-1.37-1.37c-.4-.4-.92-.59-1.43-.59-.52 0-1.04.2-1.43.59L10.3 9.45l-7.72 7.72c-.78.78-.78 2.05 0 2.83L4 21.41c.39.39.9.59 1.41.59.51 0 1.02-.2 1.41-.59l7.78-7.78 2.81-2.81c.8-.78.8-2.07 0-2.86zM5.41 20L4 18.59l7.72-7.72 1.47 1.35L5.41 20z\"/>\n",
              "  </svg>\n",
              "      </button>\n",
              "      \n",
              "  <style>\n",
              "    .colab-df-container {\n",
              "      display:flex;\n",
              "      flex-wrap:wrap;\n",
              "      gap: 12px;\n",
              "    }\n",
              "\n",
              "    .colab-df-convert {\n",
              "      background-color: #E8F0FE;\n",
              "      border: none;\n",
              "      border-radius: 50%;\n",
              "      cursor: pointer;\n",
              "      display: none;\n",
              "      fill: #1967D2;\n",
              "      height: 32px;\n",
              "      padding: 0 0 0 0;\n",
              "      width: 32px;\n",
              "    }\n",
              "\n",
              "    .colab-df-convert:hover {\n",
              "      background-color: #E2EBFA;\n",
              "      box-shadow: 0px 1px 2px rgba(60, 64, 67, 0.3), 0px 1px 3px 1px rgba(60, 64, 67, 0.15);\n",
              "      fill: #174EA6;\n",
              "    }\n",
              "\n",
              "    [theme=dark] .colab-df-convert {\n",
              "      background-color: #3B4455;\n",
              "      fill: #D2E3FC;\n",
              "    }\n",
              "\n",
              "    [theme=dark] .colab-df-convert:hover {\n",
              "      background-color: #434B5C;\n",
              "      box-shadow: 0px 1px 3px 1px rgba(0, 0, 0, 0.15);\n",
              "      filter: drop-shadow(0px 1px 2px rgba(0, 0, 0, 0.3));\n",
              "      fill: #FFFFFF;\n",
              "    }\n",
              "  </style>\n",
              "\n",
              "      <script>\n",
              "        const buttonEl =\n",
              "          document.querySelector('#df-f3c96f5d-ba80-4ac2-9d31-a16ddca07132 button.colab-df-convert');\n",
              "        buttonEl.style.display =\n",
              "          google.colab.kernel.accessAllowed ? 'block' : 'none';\n",
              "\n",
              "        async function convertToInteractive(key) {\n",
              "          const element = document.querySelector('#df-f3c96f5d-ba80-4ac2-9d31-a16ddca07132');\n",
              "          const dataTable =\n",
              "            await google.colab.kernel.invokeFunction('convertToInteractive',\n",
              "                                                     [key], {});\n",
              "          if (!dataTable) return;\n",
              "\n",
              "          const docLinkHtml = 'Like what you see? Visit the ' +\n",
              "            '<a target=\"_blank\" href=https://colab.research.google.com/notebooks/data_table.ipynb>data table notebook</a>'\n",
              "            + ' to learn more about interactive tables.';\n",
              "          element.innerHTML = '';\n",
              "          dataTable['output_type'] = 'display_data';\n",
              "          await google.colab.output.renderOutput(dataTable, element);\n",
              "          const docLink = document.createElement('div');\n",
              "          docLink.innerHTML = docLinkHtml;\n",
              "          element.appendChild(docLink);\n",
              "        }\n",
              "      </script>\n",
              "    </div>\n",
              "  </div>\n",
              "  "
            ]
          },
          "metadata": {},
          "execution_count": 90
        }
      ],
      "source": [
        "test_dataset.tail(5)"
      ]
    },
    {
      "cell_type": "code",
      "execution_count": null,
      "metadata": {
        "id": "KW2UVf9qic5R",
        "colab": {
          "base_uri": "https://localhost:8080/",
          "height": 364
        },
        "outputId": "eef09354-45e5-4e0e-c504-2dac8d23fb0c"
      },
      "outputs": [
        {
          "output_type": "execute_result",
          "data": {
            "text/plain": [
              "                 id  campaign_var_1  campaign_var_2  products_purchased  \\\n",
              "count  39161.000000    39161.000000    39161.000000        18250.000000   \n",
              "mean   19581.000000        6.523812        6.452746            2.154137   \n",
              "std    11304.951283        3.472944        2.614296            0.779815   \n",
              "min        1.000000        1.000000        1.000000            1.000000   \n",
              "25%     9791.000000        4.000000        5.000000            2.000000   \n",
              "50%    19581.000000        6.000000        6.000000            2.000000   \n",
              "75%    29371.000000        9.000000        8.000000            3.000000   \n",
              "max    39161.000000       16.000000       15.000000            4.000000   \n",
              "\n",
              "       user_activity_var_1  user_activity_var_2  user_activity_var_3  \\\n",
              "count         39161.000000         39161.000000         39161.000000   \n",
              "mean              0.400092             0.006716             0.102832   \n",
              "std               0.509194             0.081676             0.303743   \n",
              "min               0.000000             0.000000             0.000000   \n",
              "25%               0.000000             0.000000             0.000000   \n",
              "50%               0.000000             0.000000             0.000000   \n",
              "75%               1.000000             0.000000             0.000000   \n",
              "max               3.000000             1.000000             1.000000   \n",
              "\n",
              "       user_activity_var_4  user_activity_var_5  user_activity_var_6  \\\n",
              "count         39161.000000         39161.000000         39161.000000   \n",
              "mean              0.011465             0.151503             0.499834   \n",
              "std               0.106463             0.359681             0.558166   \n",
              "min               0.000000             0.000000             0.000000   \n",
              "25%               0.000000             0.000000             0.000000   \n",
              "50%               0.000000             0.000000             0.000000   \n",
              "75%               0.000000             0.000000             1.000000   \n",
              "max               1.000000             2.000000             3.000000   \n",
              "\n",
              "       user_activity_var_7  user_activity_var_8  user_activity_var_9  \\\n",
              "count         39161.000000         39161.000000         39161.000000   \n",
              "mean              0.286612             0.174434             0.011440   \n",
              "std               0.455784             0.379689             0.106346   \n",
              "min               0.000000             0.000000             0.000000   \n",
              "25%               0.000000             0.000000             0.000000   \n",
              "50%               0.000000             0.000000             0.000000   \n",
              "75%               1.000000             0.000000             0.000000   \n",
              "max               2.000000             2.000000             1.000000   \n",
              "\n",
              "       user_activity_var_10  user_activity_var_11  user_activity_var_12  \\\n",
              "count          39161.000000          39161.000000          39161.000000   \n",
              "mean               0.000383              0.218942              0.000562   \n",
              "std                0.019568              0.431544              0.023696   \n",
              "min                0.000000              0.000000              0.000000   \n",
              "25%                0.000000              0.000000              0.000000   \n",
              "50%                0.000000              0.000000              0.000000   \n",
              "75%                0.000000              0.000000              0.000000   \n",
              "max                1.000000              4.000000              1.000000   \n",
              "\n",
              "                buy  \n",
              "count  39161.000000  \n",
              "mean       0.051020  \n",
              "std        0.220042  \n",
              "min        0.000000  \n",
              "25%        0.000000  \n",
              "50%        0.000000  \n",
              "75%        0.000000  \n",
              "max        1.000000  "
            ],
            "text/html": [
              "\n",
              "  <div id=\"df-d81acd59-b546-497b-8302-e37d869a8aea\">\n",
              "    <div class=\"colab-df-container\">\n",
              "      <div>\n",
              "<style scoped>\n",
              "    .dataframe tbody tr th:only-of-type {\n",
              "        vertical-align: middle;\n",
              "    }\n",
              "\n",
              "    .dataframe tbody tr th {\n",
              "        vertical-align: top;\n",
              "    }\n",
              "\n",
              "    .dataframe thead th {\n",
              "        text-align: right;\n",
              "    }\n",
              "</style>\n",
              "<table border=\"1\" class=\"dataframe\">\n",
              "  <thead>\n",
              "    <tr style=\"text-align: right;\">\n",
              "      <th></th>\n",
              "      <th>id</th>\n",
              "      <th>campaign_var_1</th>\n",
              "      <th>campaign_var_2</th>\n",
              "      <th>products_purchased</th>\n",
              "      <th>user_activity_var_1</th>\n",
              "      <th>user_activity_var_2</th>\n",
              "      <th>user_activity_var_3</th>\n",
              "      <th>user_activity_var_4</th>\n",
              "      <th>user_activity_var_5</th>\n",
              "      <th>user_activity_var_6</th>\n",
              "      <th>user_activity_var_7</th>\n",
              "      <th>user_activity_var_8</th>\n",
              "      <th>user_activity_var_9</th>\n",
              "      <th>user_activity_var_10</th>\n",
              "      <th>user_activity_var_11</th>\n",
              "      <th>user_activity_var_12</th>\n",
              "      <th>buy</th>\n",
              "    </tr>\n",
              "  </thead>\n",
              "  <tbody>\n",
              "    <tr>\n",
              "      <th>count</th>\n",
              "      <td>39161.000000</td>\n",
              "      <td>39161.000000</td>\n",
              "      <td>39161.000000</td>\n",
              "      <td>18250.000000</td>\n",
              "      <td>39161.000000</td>\n",
              "      <td>39161.000000</td>\n",
              "      <td>39161.000000</td>\n",
              "      <td>39161.000000</td>\n",
              "      <td>39161.000000</td>\n",
              "      <td>39161.000000</td>\n",
              "      <td>39161.000000</td>\n",
              "      <td>39161.000000</td>\n",
              "      <td>39161.000000</td>\n",
              "      <td>39161.000000</td>\n",
              "      <td>39161.000000</td>\n",
              "      <td>39161.000000</td>\n",
              "      <td>39161.000000</td>\n",
              "    </tr>\n",
              "    <tr>\n",
              "      <th>mean</th>\n",
              "      <td>19581.000000</td>\n",
              "      <td>6.523812</td>\n",
              "      <td>6.452746</td>\n",
              "      <td>2.154137</td>\n",
              "      <td>0.400092</td>\n",
              "      <td>0.006716</td>\n",
              "      <td>0.102832</td>\n",
              "      <td>0.011465</td>\n",
              "      <td>0.151503</td>\n",
              "      <td>0.499834</td>\n",
              "      <td>0.286612</td>\n",
              "      <td>0.174434</td>\n",
              "      <td>0.011440</td>\n",
              "      <td>0.000383</td>\n",
              "      <td>0.218942</td>\n",
              "      <td>0.000562</td>\n",
              "      <td>0.051020</td>\n",
              "    </tr>\n",
              "    <tr>\n",
              "      <th>std</th>\n",
              "      <td>11304.951283</td>\n",
              "      <td>3.472944</td>\n",
              "      <td>2.614296</td>\n",
              "      <td>0.779815</td>\n",
              "      <td>0.509194</td>\n",
              "      <td>0.081676</td>\n",
              "      <td>0.303743</td>\n",
              "      <td>0.106463</td>\n",
              "      <td>0.359681</td>\n",
              "      <td>0.558166</td>\n",
              "      <td>0.455784</td>\n",
              "      <td>0.379689</td>\n",
              "      <td>0.106346</td>\n",
              "      <td>0.019568</td>\n",
              "      <td>0.431544</td>\n",
              "      <td>0.023696</td>\n",
              "      <td>0.220042</td>\n",
              "    </tr>\n",
              "    <tr>\n",
              "      <th>min</th>\n",
              "      <td>1.000000</td>\n",
              "      <td>1.000000</td>\n",
              "      <td>1.000000</td>\n",
              "      <td>1.000000</td>\n",
              "      <td>0.000000</td>\n",
              "      <td>0.000000</td>\n",
              "      <td>0.000000</td>\n",
              "      <td>0.000000</td>\n",
              "      <td>0.000000</td>\n",
              "      <td>0.000000</td>\n",
              "      <td>0.000000</td>\n",
              "      <td>0.000000</td>\n",
              "      <td>0.000000</td>\n",
              "      <td>0.000000</td>\n",
              "      <td>0.000000</td>\n",
              "      <td>0.000000</td>\n",
              "      <td>0.000000</td>\n",
              "    </tr>\n",
              "    <tr>\n",
              "      <th>25%</th>\n",
              "      <td>9791.000000</td>\n",
              "      <td>4.000000</td>\n",
              "      <td>5.000000</td>\n",
              "      <td>2.000000</td>\n",
              "      <td>0.000000</td>\n",
              "      <td>0.000000</td>\n",
              "      <td>0.000000</td>\n",
              "      <td>0.000000</td>\n",
              "      <td>0.000000</td>\n",
              "      <td>0.000000</td>\n",
              "      <td>0.000000</td>\n",
              "      <td>0.000000</td>\n",
              "      <td>0.000000</td>\n",
              "      <td>0.000000</td>\n",
              "      <td>0.000000</td>\n",
              "      <td>0.000000</td>\n",
              "      <td>0.000000</td>\n",
              "    </tr>\n",
              "    <tr>\n",
              "      <th>50%</th>\n",
              "      <td>19581.000000</td>\n",
              "      <td>6.000000</td>\n",
              "      <td>6.000000</td>\n",
              "      <td>2.000000</td>\n",
              "      <td>0.000000</td>\n",
              "      <td>0.000000</td>\n",
              "      <td>0.000000</td>\n",
              "      <td>0.000000</td>\n",
              "      <td>0.000000</td>\n",
              "      <td>0.000000</td>\n",
              "      <td>0.000000</td>\n",
              "      <td>0.000000</td>\n",
              "      <td>0.000000</td>\n",
              "      <td>0.000000</td>\n",
              "      <td>0.000000</td>\n",
              "      <td>0.000000</td>\n",
              "      <td>0.000000</td>\n",
              "    </tr>\n",
              "    <tr>\n",
              "      <th>75%</th>\n",
              "      <td>29371.000000</td>\n",
              "      <td>9.000000</td>\n",
              "      <td>8.000000</td>\n",
              "      <td>3.000000</td>\n",
              "      <td>1.000000</td>\n",
              "      <td>0.000000</td>\n",
              "      <td>0.000000</td>\n",
              "      <td>0.000000</td>\n",
              "      <td>0.000000</td>\n",
              "      <td>1.000000</td>\n",
              "      <td>1.000000</td>\n",
              "      <td>0.000000</td>\n",
              "      <td>0.000000</td>\n",
              "      <td>0.000000</td>\n",
              "      <td>0.000000</td>\n",
              "      <td>0.000000</td>\n",
              "      <td>0.000000</td>\n",
              "    </tr>\n",
              "    <tr>\n",
              "      <th>max</th>\n",
              "      <td>39161.000000</td>\n",
              "      <td>16.000000</td>\n",
              "      <td>15.000000</td>\n",
              "      <td>4.000000</td>\n",
              "      <td>3.000000</td>\n",
              "      <td>1.000000</td>\n",
              "      <td>1.000000</td>\n",
              "      <td>1.000000</td>\n",
              "      <td>2.000000</td>\n",
              "      <td>3.000000</td>\n",
              "      <td>2.000000</td>\n",
              "      <td>2.000000</td>\n",
              "      <td>1.000000</td>\n",
              "      <td>1.000000</td>\n",
              "      <td>4.000000</td>\n",
              "      <td>1.000000</td>\n",
              "      <td>1.000000</td>\n",
              "    </tr>\n",
              "  </tbody>\n",
              "</table>\n",
              "</div>\n",
              "      <button class=\"colab-df-convert\" onclick=\"convertToInteractive('df-d81acd59-b546-497b-8302-e37d869a8aea')\"\n",
              "              title=\"Convert this dataframe to an interactive table.\"\n",
              "              style=\"display:none;\">\n",
              "        \n",
              "  <svg xmlns=\"http://www.w3.org/2000/svg\" height=\"24px\"viewBox=\"0 0 24 24\"\n",
              "       width=\"24px\">\n",
              "    <path d=\"M0 0h24v24H0V0z\" fill=\"none\"/>\n",
              "    <path d=\"M18.56 5.44l.94 2.06.94-2.06 2.06-.94-2.06-.94-.94-2.06-.94 2.06-2.06.94zm-11 1L8.5 8.5l.94-2.06 2.06-.94-2.06-.94L8.5 2.5l-.94 2.06-2.06.94zm10 10l.94 2.06.94-2.06 2.06-.94-2.06-.94-.94-2.06-.94 2.06-2.06.94z\"/><path d=\"M17.41 7.96l-1.37-1.37c-.4-.4-.92-.59-1.43-.59-.52 0-1.04.2-1.43.59L10.3 9.45l-7.72 7.72c-.78.78-.78 2.05 0 2.83L4 21.41c.39.39.9.59 1.41.59.51 0 1.02-.2 1.41-.59l7.78-7.78 2.81-2.81c.8-.78.8-2.07 0-2.86zM5.41 20L4 18.59l7.72-7.72 1.47 1.35L5.41 20z\"/>\n",
              "  </svg>\n",
              "      </button>\n",
              "      \n",
              "  <style>\n",
              "    .colab-df-container {\n",
              "      display:flex;\n",
              "      flex-wrap:wrap;\n",
              "      gap: 12px;\n",
              "    }\n",
              "\n",
              "    .colab-df-convert {\n",
              "      background-color: #E8F0FE;\n",
              "      border: none;\n",
              "      border-radius: 50%;\n",
              "      cursor: pointer;\n",
              "      display: none;\n",
              "      fill: #1967D2;\n",
              "      height: 32px;\n",
              "      padding: 0 0 0 0;\n",
              "      width: 32px;\n",
              "    }\n",
              "\n",
              "    .colab-df-convert:hover {\n",
              "      background-color: #E2EBFA;\n",
              "      box-shadow: 0px 1px 2px rgba(60, 64, 67, 0.3), 0px 1px 3px 1px rgba(60, 64, 67, 0.15);\n",
              "      fill: #174EA6;\n",
              "    }\n",
              "\n",
              "    [theme=dark] .colab-df-convert {\n",
              "      background-color: #3B4455;\n",
              "      fill: #D2E3FC;\n",
              "    }\n",
              "\n",
              "    [theme=dark] .colab-df-convert:hover {\n",
              "      background-color: #434B5C;\n",
              "      box-shadow: 0px 1px 3px 1px rgba(0, 0, 0, 0.15);\n",
              "      filter: drop-shadow(0px 1px 2px rgba(0, 0, 0, 0.3));\n",
              "      fill: #FFFFFF;\n",
              "    }\n",
              "  </style>\n",
              "\n",
              "      <script>\n",
              "        const buttonEl =\n",
              "          document.querySelector('#df-d81acd59-b546-497b-8302-e37d869a8aea button.colab-df-convert');\n",
              "        buttonEl.style.display =\n",
              "          google.colab.kernel.accessAllowed ? 'block' : 'none';\n",
              "\n",
              "        async function convertToInteractive(key) {\n",
              "          const element = document.querySelector('#df-d81acd59-b546-497b-8302-e37d869a8aea');\n",
              "          const dataTable =\n",
              "            await google.colab.kernel.invokeFunction('convertToInteractive',\n",
              "                                                     [key], {});\n",
              "          if (!dataTable) return;\n",
              "\n",
              "          const docLinkHtml = 'Like what you see? Visit the ' +\n",
              "            '<a target=\"_blank\" href=https://colab.research.google.com/notebooks/data_table.ipynb>data table notebook</a>'\n",
              "            + ' to learn more about interactive tables.';\n",
              "          element.innerHTML = '';\n",
              "          dataTable['output_type'] = 'display_data';\n",
              "          await google.colab.output.renderOutput(dataTable, element);\n",
              "          const docLink = document.createElement('div');\n",
              "          docLink.innerHTML = docLinkHtml;\n",
              "          element.appendChild(docLink);\n",
              "        }\n",
              "      </script>\n",
              "    </div>\n",
              "  </div>\n",
              "  "
            ]
          },
          "metadata": {},
          "execution_count": 91
        }
      ],
      "source": [
        "test_dataset.describe()"
      ]
    },
    {
      "cell_type": "code",
      "execution_count": null,
      "metadata": {
        "id": "Lhj45tEXil-6",
        "colab": {
          "base_uri": "https://localhost:8080/"
        },
        "outputId": "2f46bf24-c53e-4944-de25-25f286de681f"
      },
      "outputs": [
        {
          "output_type": "stream",
          "name": "stdout",
          "text": [
            "<class 'pandas.core.frame.DataFrame'>\n",
            "RangeIndex: 39161 entries, 0 to 39160\n",
            "Data columns (total 19 columns):\n",
            " #   Column                Non-Null Count  Dtype  \n",
            "---  ------                --------------  -----  \n",
            " 0   id                    39161 non-null  int64  \n",
            " 1   created_at            39161 non-null  object \n",
            " 2   campaign_var_1        39161 non-null  int64  \n",
            " 3   campaign_var_2        39161 non-null  int64  \n",
            " 4   products_purchased    18250 non-null  float64\n",
            " 5   signup_date           24048 non-null  object \n",
            " 6   user_activity_var_1   39161 non-null  int64  \n",
            " 7   user_activity_var_2   39161 non-null  int64  \n",
            " 8   user_activity_var_3   39161 non-null  int64  \n",
            " 9   user_activity_var_4   39161 non-null  int64  \n",
            " 10  user_activity_var_5   39161 non-null  int64  \n",
            " 11  user_activity_var_6   39161 non-null  int64  \n",
            " 12  user_activity_var_7   39161 non-null  int64  \n",
            " 13  user_activity_var_8   39161 non-null  int64  \n",
            " 14  user_activity_var_9   39161 non-null  int64  \n",
            " 15  user_activity_var_10  39161 non-null  int64  \n",
            " 16  user_activity_var_11  39161 non-null  int64  \n",
            " 17  user_activity_var_12  39161 non-null  int64  \n",
            " 18  buy                   39161 non-null  int64  \n",
            "dtypes: float64(1), int64(16), object(2)\n",
            "memory usage: 5.7+ MB\n"
          ]
        }
      ],
      "source": [
        "test_dataset.info()"
      ]
    },
    {
      "cell_type": "code",
      "execution_count": null,
      "metadata": {
        "id": "g0thTn0fjBYA"
      },
      "outputs": [],
      "source": [
        "test_dataset=test_dataset.drop(columns=['signup_date','id'],axis=1)"
      ]
    },
    {
      "cell_type": "code",
      "execution_count": null,
      "metadata": {
        "id": "d_JmBBp9iu51"
      },
      "outputs": [],
      "source": [
        "test_dataset=test_dataset.fillna(0)"
      ]
    },
    {
      "cell_type": "code",
      "execution_count": null,
      "metadata": {
        "id": "LNtvebjGi33V",
        "colab": {
          "base_uri": "https://localhost:8080/"
        },
        "outputId": "872de10a-8a6d-4a01-bf44-7d16dd6d9da6"
      },
      "outputs": [
        {
          "output_type": "stream",
          "name": "stdout",
          "text": [
            "<class 'pandas.core.frame.DataFrame'>\n",
            "RangeIndex: 39161 entries, 0 to 39160\n",
            "Data columns (total 17 columns):\n",
            " #   Column                Non-Null Count  Dtype  \n",
            "---  ------                --------------  -----  \n",
            " 0   created_at            39161 non-null  object \n",
            " 1   campaign_var_1        39161 non-null  int64  \n",
            " 2   campaign_var_2        39161 non-null  int64  \n",
            " 3   products_purchased    39161 non-null  float64\n",
            " 4   user_activity_var_1   39161 non-null  int64  \n",
            " 5   user_activity_var_2   39161 non-null  int64  \n",
            " 6   user_activity_var_3   39161 non-null  int64  \n",
            " 7   user_activity_var_4   39161 non-null  int64  \n",
            " 8   user_activity_var_5   39161 non-null  int64  \n",
            " 9   user_activity_var_6   39161 non-null  int64  \n",
            " 10  user_activity_var_7   39161 non-null  int64  \n",
            " 11  user_activity_var_8   39161 non-null  int64  \n",
            " 12  user_activity_var_9   39161 non-null  int64  \n",
            " 13  user_activity_var_10  39161 non-null  int64  \n",
            " 14  user_activity_var_11  39161 non-null  int64  \n",
            " 15  user_activity_var_12  39161 non-null  int64  \n",
            " 16  buy                   39161 non-null  int64  \n",
            "dtypes: float64(1), int64(15), object(1)\n",
            "memory usage: 5.1+ MB\n"
          ]
        }
      ],
      "source": [
        "test_dataset.info()"
      ]
    },
    {
      "cell_type": "code",
      "execution_count": null,
      "metadata": {
        "id": "o-D4nBnsjT1E",
        "colab": {
          "base_uri": "https://localhost:8080/"
        },
        "outputId": "8e30ac9d-7136-49fc-b9ae-221ff94db356"
      },
      "outputs": [
        {
          "output_type": "execute_result",
          "data": {
            "text/plain": [
              "0    37163\n",
              "1     1998\n",
              "Name: buy, dtype: int64"
            ]
          },
          "metadata": {},
          "execution_count": 96
        }
      ],
      "source": [
        "test_dataset['buy'].value_counts()"
      ]
    },
    {
      "cell_type": "code",
      "source": [
        "for i in list(test_dataset.describe()):\n",
        "  print(f'The Value count for {i} is','\\n')\n",
        "  print(test_dataset[i].value_counts())"
      ],
      "metadata": {
        "id": "MLAxZcX7gsgX",
        "colab": {
          "base_uri": "https://localhost:8080/"
        },
        "outputId": "462ee78a-9894-4126-e570-e68feacdc652"
      },
      "execution_count": null,
      "outputs": [
        {
          "output_type": "stream",
          "name": "stdout",
          "text": [
            "The Value count for campaign_var_1 is \n",
            "\n",
            "6     4061\n",
            "5     4060\n",
            "4     4018\n",
            "3     3784\n",
            "7     3756\n",
            "2     3486\n",
            "8     3407\n",
            "9     2866\n",
            "10    2392\n",
            "11    1873\n",
            "1     1593\n",
            "12    1455\n",
            "13    1059\n",
            "14     714\n",
            "15     456\n",
            "16     181\n",
            "Name: campaign_var_1, dtype: int64\n",
            "The Value count for campaign_var_2 is \n",
            "\n",
            "6     5744\n",
            "7     5472\n",
            "5     5250\n",
            "8     4690\n",
            "4     4213\n",
            "9     3537\n",
            "3     2883\n",
            "10    2298\n",
            "2     1788\n",
            "11    1410\n",
            "12     761\n",
            "1      589\n",
            "13     351\n",
            "14     151\n",
            "15      24\n",
            "Name: campaign_var_2, dtype: int64\n",
            "The Value count for products_purchased is \n",
            "\n",
            "0.0    20911\n",
            "2.0     8867\n",
            "3.0     5024\n",
            "1.0     3643\n",
            "4.0      716\n",
            "Name: products_purchased, dtype: int64\n",
            "The Value count for user_activity_var_1 is \n",
            "\n",
            "0    23869\n",
            "1    14917\n",
            "2      374\n",
            "3        1\n",
            "Name: user_activity_var_1, dtype: int64\n",
            "The Value count for user_activity_var_2 is \n",
            "\n",
            "0    38898\n",
            "1      263\n",
            "Name: user_activity_var_2, dtype: int64\n",
            "The Value count for user_activity_var_3 is \n",
            "\n",
            "0    35134\n",
            "1     4027\n",
            "Name: user_activity_var_3, dtype: int64\n",
            "The Value count for user_activity_var_4 is \n",
            "\n",
            "0    38712\n",
            "1      449\n",
            "Name: user_activity_var_4, dtype: int64\n",
            "The Value count for user_activity_var_5 is \n",
            "\n",
            "0    33244\n",
            "1     5901\n",
            "2       16\n",
            "Name: user_activity_var_5, dtype: int64\n",
            "The Value count for user_activity_var_6 is \n",
            "\n",
            "0    20777\n",
            "1    17209\n",
            "2     1160\n",
            "3       15\n",
            "Name: user_activity_var_6, dtype: int64\n",
            "The Value count for user_activity_var_7 is \n",
            "\n",
            "0    28001\n",
            "1    11096\n",
            "2       64\n",
            "Name: user_activity_var_7, dtype: int64\n",
            "The Value count for user_activity_var_8 is \n",
            "\n",
            "0    32333\n",
            "1     6825\n",
            "2        3\n",
            "Name: user_activity_var_8, dtype: int64\n",
            "The Value count for user_activity_var_9 is \n",
            "\n",
            "0    38713\n",
            "1      448\n",
            "Name: user_activity_var_9, dtype: int64\n",
            "The Value count for user_activity_var_10 is \n",
            "\n",
            "0    39146\n",
            "1       15\n",
            "Name: user_activity_var_10, dtype: int64\n",
            "The Value count for user_activity_var_11 is \n",
            "\n",
            "0    30859\n",
            "1     8055\n",
            "2      223\n",
            "3       23\n",
            "4        1\n",
            "Name: user_activity_var_11, dtype: int64\n",
            "The Value count for user_activity_var_12 is \n",
            "\n",
            "0    39139\n",
            "1       22\n",
            "Name: user_activity_var_12, dtype: int64\n",
            "The Value count for buy is \n",
            "\n",
            "0    37163\n",
            "1     1998\n",
            "Name: buy, dtype: int64\n"
          ]
        }
      ]
    },
    {
      "cell_type": "code",
      "source": [
        "test_dataset=test_dataset.drop(columns=['user_activity_var_2','user_activity_var_3','user_activity_var_4','user_activity_var_9','user_activity_var_10','user_activity_var_12'],axis=1)"
      ],
      "metadata": {
        "id": "rZ1czxeJijOk"
      },
      "execution_count": null,
      "outputs": []
    },
    {
      "cell_type": "markdown",
      "source": [
        "## **EXPLORATORY DATA ANALYSIS**"
      ],
      "metadata": {
        "id": "HNDcdaE9GHwd"
      }
    },
    {
      "cell_type": "code",
      "source": [
        "buyers=test_dataset[test_dataset['buy']==1]\n",
        "non_buyers=test_dataset[test_dataset['buy']==0]"
      ],
      "metadata": {
        "id": "qmV9SbBmRPlj"
      },
      "execution_count": null,
      "outputs": []
    },
    {
      "cell_type": "code",
      "source": [
        "# Distribution plot\n",
        "for i in list(test_dataset.describe()):\n",
        "   plt.figure(figsize=(8,5))\n",
        "   ax = sns.distplot(buyers[i],label='buy',hist=False)\n",
        "   ax = sns.distplot(non_buyers[i],label='didnt buy',hist=False)\n",
        "   ax.set(xlabel=i)\n",
        "plt.show()"
      ],
      "metadata": {
        "id": "iIEaDB9RP77q",
        "colab": {
          "base_uri": "https://localhost:8080/",
          "height": 1000
        },
        "outputId": "27799273-9579-4277-9604-81f98385a44e"
      },
      "execution_count": null,
      "outputs": [
        {
          "output_type": "stream",
          "name": "stderr",
          "text": [
            "/usr/local/lib/python3.7/dist-packages/seaborn/distributions.py:2619: FutureWarning: `distplot` is a deprecated function and will be removed in a future version. Please adapt your code to use either `displot` (a figure-level function with similar flexibility) or `kdeplot` (an axes-level function for kernel density plots).\n",
            "  warnings.warn(msg, FutureWarning)\n",
            "/usr/local/lib/python3.7/dist-packages/seaborn/distributions.py:2619: FutureWarning: `distplot` is a deprecated function and will be removed in a future version. Please adapt your code to use either `displot` (a figure-level function with similar flexibility) or `kdeplot` (an axes-level function for kernel density plots).\n",
            "  warnings.warn(msg, FutureWarning)\n",
            "/usr/local/lib/python3.7/dist-packages/seaborn/distributions.py:2619: FutureWarning: `distplot` is a deprecated function and will be removed in a future version. Please adapt your code to use either `displot` (a figure-level function with similar flexibility) or `kdeplot` (an axes-level function for kernel density plots).\n",
            "  warnings.warn(msg, FutureWarning)\n",
            "/usr/local/lib/python3.7/dist-packages/seaborn/distributions.py:2619: FutureWarning: `distplot` is a deprecated function and will be removed in a future version. Please adapt your code to use either `displot` (a figure-level function with similar flexibility) or `kdeplot` (an axes-level function for kernel density plots).\n",
            "  warnings.warn(msg, FutureWarning)\n",
            "/usr/local/lib/python3.7/dist-packages/seaborn/distributions.py:2619: FutureWarning: `distplot` is a deprecated function and will be removed in a future version. Please adapt your code to use either `displot` (a figure-level function with similar flexibility) or `kdeplot` (an axes-level function for kernel density plots).\n",
            "  warnings.warn(msg, FutureWarning)\n",
            "/usr/local/lib/python3.7/dist-packages/seaborn/distributions.py:2619: FutureWarning: `distplot` is a deprecated function and will be removed in a future version. Please adapt your code to use either `displot` (a figure-level function with similar flexibility) or `kdeplot` (an axes-level function for kernel density plots).\n",
            "  warnings.warn(msg, FutureWarning)\n",
            "/usr/local/lib/python3.7/dist-packages/seaborn/distributions.py:2619: FutureWarning: `distplot` is a deprecated function and will be removed in a future version. Please adapt your code to use either `displot` (a figure-level function with similar flexibility) or `kdeplot` (an axes-level function for kernel density plots).\n",
            "  warnings.warn(msg, FutureWarning)\n",
            "/usr/local/lib/python3.7/dist-packages/seaborn/distributions.py:2619: FutureWarning: `distplot` is a deprecated function and will be removed in a future version. Please adapt your code to use either `displot` (a figure-level function with similar flexibility) or `kdeplot` (an axes-level function for kernel density plots).\n",
            "  warnings.warn(msg, FutureWarning)\n",
            "/usr/local/lib/python3.7/dist-packages/seaborn/distributions.py:2619: FutureWarning: `distplot` is a deprecated function and will be removed in a future version. Please adapt your code to use either `displot` (a figure-level function with similar flexibility) or `kdeplot` (an axes-level function for kernel density plots).\n",
            "  warnings.warn(msg, FutureWarning)\n",
            "/usr/local/lib/python3.7/dist-packages/seaborn/distributions.py:2619: FutureWarning: `distplot` is a deprecated function and will be removed in a future version. Please adapt your code to use either `displot` (a figure-level function with similar flexibility) or `kdeplot` (an axes-level function for kernel density plots).\n",
            "  warnings.warn(msg, FutureWarning)\n",
            "/usr/local/lib/python3.7/dist-packages/seaborn/distributions.py:2619: FutureWarning: `distplot` is a deprecated function and will be removed in a future version. Please adapt your code to use either `displot` (a figure-level function with similar flexibility) or `kdeplot` (an axes-level function for kernel density plots).\n",
            "  warnings.warn(msg, FutureWarning)\n",
            "/usr/local/lib/python3.7/dist-packages/seaborn/distributions.py:2619: FutureWarning: `distplot` is a deprecated function and will be removed in a future version. Please adapt your code to use either `displot` (a figure-level function with similar flexibility) or `kdeplot` (an axes-level function for kernel density plots).\n",
            "  warnings.warn(msg, FutureWarning)\n",
            "/usr/local/lib/python3.7/dist-packages/seaborn/distributions.py:2619: FutureWarning: `distplot` is a deprecated function and will be removed in a future version. Please adapt your code to use either `displot` (a figure-level function with similar flexibility) or `kdeplot` (an axes-level function for kernel density plots).\n",
            "  warnings.warn(msg, FutureWarning)\n",
            "/usr/local/lib/python3.7/dist-packages/seaborn/distributions.py:2619: FutureWarning: `distplot` is a deprecated function and will be removed in a future version. Please adapt your code to use either `displot` (a figure-level function with similar flexibility) or `kdeplot` (an axes-level function for kernel density plots).\n",
            "  warnings.warn(msg, FutureWarning)\n",
            "/usr/local/lib/python3.7/dist-packages/seaborn/distributions.py:2619: FutureWarning: `distplot` is a deprecated function and will be removed in a future version. Please adapt your code to use either `displot` (a figure-level function with similar flexibility) or `kdeplot` (an axes-level function for kernel density plots).\n",
            "  warnings.warn(msg, FutureWarning)\n",
            "/usr/local/lib/python3.7/dist-packages/seaborn/distributions.py:2619: FutureWarning: `distplot` is a deprecated function and will be removed in a future version. Please adapt your code to use either `displot` (a figure-level function with similar flexibility) or `kdeplot` (an axes-level function for kernel density plots).\n",
            "  warnings.warn(msg, FutureWarning)\n",
            "/usr/local/lib/python3.7/dist-packages/seaborn/distributions.py:2619: FutureWarning: `distplot` is a deprecated function and will be removed in a future version. Please adapt your code to use either `displot` (a figure-level function with similar flexibility) or `kdeplot` (an axes-level function for kernel density plots).\n",
            "  warnings.warn(msg, FutureWarning)\n",
            "/usr/local/lib/python3.7/dist-packages/seaborn/distributions.py:2619: FutureWarning: `distplot` is a deprecated function and will be removed in a future version. Please adapt your code to use either `displot` (a figure-level function with similar flexibility) or `kdeplot` (an axes-level function for kernel density plots).\n",
            "  warnings.warn(msg, FutureWarning)\n",
            "/usr/local/lib/python3.7/dist-packages/seaborn/distributions.py:2619: FutureWarning: `distplot` is a deprecated function and will be removed in a future version. Please adapt your code to use either `displot` (a figure-level function with similar flexibility) or `kdeplot` (an axes-level function for kernel density plots).\n",
            "  warnings.warn(msg, FutureWarning)\n",
            "/usr/local/lib/python3.7/dist-packages/seaborn/distributions.py:316: UserWarning: Dataset has 0 variance; skipping density estimate. Pass `warn_singular=False` to disable this warning.\n",
            "  warnings.warn(msg, UserWarning)\n",
            "/usr/local/lib/python3.7/dist-packages/seaborn/distributions.py:2619: FutureWarning: `distplot` is a deprecated function and will be removed in a future version. Please adapt your code to use either `displot` (a figure-level function with similar flexibility) or `kdeplot` (an axes-level function for kernel density plots).\n",
            "  warnings.warn(msg, FutureWarning)\n",
            "/usr/local/lib/python3.7/dist-packages/seaborn/distributions.py:316: UserWarning: Dataset has 0 variance; skipping density estimate. Pass `warn_singular=False` to disable this warning.\n",
            "  warnings.warn(msg, UserWarning)\n"
          ]
        },
        {
          "output_type": "display_data",
          "data": {
            "text/plain": [
              "<Figure size 576x360 with 1 Axes>"
            ],
            "image/png": "[encoded data removed]"
          },
          "metadata": {
            "needs_background": "light"
          }
        },
        {
          "output_type": "display_data",
          "data": {
            "text/plain": [
              "<Figure size 576x360 with 1 Axes>"
            ],
            "image/png": "[encoded data removed]"
          },
          "metadata": {
            "needs_background": "light"
          }
        },
        {
          "output_type": "display_data",
          "data": {
            "text/plain": [
              "<Figure size 576x360 with 1 Axes>"
            ],
            "image/png": "[encoded data removed]"
          },
          "metadata": {
            "needs_background": "light"
          }
        },
        {
          "output_type": "display_data",
          "data": {
            "text/plain": [
              "<Figure size 576x360 with 1 Axes>"
            ],
            "image/png": "[encoded data removed]"
          },
          "metadata": {
            "needs_background": "light"
          }
        },
        {
          "output_type": "display_data",
          "data": {
            "text/plain": [
              "<Figure size 576x360 with 1 Axes>"
            ],
            "image/png": "[encoded data removed]"
          },
          "metadata": {
            "needs_background": "light"
          }
        },
        {
          "output_type": "display_data",
          "data": {
            "text/plain": [
              "<Figure size 576x360 with 1 Axes>"
            ],
            "image/png": "[encoded data removed]"
          },
          "metadata": {
            "needs_background": "light"
          }
        },
        {
          "output_type": "display_data",
          "data": {
            "text/plain": [
              "<Figure size 576x360 with 1 Axes>"
            ],
            "image/png": "[encoded data removed]"
          },
          "metadata": {
            "needs_background": "light"
          }
        },
        {
          "output_type": "display_data",
          "data": {
            "text/plain": [
              "<Figure size 576x360 with 1 Axes>"
            ],
            "image/png": "[encoded data removed]"
          },
          "metadata": {
            "needs_background": "light"
          }
        },
        {
          "output_type": "display_data",
          "data": {
            "text/plain": [
              "<Figure size 576x360 with 1 Axes>"
            ],
            "image/png": "[encoded data removed]"
          },
          "metadata": {
            "needs_background": "light"
          }
        },
        {
          "output_type": "display_data",
          "data": {
            "text/plain": [
              "<Figure size 576x360 with 1 Axes>"
            ],
            "image/png": "[encoded data removed]"
          },
          "metadata": {
            "needs_background": "light"
          }
        }
      ]
    },
    {
      "cell_type": "code",
      "source": [
        "\n",
        "def calc_vif(X):\n",
        "\n",
        "    # Calculating VIF\n",
        "    vif = pd.DataFrame()\n",
        "    vif[\"variables\"] = X.columns\n",
        "    vif[\"VIF\"] = [variance_inflation_factor(X.values, i) for i in range(X.shape[1])]\n",
        "\n",
        "    return(vif)"
      ],
      "metadata": {
        "id": "POt-srnU5roM"
      },
      "execution_count": null,
      "outputs": []
    },
    {
      "cell_type": "code",
      "source": [
        "calc_vif(test_dataset[[i for i in test_dataset.describe().columns if i not in ['buy']]])"
      ],
      "metadata": {
        "id": "MK_xSlu-5zjE",
        "colab": {
          "base_uri": "https://localhost:8080/",
          "height": 332
        },
        "outputId": "d4f81e21-c64d-47af-c727-2ca126eaf55f"
      },
      "execution_count": null,
      "outputs": [
        {
          "output_type": "execute_result",
          "data": {
            "text/plain": [
              "              variables       VIF\n",
              "0        campaign_var_1  6.435849\n",
              "1        campaign_var_2  7.938553\n",
              "2    products_purchased  1.569130\n",
              "3   user_activity_var_1  1.514679\n",
              "4   user_activity_var_5  1.152587\n",
              "5   user_activity_var_6  1.748143\n",
              "6   user_activity_var_7  1.327191\n",
              "7   user_activity_var_8  1.167663\n",
              "8  user_activity_var_11  1.224487"
            ],
            "text/html": [
              "\n",
              "  <div id=\"df-a06b430f-13ec-406f-91d2-c56c8770f545\">\n",
              "    <div class=\"colab-df-container\">\n",
              "      <div>\n",
              "<style scoped>\n",
              "    .dataframe tbody tr th:only-of-type {\n",
              "        vertical-align: middle;\n",
              "    }\n",
              "\n",
              "    .dataframe tbody tr th {\n",
              "        vertical-align: top;\n",
              "    }\n",
              "\n",
              "    .dataframe thead th {\n",
              "        text-align: right;\n",
              "    }\n",
              "</style>\n",
              "<table border=\"1\" class=\"dataframe\">\n",
              "  <thead>\n",
              "    <tr style=\"text-align: right;\">\n",
              "      <th></th>\n",
              "      <th>variables</th>\n",
              "      <th>VIF</th>\n",
              "    </tr>\n",
              "  </thead>\n",
              "  <tbody>\n",
              "    <tr>\n",
              "      <th>0</th>\n",
              "      <td>campaign_var_1</td>\n",
              "      <td>6.435849</td>\n",
              "    </tr>\n",
              "    <tr>\n",
              "      <th>1</th>\n",
              "      <td>campaign_var_2</td>\n",
              "      <td>7.938553</td>\n",
              "    </tr>\n",
              "    <tr>\n",
              "      <th>2</th>\n",
              "      <td>products_purchased</td>\n",
              "      <td>1.569130</td>\n",
              "    </tr>\n",
              "    <tr>\n",
              "      <th>3</th>\n",
              "      <td>user_activity_var_1</td>\n",
              "      <td>1.514679</td>\n",
              "    </tr>\n",
              "    <tr>\n",
              "      <th>4</th>\n",
              "      <td>user_activity_var_5</td>\n",
              "      <td>1.152587</td>\n",
              "    </tr>\n",
              "    <tr>\n",
              "      <th>5</th>\n",
              "      <td>user_activity_var_6</td>\n",
              "      <td>1.748143</td>\n",
              "    </tr>\n",
              "    <tr>\n",
              "      <th>6</th>\n",
              "      <td>user_activity_var_7</td>\n",
              "      <td>1.327191</td>\n",
              "    </tr>\n",
              "    <tr>\n",
              "      <th>7</th>\n",
              "      <td>user_activity_var_8</td>\n",
              "      <td>1.167663</td>\n",
              "    </tr>\n",
              "    <tr>\n",
              "      <th>8</th>\n",
              "      <td>user_activity_var_11</td>\n",
              "      <td>1.224487</td>\n",
              "    </tr>\n",
              "  </tbody>\n",
              "</table>\n",
              "</div>\n",
              "      <button class=\"colab-df-convert\" onclick=\"convertToInteractive('df-a06b430f-13ec-406f-91d2-c56c8770f545')\"\n",
              "              title=\"Convert this dataframe to an interactive table.\"\n",
              "              style=\"display:none;\">\n",
              "        \n",
              "  <svg xmlns=\"http://www.w3.org/2000/svg\" height=\"24px\"viewBox=\"0 0 24 24\"\n",
              "       width=\"24px\">\n",
              "    <path d=\"M0 0h24v24H0V0z\" fill=\"none\"/>\n",
              "    <path d=\"M18.56 5.44l.94 2.06.94-2.06 2.06-.94-2.06-.94-.94-2.06-.94 2.06-2.06.94zm-11 1L8.5 8.5l.94-2.06 2.06-.94-2.06-.94L8.5 2.5l-.94 2.06-2.06.94zm10 10l.94 2.06.94-2.06 2.06-.94-2.06-.94-.94-2.06-.94 2.06-2.06.94z\"/><path d=\"M17.41 7.96l-1.37-1.37c-.4-.4-.92-.59-1.43-.59-.52 0-1.04.2-1.43.59L10.3 9.45l-7.72 7.72c-.78.78-.78 2.05 0 2.83L4 21.41c.39.39.9.59 1.41.59.51 0 1.02-.2 1.41-.59l7.78-7.78 2.81-2.81c.8-.78.8-2.07 0-2.86zM5.41 20L4 18.59l7.72-7.72 1.47 1.35L5.41 20z\"/>\n",
              "  </svg>\n",
              "      </button>\n",
              "      \n",
              "  <style>\n",
              "    .colab-df-container {\n",
              "      display:flex;\n",
              "      flex-wrap:wrap;\n",
              "      gap: 12px;\n",
              "    }\n",
              "\n",
              "    .colab-df-convert {\n",
              "      background-color: #E8F0FE;\n",
              "      border: none;\n",
              "      border-radius: 50%;\n",
              "      cursor: pointer;\n",
              "      display: none;\n",
              "      fill: #1967D2;\n",
              "      height: 32px;\n",
              "      padding: 0 0 0 0;\n",
              "      width: 32px;\n",
              "    }\n",
              "\n",
              "    .colab-df-convert:hover {\n",
              "      background-color: #E2EBFA;\n",
              "      box-shadow: 0px 1px 2px rgba(60, 64, 67, 0.3), 0px 1px 3px 1px rgba(60, 64, 67, 0.15);\n",
              "      fill: #174EA6;\n",
              "    }\n",
              "\n",
              "    [theme=dark] .colab-df-convert {\n",
              "      background-color: #3B4455;\n",
              "      fill: #D2E3FC;\n",
              "    }\n",
              "\n",
              "    [theme=dark] .colab-df-convert:hover {\n",
              "      background-color: #434B5C;\n",
              "      box-shadow: 0px 1px 3px 1px rgba(0, 0, 0, 0.15);\n",
              "      filter: drop-shadow(0px 1px 2px rgba(0, 0, 0, 0.3));\n",
              "      fill: #FFFFFF;\n",
              "    }\n",
              "  </style>\n",
              "\n",
              "      <script>\n",
              "        const buttonEl =\n",
              "          document.querySelector('#df-a06b430f-13ec-406f-91d2-c56c8770f545 button.colab-df-convert');\n",
              "        buttonEl.style.display =\n",
              "          google.colab.kernel.accessAllowed ? 'block' : 'none';\n",
              "\n",
              "        async function convertToInteractive(key) {\n",
              "          const element = document.querySelector('#df-a06b430f-13ec-406f-91d2-c56c8770f545');\n",
              "          const dataTable =\n",
              "            await google.colab.kernel.invokeFunction('convertToInteractive',\n",
              "                                                     [key], {});\n",
              "          if (!dataTable) return;\n",
              "\n",
              "          const docLinkHtml = 'Like what you see? Visit the ' +\n",
              "            '<a target=\"_blank\" href=https://colab.research.google.com/notebooks/data_table.ipynb>data table notebook</a>'\n",
              "            + ' to learn more about interactive tables.';\n",
              "          element.innerHTML = '';\n",
              "          dataTable['output_type'] = 'display_data';\n",
              "          await google.colab.output.renderOutput(dataTable, element);\n",
              "          const docLink = document.createElement('div');\n",
              "          docLink.innerHTML = docLinkHtml;\n",
              "          element.appendChild(docLink);\n",
              "        }\n",
              "      </script>\n",
              "    </div>\n",
              "  </div>\n",
              "  "
            ]
          },
          "metadata": {},
          "execution_count": 103
        }
      ]
    },
    {
      "cell_type": "markdown",
      "source": [
        "campaign_var_2 is the feature having VIF greater than 5 so we drop it in order to reduce the multi collinearity in the dataset"
      ],
      "metadata": {
        "id": "du1FKdLkn98j"
      }
    },
    {
      "cell_type": "code",
      "source": [
        "test_dataset=test_dataset.drop(columns=['campaign_var_2'])"
      ],
      "metadata": {
        "id": "NIWLtzdu6Dli"
      },
      "execution_count": null,
      "outputs": []
    },
    {
      "cell_type": "code",
      "source": [
        "calc_vif(test_dataset[[i for i in test_dataset.describe().columns if i not in ['buy']]])"
      ],
      "metadata": {
        "id": "EH57b4bA6KqH",
        "colab": {
          "base_uri": "https://localhost:8080/",
          "height": 300
        },
        "outputId": "2ad58ba3-7130-44ee-ccb6-9f0c57df5c77"
      },
      "execution_count": null,
      "outputs": [
        {
          "output_type": "execute_result",
          "data": {
            "text/plain": [
              "              variables       VIF\n",
              "0        campaign_var_1  2.658324\n",
              "1    products_purchased  1.526388\n",
              "2   user_activity_var_1  1.478687\n",
              "3   user_activity_var_5  1.145653\n",
              "4   user_activity_var_6  1.623772\n",
              "5   user_activity_var_7  1.285043\n",
              "6   user_activity_var_8  1.156745\n",
              "7  user_activity_var_11  1.201268"
            ],
            "text/html": [
              "\n",
              "  <div id=\"df-e4697776-db30-45ee-807a-46526898e4b2\">\n",
              "    <div class=\"colab-df-container\">\n",
              "      <div>\n",
              "<style scoped>\n",
              "    .dataframe tbody tr th:only-of-type {\n",
              "        vertical-align: middle;\n",
              "    }\n",
              "\n",
              "    .dataframe tbody tr th {\n",
              "        vertical-align: top;\n",
              "    }\n",
              "\n",
              "    .dataframe thead th {\n",
              "        text-align: right;\n",
              "    }\n",
              "</style>\n",
              "<table border=\"1\" class=\"dataframe\">\n",
              "  <thead>\n",
              "    <tr style=\"text-align: right;\">\n",
              "      <th></th>\n",
              "      <th>variables</th>\n",
              "      <th>VIF</th>\n",
              "    </tr>\n",
              "  </thead>\n",
              "  <tbody>\n",
              "    <tr>\n",
              "      <th>0</th>\n",
              "      <td>campaign_var_1</td>\n",
              "      <td>2.658324</td>\n",
              "    </tr>\n",
              "    <tr>\n",
              "      <th>1</th>\n",
              "      <td>products_purchased</td>\n",
              "      <td>1.526388</td>\n",
              "    </tr>\n",
              "    <tr>\n",
              "      <th>2</th>\n",
              "      <td>user_activity_var_1</td>\n",
              "      <td>1.478687</td>\n",
              "    </tr>\n",
              "    <tr>\n",
              "      <th>3</th>\n",
              "      <td>user_activity_var_5</td>\n",
              "      <td>1.145653</td>\n",
              "    </tr>\n",
              "    <tr>\n",
              "      <th>4</th>\n",
              "      <td>user_activity_var_6</td>\n",
              "      <td>1.623772</td>\n",
              "    </tr>\n",
              "    <tr>\n",
              "      <th>5</th>\n",
              "      <td>user_activity_var_7</td>\n",
              "      <td>1.285043</td>\n",
              "    </tr>\n",
              "    <tr>\n",
              "      <th>6</th>\n",
              "      <td>user_activity_var_8</td>\n",
              "      <td>1.156745</td>\n",
              "    </tr>\n",
              "    <tr>\n",
              "      <th>7</th>\n",
              "      <td>user_activity_var_11</td>\n",
              "      <td>1.201268</td>\n",
              "    </tr>\n",
              "  </tbody>\n",
              "</table>\n",
              "</div>\n",
              "      <button class=\"colab-df-convert\" onclick=\"convertToInteractive('df-e4697776-db30-45ee-807a-46526898e4b2')\"\n",
              "              title=\"Convert this dataframe to an interactive table.\"\n",
              "              style=\"display:none;\">\n",
              "        \n",
              "  <svg xmlns=\"http://www.w3.org/2000/svg\" height=\"24px\"viewBox=\"0 0 24 24\"\n",
              "       width=\"24px\">\n",
              "    <path d=\"M0 0h24v24H0V0z\" fill=\"none\"/>\n",
              "    <path d=\"M18.56 5.44l.94 2.06.94-2.06 2.06-.94-2.06-.94-.94-2.06-.94 2.06-2.06.94zm-11 1L8.5 8.5l.94-2.06 2.06-.94-2.06-.94L8.5 2.5l-.94 2.06-2.06.94zm10 10l.94 2.06.94-2.06 2.06-.94-2.06-.94-.94-2.06-.94 2.06-2.06.94z\"/><path d=\"M17.41 7.96l-1.37-1.37c-.4-.4-.92-.59-1.43-.59-.52 0-1.04.2-1.43.59L10.3 9.45l-7.72 7.72c-.78.78-.78 2.05 0 2.83L4 21.41c.39.39.9.59 1.41.59.51 0 1.02-.2 1.41-.59l7.78-7.78 2.81-2.81c.8-.78.8-2.07 0-2.86zM5.41 20L4 18.59l7.72-7.72 1.47 1.35L5.41 20z\"/>\n",
              "  </svg>\n",
              "      </button>\n",
              "      \n",
              "  <style>\n",
              "    .colab-df-container {\n",
              "      display:flex;\n",
              "      flex-wrap:wrap;\n",
              "      gap: 12px;\n",
              "    }\n",
              "\n",
              "    .colab-df-convert {\n",
              "      background-color: #E8F0FE;\n",
              "      border: none;\n",
              "      border-radius: 50%;\n",
              "      cursor: pointer;\n",
              "      display: none;\n",
              "      fill: #1967D2;\n",
              "      height: 32px;\n",
              "      padding: 0 0 0 0;\n",
              "      width: 32px;\n",
              "    }\n",
              "\n",
              "    .colab-df-convert:hover {\n",
              "      background-color: #E2EBFA;\n",
              "      box-shadow: 0px 1px 2px rgba(60, 64, 67, 0.3), 0px 1px 3px 1px rgba(60, 64, 67, 0.15);\n",
              "      fill: #174EA6;\n",
              "    }\n",
              "\n",
              "    [theme=dark] .colab-df-convert {\n",
              "      background-color: #3B4455;\n",
              "      fill: #D2E3FC;\n",
              "    }\n",
              "\n",
              "    [theme=dark] .colab-df-convert:hover {\n",
              "      background-color: #434B5C;\n",
              "      box-shadow: 0px 1px 3px 1px rgba(0, 0, 0, 0.15);\n",
              "      filter: drop-shadow(0px 1px 2px rgba(0, 0, 0, 0.3));\n",
              "      fill: #FFFFFF;\n",
              "    }\n",
              "  </style>\n",
              "\n",
              "      <script>\n",
              "        const buttonEl =\n",
              "          document.querySelector('#df-e4697776-db30-45ee-807a-46526898e4b2 button.colab-df-convert');\n",
              "        buttonEl.style.display =\n",
              "          google.colab.kernel.accessAllowed ? 'block' : 'none';\n",
              "\n",
              "        async function convertToInteractive(key) {\n",
              "          const element = document.querySelector('#df-e4697776-db30-45ee-807a-46526898e4b2');\n",
              "          const dataTable =\n",
              "            await google.colab.kernel.invokeFunction('convertToInteractive',\n",
              "                                                     [key], {});\n",
              "          if (!dataTable) return;\n",
              "\n",
              "          const docLinkHtml = 'Like what you see? Visit the ' +\n",
              "            '<a target=\"_blank\" href=https://colab.research.google.com/notebooks/data_table.ipynb>data table notebook</a>'\n",
              "            + ' to learn more about interactive tables.';\n",
              "          element.innerHTML = '';\n",
              "          dataTable['output_type'] = 'display_data';\n",
              "          await google.colab.output.renderOutput(dataTable, element);\n",
              "          const docLink = document.createElement('div');\n",
              "          docLink.innerHTML = docLinkHtml;\n",
              "          element.appendChild(docLink);\n",
              "        }\n",
              "      </script>\n",
              "    </div>\n",
              "  </div>\n",
              "  "
            ]
          },
          "metadata": {},
          "execution_count": 105
        }
      ]
    },
    {
      "cell_type": "markdown",
      "source": [
        "Here we conclude that the dataset is free from multi collinearity and we can proceed further with the modelling"
      ],
      "metadata": {
        "id": "lPtqPIp2oJWX"
      }
    },
    {
      "cell_type": "code",
      "source": [
        "# splitting \"Date\" column into three other columns like \"year\",\"month\",\"day\".\n",
        "test_dataset['created_at'] = test_dataset['created_at'].apply(lambda x:dt.datetime.strptime(x,\"%Y-%m-%d\"))"
      ],
      "metadata": {
        "id": "nL9OaFP29U5t"
      },
      "execution_count": null,
      "outputs": []
    },
    {
      "cell_type": "code",
      "source": [
        "test_dataset['year'] = test_dataset['created_at'].dt.year\n",
        "test_dataset['month'] = test_dataset['created_at'].dt.month\n",
        "test_dataset['day'] = test_dataset['created_at'].dt.day_name()"
      ],
      "metadata": {
        "id": "h2yR_Ig9DOA3"
      },
      "execution_count": null,
      "outputs": []
    },
    {
      "cell_type": "code",
      "source": [
        "test_dataset=test_dataset.drop(columns=['created_at','year'],axis=1)"
      ],
      "metadata": {
        "id": "gGsZARBdDO3l"
      },
      "execution_count": null,
      "outputs": []
    },
    {
      "cell_type": "code",
      "source": [
        "buyers=test_dataset[test_dataset['buy']==1]\n",
        "non_buyers=test_dataset[test_dataset['buy']==0]"
      ],
      "metadata": {
        "id": "vNyCVA-EoZbR"
      },
      "execution_count": null,
      "outputs": []
    },
    {
      "cell_type": "code",
      "source": [
        "plt.figure(figsize=(8,5))\n",
        "ax = sns.distplot(buyers['month'],label='buy',hist=False)\n",
        "ax = sns.distplot(non_buyers['month'],label='didnt buy',hist=False)\n",
        "ax.set(xlabel=i)"
      ],
      "metadata": {
        "id": "YSNexhNjoa0n"
      },
      "execution_count": null,
      "outputs": []
    },
    {
      "cell_type": "code",
      "source": [
        "plt.figure(figsize=(8,5))\n",
        "ax = sns.distplot(buyers['day'],label='buy',hist=False)\n",
        "ax = sns.distplot(non_buyers['day'],label='didnt buy',hist=False)\n",
        "ax.set(xlabel=i)"
      ],
      "metadata": {
        "id": "XlQbsjkQpRG1"
      },
      "execution_count": null,
      "outputs": []
    },
    {
      "cell_type": "code",
      "source": [
        "lst=list(test_dataset.columns)\n",
        "lst"
      ],
      "metadata": {
        "id": "a8yRZHn2Cj5t",
        "colab": {
          "base_uri": "https://localhost:8080/"
        },
        "outputId": "6ab5aee4-2273-40bb-8f11-ca68082224a9"
      },
      "execution_count": null,
      "outputs": [
        {
          "output_type": "execute_result",
          "data": {
            "text/plain": [
              "['campaign_var_1',\n",
              " 'products_purchased',\n",
              " 'user_activity_var_1',\n",
              " 'user_activity_var_5',\n",
              " 'user_activity_var_6',\n",
              " 'user_activity_var_7',\n",
              " 'user_activity_var_8',\n",
              " 'user_activity_var_11',\n",
              " 'buy',\n",
              " 'month',\n",
              " 'day']"
            ]
          },
          "metadata": {},
          "execution_count": 110
        }
      ]
    },
    {
      "cell_type": "code",
      "source": [
        "test_dataset.info()"
      ],
      "metadata": {
        "id": "whcV-Si79GoF",
        "colab": {
          "base_uri": "https://localhost:8080/"
        },
        "outputId": "97628144-d683-4c72-bc69-f949e353e4bd"
      },
      "execution_count": null,
      "outputs": [
        {
          "output_type": "stream",
          "name": "stdout",
          "text": [
            "<class 'pandas.core.frame.DataFrame'>\n",
            "RangeIndex: 39161 entries, 0 to 39160\n",
            "Data columns (total 11 columns):\n",
            " #   Column                Non-Null Count  Dtype  \n",
            "---  ------                --------------  -----  \n",
            " 0   campaign_var_1        39161 non-null  int64  \n",
            " 1   products_purchased    39161 non-null  float64\n",
            " 2   user_activity_var_1   39161 non-null  int64  \n",
            " 3   user_activity_var_5   39161 non-null  int64  \n",
            " 4   user_activity_var_6   39161 non-null  int64  \n",
            " 5   user_activity_var_7   39161 non-null  int64  \n",
            " 6   user_activity_var_8   39161 non-null  int64  \n",
            " 7   user_activity_var_11  39161 non-null  int64  \n",
            " 8   buy                   39161 non-null  int64  \n",
            " 9   month                 39161 non-null  int64  \n",
            " 10  day                   39161 non-null  object \n",
            "dtypes: float64(1), int64(9), object(1)\n",
            "memory usage: 3.3+ MB\n"
          ]
        }
      ]
    },
    {
      "cell_type": "code",
      "source": [
        "lst=lst.remove('buy')"
      ],
      "metadata": {
        "id": "VJHKIHe-ZQCK"
      },
      "execution_count": null,
      "outputs": []
    },
    {
      "cell_type": "markdown",
      "source": [
        "Here we finalise the list of columns(independent variables) to work with in the model."
      ],
      "metadata": {
        "id": "KzeCWs71pYqM"
      }
    },
    {
      "cell_type": "code",
      "source": [
        "test_dataset=pd.get_dummies(test_dataset, columns=lst, prefix=lst)"
      ],
      "metadata": {
        "id": "fff8WvqHY5Lb"
      },
      "execution_count": null,
      "outputs": []
    },
    {
      "cell_type": "code",
      "execution_count": null,
      "metadata": {
        "id": "fn0Nk3Dvj9eZ",
        "colab": {
          "base_uri": "https://localhost:8080/",
          "height": 296
        },
        "outputId": "df46517a-1fba-4bdc-d725-7bc2fa96efdb"
      },
      "outputs": [
        {
          "output_type": "execute_result",
          "data": {
            "text/plain": [
              "<matplotlib.axes._subplots.AxesSubplot at 0x7f0d6d7b3a10>"
            ]
          },
          "metadata": {},
          "execution_count": 114
        },
        {
          "output_type": "display_data",
          "data": {
            "text/plain": [
              "<Figure size 432x288 with 1 Axes>"
            ],
            "image/png": "[encoded data removed]"
          },
          "metadata": {
            "needs_background": "light"
          }
        }
      ],
      "source": [
        "sns.countplot(x=test_dataset['buy'])"
      ]
    },
    {
      "cell_type": "markdown",
      "source": [
        "Based on the above visualisation it is clear that the given dataset in highly imbalanced in terms of dependent variable. So we proceed with the oversampling technique."
      ],
      "metadata": {
        "id": "v2MYxbD6pxf-"
      }
    },
    {
      "cell_type": "code",
      "execution_count": null,
      "metadata": {
        "id": "A6I1u91GoTFT"
      },
      "outputs": [],
      "source": [
        "#  # Data for all the independent variables\n",
        "X = test_dataset.drop(labels='buy',axis=1)\n",
        "\n",
        "#  # Data for the dependent variable\n",
        "Y = test_dataset['buy']"
      ]
    },
    {
      "cell_type": "code",
      "execution_count": null,
      "metadata": {
        "id": "eG5-y-ZwTF4w",
        "colab": {
          "base_uri": "https://localhost:8080/"
        },
        "outputId": "91e38bcf-039a-49a1-ace7-8615100eaf18"
      },
      "outputs": [
        {
          "output_type": "execute_result",
          "data": {
            "text/plain": [
              "((39161, 16), (39161,))"
            ]
          },
          "metadata": {},
          "execution_count": 117
        }
      ],
      "source": [
        "X.shape, Y.shape"
      ]
    },
    {
      "cell_type": "code",
      "execution_count": null,
      "metadata": {
        "id": "vMPrQ-6rTF15"
      },
      "outputs": [],
      "source": [
        "# Train-test split\n",
        "\n",
        "X_train, X_test, Y_train, Y_test = train_test_split(X,Y,test_size = 0.2, random_state=1)"
      ]
    },
    {
      "cell_type": "markdown",
      "source": [
        "AdaSyn (Adaptive Synthetic Sampling):-\n",
        "We use this in order to avoid the dominance of high imbalance of the dataset on our model predictions"
      ],
      "metadata": {
        "id": "5oJ7lfCHqGnS"
      }
    },
    {
      "cell_type": "code",
      "source": [
        "ada = ADASYN()\n",
        "X_resampled, y_resampled = ada.fit_resample(X_train, Y_train)"
      ],
      "metadata": {
        "id": "wonoyMYdjGVB"
      },
      "execution_count": null,
      "outputs": []
    },
    {
      "cell_type": "code",
      "source": [
        "X_train, Y_train=X_resampled, y_resampled"
      ],
      "metadata": {
        "id": "Qpl0RbjtjGVS"
      },
      "execution_count": null,
      "outputs": []
    },
    {
      "cell_type": "markdown",
      "source": [
        "Here we get resampled data out of X train and Y train which is balance and so we will be able to train our model based on this sampled dataset to get highly accurate model."
      ],
      "metadata": {
        "id": "rnCwRVwNqX7e"
      }
    },
    {
      "cell_type": "code",
      "source": [
        "Y_train.value_counts()"
      ],
      "metadata": {
        "id": "pw15PWlG44CO",
        "colab": {
          "base_uri": "https://localhost:8080/"
        },
        "outputId": "cc05b2bc-d570-470f-9ba9-4927d33b86b9"
      },
      "execution_count": null,
      "outputs": [
        {
          "output_type": "execute_result",
          "data": {
            "text/plain": [
              "0    29738\n",
              "1    29058\n",
              "Name: buy, dtype: int64"
            ]
          },
          "metadata": {},
          "execution_count": 123
        }
      ]
    },
    {
      "cell_type": "code",
      "execution_count": null,
      "metadata": {
        "id": "GiF-sNv4TFy1",
        "colab": {
          "base_uri": "https://localhost:8080/"
        },
        "outputId": "b436954e-057f-4f26-a3c6-66ac9f67e7c3"
      },
      "outputs": [
        {
          "output_type": "stream",
          "name": "stdout",
          "text": [
            "(58796, 16) (58796,)\n",
            "(7833, 16) (7833,)\n"
          ]
        }
      ],
      "source": [
        "# Check the shape of train dataset\n",
        "print(X_train.shape,Y_train.shape)\n",
        "\n",
        "# Check the shape of test dataset\n",
        "print(X_test.shape, Y_test.shape)"
      ]
    },
    {
      "cell_type": "markdown",
      "source": [
        "## **LOGISTIC REGRESSION MODEL WITH K FOLD CROSS VALIDATION**"
      ],
      "metadata": {
        "id": "3BqyIQy1R-_M"
      }
    },
    {
      "cell_type": "code",
      "source": [
        "# Creating KFold object with 5 splits\n",
        "folds = KFold(n_splits=5, shuffle=True, random_state=4)\n",
        "\n",
        "# Specify params\n",
        "params = {\"C\": [0.001,0.05,0.01, 0.1, 1, 10, 100]}\n",
        "\n",
        "# Specifing score as recall as we are more focused on acheiving the higher sensitivity than the accuracy\n",
        "model_cv = GridSearchCV(estimator = LogisticRegression(),\n",
        "                        param_grid = params, \n",
        "                        scoring= 'roc_auc', \n",
        "                        cv = folds, \n",
        "                        verbose = 1,\n",
        "                        return_train_score=True) \n",
        "\n",
        "# Fit the model\n",
        "model_cv.fit(X_train, Y_train)"
      ],
      "metadata": {
        "id": "tv8ROEjd_BiS",
        "colab": {
          "base_uri": "https://localhost:8080/"
        },
        "outputId": "dfb246ed-83dd-4ade-e97b-437696d24514"
      },
      "execution_count": null,
      "outputs": [
        {
          "output_type": "stream",
          "name": "stdout",
          "text": [
            "Fitting 5 folds for each of 7 candidates, totalling 35 fits\n"
          ]
        },
        {
          "output_type": "stream",
          "name": "stderr",
          "text": [
            "/usr/local/lib/python3.7/dist-packages/sklearn/linear_model/_logistic.py:818: ConvergenceWarning: lbfgs failed to converge (status=1):\n",
            "STOP: TOTAL NO. of ITERATIONS REACHED LIMIT.\n",
            "\n",
            "Increase the number of iterations (max_iter) or scale the data as shown in:\n",
            "    https://scikit-learn.org/stable/modules/preprocessing.html\n",
            "Please also refer to the documentation for alternative solver options:\n",
            "    https://scikit-learn.org/stable/modules/linear_model.html#logistic-regression\n",
            "  extra_warning_msg=_LOGISTIC_SOLVER_CONVERGENCE_MSG,\n",
            "/usr/local/lib/python3.7/dist-packages/sklearn/linear_model/_logistic.py:818: ConvergenceWarning: lbfgs failed to converge (status=1):\n",
            "STOP: TOTAL NO. of ITERATIONS REACHED LIMIT.\n",
            "\n",
            "Increase the number of iterations (max_iter) or scale the data as shown in:\n",
            "    https://scikit-learn.org/stable/modules/preprocessing.html\n",
            "Please also refer to the documentation for alternative solver options:\n",
            "    https://scikit-learn.org/stable/modules/linear_model.html#logistic-regression\n",
            "  extra_warning_msg=_LOGISTIC_SOLVER_CONVERGENCE_MSG,\n",
            "/usr/local/lib/python3.7/dist-packages/sklearn/linear_model/_logistic.py:818: ConvergenceWarning: lbfgs failed to converge (status=1):\n",
            "STOP: TOTAL NO. of ITERATIONS REACHED LIMIT.\n",
            "\n",
            "Increase the number of iterations (max_iter) or scale the data as shown in:\n",
            "    https://scikit-learn.org/stable/modules/preprocessing.html\n",
            "Please also refer to the documentation for alternative solver options:\n",
            "    https://scikit-learn.org/stable/modules/linear_model.html#logistic-regression\n",
            "  extra_warning_msg=_LOGISTIC_SOLVER_CONVERGENCE_MSG,\n",
            "/usr/local/lib/python3.7/dist-packages/sklearn/linear_model/_logistic.py:818: ConvergenceWarning: lbfgs failed to converge (status=1):\n",
            "STOP: TOTAL NO. of ITERATIONS REACHED LIMIT.\n",
            "\n",
            "Increase the number of iterations (max_iter) or scale the data as shown in:\n",
            "    https://scikit-learn.org/stable/modules/preprocessing.html\n",
            "Please also refer to the documentation for alternative solver options:\n",
            "    https://scikit-learn.org/stable/modules/linear_model.html#logistic-regression\n",
            "  extra_warning_msg=_LOGISTIC_SOLVER_CONVERGENCE_MSG,\n",
            "/usr/local/lib/python3.7/dist-packages/sklearn/linear_model/_logistic.py:818: ConvergenceWarning: lbfgs failed to converge (status=1):\n",
            "STOP: TOTAL NO. of ITERATIONS REACHED LIMIT.\n",
            "\n",
            "Increase the number of iterations (max_iter) or scale the data as shown in:\n",
            "    https://scikit-learn.org/stable/modules/preprocessing.html\n",
            "Please also refer to the documentation for alternative solver options:\n",
            "    https://scikit-learn.org/stable/modules/linear_model.html#logistic-regression\n",
            "  extra_warning_msg=_LOGISTIC_SOLVER_CONVERGENCE_MSG,\n",
            "/usr/local/lib/python3.7/dist-packages/sklearn/linear_model/_logistic.py:818: ConvergenceWarning: lbfgs failed to converge (status=1):\n",
            "STOP: TOTAL NO. of ITERATIONS REACHED LIMIT.\n",
            "\n",
            "Increase the number of iterations (max_iter) or scale the data as shown in:\n",
            "    https://scikit-learn.org/stable/modules/preprocessing.html\n",
            "Please also refer to the documentation for alternative solver options:\n",
            "    https://scikit-learn.org/stable/modules/linear_model.html#logistic-regression\n",
            "  extra_warning_msg=_LOGISTIC_SOLVER_CONVERGENCE_MSG,\n",
            "/usr/local/lib/python3.7/dist-packages/sklearn/linear_model/_logistic.py:818: ConvergenceWarning: lbfgs failed to converge (status=1):\n",
            "STOP: TOTAL NO. of ITERATIONS REACHED LIMIT.\n",
            "\n",
            "Increase the number of iterations (max_iter) or scale the data as shown in:\n",
            "    https://scikit-learn.org/stable/modules/preprocessing.html\n",
            "Please also refer to the documentation for alternative solver options:\n",
            "    https://scikit-learn.org/stable/modules/linear_model.html#logistic-regression\n",
            "  extra_warning_msg=_LOGISTIC_SOLVER_CONVERGENCE_MSG,\n",
            "/usr/local/lib/python3.7/dist-packages/sklearn/linear_model/_logistic.py:818: ConvergenceWarning: lbfgs failed to converge (status=1):\n",
            "STOP: TOTAL NO. of ITERATIONS REACHED LIMIT.\n",
            "\n",
            "Increase the number of iterations (max_iter) or scale the data as shown in:\n",
            "    https://scikit-learn.org/stable/modules/preprocessing.html\n",
            "Please also refer to the documentation for alternative solver options:\n",
            "    https://scikit-learn.org/stable/modules/linear_model.html#logistic-regression\n",
            "  extra_warning_msg=_LOGISTIC_SOLVER_CONVERGENCE_MSG,\n",
            "/usr/local/lib/python3.7/dist-packages/sklearn/linear_model/_logistic.py:818: ConvergenceWarning: lbfgs failed to converge (status=1):\n",
            "STOP: TOTAL NO. of ITERATIONS REACHED LIMIT.\n",
            "\n",
            "Increase the number of iterations (max_iter) or scale the data as shown in:\n",
            "    https://scikit-learn.org/stable/modules/preprocessing.html\n",
            "Please also refer to the documentation for alternative solver options:\n",
            "    https://scikit-learn.org/stable/modules/linear_model.html#logistic-regression\n",
            "  extra_warning_msg=_LOGISTIC_SOLVER_CONVERGENCE_MSG,\n",
            "/usr/local/lib/python3.7/dist-packages/sklearn/linear_model/_logistic.py:818: ConvergenceWarning: lbfgs failed to converge (status=1):\n",
            "STOP: TOTAL NO. of ITERATIONS REACHED LIMIT.\n",
            "\n",
            "Increase the number of iterations (max_iter) or scale the data as shown in:\n",
            "    https://scikit-learn.org/stable/modules/preprocessing.html\n",
            "Please also refer to the documentation for alternative solver options:\n",
            "    https://scikit-learn.org/stable/modules/linear_model.html#logistic-regression\n",
            "  extra_warning_msg=_LOGISTIC_SOLVER_CONVERGENCE_MSG,\n",
            "/usr/local/lib/python3.7/dist-packages/sklearn/linear_model/_logistic.py:818: ConvergenceWarning: lbfgs failed to converge (status=1):\n",
            "STOP: TOTAL NO. of ITERATIONS REACHED LIMIT.\n",
            "\n",
            "Increase the number of iterations (max_iter) or scale the data as shown in:\n",
            "    https://scikit-learn.org/stable/modules/preprocessing.html\n",
            "Please also refer to the documentation for alternative solver options:\n",
            "    https://scikit-learn.org/stable/modules/linear_model.html#logistic-regression\n",
            "  extra_warning_msg=_LOGISTIC_SOLVER_CONVERGENCE_MSG,\n",
            "/usr/local/lib/python3.7/dist-packages/sklearn/linear_model/_logistic.py:818: ConvergenceWarning: lbfgs failed to converge (status=1):\n",
            "STOP: TOTAL NO. of ITERATIONS REACHED LIMIT.\n",
            "\n",
            "Increase the number of iterations (max_iter) or scale the data as shown in:\n",
            "    https://scikit-learn.org/stable/modules/preprocessing.html\n",
            "Please also refer to the documentation for alternative solver options:\n",
            "    https://scikit-learn.org/stable/modules/linear_model.html#logistic-regression\n",
            "  extra_warning_msg=_LOGISTIC_SOLVER_CONVERGENCE_MSG,\n",
            "/usr/local/lib/python3.7/dist-packages/sklearn/linear_model/_logistic.py:818: ConvergenceWarning: lbfgs failed to converge (status=1):\n",
            "STOP: TOTAL NO. of ITERATIONS REACHED LIMIT.\n",
            "\n",
            "Increase the number of iterations (max_iter) or scale the data as shown in:\n",
            "    https://scikit-learn.org/stable/modules/preprocessing.html\n",
            "Please also refer to the documentation for alternative solver options:\n",
            "    https://scikit-learn.org/stable/modules/linear_model.html#logistic-regression\n",
            "  extra_warning_msg=_LOGISTIC_SOLVER_CONVERGENCE_MSG,\n",
            "/usr/local/lib/python3.7/dist-packages/sklearn/linear_model/_logistic.py:818: ConvergenceWarning: lbfgs failed to converge (status=1):\n",
            "STOP: TOTAL NO. of ITERATIONS REACHED LIMIT.\n",
            "\n",
            "Increase the number of iterations (max_iter) or scale the data as shown in:\n",
            "    https://scikit-learn.org/stable/modules/preprocessing.html\n",
            "Please also refer to the documentation for alternative solver options:\n",
            "    https://scikit-learn.org/stable/modules/linear_model.html#logistic-regression\n",
            "  extra_warning_msg=_LOGISTIC_SOLVER_CONVERGENCE_MSG,\n",
            "/usr/local/lib/python3.7/dist-packages/sklearn/linear_model/_logistic.py:818: ConvergenceWarning: lbfgs failed to converge (status=1):\n",
            "STOP: TOTAL NO. of ITERATIONS REACHED LIMIT.\n",
            "\n",
            "Increase the number of iterations (max_iter) or scale the data as shown in:\n",
            "    https://scikit-learn.org/stable/modules/preprocessing.html\n",
            "Please also refer to the documentation for alternative solver options:\n",
            "    https://scikit-learn.org/stable/modules/linear_model.html#logistic-regression\n",
            "  extra_warning_msg=_LOGISTIC_SOLVER_CONVERGENCE_MSG,\n",
            "/usr/local/lib/python3.7/dist-packages/sklearn/linear_model/_logistic.py:818: ConvergenceWarning: lbfgs failed to converge (status=1):\n",
            "STOP: TOTAL NO. of ITERATIONS REACHED LIMIT.\n",
            "\n",
            "Increase the number of iterations (max_iter) or scale the data as shown in:\n",
            "    https://scikit-learn.org/stable/modules/preprocessing.html\n",
            "Please also refer to the documentation for alternative solver options:\n",
            "    https://scikit-learn.org/stable/modules/linear_model.html#logistic-regression\n",
            "  extra_warning_msg=_LOGISTIC_SOLVER_CONVERGENCE_MSG,\n",
            "/usr/local/lib/python3.7/dist-packages/sklearn/linear_model/_logistic.py:818: ConvergenceWarning: lbfgs failed to converge (status=1):\n",
            "STOP: TOTAL NO. of ITERATIONS REACHED LIMIT.\n",
            "\n",
            "Increase the number of iterations (max_iter) or scale the data as shown in:\n",
            "    https://scikit-learn.org/stable/modules/preprocessing.html\n",
            "Please also refer to the documentation for alternative solver options:\n",
            "    https://scikit-learn.org/stable/modules/linear_model.html#logistic-regression\n",
            "  extra_warning_msg=_LOGISTIC_SOLVER_CONVERGENCE_MSG,\n",
            "/usr/local/lib/python3.7/dist-packages/sklearn/linear_model/_logistic.py:818: ConvergenceWarning: lbfgs failed to converge (status=1):\n",
            "STOP: TOTAL NO. of ITERATIONS REACHED LIMIT.\n",
            "\n",
            "Increase the number of iterations (max_iter) or scale the data as shown in:\n",
            "    https://scikit-learn.org/stable/modules/preprocessing.html\n",
            "Please also refer to the documentation for alternative solver options:\n",
            "    https://scikit-learn.org/stable/modules/linear_model.html#logistic-regression\n",
            "  extra_warning_msg=_LOGISTIC_SOLVER_CONVERGENCE_MSG,\n",
            "/usr/local/lib/python3.7/dist-packages/sklearn/linear_model/_logistic.py:818: ConvergenceWarning: lbfgs failed to converge (status=1):\n",
            "STOP: TOTAL NO. of ITERATIONS REACHED LIMIT.\n",
            "\n",
            "Increase the number of iterations (max_iter) or scale the data as shown in:\n",
            "    https://scikit-learn.org/stable/modules/preprocessing.html\n",
            "Please also refer to the documentation for alternative solver options:\n",
            "    https://scikit-learn.org/stable/modules/linear_model.html#logistic-regression\n",
            "  extra_warning_msg=_LOGISTIC_SOLVER_CONVERGENCE_MSG,\n",
            "/usr/local/lib/python3.7/dist-packages/sklearn/linear_model/_logistic.py:818: ConvergenceWarning: lbfgs failed to converge (status=1):\n",
            "STOP: TOTAL NO. of ITERATIONS REACHED LIMIT.\n",
            "\n",
            "Increase the number of iterations (max_iter) or scale the data as shown in:\n",
            "    https://scikit-learn.org/stable/modules/preprocessing.html\n",
            "Please also refer to the documentation for alternative solver options:\n",
            "    https://scikit-learn.org/stable/modules/linear_model.html#logistic-regression\n",
            "  extra_warning_msg=_LOGISTIC_SOLVER_CONVERGENCE_MSG,\n",
            "/usr/local/lib/python3.7/dist-packages/sklearn/linear_model/_logistic.py:818: ConvergenceWarning: lbfgs failed to converge (status=1):\n",
            "STOP: TOTAL NO. of ITERATIONS REACHED LIMIT.\n",
            "\n",
            "Increase the number of iterations (max_iter) or scale the data as shown in:\n",
            "    https://scikit-learn.org/stable/modules/preprocessing.html\n",
            "Please also refer to the documentation for alternative solver options:\n",
            "    https://scikit-learn.org/stable/modules/linear_model.html#logistic-regression\n",
            "  extra_warning_msg=_LOGISTIC_SOLVER_CONVERGENCE_MSG,\n",
            "/usr/local/lib/python3.7/dist-packages/sklearn/linear_model/_logistic.py:818: ConvergenceWarning: lbfgs failed to converge (status=1):\n",
            "STOP: TOTAL NO. of ITERATIONS REACHED LIMIT.\n",
            "\n",
            "Increase the number of iterations (max_iter) or scale the data as shown in:\n",
            "    https://scikit-learn.org/stable/modules/preprocessing.html\n",
            "Please also refer to the documentation for alternative solver options:\n",
            "    https://scikit-learn.org/stable/modules/linear_model.html#logistic-regression\n",
            "  extra_warning_msg=_LOGISTIC_SOLVER_CONVERGENCE_MSG,\n",
            "/usr/local/lib/python3.7/dist-packages/sklearn/linear_model/_logistic.py:818: ConvergenceWarning: lbfgs failed to converge (status=1):\n",
            "STOP: TOTAL NO. of ITERATIONS REACHED LIMIT.\n",
            "\n",
            "Increase the number of iterations (max_iter) or scale the data as shown in:\n",
            "    https://scikit-learn.org/stable/modules/preprocessing.html\n",
            "Please also refer to the documentation for alternative solver options:\n",
            "    https://scikit-learn.org/stable/modules/linear_model.html#logistic-regression\n",
            "  extra_warning_msg=_LOGISTIC_SOLVER_CONVERGENCE_MSG,\n"
          ]
        },
        {
          "output_type": "execute_result",
          "data": {
            "text/plain": [
              "GridSearchCV(cv=KFold(n_splits=5, random_state=4, shuffle=True),\n",
              "             estimator=LogisticRegression(),\n",
              "             param_grid={'C': [0.001, 0.05, 0.01, 0.1, 1, 10, 100]},\n",
              "             return_train_score=True, scoring='roc_auc', verbose=1)"
            ]
          },
          "metadata": {},
          "execution_count": 143
        }
      ]
    },
    {
      "cell_type": "code",
      "source": [
        "# results of grid search CV\n",
        "cv_results = pd.DataFrame(model_cv.cv_results_)\n",
        "cv_results"
      ],
      "metadata": {
        "id": "tTTpWfUL_BeO",
        "colab": {
          "base_uri": "https://localhost:8080/",
          "height": 466
        },
        "outputId": "7a6a6578-d2fa-43c9-d748-66826fd3ebd7"
      },
      "execution_count": null,
      "outputs": [
        {
          "output_type": "execute_result",
          "data": {
            "text/plain": [
              "   mean_fit_time  std_fit_time  mean_score_time  std_score_time param_C  \\\n",
              "0       0.542120      0.067317         0.010938        0.000620   0.001   \n",
              "1       0.889626      0.031424         0.010329        0.000472    0.05   \n",
              "2       0.740282      0.049175         0.011739        0.001896    0.01   \n",
              "3       0.881155      0.030655         0.010548        0.000466     0.1   \n",
              "4       0.935414      0.063669         0.010763        0.000538       1   \n",
              "5       0.942865      0.060538         0.010687        0.000468      10   \n",
              "6       0.906259      0.053385         0.011876        0.002228     100   \n",
              "\n",
              "         params  split0_test_score  split1_test_score  split2_test_score  \\\n",
              "0  {'C': 0.001}           0.841183           0.842028           0.845218   \n",
              "1   {'C': 0.05}           0.897462           0.897597           0.897630   \n",
              "2   {'C': 0.01}           0.889749           0.889985           0.890634   \n",
              "3    {'C': 0.1}           0.898152           0.898319           0.898251   \n",
              "4      {'C': 1}           0.898522           0.898673           0.898492   \n",
              "5     {'C': 10}           0.898512           0.898623           0.898121   \n",
              "6    {'C': 100}           0.898371           0.898634           0.898553   \n",
              "\n",
              "   split3_test_score  ...  mean_test_score  std_test_score  rank_test_score  \\\n",
              "0           0.850669  ...         0.843956        0.003709                7   \n",
              "1           0.904428  ...         0.898874        0.002780                5   \n",
              "2           0.897996  ...         0.891640        0.003193                6   \n",
              "3           0.904926  ...         0.899522        0.002704                4   \n",
              "4           0.904903  ...         0.899752        0.002581                1   \n",
              "5           0.905033  ...         0.899693        0.002677                3   \n",
              "6           0.904942  ...         0.899738        0.002607                2   \n",
              "\n",
              "   split0_train_score  split1_train_score  split2_train_score  \\\n",
              "0            0.844411            0.844485            0.844724   \n",
              "1            0.899345            0.899356            0.899371   \n",
              "2            0.892073            0.892061            0.892251   \n",
              "3            0.899995            0.900002            0.900021   \n",
              "4            0.900305            0.900312            0.900307   \n",
              "5            0.900241            0.900286            0.900053   \n",
              "6            0.900228            0.900315            0.900295   \n",
              "\n",
              "   split3_train_score  split4_train_score  mean_train_score  std_train_score  \n",
              "0            0.842605            0.844556          0.844156         0.000783  \n",
              "1            0.897757            0.899399          0.899046         0.000645  \n",
              "2            0.890525            0.892172          0.891816         0.000649  \n",
              "3            0.898379            0.900060          0.899691         0.000657  \n",
              "4            0.898547            0.900274          0.899949         0.000701  \n",
              "5            0.898694            0.900294          0.899914         0.000616  \n",
              "6            0.898573            0.900289          0.899940         0.000684  \n",
              "\n",
              "[7 rows x 21 columns]"
            ],
            "text/html": [
              "\n",
              "  <div id=\"df-247d94e9-6247-4edc-8d51-051c3ef89562\">\n",
              "    <div class=\"colab-df-container\">\n",
              "      <div>\n",
              "<style scoped>\n",
              "    .dataframe tbody tr th:only-of-type {\n",
              "        vertical-align: middle;\n",
              "    }\n",
              "\n",
              "    .dataframe tbody tr th {\n",
              "        vertical-align: top;\n",
              "    }\n",
              "\n",
              "    .dataframe thead th {\n",
              "        text-align: right;\n",
              "    }\n",
              "</style>\n",
              "<table border=\"1\" class=\"dataframe\">\n",
              "  <thead>\n",
              "    <tr style=\"text-align: right;\">\n",
              "      <th></th>\n",
              "      <th>mean_fit_time</th>\n",
              "      <th>std_fit_time</th>\n",
              "      <th>mean_score_time</th>\n",
              "      <th>std_score_time</th>\n",
              "      <th>param_C</th>\n",
              "      <th>params</th>\n",
              "      <th>split0_test_score</th>\n",
              "      <th>split1_test_score</th>\n",
              "      <th>split2_test_score</th>\n",
              "      <th>split3_test_score</th>\n",
              "      <th>...</th>\n",
              "      <th>mean_test_score</th>\n",
              "      <th>std_test_score</th>\n",
              "      <th>rank_test_score</th>\n",
              "      <th>split0_train_score</th>\n",
              "      <th>split1_train_score</th>\n",
              "      <th>split2_train_score</th>\n",
              "      <th>split3_train_score</th>\n",
              "      <th>split4_train_score</th>\n",
              "      <th>mean_train_score</th>\n",
              "      <th>std_train_score</th>\n",
              "    </tr>\n",
              "  </thead>\n",
              "  <tbody>\n",
              "    <tr>\n",
              "      <th>0</th>\n",
              "      <td>0.542120</td>\n",
              "      <td>0.067317</td>\n",
              "      <td>0.010938</td>\n",
              "      <td>0.000620</td>\n",
              "      <td>0.001</td>\n",
              "      <td>{'C': 0.001}</td>\n",
              "      <td>0.841183</td>\n",
              "      <td>0.842028</td>\n",
              "      <td>0.845218</td>\n",
              "      <td>0.850669</td>\n",
              "      <td>...</td>\n",
              "      <td>0.843956</td>\n",
              "      <td>0.003709</td>\n",
              "      <td>7</td>\n",
              "      <td>0.844411</td>\n",
              "      <td>0.844485</td>\n",
              "      <td>0.844724</td>\n",
              "      <td>0.842605</td>\n",
              "      <td>0.844556</td>\n",
              "      <td>0.844156</td>\n",
              "      <td>0.000783</td>\n",
              "    </tr>\n",
              "    <tr>\n",
              "      <th>1</th>\n",
              "      <td>0.889626</td>\n",
              "      <td>0.031424</td>\n",
              "      <td>0.010329</td>\n",
              "      <td>0.000472</td>\n",
              "      <td>0.05</td>\n",
              "      <td>{'C': 0.05}</td>\n",
              "      <td>0.897462</td>\n",
              "      <td>0.897597</td>\n",
              "      <td>0.897630</td>\n",
              "      <td>0.904428</td>\n",
              "      <td>...</td>\n",
              "      <td>0.898874</td>\n",
              "      <td>0.002780</td>\n",
              "      <td>5</td>\n",
              "      <td>0.899345</td>\n",
              "      <td>0.899356</td>\n",
              "      <td>0.899371</td>\n",
              "      <td>0.897757</td>\n",
              "      <td>0.899399</td>\n",
              "      <td>0.899046</td>\n",
              "      <td>0.000645</td>\n",
              "    </tr>\n",
              "    <tr>\n",
              "      <th>2</th>\n",
              "      <td>0.740282</td>\n",
              "      <td>0.049175</td>\n",
              "      <td>0.011739</td>\n",
              "      <td>0.001896</td>\n",
              "      <td>0.01</td>\n",
              "      <td>{'C': 0.01}</td>\n",
              "      <td>0.889749</td>\n",
              "      <td>0.889985</td>\n",
              "      <td>0.890634</td>\n",
              "      <td>0.897996</td>\n",
              "      <td>...</td>\n",
              "      <td>0.891640</td>\n",
              "      <td>0.003193</td>\n",
              "      <td>6</td>\n",
              "      <td>0.892073</td>\n",
              "      <td>0.892061</td>\n",
              "      <td>0.892251</td>\n",
              "      <td>0.890525</td>\n",
              "      <td>0.892172</td>\n",
              "      <td>0.891816</td>\n",
              "      <td>0.000649</td>\n",
              "    </tr>\n",
              "    <tr>\n",
              "      <th>3</th>\n",
              "      <td>0.881155</td>\n",
              "      <td>0.030655</td>\n",
              "      <td>0.010548</td>\n",
              "      <td>0.000466</td>\n",
              "      <td>0.1</td>\n",
              "      <td>{'C': 0.1}</td>\n",
              "      <td>0.898152</td>\n",
              "      <td>0.898319</td>\n",
              "      <td>0.898251</td>\n",
              "      <td>0.904926</td>\n",
              "      <td>...</td>\n",
              "      <td>0.899522</td>\n",
              "      <td>0.002704</td>\n",
              "      <td>4</td>\n",
              "      <td>0.899995</td>\n",
              "      <td>0.900002</td>\n",
              "      <td>0.900021</td>\n",
              "      <td>0.898379</td>\n",
              "      <td>0.900060</td>\n",
              "      <td>0.899691</td>\n",
              "      <td>0.000657</td>\n",
              "    </tr>\n",
              "    <tr>\n",
              "      <th>4</th>\n",
              "      <td>0.935414</td>\n",
              "      <td>0.063669</td>\n",
              "      <td>0.010763</td>\n",
              "      <td>0.000538</td>\n",
              "      <td>1</td>\n",
              "      <td>{'C': 1}</td>\n",
              "      <td>0.898522</td>\n",
              "      <td>0.898673</td>\n",
              "      <td>0.898492</td>\n",
              "      <td>0.904903</td>\n",
              "      <td>...</td>\n",
              "      <td>0.899752</td>\n",
              "      <td>0.002581</td>\n",
              "      <td>1</td>\n",
              "      <td>0.900305</td>\n",
              "      <td>0.900312</td>\n",
              "      <td>0.900307</td>\n",
              "      <td>0.898547</td>\n",
              "      <td>0.900274</td>\n",
              "      <td>0.899949</td>\n",
              "      <td>0.000701</td>\n",
              "    </tr>\n",
              "    <tr>\n",
              "      <th>5</th>\n",
              "      <td>0.942865</td>\n",
              "      <td>0.060538</td>\n",
              "      <td>0.010687</td>\n",
              "      <td>0.000468</td>\n",
              "      <td>10</td>\n",
              "      <td>{'C': 10}</td>\n",
              "      <td>0.898512</td>\n",
              "      <td>0.898623</td>\n",
              "      <td>0.898121</td>\n",
              "      <td>0.905033</td>\n",
              "      <td>...</td>\n",
              "      <td>0.899693</td>\n",
              "      <td>0.002677</td>\n",
              "      <td>3</td>\n",
              "      <td>0.900241</td>\n",
              "      <td>0.900286</td>\n",
              "      <td>0.900053</td>\n",
              "      <td>0.898694</td>\n",
              "      <td>0.900294</td>\n",
              "      <td>0.899914</td>\n",
              "      <td>0.000616</td>\n",
              "    </tr>\n",
              "    <tr>\n",
              "      <th>6</th>\n",
              "      <td>0.906259</td>\n",
              "      <td>0.053385</td>\n",
              "      <td>0.011876</td>\n",
              "      <td>0.002228</td>\n",
              "      <td>100</td>\n",
              "      <td>{'C': 100}</td>\n",
              "      <td>0.898371</td>\n",
              "      <td>0.898634</td>\n",
              "      <td>0.898553</td>\n",
              "      <td>0.904942</td>\n",
              "      <td>...</td>\n",
              "      <td>0.899738</td>\n",
              "      <td>0.002607</td>\n",
              "      <td>2</td>\n",
              "      <td>0.900228</td>\n",
              "      <td>0.900315</td>\n",
              "      <td>0.900295</td>\n",
              "      <td>0.898573</td>\n",
              "      <td>0.900289</td>\n",
              "      <td>0.899940</td>\n",
              "      <td>0.000684</td>\n",
              "    </tr>\n",
              "  </tbody>\n",
              "</table>\n",
              "<p>7 rows × 21 columns</p>\n",
              "</div>\n",
              "      <button class=\"colab-df-convert\" onclick=\"convertToInteractive('df-247d94e9-6247-4edc-8d51-051c3ef89562')\"\n",
              "              title=\"Convert this dataframe to an interactive table.\"\n",
              "              style=\"display:none;\">\n",
              "        \n",
              "  <svg xmlns=\"http://www.w3.org/2000/svg\" height=\"24px\"viewBox=\"0 0 24 24\"\n",
              "       width=\"24px\">\n",
              "    <path d=\"M0 0h24v24H0V0z\" fill=\"none\"/>\n",
              "    <path d=\"M18.56 5.44l.94 2.06.94-2.06 2.06-.94-2.06-.94-.94-2.06-.94 2.06-2.06.94zm-11 1L8.5 8.5l.94-2.06 2.06-.94-2.06-.94L8.5 2.5l-.94 2.06-2.06.94zm10 10l.94 2.06.94-2.06 2.06-.94-2.06-.94-.94-2.06-.94 2.06-2.06.94z\"/><path d=\"M17.41 7.96l-1.37-1.37c-.4-.4-.92-.59-1.43-.59-.52 0-1.04.2-1.43.59L10.3 9.45l-7.72 7.72c-.78.78-.78 2.05 0 2.83L4 21.41c.39.39.9.59 1.41.59.51 0 1.02-.2 1.41-.59l7.78-7.78 2.81-2.81c.8-.78.8-2.07 0-2.86zM5.41 20L4 18.59l7.72-7.72 1.47 1.35L5.41 20z\"/>\n",
              "  </svg>\n",
              "      </button>\n",
              "      \n",
              "  <style>\n",
              "    .colab-df-container {\n",
              "      display:flex;\n",
              "      flex-wrap:wrap;\n",
              "      gap: 12px;\n",
              "    }\n",
              "\n",
              "    .colab-df-convert {\n",
              "      background-color: #E8F0FE;\n",
              "      border: none;\n",
              "      border-radius: 50%;\n",
              "      cursor: pointer;\n",
              "      display: none;\n",
              "      fill: #1967D2;\n",
              "      height: 32px;\n",
              "      padding: 0 0 0 0;\n",
              "      width: 32px;\n",
              "    }\n",
              "\n",
              "    .colab-df-convert:hover {\n",
              "      background-color: #E2EBFA;\n",
              "      box-shadow: 0px 1px 2px rgba(60, 64, 67, 0.3), 0px 1px 3px 1px rgba(60, 64, 67, 0.15);\n",
              "      fill: #174EA6;\n",
              "    }\n",
              "\n",
              "    [theme=dark] .colab-df-convert {\n",
              "      background-color: #3B4455;\n",
              "      fill: #D2E3FC;\n",
              "    }\n",
              "\n",
              "    [theme=dark] .colab-df-convert:hover {\n",
              "      background-color: #434B5C;\n",
              "      box-shadow: 0px 1px 3px 1px rgba(0, 0, 0, 0.15);\n",
              "      filter: drop-shadow(0px 1px 2px rgba(0, 0, 0, 0.3));\n",
              "      fill: #FFFFFF;\n",
              "    }\n",
              "  </style>\n",
              "\n",
              "      <script>\n",
              "        const buttonEl =\n",
              "          document.querySelector('#df-247d94e9-6247-4edc-8d51-051c3ef89562 button.colab-df-convert');\n",
              "        buttonEl.style.display =\n",
              "          google.colab.kernel.accessAllowed ? 'block' : 'none';\n",
              "\n",
              "        async function convertToInteractive(key) {\n",
              "          const element = document.querySelector('#df-247d94e9-6247-4edc-8d51-051c3ef89562');\n",
              "          const dataTable =\n",
              "            await google.colab.kernel.invokeFunction('convertToInteractive',\n",
              "                                                     [key], {});\n",
              "          if (!dataTable) return;\n",
              "\n",
              "          const docLinkHtml = 'Like what you see? Visit the ' +\n",
              "            '<a target=\"_blank\" href=https://colab.research.google.com/notebooks/data_table.ipynb>data table notebook</a>'\n",
              "            + ' to learn more about interactive tables.';\n",
              "          element.innerHTML = '';\n",
              "          dataTable['output_type'] = 'display_data';\n",
              "          await google.colab.output.renderOutput(dataTable, element);\n",
              "          const docLink = document.createElement('div');\n",
              "          docLink.innerHTML = docLinkHtml;\n",
              "          element.appendChild(docLink);\n",
              "        }\n",
              "      </script>\n",
              "    </div>\n",
              "  </div>\n",
              "  "
            ]
          },
          "metadata": {},
          "execution_count": 144
        }
      ]
    },
    {
      "cell_type": "code",
      "source": [
        "# plot of C versus train and validation scores\n",
        "\n",
        "plt.figure(figsize=(8, 6))\n",
        "plt.plot(cv_results['param_C'], cv_results['mean_test_score'])\n",
        "plt.plot(cv_results['param_C'], cv_results['mean_train_score'])\n",
        "plt.xlabel('C')\n",
        "plt.ylabel('roc_auc')\n",
        "plt.legend(['test result', 'train result'], loc='upper left')\n",
        "plt.xscale('log')"
      ],
      "metadata": {
        "id": "aZxAWoHk_BaO",
        "colab": {
          "base_uri": "https://localhost:8080/",
          "height": 392
        },
        "outputId": "bea5420d-4401-4987-a032-17ea7fae4197"
      },
      "execution_count": null,
      "outputs": [
        {
          "output_type": "display_data",
          "data": {
            "text/plain": [
              "<Figure size 576x432 with 1 Axes>"
            ],
            "image/png": "[encoded data removed]"
          },
          "metadata": {
            "needs_background": "light"
          }
        }
      ]
    },
    {
      "cell_type": "code",
      "source": [
        "# Best score with best C\n",
        "best_score = model_cv.best_score_\n",
        "best_C = model_cv.best_params_['C']\n",
        "\n",
        "print(\" The highest test roc_auc is {0} at C = {1}\".format(best_score, best_C))"
      ],
      "metadata": {
        "id": "0OD_z1om_BWf",
        "colab": {
          "base_uri": "https://localhost:8080/"
        },
        "outputId": "1af97cb7-0275-41eb-a460-d8c1c80ba86a"
      },
      "execution_count": null,
      "outputs": [
        {
          "output_type": "stream",
          "name": "stdout",
          "text": [
            " The highest test roc_auc is 0.8997520064470251 at C = 1\n"
          ]
        }
      ]
    },
    {
      "cell_type": "code",
      "source": [
        "# Instantiate the model with best C\n",
        "logistic_imb = LogisticRegression(C=1)"
      ],
      "metadata": {
        "id": "ROwBTfEX_BSq"
      },
      "execution_count": null,
      "outputs": []
    },
    {
      "cell_type": "code",
      "source": [
        "# Fit the model on the train set\n",
        "logistic_imb_model = logistic_imb.fit(X_train, Y_train)"
      ],
      "metadata": {
        "id": "Mgl6ZIrf_11Y",
        "colab": {
          "base_uri": "https://localhost:8080/"
        },
        "outputId": "b7f4b0b0-77c9-4fa8-f989-381ef12f22b4"
      },
      "execution_count": null,
      "outputs": [
        {
          "output_type": "stream",
          "name": "stderr",
          "text": [
            "/usr/local/lib/python3.7/dist-packages/sklearn/linear_model/_logistic.py:818: ConvergenceWarning: lbfgs failed to converge (status=1):\n",
            "STOP: TOTAL NO. of ITERATIONS REACHED LIMIT.\n",
            "\n",
            "Increase the number of iterations (max_iter) or scale the data as shown in:\n",
            "    https://scikit-learn.org/stable/modules/preprocessing.html\n",
            "Please also refer to the documentation for alternative solver options:\n",
            "    https://scikit-learn.org/stable/modules/linear_model.html#logistic-regression\n",
            "  extra_warning_msg=_LOGISTIC_SOLVER_CONVERGENCE_MSG,\n"
          ]
        }
      ]
    },
    {
      "cell_type": "code",
      "source": [
        "# Predictions on the train set\n",
        "Y_train_pred = logistic_imb_model.predict(X_train)"
      ],
      "metadata": {
        "id": "mFYalbs7_8Ct"
      },
      "execution_count": null,
      "outputs": []
    },
    {
      "cell_type": "code",
      "source": [
        "# Confusion matrix\n",
        "confusion = metrics.confusion_matrix(Y_train, Y_train_pred)\n",
        "print(confusion)"
      ],
      "metadata": {
        "id": "pdK0EWXk__Ft",
        "colab": {
          "base_uri": "https://localhost:8080/"
        },
        "outputId": "83520b9a-fd3a-414d-eaed-91baa648582b"
      },
      "execution_count": null,
      "outputs": [
        {
          "output_type": "stream",
          "name": "stdout",
          "text": [
            "[[24831  4907]\n",
            " [ 6688 22370]]\n"
          ]
        }
      ]
    },
    {
      "cell_type": "code",
      "source": [
        "TP = confusion[1,1] # true positive \n",
        "TN = confusion[0,0] # true negatives\n",
        "FP = confusion[0,1] # false positives\n",
        "FN = confusion[1,0] # false negatives"
      ],
      "metadata": {
        "id": "1EbwqVsMAMPA"
      },
      "execution_count": null,
      "outputs": []
    },
    {
      "cell_type": "code",
      "source": [
        "# Accuracy\n",
        "print(\"Accuracy:-\",metrics.accuracy_score(Y_train, Y_train_pred))\n",
        "\n",
        "# Sensitivity\n",
        "print(\"Sensitivity:-\",TP / float(TP+FN))\n",
        "\n",
        "# Specificity\n",
        "print(\"Specificity:-\", TN / float(TN+FP))\n",
        "\n",
        "# F1 score\n",
        "print(\"F1-Score:-\", f1_score(Y_train, Y_train_pred))"
      ],
      "metadata": {
        "id": "qyEKkIBdAR10",
        "colab": {
          "base_uri": "https://localhost:8080/"
        },
        "outputId": "4a52a076-5e91-4972-9df6-ea1450a34e1b"
      },
      "execution_count": null,
      "outputs": [
        {
          "output_type": "stream",
          "name": "stdout",
          "text": [
            "Accuracy:- 0.8027927069868699\n",
            "Sensitivity:- 0.7698396310826623\n",
            "Specificity:- 0.8349922657878808\n",
            "F1-Score:- 0.7941776870506789\n"
          ]
        }
      ]
    },
    {
      "cell_type": "code",
      "source": [
        "# Predictions on the train set\n",
        "Y_test_pred = logistic_imb_model.predict(X_test)"
      ],
      "metadata": {
        "id": "hGYkW1IuRzzn"
      },
      "execution_count": null,
      "outputs": []
    },
    {
      "cell_type": "code",
      "source": [
        "# Confusion matrix\n",
        "confusion = metrics.confusion_matrix(Y_test, Y_test_pred)\n",
        "print(confusion)"
      ],
      "metadata": {
        "id": "3we6vPraRzzo",
        "colab": {
          "base_uri": "https://localhost:8080/"
        },
        "outputId": "026e251a-2147-464c-b4cf-2303367d3765"
      },
      "execution_count": null,
      "outputs": [
        {
          "output_type": "stream",
          "name": "stdout",
          "text": [
            "[[6230 1195]\n",
            " [ 183  225]]\n"
          ]
        }
      ]
    },
    {
      "cell_type": "code",
      "source": [
        "TP = confusion[1,1] # true positive \n",
        "TN = confusion[0,0] # true negatives\n",
        "FP = confusion[0,1] # false positives\n",
        "FN = confusion[1,0] # false negatives"
      ],
      "metadata": {
        "id": "wIdBwbTLRzzo"
      },
      "execution_count": null,
      "outputs": []
    },
    {
      "cell_type": "code",
      "source": [
        "# Accuracy\n",
        "print(\"Accuracy:-\",metrics.accuracy_score(Y_test, Y_test_pred))\n",
        "\n",
        "# Sensitivity\n",
        "print(\"Sensitivity:-\",TP / float(TP+FN))\n",
        "\n",
        "# Specificity\n",
        "print(\"Specificity:-\", TN / float(TN+FP))\n",
        "\n",
        "# F1 score\n",
        "print(\"F1-Score:-\", f1_score(Y_test, Y_test_pred))"
      ],
      "metadata": {
        "id": "UecCFnLtRzzo",
        "colab": {
          "base_uri": "https://localhost:8080/"
        },
        "outputId": "c23f9cab-7d4e-4452-dead-0cb7baed4283"
      },
      "execution_count": null,
      "outputs": [
        {
          "output_type": "stream",
          "name": "stdout",
          "text": [
            "Accuracy:- 0.8240776203242691\n",
            "Sensitivity:- 0.5514705882352942\n",
            "Specificity:- 0.8390572390572391\n",
            "F1-Score:- 0.2461706783369803\n"
          ]
        }
      ]
    },
    {
      "cell_type": "markdown",
      "source": [
        "## **RANDOM FOREST**"
      ],
      "metadata": {
        "id": "Wg4ekAytHGsC"
      }
    },
    {
      "cell_type": "code",
      "source": [
        "param_grid = {\n",
        "    'max_depth': range(5,10,5),\n",
        "    'min_samples_leaf': range(50, 150, 50),\n",
        "    'min_samples_split': range(50, 150, 50),\n",
        "    'n_estimators': [100,200,300], \n",
        "    'max_features': [10, 20]\n",
        "}\n",
        "# Create a based model\n",
        "rf = RandomForestClassifier()\n",
        "# Instantiate the grid search model\n",
        "grid_search = GridSearchCV(estimator = rf, \n",
        "                           param_grid = param_grid, \n",
        "                           cv = 2,\n",
        "                           n_jobs = -1,\n",
        "                           verbose = 1, \n",
        "                           return_train_score=True)\n",
        "\n",
        "# Fit the model\n",
        "grid_search.fit(X_train, Y_train)"
      ],
      "metadata": {
        "colab": {
          "base_uri": "https://localhost:8080/"
        },
        "id": "ZvfbObHUHK3v",
        "outputId": "4d024221-9747-48df-f3b2-993d28e94e67"
      },
      "execution_count": null,
      "outputs": [
        {
          "output_type": "stream",
          "name": "stdout",
          "text": [
            "Fitting 2 folds for each of 24 candidates, totalling 48 fits\n"
          ]
        },
        {
          "output_type": "stream",
          "name": "stderr",
          "text": [
            "/usr/local/lib/python3.7/dist-packages/sklearn/model_selection/_validation.py:372: FitFailedWarning: \n",
            "24 fits failed out of a total of 48.\n",
            "The score on these train-test partitions for these parameters will be set to nan.\n",
            "If these failures are not expected, you can try to debug them by setting error_score='raise'.\n",
            "\n",
            "Below are more details about the failures:\n",
            "--------------------------------------------------------------------------------\n",
            "24 fits failed with the following error:\n",
            "Traceback (most recent call last):\n",
            "  File \"/usr/local/lib/python3.7/dist-packages/sklearn/model_selection/_validation.py\", line 680, in _fit_and_score\n",
            "    estimator.fit(X_train, y_train, **fit_params)\n",
            "  File \"/usr/local/lib/python3.7/dist-packages/sklearn/ensemble/_forest.py\", line 467, in fit\n",
            "    for i, t in enumerate(trees)\n",
            "  File \"/usr/local/lib/python3.7/dist-packages/joblib/parallel.py\", line 1043, in __call__\n",
            "    if self.dispatch_one_batch(iterator):\n",
            "  File \"/usr/local/lib/python3.7/dist-packages/joblib/parallel.py\", line 861, in dispatch_one_batch\n",
            "    self._dispatch(tasks)\n",
            "  File \"/usr/local/lib/python3.7/dist-packages/joblib/parallel.py\", line 779, in _dispatch\n",
            "    job = self._backend.apply_async(batch, callback=cb)\n",
            "  File \"/usr/local/lib/python3.7/dist-packages/joblib/_parallel_backends.py\", line 208, in apply_async\n",
            "    result = ImmediateResult(func)\n",
            "  File \"/usr/local/lib/python3.7/dist-packages/joblib/_parallel_backends.py\", line 572, in __init__\n",
            "    self.results = batch()\n",
            "  File \"/usr/local/lib/python3.7/dist-packages/joblib/parallel.py\", line 263, in __call__\n",
            "    for func, args, kwargs in self.items]\n",
            "  File \"/usr/local/lib/python3.7/dist-packages/joblib/parallel.py\", line 263, in <listcomp>\n",
            "    for func, args, kwargs in self.items]\n",
            "  File \"/usr/local/lib/python3.7/dist-packages/sklearn/utils/fixes.py\", line 216, in __call__\n",
            "    return self.function(*args, **kwargs)\n",
            "  File \"/usr/local/lib/python3.7/dist-packages/sklearn/ensemble/_forest.py\", line 185, in _parallel_build_trees\n",
            "    tree.fit(X, y, sample_weight=curr_sample_weight, check_input=False)\n",
            "  File \"/usr/local/lib/python3.7/dist-packages/sklearn/tree/_classes.py\", line 942, in fit\n",
            "    X_idx_sorted=X_idx_sorted,\n",
            "  File \"/usr/local/lib/python3.7/dist-packages/sklearn/tree/_classes.py\", line 308, in fit\n",
            "    raise ValueError(\"max_features must be in (0, n_features]\")\n",
            "ValueError: max_features must be in (0, n_features]\n",
            "\n",
            "  warnings.warn(some_fits_failed_message, FitFailedWarning)\n",
            "/usr/local/lib/python3.7/dist-packages/sklearn/model_selection/_search.py:972: UserWarning: One or more of the test scores are non-finite: [0.73731206 0.73601946 0.73445472 0.7339785  0.7384686  0.73807742\n",
            " 0.73209062 0.735033   0.7346248  0.73470984 0.73338322 0.7331111\n",
            "        nan        nan        nan        nan        nan        nan\n",
            "        nan        nan        nan        nan        nan        nan]\n",
            "  category=UserWarning,\n",
            "/usr/local/lib/python3.7/dist-packages/sklearn/model_selection/_search.py:972: UserWarning: One or more of the train scores are non-finite: [0.74275461 0.74285666 0.74256752 0.74113885 0.74222736 0.74270359\n",
            " 0.73902987 0.74066263 0.73981223 0.73962514 0.73926798 0.73829852\n",
            "        nan        nan        nan        nan        nan        nan\n",
            "        nan        nan        nan        nan        nan        nan]\n",
            "  category=UserWarning,\n"
          ]
        },
        {
          "output_type": "execute_result",
          "data": {
            "text/plain": [
              "GridSearchCV(cv=2, estimator=RandomForestClassifier(), n_jobs=-1,\n",
              "             param_grid={'max_depth': range(5, 10, 5), 'max_features': [10, 20],\n",
              "                         'min_samples_leaf': range(50, 150, 50),\n",
              "                         'min_samples_split': range(50, 150, 50),\n",
              "                         'n_estimators': [100, 200, 300]},\n",
              "             return_train_score=True, verbose=1)"
            ]
          },
          "metadata": {},
          "execution_count": 171
        }
      ]
    },
    {
      "cell_type": "code",
      "source": [
        "# printing the optimal accuracy score and hyperparameters\n",
        "print('We can get accuracy of',grid_search.best_score_,'using',grid_search.best_params_)"
      ],
      "metadata": {
        "colab": {
          "base_uri": "https://localhost:8080/"
        },
        "id": "nt2ZoBsdHK0X",
        "outputId": "cd377344-4537-4f68-86c1-e73e77854843"
      },
      "execution_count": null,
      "outputs": [
        {
          "output_type": "stream",
          "name": "stdout",
          "text": [
            "We can get accuracy of 0.7384686033063474 using {'max_depth': 5, 'max_features': 10, 'min_samples_leaf': 50, 'min_samples_split': 100, 'n_estimators': 200}\n"
          ]
        }
      ]
    },
    {
      "cell_type": "code",
      "source": [
        "# model with the best hyperparameters\n",
        "\n",
        "rfc_imb_model = RandomForestClassifier(bootstrap=True,\n",
        "                             max_depth=5,\n",
        "                             min_samples_leaf=50, \n",
        "                             min_samples_split=50,\n",
        "                             max_features=10,\n",
        "                             n_estimators=100)"
      ],
      "metadata": {
        "id": "2AL3wZ0NHKw1"
      },
      "execution_count": null,
      "outputs": []
    },
    {
      "cell_type": "code",
      "source": [
        "# Fit the model\n",
        "rfc_imb_model.fit(X_train, Y_train)"
      ],
      "metadata": {
        "colab": {
          "base_uri": "https://localhost:8080/"
        },
        "id": "R-sBiQGtHKtT",
        "outputId": "4b9963c0-1a2d-42f6-b4ba-446261327146"
      },
      "execution_count": null,
      "outputs": [
        {
          "output_type": "execute_result",
          "data": {
            "text/plain": [
              "RandomForestClassifier(max_depth=5, max_features=10, min_samples_leaf=50,\n",
              "                       min_samples_split=50)"
            ]
          },
          "metadata": {},
          "execution_count": 175
        }
      ]
    },
    {
      "cell_type": "code",
      "source": [
        "# Predictions on the train set\n",
        "Y_train_pred = rfc_imb_model.predict(X_train)"
      ],
      "metadata": {
        "id": "gaty0AEAHKp0"
      },
      "execution_count": null,
      "outputs": []
    },
    {
      "cell_type": "code",
      "source": [
        "# Confusion matrix\n",
        "confusion = metrics.confusion_matrix(Y_train, Y_train_pred)\n",
        "print(confusion)"
      ],
      "metadata": {
        "colab": {
          "base_uri": "https://localhost:8080/"
        },
        "id": "DWCdXSLfHaPM",
        "outputId": "f9e01cae-ee47-4cfa-a930-58b00be532d7"
      },
      "execution_count": null,
      "outputs": [
        {
          "output_type": "stream",
          "name": "stdout",
          "text": [
            "[[21160  8578]\n",
            " [ 6741 22317]]\n"
          ]
        }
      ]
    },
    {
      "cell_type": "code",
      "source": [
        "TP = confusion[1,1] # true positive \n",
        "TN = confusion[0,0] # true negatives\n",
        "FP = confusion[0,1] # false positives\n",
        "FN = confusion[1,0] # false negatives"
      ],
      "metadata": {
        "id": "udCx9azqHaLm"
      },
      "execution_count": null,
      "outputs": []
    },
    {
      "cell_type": "code",
      "source": [
        "# Accuracy\n",
        "print(\"Accuracy:-\",metrics.accuracy_score(Y_train, Y_train_pred))\n",
        "\n",
        "# Sensitivity\n",
        "print(\"Sensitivity:-\",TP / float(TP+FN))\n",
        "\n",
        "# Specificity\n",
        "print(\"Specificity:-\", TN / float(TN+FP))\n",
        "\n",
        "# F1 score\n",
        "print(\"F1-Score:-\", f1_score(Y_train, Y_train_pred))"
      ],
      "metadata": {
        "colab": {
          "base_uri": "https://localhost:8080/"
        },
        "id": "J1KPQhuJHaIc",
        "outputId": "77ac333a-06b4-4d6e-9b53-8d0c3a6400d4"
      },
      "execution_count": null,
      "outputs": [
        {
          "output_type": "stream",
          "name": "stdout",
          "text": [
            "Accuracy:- 0.7394550649704061\n",
            "Sensitivity:- 0.7680156927524262\n",
            "Specificity:- 0.7115475149640191\n",
            "F1-Score:- 0.7444831784898169\n"
          ]
        }
      ]
    },
    {
      "cell_type": "code",
      "source": [
        "# Predictions on the train set\n",
        "Y_test_pred = kn_model.predict(X_test)"
      ],
      "metadata": {
        "id": "yFvJC_M3Mehs"
      },
      "execution_count": null,
      "outputs": []
    },
    {
      "cell_type": "code",
      "source": [
        "# Confusion matrix\n",
        "confusion = metrics.confusion_matrix(Y_test, Y_test_pred)\n",
        "print(confusion)"
      ],
      "metadata": {
        "colab": {
          "base_uri": "https://localhost:8080/"
        },
        "outputId": "84ee8b6a-807a-46c5-aacb-c3c1467be1dc",
        "id": "gw9By-wCMeht"
      },
      "execution_count": null,
      "outputs": [
        {
          "output_type": "stream",
          "name": "stdout",
          "text": [
            "[[7201  224]\n",
            " [ 362   46]]\n"
          ]
        }
      ]
    },
    {
      "cell_type": "code",
      "source": [
        "TP = confusion[1,1] # true positive \n",
        "TN = confusion[0,0] # true negatives\n",
        "FP = confusion[0,1] # false positives\n",
        "FN = confusion[1,0] # false negatives"
      ],
      "metadata": {
        "id": "TgSKtmq_Meht"
      },
      "execution_count": null,
      "outputs": []
    },
    {
      "cell_type": "code",
      "source": [
        "# Accuracy\n",
        "print(\"Accuracy:-\",metrics.accuracy_score(Y_test, Y_test_pred))\n",
        "\n",
        "# Sensitivity\n",
        "print(\"Sensitivity:-\",TP / float(TP+FN))\n",
        "\n",
        "# Specificity\n",
        "print(\"Specificity:-\", TN / float(TN+FP))\n",
        "\n",
        "# F1 score\n",
        "print(\"F1-Score:-\", f1_score(Y_test, Y_test_pred))"
      ],
      "metadata": {
        "colab": {
          "base_uri": "https://localhost:8080/"
        },
        "outputId": "83365412-a719-47ed-ad32-5309c80d6321",
        "id": "cc6nz0IfMeht"
      },
      "execution_count": null,
      "outputs": [
        {
          "output_type": "stream",
          "name": "stdout",
          "text": [
            "Accuracy:- 0.9251883058853568\n",
            "Sensitivity:- 0.11274509803921569\n",
            "Specificity:- 0.9698316498316498\n",
            "F1-Score:- 0.13569321533923304\n"
          ]
        }
      ]
    },
    {
      "cell_type": "markdown",
      "source": [
        "## **KNN MODEL**"
      ],
      "metadata": {
        "id": "bsBjMrtYRvzi"
      }
    },
    {
      "cell_type": "code",
      "source": [
        "\n",
        "\n",
        "#Setup arrays to store training and test accuracies\n",
        "neighbors = np.array([2,5,10,20])\n",
        "train_accuracy =np.empty(len(neighbors))\n",
        "test_accuracy = np.empty(len(neighbors))\n",
        "\n",
        "for i,k in enumerate(neighbors):\n",
        "    # Setup a knn classifier with k neighbors\n",
        "    knn = KNeighborsClassifier(n_neighbors=k)\n",
        "    \n",
        "    # Fit the model\n",
        "    knn.fit(X_train, Y_train)\n",
        "    \n",
        "    # Compute accuracy on the training set\n",
        "    train_accuracy[i] = knn.score(X_train, Y_train)\n",
        "    \n",
        "    # Compute accuracy on the test set\n",
        "    test_accuracy[i] = knn.score(X_test, Y_test) "
      ],
      "metadata": {
        "id": "Owhe4bwPOmWl"
      },
      "execution_count": null,
      "outputs": []
    },
    {
      "cell_type": "code",
      "source": [
        "# Generate plot\n",
        "plt.title('k-NN Varying number of neighbors')\n",
        "plt.plot(neighbors, test_accuracy, label='Testing Accuracy')\n",
        "plt.plot(neighbors, train_accuracy, label='Training accuracy')\n",
        "plt.legend()\n",
        "plt.xlabel('Number of neighbors')\n",
        "plt.ylabel('Accuracy')\n",
        "plt.show()"
      ],
      "metadata": {
        "id": "1qh6tl-yO_Pj",
        "colab": {
          "base_uri": "https://localhost:8080/",
          "height": 295
        },
        "outputId": "c7b0ec2c-f9ea-45fb-b48c-48f3e007b448"
      },
      "execution_count": null,
      "outputs": [
        {
          "output_type": "display_data",
          "data": {
            "text/plain": [
              "<Figure size 432x288 with 1 Axes>"
            ],
            "image/png": "[encoded data removed]"
          },
          "metadata": {
            "needs_background": "light"
          }
        }
      ]
    },
    {
      "cell_type": "code",
      "source": [
        "# Setup a knn classifier with k neighbors\n",
        "knn = KNeighborsClassifier(n_neighbors=2)"
      ],
      "metadata": {
        "id": "i3Md8rGhSFqZ"
      },
      "execution_count": null,
      "outputs": []
    },
    {
      "cell_type": "code",
      "source": [
        "# Fit the model\n",
        "kn_model=knn.fit(X_train,Y_train)"
      ],
      "metadata": {
        "id": "OVVvYInXSORv"
      },
      "execution_count": null,
      "outputs": []
    },
    {
      "cell_type": "code",
      "source": [
        "# Predictions on the train set\n",
        "Y_train_pred = kn_model.predict(X_train)"
      ],
      "metadata": {
        "id": "yuQrGucKPVwx"
      },
      "execution_count": null,
      "outputs": []
    },
    {
      "cell_type": "code",
      "source": [
        "# Confusion matrix\n",
        "confusion = metrics.confusion_matrix(Y_train, Y_train_pred)\n",
        "print(confusion)"
      ],
      "metadata": {
        "id": "xUJEx47ePVwy",
        "colab": {
          "base_uri": "https://localhost:8080/"
        },
        "outputId": "c36b52c9-edb2-40f1-f66c-bff65182332b"
      },
      "execution_count": null,
      "outputs": [
        {
          "output_type": "stream",
          "name": "stdout",
          "text": [
            "[[29738     0]\n",
            " [ 5500 23558]]\n"
          ]
        }
      ]
    },
    {
      "cell_type": "code",
      "source": [
        "TP = confusion[1,1] # true positive \n",
        "TN = confusion[0,0] # true negatives\n",
        "FP = confusion[0,1] # false positives\n",
        "FN = confusion[1,0] # false negatives"
      ],
      "metadata": {
        "id": "FZlVJ_t6PVwy"
      },
      "execution_count": null,
      "outputs": []
    },
    {
      "cell_type": "code",
      "source": [
        "# Accuracy\n",
        "print(\"Accuracy:-\",metrics.accuracy_score(Y_train, Y_train_pred))\n",
        "\n",
        "# Sensitivity\n",
        "print(\"Sensitivity:-\",TP / float(TP+FN))\n",
        "\n",
        "# Specificity\n",
        "print(\"Specificity:-\", TN / float(TN+FP))\n",
        "\n",
        "# F1 score\n",
        "print(\"F1-Score:-\", f1_score(Y_train, Y_train_pred))"
      ],
      "metadata": {
        "id": "Kmfq7lrUPVwy",
        "colab": {
          "base_uri": "https://localhost:8080/"
        },
        "outputId": "31638933-d351-4c67-8b8b-4d4afd8dad78"
      },
      "execution_count": null,
      "outputs": [
        {
          "output_type": "stream",
          "name": "stdout",
          "text": [
            "Accuracy:- 0.9064562215116675\n",
            "Sensitivity:- 0.8107233808245577\n",
            "Specificity:- 1.0\n",
            "F1-Score:- 0.895469058841417\n"
          ]
        }
      ]
    },
    {
      "cell_type": "code",
      "source": [
        "# Predictions on the train set\n",
        "Y_test_pred = kn_model.predict(X_test)"
      ],
      "metadata": {
        "id": "fxMTe7c_RTfS"
      },
      "execution_count": null,
      "outputs": []
    },
    {
      "cell_type": "code",
      "source": [
        "# Confusion matrix\n",
        "confusion = metrics.confusion_matrix(Y_test, Y_test_pred)\n",
        "print(confusion)"
      ],
      "metadata": {
        "id": "eHWMEMMxRJ9O",
        "colab": {
          "base_uri": "https://localhost:8080/"
        },
        "outputId": "3c619b16-5e87-47da-f655-e5ec754b12d7"
      },
      "execution_count": null,
      "outputs": [
        {
          "output_type": "stream",
          "name": "stdout",
          "text": [
            "[[7201  224]\n",
            " [ 362   46]]\n"
          ]
        }
      ]
    },
    {
      "cell_type": "code",
      "source": [
        "TP = confusion[1,1] # true positive \n",
        "TN = confusion[0,0] # true negatives\n",
        "FP = confusion[0,1] # false positives\n",
        "FN = confusion[1,0] # false negatives"
      ],
      "metadata": {
        "id": "iqAGQ2ElRJ9O"
      },
      "execution_count": null,
      "outputs": []
    },
    {
      "cell_type": "code",
      "source": [
        "# Accuracy\n",
        "print(\"Accuracy:-\",metrics.accuracy_score(Y_test, Y_test_pred))\n",
        "\n",
        "# Sensitivity\n",
        "print(\"Sensitivity:-\",TP / float(TP+FN))\n",
        "\n",
        "# Specificity\n",
        "print(\"Specificity:-\", TN / float(TN+FP))\n",
        "\n",
        "# F1 score\n",
        "print(\"F1-Score:-\", f1_score(Y_test, Y_test_pred))"
      ],
      "metadata": {
        "id": "dh96ApDjRJ9P",
        "colab": {
          "base_uri": "https://localhost:8080/"
        },
        "outputId": "96872821-1bb6-4737-9f0d-8f4d2901dd78"
      },
      "execution_count": null,
      "outputs": [
        {
          "output_type": "stream",
          "name": "stdout",
          "text": [
            "Accuracy:- 0.9251883058853568\n",
            "Sensitivity:- 0.11274509803921569\n",
            "Specificity:- 0.9698316498316498\n",
            "F1-Score:- 0.13569321533923304\n"
          ]
        }
      ]
    },
    {
      "cell_type": "markdown",
      "source": [
        "## **XGBOOST ALGORITHM**"
      ],
      "metadata": {
        "id": "wElIX3msFtd2"
      }
    },
    {
      "cell_type": "code",
      "source": [
        "# hyperparameter tuning with XGBoost\n",
        "\n",
        "# creating a KFold object \n",
        "folds = 3\n",
        "\n",
        "# specify range of hyperparameters\n",
        "param_grid = {'learning_rate': [0.01,0.1,0.5,1,10,50], \n",
        "             'subsample': [0.3, 0.6, 0.9,1]}          \n",
        "\n",
        "\n",
        "# specify model\n",
        "xgb_model = XGBClassifier(max_depth=2, n_estimators=200)\n",
        "\n",
        "# set up GridSearchCV()\n",
        "model_cv = GridSearchCV(estimator = xgb_model, \n",
        "                        param_grid = param_grid, \n",
        "                        scoring= 'roc_auc', \n",
        "                        cv = folds, \n",
        "                        verbose = 1,\n",
        "                        return_train_score=True)      \n",
        "\n",
        "# fit the model\n",
        "model_cv.fit(X_train, Y_train) "
      ],
      "metadata": {
        "id": "xcblD3z-MNEc",
        "colab": {
          "base_uri": "https://localhost:8080/"
        },
        "outputId": "ca97dd55-5d7f-4e86-84dd-dfb47b7c331e"
      },
      "execution_count": null,
      "outputs": [
        {
          "output_type": "stream",
          "name": "stdout",
          "text": [
            "Fitting 3 folds for each of 24 candidates, totalling 72 fits\n"
          ]
        },
        {
          "output_type": "execute_result",
          "data": {
            "text/plain": [
              "GridSearchCV(cv=3, estimator=XGBClassifier(max_depth=2, n_estimators=200),\n",
              "             param_grid={'learning_rate': [0.01, 0.1, 0.5, 1, 10, 50],\n",
              "                         'subsample': [0.3, 0.6, 0.9, 1]},\n",
              "             return_train_score=True, scoring='roc_auc', verbose=1)"
            ]
          },
          "metadata": {},
          "execution_count": 127
        }
      ]
    },
    {
      "cell_type": "code",
      "source": [
        "cv_results = pd.DataFrame(model_cv.cv_results_)\n",
        "cv_results"
      ],
      "metadata": {
        "id": "EwOGpzvrNhfb",
        "colab": {
          "base_uri": "https://localhost:8080/",
          "height": 1000
        },
        "outputId": "9f84e19d-27e0-477d-bdb4-98035c0d0cf9"
      },
      "execution_count": null,
      "outputs": [
        {
          "output_type": "execute_result",
          "data": {
            "text/plain": [
              "    mean_fit_time  std_fit_time  mean_score_time  std_score_time  \\\n",
              "0        3.947416      0.060987         0.077314        0.005381   \n",
              "1        4.408902      0.023754         0.070702        0.001176   \n",
              "2        3.720568      0.016567         0.069496        0.002631   \n",
              "3        3.399951      0.011435         0.068944        0.001114   \n",
              "4        3.930056      0.031268         0.069738        0.003501   \n",
              "5        4.394658      0.005070         0.067931        0.003251   \n",
              "6        3.704909      0.033777         0.067239        0.000698   \n",
              "7        3.585326      0.400898         0.069900        0.000774   \n",
              "8        3.931310      0.026104         0.078283        0.001415   \n",
              "9        4.370283      0.020026         0.073537        0.000492   \n",
              "10       3.699335      0.018571         0.070495        0.003915   \n",
              "11       3.339075      0.074926         0.069048        0.001766   \n",
              "12       3.938881      0.044107         0.087911        0.002228   \n",
              "13       4.397414      0.063685         0.085131        0.001747   \n",
              "14       4.095621      0.360974         0.086864        0.013196   \n",
              "15       3.366912      0.029223         0.075262        0.000349   \n",
              "16       2.912298      0.384004         0.025540        0.000945   \n",
              "17       2.857563      0.006692         0.025168        0.000628   \n",
              "18       2.532674      0.007078         0.024986        0.000699   \n",
              "19       2.356302      0.097112         0.025337        0.000106   \n",
              "20       2.592359      0.014543         0.024604        0.000182   \n",
              "21       2.798023      0.013928         0.023984        0.000800   \n",
              "22       2.513924      0.035488         0.025482        0.002099   \n",
              "23       2.283930      0.036061         0.025063        0.000223   \n",
              "\n",
              "   param_learning_rate param_subsample  \\\n",
              "0                 0.01             0.3   \n",
              "1                 0.01             0.6   \n",
              "2                 0.01             0.9   \n",
              "3                 0.01               1   \n",
              "4                  0.1             0.3   \n",
              "5                  0.1             0.6   \n",
              "6                  0.1             0.9   \n",
              "7                  0.1               1   \n",
              "8                  0.5             0.3   \n",
              "9                  0.5             0.6   \n",
              "10                 0.5             0.9   \n",
              "11                 0.5               1   \n",
              "12                   1             0.3   \n",
              "13                   1             0.6   \n",
              "14                   1             0.9   \n",
              "15                   1               1   \n",
              "16                  10             0.3   \n",
              "17                  10             0.6   \n",
              "18                  10             0.9   \n",
              "19                  10               1   \n",
              "20                  50             0.3   \n",
              "21                  50             0.6   \n",
              "22                  50             0.9   \n",
              "23                  50               1   \n",
              "\n",
              "                                       params  split0_test_score  \\\n",
              "0   {'learning_rate': 0.01, 'subsample': 0.3}           0.808324   \n",
              "1   {'learning_rate': 0.01, 'subsample': 0.6}           0.805045   \n",
              "2   {'learning_rate': 0.01, 'subsample': 0.9}           0.804924   \n",
              "3     {'learning_rate': 0.01, 'subsample': 1}           0.804594   \n",
              "4    {'learning_rate': 0.1, 'subsample': 0.3}           0.908450   \n",
              "5    {'learning_rate': 0.1, 'subsample': 0.6}           0.908393   \n",
              "6    {'learning_rate': 0.1, 'subsample': 0.9}           0.904583   \n",
              "7      {'learning_rate': 0.1, 'subsample': 1}           0.902260   \n",
              "8    {'learning_rate': 0.5, 'subsample': 0.3}           0.915370   \n",
              "9    {'learning_rate': 0.5, 'subsample': 0.6}           0.917646   \n",
              "10   {'learning_rate': 0.5, 'subsample': 0.9}           0.916681   \n",
              "11     {'learning_rate': 0.5, 'subsample': 1}           0.917640   \n",
              "12     {'learning_rate': 1, 'subsample': 0.3}           0.910802   \n",
              "13     {'learning_rate': 1, 'subsample': 0.6}           0.914560   \n",
              "14     {'learning_rate': 1, 'subsample': 0.9}           0.915299   \n",
              "15       {'learning_rate': 1, 'subsample': 1}           0.915104   \n",
              "16    {'learning_rate': 10, 'subsample': 0.3}           0.500000   \n",
              "17    {'learning_rate': 10, 'subsample': 0.6}           0.500000   \n",
              "18    {'learning_rate': 10, 'subsample': 0.9}           0.500000   \n",
              "19      {'learning_rate': 10, 'subsample': 1}           0.500000   \n",
              "20    {'learning_rate': 50, 'subsample': 0.3}           0.500000   \n",
              "21    {'learning_rate': 50, 'subsample': 0.6}           0.500000   \n",
              "22    {'learning_rate': 50, 'subsample': 0.9}           0.500000   \n",
              "23      {'learning_rate': 50, 'subsample': 1}           0.500000   \n",
              "\n",
              "    split1_test_score  split2_test_score  mean_test_score  std_test_score  \\\n",
              "0            0.797267           0.811453         0.805681        0.006085   \n",
              "1            0.796607           0.809419         0.803691        0.005317   \n",
              "2            0.796075           0.810855         0.803952        0.006073   \n",
              "3            0.797084           0.810859         0.804179        0.005632   \n",
              "4            0.920557           0.928033         0.919013        0.008069   \n",
              "5            0.916522           0.927155         0.917357        0.007682   \n",
              "6            0.921639           0.924790         0.917004        0.008877   \n",
              "7            0.913845           0.923848         0.913318        0.008821   \n",
              "8            0.940231           0.947763         0.934454        0.013841   \n",
              "9            0.940323           0.948872         0.935614        0.013176   \n",
              "10           0.940462           0.948813         0.935319        0.013613   \n",
              "11           0.939963           0.948051         0.935218        0.012861   \n",
              "12           0.938422           0.945844         0.931689        0.015077   \n",
              "13           0.940467           0.947457         0.934161        0.014151   \n",
              "14           0.941536           0.948937         0.935257        0.014432   \n",
              "15           0.941191           0.948714         0.935003        0.014402   \n",
              "16           0.500000           0.500000         0.500000        0.000000   \n",
              "17           0.500000           0.500000         0.500000        0.000000   \n",
              "18           0.500000           0.500000         0.500000        0.000000   \n",
              "19           0.500000           0.500000         0.500000        0.000000   \n",
              "20           0.500000           0.500000         0.500000        0.000000   \n",
              "21           0.500000           0.500000         0.500000        0.000000   \n",
              "22           0.500000           0.500000         0.500000        0.000000   \n",
              "23           0.500000           0.500000         0.500000        0.000000   \n",
              "\n",
              "    rank_test_score  split0_train_score  split1_train_score  \\\n",
              "0                13            0.813488            0.810966   \n",
              "1                16            0.811166            0.810987   \n",
              "2                15            0.810284            0.810634   \n",
              "3                14            0.810613            0.811074   \n",
              "4                 9            0.936411            0.923642   \n",
              "5                10            0.936504            0.921444   \n",
              "6                11            0.931458            0.924512   \n",
              "7                12            0.928597            0.918557   \n",
              "8                 6            0.954907            0.943221   \n",
              "9                 1            0.954222            0.942658   \n",
              "10                2            0.953812            0.942156   \n",
              "11                4            0.953026            0.941331   \n",
              "12                8            0.956064            0.943844   \n",
              "13                7            0.957729            0.947084   \n",
              "14                3            0.957987            0.946647   \n",
              "15                5            0.956618            0.946235   \n",
              "16               17            0.500000            0.500000   \n",
              "17               17            0.500000            0.500000   \n",
              "18               17            0.500000            0.500000   \n",
              "19               17            0.500000            0.500000   \n",
              "20               17            0.500000            0.500000   \n",
              "21               17            0.500000            0.500000   \n",
              "22               17            0.500000            0.500000   \n",
              "23               17            0.500000            0.500000   \n",
              "\n",
              "    split2_train_score  mean_train_score  std_train_score  \n",
              "0             0.803401          0.809285         0.004286  \n",
              "1             0.801955          0.808036         0.004300  \n",
              "2             0.803174          0.808030         0.003437  \n",
              "3             0.802913          0.808200         0.003743  \n",
              "4             0.916622          0.925558         0.008192  \n",
              "5             0.916275          0.924741         0.008581  \n",
              "6             0.914232          0.923401         0.007076  \n",
              "7             0.912645          0.919933         0.006585  \n",
              "8             0.939754          0.945961         0.006482  \n",
              "9             0.939442          0.945441         0.006346  \n",
              "10            0.939032          0.945000         0.006360  \n",
              "11            0.936967          0.943774         0.006780  \n",
              "12            0.941391          0.947100         0.006418  \n",
              "13            0.943711          0.949508         0.005974  \n",
              "14            0.942979          0.949204         0.006388  \n",
              "15            0.942544          0.948466         0.005958  \n",
              "16            0.500000          0.500000         0.000000  \n",
              "17            0.500000          0.500000         0.000000  \n",
              "18            0.500000          0.500000         0.000000  \n",
              "19            0.500000          0.500000         0.000000  \n",
              "20            0.500000          0.500000         0.000000  \n",
              "21            0.500000          0.500000         0.000000  \n",
              "22            0.500000          0.500000         0.000000  \n",
              "23            0.500000          0.500000         0.000000  "
            ],
            "text/html": [
              "\n",
              "  <div id=\"df-b58489f5-9706-4778-bb0c-0abf213eef81\">\n",
              "    <div class=\"colab-df-container\">\n",
              "      <div>\n",
              "<style scoped>\n",
              "    .dataframe tbody tr th:only-of-type {\n",
              "        vertical-align: middle;\n",
              "    }\n",
              "\n",
              "    .dataframe tbody tr th {\n",
              "        vertical-align: top;\n",
              "    }\n",
              "\n",
              "    .dataframe thead th {\n",
              "        text-align: right;\n",
              "    }\n",
              "</style>\n",
              "<table border=\"1\" class=\"dataframe\">\n",
              "  <thead>\n",
              "    <tr style=\"text-align: right;\">\n",
              "      <th></th>\n",
              "      <th>mean_fit_time</th>\n",
              "      <th>std_fit_time</th>\n",
              "      <th>mean_score_time</th>\n",
              "      <th>std_score_time</th>\n",
              "      <th>param_learning_rate</th>\n",
              "      <th>param_subsample</th>\n",
              "      <th>params</th>\n",
              "      <th>split0_test_score</th>\n",
              "      <th>split1_test_score</th>\n",
              "      <th>split2_test_score</th>\n",
              "      <th>mean_test_score</th>\n",
              "      <th>std_test_score</th>\n",
              "      <th>rank_test_score</th>\n",
              "      <th>split0_train_score</th>\n",
              "      <th>split1_train_score</th>\n",
              "      <th>split2_train_score</th>\n",
              "      <th>mean_train_score</th>\n",
              "      <th>std_train_score</th>\n",
              "    </tr>\n",
              "  </thead>\n",
              "  <tbody>\n",
              "    <tr>\n",
              "      <th>0</th>\n",
              "      <td>3.947416</td>\n",
              "      <td>0.060987</td>\n",
              "      <td>0.077314</td>\n",
              "      <td>0.005381</td>\n",
              "      <td>0.01</td>\n",
              "      <td>0.3</td>\n",
              "      <td>{'learning_rate': 0.01, 'subsample': 0.3}</td>\n",
              "      <td>0.808324</td>\n",
              "      <td>0.797267</td>\n",
              "      <td>0.811453</td>\n",
              "      <td>0.805681</td>\n",
              "      <td>0.006085</td>\n",
              "      <td>13</td>\n",
              "      <td>0.813488</td>\n",
              "      <td>0.810966</td>\n",
              "      <td>0.803401</td>\n",
              "      <td>0.809285</td>\n",
              "      <td>0.004286</td>\n",
              "    </tr>\n",
              "    <tr>\n",
              "      <th>1</th>\n",
              "      <td>4.408902</td>\n",
              "      <td>0.023754</td>\n",
              "      <td>0.070702</td>\n",
              "      <td>0.001176</td>\n",
              "      <td>0.01</td>\n",
              "      <td>0.6</td>\n",
              "      <td>{'learning_rate': 0.01, 'subsample': 0.6}</td>\n",
              "      <td>0.805045</td>\n",
              "      <td>0.796607</td>\n",
              "      <td>0.809419</td>\n",
              "      <td>0.803691</td>\n",
              "      <td>0.005317</td>\n",
              "      <td>16</td>\n",
              "      <td>0.811166</td>\n",
              "      <td>0.810987</td>\n",
              "      <td>0.801955</td>\n",
              "      <td>0.808036</td>\n",
              "      <td>0.004300</td>\n",
              "    </tr>\n",
              "    <tr>\n",
              "      <th>2</th>\n",
              "      <td>3.720568</td>\n",
              "      <td>0.016567</td>\n",
              "      <td>0.069496</td>\n",
              "      <td>0.002631</td>\n",
              "      <td>0.01</td>\n",
              "      <td>0.9</td>\n",
              "      <td>{'learning_rate': 0.01, 'subsample': 0.9}</td>\n",
              "      <td>0.804924</td>\n",
              "      <td>0.796075</td>\n",
              "      <td>0.810855</td>\n",
              "      <td>0.803952</td>\n",
              "      <td>0.006073</td>\n",
              "      <td>15</td>\n",
              "      <td>0.810284</td>\n",
              "      <td>0.810634</td>\n",
              "      <td>0.803174</td>\n",
              "      <td>0.808030</td>\n",
              "      <td>0.003437</td>\n",
              "    </tr>\n",
              "    <tr>\n",
              "      <th>3</th>\n",
              "      <td>3.399951</td>\n",
              "      <td>0.011435</td>\n",
              "      <td>0.068944</td>\n",
              "      <td>0.001114</td>\n",
              "      <td>0.01</td>\n",
              "      <td>1</td>\n",
              "      <td>{'learning_rate': 0.01, 'subsample': 1}</td>\n",
              "      <td>0.804594</td>\n",
              "      <td>0.797084</td>\n",
              "      <td>0.810859</td>\n",
              "      <td>0.804179</td>\n",
              "      <td>0.005632</td>\n",
              "      <td>14</td>\n",
              "      <td>0.810613</td>\n",
              "      <td>0.811074</td>\n",
              "      <td>0.802913</td>\n",
              "      <td>0.808200</td>\n",
              "      <td>0.003743</td>\n",
              "    </tr>\n",
              "    <tr>\n",
              "      <th>4</th>\n",
              "      <td>3.930056</td>\n",
              "      <td>0.031268</td>\n",
              "      <td>0.069738</td>\n",
              "      <td>0.003501</td>\n",
              "      <td>0.1</td>\n",
              "      <td>0.3</td>\n",
              "      <td>{'learning_rate': 0.1, 'subsample': 0.3}</td>\n",
              "      <td>0.908450</td>\n",
              "      <td>0.920557</td>\n",
              "      <td>0.928033</td>\n",
              "      <td>0.919013</td>\n",
              "      <td>0.008069</td>\n",
              "      <td>9</td>\n",
              "      <td>0.936411</td>\n",
              "      <td>0.923642</td>\n",
              "      <td>0.916622</td>\n",
              "      <td>0.925558</td>\n",
              "      <td>0.008192</td>\n",
              "    </tr>\n",
              "    <tr>\n",
              "      <th>5</th>\n",
              "      <td>4.394658</td>\n",
              "      <td>0.005070</td>\n",
              "      <td>0.067931</td>\n",
              "      <td>0.003251</td>\n",
              "      <td>0.1</td>\n",
              "      <td>0.6</td>\n",
              "      <td>{'learning_rate': 0.1, 'subsample': 0.6}</td>\n",
              "      <td>0.908393</td>\n",
              "      <td>0.916522</td>\n",
              "      <td>0.927155</td>\n",
              "      <td>0.917357</td>\n",
              "      <td>0.007682</td>\n",
              "      <td>10</td>\n",
              "      <td>0.936504</td>\n",
              "      <td>0.921444</td>\n",
              "      <td>0.916275</td>\n",
              "      <td>0.924741</td>\n",
              "      <td>0.008581</td>\n",
              "    </tr>\n",
              "    <tr>\n",
              "      <th>6</th>\n",
              "      <td>3.704909</td>\n",
              "      <td>0.033777</td>\n",
              "      <td>0.067239</td>\n",
              "      <td>0.000698</td>\n",
              "      <td>0.1</td>\n",
              "      <td>0.9</td>\n",
              "      <td>{'learning_rate': 0.1, 'subsample': 0.9}</td>\n",
              "      <td>0.904583</td>\n",
              "      <td>0.921639</td>\n",
              "      <td>0.924790</td>\n",
              "      <td>0.917004</td>\n",
              "      <td>0.008877</td>\n",
              "      <td>11</td>\n",
              "      <td>0.931458</td>\n",
              "      <td>0.924512</td>\n",
              "      <td>0.914232</td>\n",
              "      <td>0.923401</td>\n",
              "      <td>0.007076</td>\n",
              "    </tr>\n",
              "    <tr>\n",
              "      <th>7</th>\n",
              "      <td>3.585326</td>\n",
              "      <td>0.400898</td>\n",
              "      <td>0.069900</td>\n",
              "      <td>0.000774</td>\n",
              "      <td>0.1</td>\n",
              "      <td>1</td>\n",
              "      <td>{'learning_rate': 0.1, 'subsample': 1}</td>\n",
              "      <td>0.902260</td>\n",
              "      <td>0.913845</td>\n",
              "      <td>0.923848</td>\n",
              "      <td>0.913318</td>\n",
              "      <td>0.008821</td>\n",
              "      <td>12</td>\n",
              "      <td>0.928597</td>\n",
              "      <td>0.918557</td>\n",
              "      <td>0.912645</td>\n",
              "      <td>0.919933</td>\n",
              "      <td>0.006585</td>\n",
              "    </tr>\n",
              "    <tr>\n",
              "      <th>8</th>\n",
              "      <td>3.931310</td>\n",
              "      <td>0.026104</td>\n",
              "      <td>0.078283</td>\n",
              "      <td>0.001415</td>\n",
              "      <td>0.5</td>\n",
              "      <td>0.3</td>\n",
              "      <td>{'learning_rate': 0.5, 'subsample': 0.3}</td>\n",
              "      <td>0.915370</td>\n",
              "      <td>0.940231</td>\n",
              "      <td>0.947763</td>\n",
              "      <td>0.934454</td>\n",
              "      <td>0.013841</td>\n",
              "      <td>6</td>\n",
              "      <td>0.954907</td>\n",
              "      <td>0.943221</td>\n",
              "      <td>0.939754</td>\n",
              "      <td>0.945961</td>\n",
              "      <td>0.006482</td>\n",
              "    </tr>\n",
              "    <tr>\n",
              "      <th>9</th>\n",
              "      <td>4.370283</td>\n",
              "      <td>0.020026</td>\n",
              "      <td>0.073537</td>\n",
              "      <td>0.000492</td>\n",
              "      <td>0.5</td>\n",
              "      <td>0.6</td>\n",
              "      <td>{'learning_rate': 0.5, 'subsample': 0.6}</td>\n",
              "      <td>0.917646</td>\n",
              "      <td>0.940323</td>\n",
              "      <td>0.948872</td>\n",
              "      <td>0.935614</td>\n",
              "      <td>0.013176</td>\n",
              "      <td>1</td>\n",
              "      <td>0.954222</td>\n",
              "      <td>0.942658</td>\n",
              "      <td>0.939442</td>\n",
              "      <td>0.945441</td>\n",
              "      <td>0.006346</td>\n",
              "    </tr>\n",
              "    <tr>\n",
              "      <th>10</th>\n",
              "      <td>3.699335</td>\n",
              "      <td>0.018571</td>\n",
              "      <td>0.070495</td>\n",
              "      <td>0.003915</td>\n",
              "      <td>0.5</td>\n",
              "      <td>0.9</td>\n",
              "      <td>{'learning_rate': 0.5, 'subsample': 0.9}</td>\n",
              "      <td>0.916681</td>\n",
              "      <td>0.940462</td>\n",
              "      <td>0.948813</td>\n",
              "      <td>0.935319</td>\n",
              "      <td>0.013613</td>\n",
              "      <td>2</td>\n",
              "      <td>0.953812</td>\n",
              "      <td>0.942156</td>\n",
              "      <td>0.939032</td>\n",
              "      <td>0.945000</td>\n",
              "      <td>0.006360</td>\n",
              "    </tr>\n",
              "    <tr>\n",
              "      <th>11</th>\n",
              "      <td>3.339075</td>\n",
              "      <td>0.074926</td>\n",
              "      <td>0.069048</td>\n",
              "      <td>0.001766</td>\n",
              "      <td>0.5</td>\n",
              "      <td>1</td>\n",
              "      <td>{'learning_rate': 0.5, 'subsample': 1}</td>\n",
              "      <td>0.917640</td>\n",
              "      <td>0.939963</td>\n",
              "      <td>0.948051</td>\n",
              "      <td>0.935218</td>\n",
              "      <td>0.012861</td>\n",
              "      <td>4</td>\n",
              "      <td>0.953026</td>\n",
              "      <td>0.941331</td>\n",
              "      <td>0.936967</td>\n",
              "      <td>0.943774</td>\n",
              "      <td>0.006780</td>\n",
              "    </tr>\n",
              "    <tr>\n",
              "      <th>12</th>\n",
              "      <td>3.938881</td>\n",
              "      <td>0.044107</td>\n",
              "      <td>0.087911</td>\n",
              "      <td>0.002228</td>\n",
              "      <td>1</td>\n",
              "      <td>0.3</td>\n",
              "      <td>{'learning_rate': 1, 'subsample': 0.3}</td>\n",
              "      <td>0.910802</td>\n",
              "      <td>0.938422</td>\n",
              "      <td>0.945844</td>\n",
              "      <td>0.931689</td>\n",
              "      <td>0.015077</td>\n",
              "      <td>8</td>\n",
              "      <td>0.956064</td>\n",
              "      <td>0.943844</td>\n",
              "      <td>0.941391</td>\n",
              "      <td>0.947100</td>\n",
              "      <td>0.006418</td>\n",
              "    </tr>\n",
              "    <tr>\n",
              "      <th>13</th>\n",
              "      <td>4.397414</td>\n",
              "      <td>0.063685</td>\n",
              "      <td>0.085131</td>\n",
              "      <td>0.001747</td>\n",
              "      <td>1</td>\n",
              "      <td>0.6</td>\n",
              "      <td>{'learning_rate': 1, 'subsample': 0.6}</td>\n",
              "      <td>0.914560</td>\n",
              "      <td>0.940467</td>\n",
              "      <td>0.947457</td>\n",
              "      <td>0.934161</td>\n",
              "      <td>0.014151</td>\n",
              "      <td>7</td>\n",
              "      <td>0.957729</td>\n",
              "      <td>0.947084</td>\n",
              "      <td>0.943711</td>\n",
              "      <td>0.949508</td>\n",
              "      <td>0.005974</td>\n",
              "    </tr>\n",
              "    <tr>\n",
              "      <th>14</th>\n",
              "      <td>4.095621</td>\n",
              "      <td>0.360974</td>\n",
              "      <td>0.086864</td>\n",
              "      <td>0.013196</td>\n",
              "      <td>1</td>\n",
              "      <td>0.9</td>\n",
              "      <td>{'learning_rate': 1, 'subsample': 0.9}</td>\n",
              "      <td>0.915299</td>\n",
              "      <td>0.941536</td>\n",
              "      <td>0.948937</td>\n",
              "      <td>0.935257</td>\n",
              "      <td>0.014432</td>\n",
              "      <td>3</td>\n",
              "      <td>0.957987</td>\n",
              "      <td>0.946647</td>\n",
              "      <td>0.942979</td>\n",
              "      <td>0.949204</td>\n",
              "      <td>0.006388</td>\n",
              "    </tr>\n",
              "    <tr>\n",
              "      <th>15</th>\n",
              "      <td>3.366912</td>\n",
              "      <td>0.029223</td>\n",
              "      <td>0.075262</td>\n",
              "      <td>0.000349</td>\n",
              "      <td>1</td>\n",
              "      <td>1</td>\n",
              "      <td>{'learning_rate': 1, 'subsample': 1}</td>\n",
              "      <td>0.915104</td>\n",
              "      <td>0.941191</td>\n",
              "      <td>0.948714</td>\n",
              "      <td>0.935003</td>\n",
              "      <td>0.014402</td>\n",
              "      <td>5</td>\n",
              "      <td>0.956618</td>\n",
              "      <td>0.946235</td>\n",
              "      <td>0.942544</td>\n",
              "      <td>0.948466</td>\n",
              "      <td>0.005958</td>\n",
              "    </tr>\n",
              "    <tr>\n",
              "      <th>16</th>\n",
              "      <td>2.912298</td>\n",
              "      <td>0.384004</td>\n",
              "      <td>0.025540</td>\n",
              "      <td>0.000945</td>\n",
              "      <td>10</td>\n",
              "      <td>0.3</td>\n",
              "      <td>{'learning_rate': 10, 'subsample': 0.3}</td>\n",
              "      <td>0.500000</td>\n",
              "      <td>0.500000</td>\n",
              "      <td>0.500000</td>\n",
              "      <td>0.500000</td>\n",
              "      <td>0.000000</td>\n",
              "      <td>17</td>\n",
              "      <td>0.500000</td>\n",
              "      <td>0.500000</td>\n",
              "      <td>0.500000</td>\n",
              "      <td>0.500000</td>\n",
              "      <td>0.000000</td>\n",
              "    </tr>\n",
              "    <tr>\n",
              "      <th>17</th>\n",
              "      <td>2.857563</td>\n",
              "      <td>0.006692</td>\n",
              "      <td>0.025168</td>\n",
              "      <td>0.000628</td>\n",
              "      <td>10</td>\n",
              "      <td>0.6</td>\n",
              "      <td>{'learning_rate': 10, 'subsample': 0.6}</td>\n",
              "      <td>0.500000</td>\n",
              "      <td>0.500000</td>\n",
              "      <td>0.500000</td>\n",
              "      <td>0.500000</td>\n",
              "      <td>0.000000</td>\n",
              "      <td>17</td>\n",
              "      <td>0.500000</td>\n",
              "      <td>0.500000</td>\n",
              "      <td>0.500000</td>\n",
              "      <td>0.500000</td>\n",
              "      <td>0.000000</td>\n",
              "    </tr>\n",
              "    <tr>\n",
              "      <th>18</th>\n",
              "      <td>2.532674</td>\n",
              "      <td>0.007078</td>\n",
              "      <td>0.024986</td>\n",
              "      <td>0.000699</td>\n",
              "      <td>10</td>\n",
              "      <td>0.9</td>\n",
              "      <td>{'learning_rate': 10, 'subsample': 0.9}</td>\n",
              "      <td>0.500000</td>\n",
              "      <td>0.500000</td>\n",
              "      <td>0.500000</td>\n",
              "      <td>0.500000</td>\n",
              "      <td>0.000000</td>\n",
              "      <td>17</td>\n",
              "      <td>0.500000</td>\n",
              "      <td>0.500000</td>\n",
              "      <td>0.500000</td>\n",
              "      <td>0.500000</td>\n",
              "      <td>0.000000</td>\n",
              "    </tr>\n",
              "    <tr>\n",
              "      <th>19</th>\n",
              "      <td>2.356302</td>\n",
              "      <td>0.097112</td>\n",
              "      <td>0.025337</td>\n",
              "      <td>0.000106</td>\n",
              "      <td>10</td>\n",
              "      <td>1</td>\n",
              "      <td>{'learning_rate': 10, 'subsample': 1}</td>\n",
              "      <td>0.500000</td>\n",
              "      <td>0.500000</td>\n",
              "      <td>0.500000</td>\n",
              "      <td>0.500000</td>\n",
              "      <td>0.000000</td>\n",
              "      <td>17</td>\n",
              "      <td>0.500000</td>\n",
              "      <td>0.500000</td>\n",
              "      <td>0.500000</td>\n",
              "      <td>0.500000</td>\n",
              "      <td>0.000000</td>\n",
              "    </tr>\n",
              "    <tr>\n",
              "      <th>20</th>\n",
              "      <td>2.592359</td>\n",
              "      <td>0.014543</td>\n",
              "      <td>0.024604</td>\n",
              "      <td>0.000182</td>\n",
              "      <td>50</td>\n",
              "      <td>0.3</td>\n",
              "      <td>{'learning_rate': 50, 'subsample': 0.3}</td>\n",
              "      <td>0.500000</td>\n",
              "      <td>0.500000</td>\n",
              "      <td>0.500000</td>\n",
              "      <td>0.500000</td>\n",
              "      <td>0.000000</td>\n",
              "      <td>17</td>\n",
              "      <td>0.500000</td>\n",
              "      <td>0.500000</td>\n",
              "      <td>0.500000</td>\n",
              "      <td>0.500000</td>\n",
              "      <td>0.000000</td>\n",
              "    </tr>\n",
              "    <tr>\n",
              "      <th>21</th>\n",
              "      <td>2.798023</td>\n",
              "      <td>0.013928</td>\n",
              "      <td>0.023984</td>\n",
              "      <td>0.000800</td>\n",
              "      <td>50</td>\n",
              "      <td>0.6</td>\n",
              "      <td>{'learning_rate': 50, 'subsample': 0.6}</td>\n",
              "      <td>0.500000</td>\n",
              "      <td>0.500000</td>\n",
              "      <td>0.500000</td>\n",
              "      <td>0.500000</td>\n",
              "      <td>0.000000</td>\n",
              "      <td>17</td>\n",
              "      <td>0.500000</td>\n",
              "      <td>0.500000</td>\n",
              "      <td>0.500000</td>\n",
              "      <td>0.500000</td>\n",
              "      <td>0.000000</td>\n",
              "    </tr>\n",
              "    <tr>\n",
              "      <th>22</th>\n",
              "      <td>2.513924</td>\n",
              "      <td>0.035488</td>\n",
              "      <td>0.025482</td>\n",
              "      <td>0.002099</td>\n",
              "      <td>50</td>\n",
              "      <td>0.9</td>\n",
              "      <td>{'learning_rate': 50, 'subsample': 0.9}</td>\n",
              "      <td>0.500000</td>\n",
              "      <td>0.500000</td>\n",
              "      <td>0.500000</td>\n",
              "      <td>0.500000</td>\n",
              "      <td>0.000000</td>\n",
              "      <td>17</td>\n",
              "      <td>0.500000</td>\n",
              "      <td>0.500000</td>\n",
              "      <td>0.500000</td>\n",
              "      <td>0.500000</td>\n",
              "      <td>0.000000</td>\n",
              "    </tr>\n",
              "    <tr>\n",
              "      <th>23</th>\n",
              "      <td>2.283930</td>\n",
              "      <td>0.036061</td>\n",
              "      <td>0.025063</td>\n",
              "      <td>0.000223</td>\n",
              "      <td>50</td>\n",
              "      <td>1</td>\n",
              "      <td>{'learning_rate': 50, 'subsample': 1}</td>\n",
              "      <td>0.500000</td>\n",
              "      <td>0.500000</td>\n",
              "      <td>0.500000</td>\n",
              "      <td>0.500000</td>\n",
              "      <td>0.000000</td>\n",
              "      <td>17</td>\n",
              "      <td>0.500000</td>\n",
              "      <td>0.500000</td>\n",
              "      <td>0.500000</td>\n",
              "      <td>0.500000</td>\n",
              "      <td>0.000000</td>\n",
              "    </tr>\n",
              "  </tbody>\n",
              "</table>\n",
              "</div>\n",
              "      <button class=\"colab-df-convert\" onclick=\"convertToInteractive('df-b58489f5-9706-4778-bb0c-0abf213eef81')\"\n",
              "              title=\"Convert this dataframe to an interactive table.\"\n",
              "              style=\"display:none;\">\n",
              "        \n",
              "  <svg xmlns=\"http://www.w3.org/2000/svg\" height=\"24px\"viewBox=\"0 0 24 24\"\n",
              "       width=\"24px\">\n",
              "    <path d=\"M0 0h24v24H0V0z\" fill=\"none\"/>\n",
              "    <path d=\"M18.56 5.44l.94 2.06.94-2.06 2.06-.94-2.06-.94-.94-2.06-.94 2.06-2.06.94zm-11 1L8.5 8.5l.94-2.06 2.06-.94-2.06-.94L8.5 2.5l-.94 2.06-2.06.94zm10 10l.94 2.06.94-2.06 2.06-.94-2.06-.94-.94-2.06-.94 2.06-2.06.94z\"/><path d=\"M17.41 7.96l-1.37-1.37c-.4-.4-.92-.59-1.43-.59-.52 0-1.04.2-1.43.59L10.3 9.45l-7.72 7.72c-.78.78-.78 2.05 0 2.83L4 21.41c.39.39.9.59 1.41.59.51 0 1.02-.2 1.41-.59l7.78-7.78 2.81-2.81c.8-.78.8-2.07 0-2.86zM5.41 20L4 18.59l7.72-7.72 1.47 1.35L5.41 20z\"/>\n",
              "  </svg>\n",
              "      </button>\n",
              "      \n",
              "  <style>\n",
              "    .colab-df-container {\n",
              "      display:flex;\n",
              "      flex-wrap:wrap;\n",
              "      gap: 12px;\n",
              "    }\n",
              "\n",
              "    .colab-df-convert {\n",
              "      background-color: #E8F0FE;\n",
              "      border: none;\n",
              "      border-radius: 50%;\n",
              "      cursor: pointer;\n",
              "      display: none;\n",
              "      fill: #1967D2;\n",
              "      height: 32px;\n",
              "      padding: 0 0 0 0;\n",
              "      width: 32px;\n",
              "    }\n",
              "\n",
              "    .colab-df-convert:hover {\n",
              "      background-color: #E2EBFA;\n",
              "      box-shadow: 0px 1px 2px rgba(60, 64, 67, 0.3), 0px 1px 3px 1px rgba(60, 64, 67, 0.15);\n",
              "      fill: #174EA6;\n",
              "    }\n",
              "\n",
              "    [theme=dark] .colab-df-convert {\n",
              "      background-color: #3B4455;\n",
              "      fill: #D2E3FC;\n",
              "    }\n",
              "\n",
              "    [theme=dark] .colab-df-convert:hover {\n",
              "      background-color: #434B5C;\n",
              "      box-shadow: 0px 1px 3px 1px rgba(0, 0, 0, 0.15);\n",
              "      filter: drop-shadow(0px 1px 2px rgba(0, 0, 0, 0.3));\n",
              "      fill: #FFFFFF;\n",
              "    }\n",
              "  </style>\n",
              "\n",
              "      <script>\n",
              "        const buttonEl =\n",
              "          document.querySelector('#df-b58489f5-9706-4778-bb0c-0abf213eef81 button.colab-df-convert');\n",
              "        buttonEl.style.display =\n",
              "          google.colab.kernel.accessAllowed ? 'block' : 'none';\n",
              "\n",
              "        async function convertToInteractive(key) {\n",
              "          const element = document.querySelector('#df-b58489f5-9706-4778-bb0c-0abf213eef81');\n",
              "          const dataTable =\n",
              "            await google.colab.kernel.invokeFunction('convertToInteractive',\n",
              "                                                     [key], {});\n",
              "          if (!dataTable) return;\n",
              "\n",
              "          const docLinkHtml = 'Like what you see? Visit the ' +\n",
              "            '<a target=\"_blank\" href=https://colab.research.google.com/notebooks/data_table.ipynb>data table notebook</a>'\n",
              "            + ' to learn more about interactive tables.';\n",
              "          element.innerHTML = '';\n",
              "          dataTable['output_type'] = 'display_data';\n",
              "          await google.colab.output.renderOutput(dataTable, element);\n",
              "          const docLink = document.createElement('div');\n",
              "          docLink.innerHTML = docLinkHtml;\n",
              "          element.appendChild(docLink);\n",
              "        }\n",
              "      </script>\n",
              "    </div>\n",
              "  </div>\n",
              "  "
            ]
          },
          "metadata": {},
          "execution_count": 128
        }
      ]
    },
    {
      "cell_type": "code",
      "source": [
        "# # plotting\n",
        "plt.figure(figsize=(16,6))\n",
        "\n",
        "param_grid = {'learning_rate': [0.01,0.1,0.5,1,10], \n",
        "             'subsample': [0.3, 0.6, 0.9,1]} \n",
        "\n",
        "\n",
        "for n, subsample in enumerate(param_grid['subsample']):\n",
        "    \n",
        "\n",
        "    # subplot 1/n\n",
        "    plt.subplot(1,len(param_grid['subsample']), n+1)\n",
        "    df = cv_results[cv_results['param_subsample']==subsample]\n",
        "\n",
        "    plt.plot(df[\"param_learning_rate\"], df[\"mean_test_score\"])\n",
        "    plt.plot(df[\"param_learning_rate\"], df[\"mean_train_score\"])\n",
        "    plt.xlabel('learning_rate')\n",
        "    plt.ylabel('AUC')\n",
        "    plt.title(\"subsample={0}\".format(subsample))\n",
        "    plt.ylim([0.60, 1])\n",
        "    plt.legend(['test score', 'train score'], loc='upper left')\n",
        "    plt.xscale('log')"
      ],
      "metadata": {
        "id": "8INRs-lQOGTm",
        "colab": {
          "base_uri": "https://localhost:8080/",
          "height": 409
        },
        "outputId": "94c306c0-bafa-4ad8-da8e-7398b6a66730"
      },
      "execution_count": null,
      "outputs": [
        {
          "output_type": "display_data",
          "data": {
            "text/plain": [
              "<Figure size 1152x432 with 4 Axes>"
            ],
            "image/png": "[encoded data removed]"
          },
          "metadata": {
            "needs_background": "light"
          }
        }
      ]
    },
    {
      "cell_type": "code",
      "source": [
        "model_cv.best_params_"
      ],
      "metadata": {
        "id": "hGJYXX2XOlMs",
        "colab": {
          "base_uri": "https://localhost:8080/"
        },
        "outputId": "f423f21d-0753-448b-fa8d-b549dbf529fd"
      },
      "execution_count": null,
      "outputs": [
        {
          "output_type": "execute_result",
          "data": {
            "text/plain": [
              "{'learning_rate': 0.5, 'subsample': 0.6}"
            ]
          },
          "metadata": {},
          "execution_count": 130
        }
      ]
    },
    {
      "cell_type": "code",
      "source": [
        "# chosen hyperparameters\n",
        "# 'objective':'binary:logistic' outputs probability rather than label, which we need for calculating auc\n",
        "params = {'learning_rate': 1,\n",
        "           \n",
        "          \n",
        "          'subsample':0.6,\n",
        "         'objective':'binary:logistic'}\n",
        "\n",
        "# fit model on training data\n",
        "xgb_imb_model = XGBClassifier(params = params)\n",
        "xgb_imb_model.fit(X_train, Y_train)"
      ],
      "metadata": {
        "id": "iZkz0XY1Oqft",
        "colab": {
          "base_uri": "https://localhost:8080/"
        },
        "outputId": "882e518d-6a2f-4dbd-da45-1155c002d291"
      },
      "execution_count": null,
      "outputs": [
        {
          "output_type": "execute_result",
          "data": {
            "text/plain": [
              "XGBClassifier(params={'learning_rate': 1, 'objective': 'binary:logistic',\n",
              "                      'subsample': 0.6})"
            ]
          },
          "metadata": {},
          "execution_count": 131
        }
      ]
    },
    {
      "cell_type": "code",
      "source": [
        "# Predictions on the train set\n",
        "Y_train_pred = xgb_imb_model.predict(X_train)"
      ],
      "metadata": {
        "id": "xGZxkZf6Oxf0"
      },
      "execution_count": null,
      "outputs": []
    },
    {
      "cell_type": "code",
      "source": [
        "# Confusion matrix\n",
        "confusion = confusion_matrix(Y_train, Y_train_pred)\n",
        "print(confusion)\n"
      ],
      "metadata": {
        "id": "SpDoQhz2O6Oe",
        "colab": {
          "base_uri": "https://localhost:8080/"
        },
        "outputId": "a70fb9b1-27be-424f-bc39-185dcbb4c62d"
      },
      "execution_count": null,
      "outputs": [
        {
          "output_type": "stream",
          "name": "stdout",
          "text": [
            "[[23725  6013]\n",
            " [ 3758 25300]]\n"
          ]
        }
      ]
    },
    {
      "cell_type": "code",
      "source": [
        "TP = confusion[1,1] # true positive \n",
        "TN = confusion[0,0] # true negatives\n",
        "FP = confusion[0,1] # false positives\n",
        "FN = confusion[1,0] # false negatives"
      ],
      "metadata": {
        "id": "QktQZfIMJdka"
      },
      "execution_count": null,
      "outputs": []
    },
    {
      "cell_type": "code",
      "source": [
        "# Accuracy\n",
        "print(\"Accuracy:-\",metrics.accuracy_score(Y_train, Y_train_pred))\n",
        "\n",
        "# Sensitivity\n",
        "print(\"Sensitivity:-\",TP / float(TP+FN))\n",
        "\n",
        "# Specificity\n",
        "print(\"Specificity:-\", TN / float(TN+FP))\n",
        "\n",
        "# F1 score\n",
        "print(\"F1-Score:-\", f1_score(Y_train, Y_train_pred))"
      ],
      "metadata": {
        "id": "UKVyYQyYJdkb",
        "colab": {
          "base_uri": "https://localhost:8080/"
        },
        "outputId": "017a2d20-74eb-4b54-ac7e-fecb79746072"
      },
      "execution_count": null,
      "outputs": [
        {
          "output_type": "stream",
          "name": "stdout",
          "text": [
            "Accuracy:- 0.833815225525546\n",
            "Sensitivity:- 0.8706724482070342\n",
            "Specificity:- 0.7978007935974174\n",
            "F1-Score:- 0.838150767752729\n"
          ]
        }
      ]
    },
    {
      "cell_type": "code",
      "source": [
        "Y_test_pred = xgb_imb_model.predict(X_test)"
      ],
      "metadata": {
        "id": "hh-yWdMs85CF"
      },
      "execution_count": null,
      "outputs": []
    },
    {
      "cell_type": "code",
      "source": [
        "# Confusion matrix\n",
        "confusion = confusion_matrix(Y_test, Y_test_pred)\n",
        "print(confusion)\n"
      ],
      "metadata": {
        "id": "ABX-sbTF84-p",
        "colab": {
          "base_uri": "https://localhost:8080/"
        },
        "outputId": "50a0c1e7-f93d-4544-ec10-2de97400761e"
      },
      "execution_count": null,
      "outputs": [
        {
          "output_type": "stream",
          "name": "stdout",
          "text": [
            "[[5915 1510]\n",
            " [ 164  244]]\n"
          ]
        }
      ]
    },
    {
      "cell_type": "code",
      "source": [
        "TP = confusion[1,1] # true positive \n",
        "TN = confusion[0,0] # true negatives\n",
        "FP = confusion[0,1] # false positives\n",
        "FN = confusion[1,0] # false negatives"
      ],
      "metadata": {
        "id": "mfAwA7pvJi-F"
      },
      "execution_count": null,
      "outputs": []
    },
    {
      "cell_type": "code",
      "source": [
        "# Accuracy\n",
        "print(\"Accuracy:-\",metrics.accuracy_score(Y_train, Y_train_pred))\n",
        "\n",
        "# Sensitivity\n",
        "print(\"Sensitivity:-\",TP / float(TP+FN))\n",
        "\n",
        "# Specificity\n",
        "print(\"Specificity:-\", TN / float(TN+FP))\n",
        "\n",
        "# F1 score\n",
        "print(\"F1-Score:-\", f1_score(Y_test, Y_test_pred))"
      ],
      "metadata": {
        "id": "RJXee56gJi-F",
        "colab": {
          "base_uri": "https://localhost:8080/"
        },
        "outputId": "acfabb9f-7d6f-413b-ae10-ea315f4336c8"
      },
      "execution_count": null,
      "outputs": [
        {
          "output_type": "stream",
          "name": "stdout",
          "text": [
            "Accuracy:- 0.833815225525546\n",
            "Sensitivity:- 0.5980392156862745\n",
            "Specificity:- 0.7966329966329966\n",
            "F1-Score:- 0.2257169287696577\n"
          ]
        }
      ]
    }
  ],
  "metadata": {
    "colab": {
      "collapsed_sections": [
        "3BqyIQy1R-_M",
        "Wg4ekAytHGsC",
        "bsBjMrtYRvzi",
        "wElIX3msFtd2"
      ],
      "name": "Final Customer Prediction.ipynb",
      "provenance": [],
      "authorship_tag": "ABX9TyMKbRhJRRCyhXYTg0dZGMhs",
      "include_colab_link": true
    },
    "kernelspec": {
      "display_name": "Python 3",
      "name": "python3"
    },
    "language_info": {
      "name": "python"
    }
  },
  "nbformat": 4,
  "nbformat_minor": 0
}