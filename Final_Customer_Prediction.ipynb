{
  "cells": [
    {
      "cell_type": "markdown",
      "metadata": {
        "id": "view-in-github",
        "colab_type": "text"
      },
      "source": [
        "<a href=\"https://colab.research.google.com/github/ajinkyajumde/customer-prediction/blob/main/Final_Customer_Prediction.ipynb\" target=\"_parent\"><img src=\"https://colab.research.google.com/assets/colab-badge.svg\" alt=\"Open In Colab\"/></a>"
      ]
    },
    {
      "cell_type": "code",
      "execution_count": 2,
      "metadata": {
        "id": "tzNkH4pPTGxz"
      },
      "outputs": [],
      "source": [
        "import pandas as pd\n",
        "import numpy as np\n",
        "import matplotlib.pyplot as plt\n",
        "import seaborn as sns\n",
        "\n",
        "from sklearn.model_selection import train_test_split\n",
        "from sklearn.model_selection import GridSearchCV\n",
        "from sklearn.model_selection import RandomizedSearchCV\n",
        "from sklearn.model_selection import train_test_split\n",
        "from sklearn import ensemble"
      ]
    },
    {
      "cell_type": "code",
      "execution_count": 3,
      "metadata": {
        "colab": {
          "base_uri": "https://localhost:8080/"
        },
        "id": "1foyqW2GTYaR",
        "outputId": "1962a377-616e-4e7e-9f11-ff36236e6918"
      },
      "outputs": [
        {
          "output_type": "stream",
          "name": "stdout",
          "text": [
            "Drive already mounted at /content/drive; to attempt to forcibly remount, call drive.mount(\"/content/drive\", force_remount=True).\n"
          ]
        }
      ],
      "source": [
        "from google.colab import drive\n",
        "drive.mount('/content/drive')"
      ]
    },
    {
      "cell_type": "code",
      "execution_count": 4,
      "metadata": {
        "id": "f4flj--6iCAb"
      },
      "outputs": [],
      "source": [
        "data='/content/drive/MyDrive/Almabetter projects/Customer prediction/train_wn75k28.csv'\n",
        "test_dataset=pd.read_csv(data)"
      ]
    },
    {
      "cell_type": "code",
      "execution_count": 5,
      "metadata": {
        "colab": {
          "base_uri": "https://localhost:8080/",
          "height": 270
        },
        "id": "98BpkLUhiOKt",
        "outputId": "b60379e3-edf6-46d7-db14-a689163c60a3"
      },
      "outputs": [
        {
          "output_type": "execute_result",
          "data": {
            "text/plain": [
              "   id  created_at  campaign_var_1  campaign_var_2  products_purchased  \\\n",
              "0   1  2021-01-01               1               2                 2.0   \n",
              "1   2  2021-01-01               2               1                 2.0   \n",
              "2   3  2021-01-01               9               3                 3.0   \n",
              "3   4  2021-01-01               6               7                 2.0   \n",
              "4   5  2021-01-01               4               6                 NaN   \n",
              "\n",
              "  signup_date  user_activity_var_1  user_activity_var_2  user_activity_var_3  \\\n",
              "0  2020-09-24                    0                    0                    0   \n",
              "1  2020-09-19                    1                    0                    1   \n",
              "2  2021-08-11                    1                    0                    0   \n",
              "3  2017-10-04                    0                    0                    0   \n",
              "4  2020-06-08                    0                    0                    0   \n",
              "\n",
              "   user_activity_var_4  user_activity_var_5  user_activity_var_6  \\\n",
              "0                    0                    0                    0   \n",
              "1                    0                    0                    0   \n",
              "2                    0                    0                    0   \n",
              "3                    0                    0                    0   \n",
              "4                    0                    0                    0   \n",
              "\n",
              "   user_activity_var_7  user_activity_var_8  user_activity_var_9  \\\n",
              "0                    1                    1                    0   \n",
              "1                    1                    0                    0   \n",
              "2                    0                    0                    0   \n",
              "3                    0                    0                    0   \n",
              "4                    1                    0                    0   \n",
              "\n",
              "   user_activity_var_10  user_activity_var_11  user_activity_var_12  buy  \n",
              "0                     0                     0                     0    0  \n",
              "1                     0                     0                     0    0  \n",
              "2                     0                     0                     0    0  \n",
              "3                     0                     0                     0    0  \n",
              "4                     0                     1                     0    0  "
            ],
            "text/html": [
              "\n",
              "  <div id=\"df-d611800b-21d2-49c6-a0fd-112c130ced35\">\n",
              "    <div class=\"colab-df-container\">\n",
              "      <div>\n",
              "<style scoped>\n",
              "    .dataframe tbody tr th:only-of-type {\n",
              "        vertical-align: middle;\n",
              "    }\n",
              "\n",
              "    .dataframe tbody tr th {\n",
              "        vertical-align: top;\n",
              "    }\n",
              "\n",
              "    .dataframe thead th {\n",
              "        text-align: right;\n",
              "    }\n",
              "</style>\n",
              "<table border=\"1\" class=\"dataframe\">\n",
              "  <thead>\n",
              "    <tr style=\"text-align: right;\">\n",
              "      <th></th>\n",
              "      <th>id</th>\n",
              "      <th>created_at</th>\n",
              "      <th>campaign_var_1</th>\n",
              "      <th>campaign_var_2</th>\n",
              "      <th>products_purchased</th>\n",
              "      <th>signup_date</th>\n",
              "      <th>user_activity_var_1</th>\n",
              "      <th>user_activity_var_2</th>\n",
              "      <th>user_activity_var_3</th>\n",
              "      <th>user_activity_var_4</th>\n",
              "      <th>user_activity_var_5</th>\n",
              "      <th>user_activity_var_6</th>\n",
              "      <th>user_activity_var_7</th>\n",
              "      <th>user_activity_var_8</th>\n",
              "      <th>user_activity_var_9</th>\n",
              "      <th>user_activity_var_10</th>\n",
              "      <th>user_activity_var_11</th>\n",
              "      <th>user_activity_var_12</th>\n",
              "      <th>buy</th>\n",
              "    </tr>\n",
              "  </thead>\n",
              "  <tbody>\n",
              "    <tr>\n",
              "      <th>0</th>\n",
              "      <td>1</td>\n",
              "      <td>2021-01-01</td>\n",
              "      <td>1</td>\n",
              "      <td>2</td>\n",
              "      <td>2.0</td>\n",
              "      <td>2020-09-24</td>\n",
              "      <td>0</td>\n",
              "      <td>0</td>\n",
              "      <td>0</td>\n",
              "      <td>0</td>\n",
              "      <td>0</td>\n",
              "      <td>0</td>\n",
              "      <td>1</td>\n",
              "      <td>1</td>\n",
              "      <td>0</td>\n",
              "      <td>0</td>\n",
              "      <td>0</td>\n",
              "      <td>0</td>\n",
              "      <td>0</td>\n",
              "    </tr>\n",
              "    <tr>\n",
              "      <th>1</th>\n",
              "      <td>2</td>\n",
              "      <td>2021-01-01</td>\n",
              "      <td>2</td>\n",
              "      <td>1</td>\n",
              "      <td>2.0</td>\n",
              "      <td>2020-09-19</td>\n",
              "      <td>1</td>\n",
              "      <td>0</td>\n",
              "      <td>1</td>\n",
              "      <td>0</td>\n",
              "      <td>0</td>\n",
              "      <td>0</td>\n",
              "      <td>1</td>\n",
              "      <td>0</td>\n",
              "      <td>0</td>\n",
              "      <td>0</td>\n",
              "      <td>0</td>\n",
              "      <td>0</td>\n",
              "      <td>0</td>\n",
              "    </tr>\n",
              "    <tr>\n",
              "      <th>2</th>\n",
              "      <td>3</td>\n",
              "      <td>2021-01-01</td>\n",
              "      <td>9</td>\n",
              "      <td>3</td>\n",
              "      <td>3.0</td>\n",
              "      <td>2021-08-11</td>\n",
              "      <td>1</td>\n",
              "      <td>0</td>\n",
              "      <td>0</td>\n",
              "      <td>0</td>\n",
              "      <td>0</td>\n",
              "      <td>0</td>\n",
              "      <td>0</td>\n",
              "      <td>0</td>\n",
              "      <td>0</td>\n",
              "      <td>0</td>\n",
              "      <td>0</td>\n",
              "      <td>0</td>\n",
              "      <td>0</td>\n",
              "    </tr>\n",
              "    <tr>\n",
              "      <th>3</th>\n",
              "      <td>4</td>\n",
              "      <td>2021-01-01</td>\n",
              "      <td>6</td>\n",
              "      <td>7</td>\n",
              "      <td>2.0</td>\n",
              "      <td>2017-10-04</td>\n",
              "      <td>0</td>\n",
              "      <td>0</td>\n",
              "      <td>0</td>\n",
              "      <td>0</td>\n",
              "      <td>0</td>\n",
              "      <td>0</td>\n",
              "      <td>0</td>\n",
              "      <td>0</td>\n",
              "      <td>0</td>\n",
              "      <td>0</td>\n",
              "      <td>0</td>\n",
              "      <td>0</td>\n",
              "      <td>0</td>\n",
              "    </tr>\n",
              "    <tr>\n",
              "      <th>4</th>\n",
              "      <td>5</td>\n",
              "      <td>2021-01-01</td>\n",
              "      <td>4</td>\n",
              "      <td>6</td>\n",
              "      <td>NaN</td>\n",
              "      <td>2020-06-08</td>\n",
              "      <td>0</td>\n",
              "      <td>0</td>\n",
              "      <td>0</td>\n",
              "      <td>0</td>\n",
              "      <td>0</td>\n",
              "      <td>0</td>\n",
              "      <td>1</td>\n",
              "      <td>0</td>\n",
              "      <td>0</td>\n",
              "      <td>0</td>\n",
              "      <td>1</td>\n",
              "      <td>0</td>\n",
              "      <td>0</td>\n",
              "    </tr>\n",
              "  </tbody>\n",
              "</table>\n",
              "</div>\n",
              "      <button class=\"colab-df-convert\" onclick=\"convertToInteractive('df-d611800b-21d2-49c6-a0fd-112c130ced35')\"\n",
              "              title=\"Convert this dataframe to an interactive table.\"\n",
              "              style=\"display:none;\">\n",
              "        \n",
              "  <svg xmlns=\"http://www.w3.org/2000/svg\" height=\"24px\"viewBox=\"0 0 24 24\"\n",
              "       width=\"24px\">\n",
              "    <path d=\"M0 0h24v24H0V0z\" fill=\"none\"/>\n",
              "    <path d=\"M18.56 5.44l.94 2.06.94-2.06 2.06-.94-2.06-.94-.94-2.06-.94 2.06-2.06.94zm-11 1L8.5 8.5l.94-2.06 2.06-.94-2.06-.94L8.5 2.5l-.94 2.06-2.06.94zm10 10l.94 2.06.94-2.06 2.06-.94-2.06-.94-.94-2.06-.94 2.06-2.06.94z\"/><path d=\"M17.41 7.96l-1.37-1.37c-.4-.4-.92-.59-1.43-.59-.52 0-1.04.2-1.43.59L10.3 9.45l-7.72 7.72c-.78.78-.78 2.05 0 2.83L4 21.41c.39.39.9.59 1.41.59.51 0 1.02-.2 1.41-.59l7.78-7.78 2.81-2.81c.8-.78.8-2.07 0-2.86zM5.41 20L4 18.59l7.72-7.72 1.47 1.35L5.41 20z\"/>\n",
              "  </svg>\n",
              "      </button>\n",
              "      \n",
              "  <style>\n",
              "    .colab-df-container {\n",
              "      display:flex;\n",
              "      flex-wrap:wrap;\n",
              "      gap: 12px;\n",
              "    }\n",
              "\n",
              "    .colab-df-convert {\n",
              "      background-color: #E8F0FE;\n",
              "      border: none;\n",
              "      border-radius: 50%;\n",
              "      cursor: pointer;\n",
              "      display: none;\n",
              "      fill: #1967D2;\n",
              "      height: 32px;\n",
              "      padding: 0 0 0 0;\n",
              "      width: 32px;\n",
              "    }\n",
              "\n",
              "    .colab-df-convert:hover {\n",
              "      background-color: #E2EBFA;\n",
              "      box-shadow: 0px 1px 2px rgba(60, 64, 67, 0.3), 0px 1px 3px 1px rgba(60, 64, 67, 0.15);\n",
              "      fill: #174EA6;\n",
              "    }\n",
              "\n",
              "    [theme=dark] .colab-df-convert {\n",
              "      background-color: #3B4455;\n",
              "      fill: #D2E3FC;\n",
              "    }\n",
              "\n",
              "    [theme=dark] .colab-df-convert:hover {\n",
              "      background-color: #434B5C;\n",
              "      box-shadow: 0px 1px 3px 1px rgba(0, 0, 0, 0.15);\n",
              "      filter: drop-shadow(0px 1px 2px rgba(0, 0, 0, 0.3));\n",
              "      fill: #FFFFFF;\n",
              "    }\n",
              "  </style>\n",
              "\n",
              "      <script>\n",
              "        const buttonEl =\n",
              "          document.querySelector('#df-d611800b-21d2-49c6-a0fd-112c130ced35 button.colab-df-convert');\n",
              "        buttonEl.style.display =\n",
              "          google.colab.kernel.accessAllowed ? 'block' : 'none';\n",
              "\n",
              "        async function convertToInteractive(key) {\n",
              "          const element = document.querySelector('#df-d611800b-21d2-49c6-a0fd-112c130ced35');\n",
              "          const dataTable =\n",
              "            await google.colab.kernel.invokeFunction('convertToInteractive',\n",
              "                                                     [key], {});\n",
              "          if (!dataTable) return;\n",
              "\n",
              "          const docLinkHtml = 'Like what you see? Visit the ' +\n",
              "            '<a target=\"_blank\" href=https://colab.research.google.com/notebooks/data_table.ipynb>data table notebook</a>'\n",
              "            + ' to learn more about interactive tables.';\n",
              "          element.innerHTML = '';\n",
              "          dataTable['output_type'] = 'display_data';\n",
              "          await google.colab.output.renderOutput(dataTable, element);\n",
              "          const docLink = document.createElement('div');\n",
              "          docLink.innerHTML = docLinkHtml;\n",
              "          element.appendChild(docLink);\n",
              "        }\n",
              "      </script>\n",
              "    </div>\n",
              "  </div>\n",
              "  "
            ]
          },
          "metadata": {},
          "execution_count": 5
        }
      ],
      "source": [
        "test_dataset.head(5)"
      ]
    },
    {
      "cell_type": "code",
      "execution_count": 6,
      "metadata": {
        "colab": {
          "base_uri": "https://localhost:8080/",
          "height": 270
        },
        "id": "6m8T30tniRJ6",
        "outputId": "96916ba4-150c-473e-9414-8dda4403832c"
      },
      "outputs": [
        {
          "output_type": "execute_result",
          "data": {
            "text/plain": [
              "          id  created_at  campaign_var_1  campaign_var_2  products_purchased  \\\n",
              "39156  39157  2021-12-31              11              11                 2.0   \n",
              "39157  39158  2021-12-31               3               9                 3.0   \n",
              "39158  39159  2021-12-31               8               7                 2.0   \n",
              "39159  39160  2021-12-31               7              12                 2.0   \n",
              "39160  39161  2021-12-31               2               5                 NaN   \n",
              "\n",
              "      signup_date  user_activity_var_1  user_activity_var_2  \\\n",
              "39156  2017-10-19                    1                    0   \n",
              "39157         NaN                    0                    0   \n",
              "39158         NaN                    1                    0   \n",
              "39159         NaN                    0                    0   \n",
              "39160  2019-08-11                    1                    0   \n",
              "\n",
              "       user_activity_var_3  user_activity_var_4  user_activity_var_5  \\\n",
              "39156                    0                    0                    1   \n",
              "39157                    0                    0                    0   \n",
              "39158                    0                    0                    1   \n",
              "39159                    0                    0                    0   \n",
              "39160                    0                    0                    0   \n",
              "\n",
              "       user_activity_var_6  user_activity_var_7  user_activity_var_8  \\\n",
              "39156                    1                    1                    0   \n",
              "39157                    0                    0                    0   \n",
              "39158                    0                    1                    0   \n",
              "39159                    1                    0                    0   \n",
              "39160                    0                    1                    0   \n",
              "\n",
              "       user_activity_var_9  user_activity_var_10  user_activity_var_11  \\\n",
              "39156                    0                     0                     0   \n",
              "39157                    0                     0                     0   \n",
              "39158                    0                     0                     0   \n",
              "39159                    0                     0                     1   \n",
              "39160                    0                     0                     0   \n",
              "\n",
              "       user_activity_var_12  buy  \n",
              "39156                     0    0  \n",
              "39157                     0    0  \n",
              "39158                     0    0  \n",
              "39159                     0    0  \n",
              "39160                     0    0  "
            ],
            "text/html": [
              "\n",
              "  <div id=\"df-0c36705d-80da-4010-ac2c-fb9f0bb90079\">\n",
              "    <div class=\"colab-df-container\">\n",
              "      <div>\n",
              "<style scoped>\n",
              "    .dataframe tbody tr th:only-of-type {\n",
              "        vertical-align: middle;\n",
              "    }\n",
              "\n",
              "    .dataframe tbody tr th {\n",
              "        vertical-align: top;\n",
              "    }\n",
              "\n",
              "    .dataframe thead th {\n",
              "        text-align: right;\n",
              "    }\n",
              "</style>\n",
              "<table border=\"1\" class=\"dataframe\">\n",
              "  <thead>\n",
              "    <tr style=\"text-align: right;\">\n",
              "      <th></th>\n",
              "      <th>id</th>\n",
              "      <th>created_at</th>\n",
              "      <th>campaign_var_1</th>\n",
              "      <th>campaign_var_2</th>\n",
              "      <th>products_purchased</th>\n",
              "      <th>signup_date</th>\n",
              "      <th>user_activity_var_1</th>\n",
              "      <th>user_activity_var_2</th>\n",
              "      <th>user_activity_var_3</th>\n",
              "      <th>user_activity_var_4</th>\n",
              "      <th>user_activity_var_5</th>\n",
              "      <th>user_activity_var_6</th>\n",
              "      <th>user_activity_var_7</th>\n",
              "      <th>user_activity_var_8</th>\n",
              "      <th>user_activity_var_9</th>\n",
              "      <th>user_activity_var_10</th>\n",
              "      <th>user_activity_var_11</th>\n",
              "      <th>user_activity_var_12</th>\n",
              "      <th>buy</th>\n",
              "    </tr>\n",
              "  </thead>\n",
              "  <tbody>\n",
              "    <tr>\n",
              "      <th>39156</th>\n",
              "      <td>39157</td>\n",
              "      <td>2021-12-31</td>\n",
              "      <td>11</td>\n",
              "      <td>11</td>\n",
              "      <td>2.0</td>\n",
              "      <td>2017-10-19</td>\n",
              "      <td>1</td>\n",
              "      <td>0</td>\n",
              "      <td>0</td>\n",
              "      <td>0</td>\n",
              "      <td>1</td>\n",
              "      <td>1</td>\n",
              "      <td>1</td>\n",
              "      <td>0</td>\n",
              "      <td>0</td>\n",
              "      <td>0</td>\n",
              "      <td>0</td>\n",
              "      <td>0</td>\n",
              "      <td>0</td>\n",
              "    </tr>\n",
              "    <tr>\n",
              "      <th>39157</th>\n",
              "      <td>39158</td>\n",
              "      <td>2021-12-31</td>\n",
              "      <td>3</td>\n",
              "      <td>9</td>\n",
              "      <td>3.0</td>\n",
              "      <td>NaN</td>\n",
              "      <td>0</td>\n",
              "      <td>0</td>\n",
              "      <td>0</td>\n",
              "      <td>0</td>\n",
              "      <td>0</td>\n",
              "      <td>0</td>\n",
              "      <td>0</td>\n",
              "      <td>0</td>\n",
              "      <td>0</td>\n",
              "      <td>0</td>\n",
              "      <td>0</td>\n",
              "      <td>0</td>\n",
              "      <td>0</td>\n",
              "    </tr>\n",
              "    <tr>\n",
              "      <th>39158</th>\n",
              "      <td>39159</td>\n",
              "      <td>2021-12-31</td>\n",
              "      <td>8</td>\n",
              "      <td>7</td>\n",
              "      <td>2.0</td>\n",
              "      <td>NaN</td>\n",
              "      <td>1</td>\n",
              "      <td>0</td>\n",
              "      <td>0</td>\n",
              "      <td>0</td>\n",
              "      <td>1</td>\n",
              "      <td>0</td>\n",
              "      <td>1</td>\n",
              "      <td>0</td>\n",
              "      <td>0</td>\n",
              "      <td>0</td>\n",
              "      <td>0</td>\n",
              "      <td>0</td>\n",
              "      <td>0</td>\n",
              "    </tr>\n",
              "    <tr>\n",
              "      <th>39159</th>\n",
              "      <td>39160</td>\n",
              "      <td>2021-12-31</td>\n",
              "      <td>7</td>\n",
              "      <td>12</td>\n",
              "      <td>2.0</td>\n",
              "      <td>NaN</td>\n",
              "      <td>0</td>\n",
              "      <td>0</td>\n",
              "      <td>0</td>\n",
              "      <td>0</td>\n",
              "      <td>0</td>\n",
              "      <td>1</td>\n",
              "      <td>0</td>\n",
              "      <td>0</td>\n",
              "      <td>0</td>\n",
              "      <td>0</td>\n",
              "      <td>1</td>\n",
              "      <td>0</td>\n",
              "      <td>0</td>\n",
              "    </tr>\n",
              "    <tr>\n",
              "      <th>39160</th>\n",
              "      <td>39161</td>\n",
              "      <td>2021-12-31</td>\n",
              "      <td>2</td>\n",
              "      <td>5</td>\n",
              "      <td>NaN</td>\n",
              "      <td>2019-08-11</td>\n",
              "      <td>1</td>\n",
              "      <td>0</td>\n",
              "      <td>0</td>\n",
              "      <td>0</td>\n",
              "      <td>0</td>\n",
              "      <td>0</td>\n",
              "      <td>1</td>\n",
              "      <td>0</td>\n",
              "      <td>0</td>\n",
              "      <td>0</td>\n",
              "      <td>0</td>\n",
              "      <td>0</td>\n",
              "      <td>0</td>\n",
              "    </tr>\n",
              "  </tbody>\n",
              "</table>\n",
              "</div>\n",
              "      <button class=\"colab-df-convert\" onclick=\"convertToInteractive('df-0c36705d-80da-4010-ac2c-fb9f0bb90079')\"\n",
              "              title=\"Convert this dataframe to an interactive table.\"\n",
              "              style=\"display:none;\">\n",
              "        \n",
              "  <svg xmlns=\"http://www.w3.org/2000/svg\" height=\"24px\"viewBox=\"0 0 24 24\"\n",
              "       width=\"24px\">\n",
              "    <path d=\"M0 0h24v24H0V0z\" fill=\"none\"/>\n",
              "    <path d=\"M18.56 5.44l.94 2.06.94-2.06 2.06-.94-2.06-.94-.94-2.06-.94 2.06-2.06.94zm-11 1L8.5 8.5l.94-2.06 2.06-.94-2.06-.94L8.5 2.5l-.94 2.06-2.06.94zm10 10l.94 2.06.94-2.06 2.06-.94-2.06-.94-.94-2.06-.94 2.06-2.06.94z\"/><path d=\"M17.41 7.96l-1.37-1.37c-.4-.4-.92-.59-1.43-.59-.52 0-1.04.2-1.43.59L10.3 9.45l-7.72 7.72c-.78.78-.78 2.05 0 2.83L4 21.41c.39.39.9.59 1.41.59.51 0 1.02-.2 1.41-.59l7.78-7.78 2.81-2.81c.8-.78.8-2.07 0-2.86zM5.41 20L4 18.59l7.72-7.72 1.47 1.35L5.41 20z\"/>\n",
              "  </svg>\n",
              "      </button>\n",
              "      \n",
              "  <style>\n",
              "    .colab-df-container {\n",
              "      display:flex;\n",
              "      flex-wrap:wrap;\n",
              "      gap: 12px;\n",
              "    }\n",
              "\n",
              "    .colab-df-convert {\n",
              "      background-color: #E8F0FE;\n",
              "      border: none;\n",
              "      border-radius: 50%;\n",
              "      cursor: pointer;\n",
              "      display: none;\n",
              "      fill: #1967D2;\n",
              "      height: 32px;\n",
              "      padding: 0 0 0 0;\n",
              "      width: 32px;\n",
              "    }\n",
              "\n",
              "    .colab-df-convert:hover {\n",
              "      background-color: #E2EBFA;\n",
              "      box-shadow: 0px 1px 2px rgba(60, 64, 67, 0.3), 0px 1px 3px 1px rgba(60, 64, 67, 0.15);\n",
              "      fill: #174EA6;\n",
              "    }\n",
              "\n",
              "    [theme=dark] .colab-df-convert {\n",
              "      background-color: #3B4455;\n",
              "      fill: #D2E3FC;\n",
              "    }\n",
              "\n",
              "    [theme=dark] .colab-df-convert:hover {\n",
              "      background-color: #434B5C;\n",
              "      box-shadow: 0px 1px 3px 1px rgba(0, 0, 0, 0.15);\n",
              "      filter: drop-shadow(0px 1px 2px rgba(0, 0, 0, 0.3));\n",
              "      fill: #FFFFFF;\n",
              "    }\n",
              "  </style>\n",
              "\n",
              "      <script>\n",
              "        const buttonEl =\n",
              "          document.querySelector('#df-0c36705d-80da-4010-ac2c-fb9f0bb90079 button.colab-df-convert');\n",
              "        buttonEl.style.display =\n",
              "          google.colab.kernel.accessAllowed ? 'block' : 'none';\n",
              "\n",
              "        async function convertToInteractive(key) {\n",
              "          const element = document.querySelector('#df-0c36705d-80da-4010-ac2c-fb9f0bb90079');\n",
              "          const dataTable =\n",
              "            await google.colab.kernel.invokeFunction('convertToInteractive',\n",
              "                                                     [key], {});\n",
              "          if (!dataTable) return;\n",
              "\n",
              "          const docLinkHtml = 'Like what you see? Visit the ' +\n",
              "            '<a target=\"_blank\" href=https://colab.research.google.com/notebooks/data_table.ipynb>data table notebook</a>'\n",
              "            + ' to learn more about interactive tables.';\n",
              "          element.innerHTML = '';\n",
              "          dataTable['output_type'] = 'display_data';\n",
              "          await google.colab.output.renderOutput(dataTable, element);\n",
              "          const docLink = document.createElement('div');\n",
              "          docLink.innerHTML = docLinkHtml;\n",
              "          element.appendChild(docLink);\n",
              "        }\n",
              "      </script>\n",
              "    </div>\n",
              "  </div>\n",
              "  "
            ]
          },
          "metadata": {},
          "execution_count": 6
        }
      ],
      "source": [
        "test_dataset.tail(5)"
      ]
    },
    {
      "cell_type": "code",
      "execution_count": 7,
      "metadata": {
        "colab": {
          "base_uri": "https://localhost:8080/",
          "height": 364
        },
        "id": "KW2UVf9qic5R",
        "outputId": "0eb816fc-bc96-40f1-ec50-3b9d3a3249dc"
      },
      "outputs": [
        {
          "output_type": "execute_result",
          "data": {
            "text/plain": [
              "                 id  campaign_var_1  campaign_var_2  products_purchased  \\\n",
              "count  39161.000000    39161.000000    39161.000000        18250.000000   \n",
              "mean   19581.000000        6.523812        6.452746            2.154137   \n",
              "std    11304.951283        3.472944        2.614296            0.779815   \n",
              "min        1.000000        1.000000        1.000000            1.000000   \n",
              "25%     9791.000000        4.000000        5.000000            2.000000   \n",
              "50%    19581.000000        6.000000        6.000000            2.000000   \n",
              "75%    29371.000000        9.000000        8.000000            3.000000   \n",
              "max    39161.000000       16.000000       15.000000            4.000000   \n",
              "\n",
              "       user_activity_var_1  user_activity_var_2  user_activity_var_3  \\\n",
              "count         39161.000000         39161.000000         39161.000000   \n",
              "mean              0.400092             0.006716             0.102832   \n",
              "std               0.509194             0.081676             0.303743   \n",
              "min               0.000000             0.000000             0.000000   \n",
              "25%               0.000000             0.000000             0.000000   \n",
              "50%               0.000000             0.000000             0.000000   \n",
              "75%               1.000000             0.000000             0.000000   \n",
              "max               3.000000             1.000000             1.000000   \n",
              "\n",
              "       user_activity_var_4  user_activity_var_5  user_activity_var_6  \\\n",
              "count         39161.000000         39161.000000         39161.000000   \n",
              "mean              0.011465             0.151503             0.499834   \n",
              "std               0.106463             0.359681             0.558166   \n",
              "min               0.000000             0.000000             0.000000   \n",
              "25%               0.000000             0.000000             0.000000   \n",
              "50%               0.000000             0.000000             0.000000   \n",
              "75%               0.000000             0.000000             1.000000   \n",
              "max               1.000000             2.000000             3.000000   \n",
              "\n",
              "       user_activity_var_7  user_activity_var_8  user_activity_var_9  \\\n",
              "count         39161.000000         39161.000000         39161.000000   \n",
              "mean              0.286612             0.174434             0.011440   \n",
              "std               0.455784             0.379689             0.106346   \n",
              "min               0.000000             0.000000             0.000000   \n",
              "25%               0.000000             0.000000             0.000000   \n",
              "50%               0.000000             0.000000             0.000000   \n",
              "75%               1.000000             0.000000             0.000000   \n",
              "max               2.000000             2.000000             1.000000   \n",
              "\n",
              "       user_activity_var_10  user_activity_var_11  user_activity_var_12  \\\n",
              "count          39161.000000          39161.000000          39161.000000   \n",
              "mean               0.000383              0.218942              0.000562   \n",
              "std                0.019568              0.431544              0.023696   \n",
              "min                0.000000              0.000000              0.000000   \n",
              "25%                0.000000              0.000000              0.000000   \n",
              "50%                0.000000              0.000000              0.000000   \n",
              "75%                0.000000              0.000000              0.000000   \n",
              "max                1.000000              4.000000              1.000000   \n",
              "\n",
              "                buy  \n",
              "count  39161.000000  \n",
              "mean       0.051020  \n",
              "std        0.220042  \n",
              "min        0.000000  \n",
              "25%        0.000000  \n",
              "50%        0.000000  \n",
              "75%        0.000000  \n",
              "max        1.000000  "
            ],
            "text/html": [
              "\n",
              "  <div id=\"df-fe919499-ce9a-495b-a801-e20acb500c49\">\n",
              "    <div class=\"colab-df-container\">\n",
              "      <div>\n",
              "<style scoped>\n",
              "    .dataframe tbody tr th:only-of-type {\n",
              "        vertical-align: middle;\n",
              "    }\n",
              "\n",
              "    .dataframe tbody tr th {\n",
              "        vertical-align: top;\n",
              "    }\n",
              "\n",
              "    .dataframe thead th {\n",
              "        text-align: right;\n",
              "    }\n",
              "</style>\n",
              "<table border=\"1\" class=\"dataframe\">\n",
              "  <thead>\n",
              "    <tr style=\"text-align: right;\">\n",
              "      <th></th>\n",
              "      <th>id</th>\n",
              "      <th>campaign_var_1</th>\n",
              "      <th>campaign_var_2</th>\n",
              "      <th>products_purchased</th>\n",
              "      <th>user_activity_var_1</th>\n",
              "      <th>user_activity_var_2</th>\n",
              "      <th>user_activity_var_3</th>\n",
              "      <th>user_activity_var_4</th>\n",
              "      <th>user_activity_var_5</th>\n",
              "      <th>user_activity_var_6</th>\n",
              "      <th>user_activity_var_7</th>\n",
              "      <th>user_activity_var_8</th>\n",
              "      <th>user_activity_var_9</th>\n",
              "      <th>user_activity_var_10</th>\n",
              "      <th>user_activity_var_11</th>\n",
              "      <th>user_activity_var_12</th>\n",
              "      <th>buy</th>\n",
              "    </tr>\n",
              "  </thead>\n",
              "  <tbody>\n",
              "    <tr>\n",
              "      <th>count</th>\n",
              "      <td>39161.000000</td>\n",
              "      <td>39161.000000</td>\n",
              "      <td>39161.000000</td>\n",
              "      <td>18250.000000</td>\n",
              "      <td>39161.000000</td>\n",
              "      <td>39161.000000</td>\n",
              "      <td>39161.000000</td>\n",
              "      <td>39161.000000</td>\n",
              "      <td>39161.000000</td>\n",
              "      <td>39161.000000</td>\n",
              "      <td>39161.000000</td>\n",
              "      <td>39161.000000</td>\n",
              "      <td>39161.000000</td>\n",
              "      <td>39161.000000</td>\n",
              "      <td>39161.000000</td>\n",
              "      <td>39161.000000</td>\n",
              "      <td>39161.000000</td>\n",
              "    </tr>\n",
              "    <tr>\n",
              "      <th>mean</th>\n",
              "      <td>19581.000000</td>\n",
              "      <td>6.523812</td>\n",
              "      <td>6.452746</td>\n",
              "      <td>2.154137</td>\n",
              "      <td>0.400092</td>\n",
              "      <td>0.006716</td>\n",
              "      <td>0.102832</td>\n",
              "      <td>0.011465</td>\n",
              "      <td>0.151503</td>\n",
              "      <td>0.499834</td>\n",
              "      <td>0.286612</td>\n",
              "      <td>0.174434</td>\n",
              "      <td>0.011440</td>\n",
              "      <td>0.000383</td>\n",
              "      <td>0.218942</td>\n",
              "      <td>0.000562</td>\n",
              "      <td>0.051020</td>\n",
              "    </tr>\n",
              "    <tr>\n",
              "      <th>std</th>\n",
              "      <td>11304.951283</td>\n",
              "      <td>3.472944</td>\n",
              "      <td>2.614296</td>\n",
              "      <td>0.779815</td>\n",
              "      <td>0.509194</td>\n",
              "      <td>0.081676</td>\n",
              "      <td>0.303743</td>\n",
              "      <td>0.106463</td>\n",
              "      <td>0.359681</td>\n",
              "      <td>0.558166</td>\n",
              "      <td>0.455784</td>\n",
              "      <td>0.379689</td>\n",
              "      <td>0.106346</td>\n",
              "      <td>0.019568</td>\n",
              "      <td>0.431544</td>\n",
              "      <td>0.023696</td>\n",
              "      <td>0.220042</td>\n",
              "    </tr>\n",
              "    <tr>\n",
              "      <th>min</th>\n",
              "      <td>1.000000</td>\n",
              "      <td>1.000000</td>\n",
              "      <td>1.000000</td>\n",
              "      <td>1.000000</td>\n",
              "      <td>0.000000</td>\n",
              "      <td>0.000000</td>\n",
              "      <td>0.000000</td>\n",
              "      <td>0.000000</td>\n",
              "      <td>0.000000</td>\n",
              "      <td>0.000000</td>\n",
              "      <td>0.000000</td>\n",
              "      <td>0.000000</td>\n",
              "      <td>0.000000</td>\n",
              "      <td>0.000000</td>\n",
              "      <td>0.000000</td>\n",
              "      <td>0.000000</td>\n",
              "      <td>0.000000</td>\n",
              "    </tr>\n",
              "    <tr>\n",
              "      <th>25%</th>\n",
              "      <td>9791.000000</td>\n",
              "      <td>4.000000</td>\n",
              "      <td>5.000000</td>\n",
              "      <td>2.000000</td>\n",
              "      <td>0.000000</td>\n",
              "      <td>0.000000</td>\n",
              "      <td>0.000000</td>\n",
              "      <td>0.000000</td>\n",
              "      <td>0.000000</td>\n",
              "      <td>0.000000</td>\n",
              "      <td>0.000000</td>\n",
              "      <td>0.000000</td>\n",
              "      <td>0.000000</td>\n",
              "      <td>0.000000</td>\n",
              "      <td>0.000000</td>\n",
              "      <td>0.000000</td>\n",
              "      <td>0.000000</td>\n",
              "    </tr>\n",
              "    <tr>\n",
              "      <th>50%</th>\n",
              "      <td>19581.000000</td>\n",
              "      <td>6.000000</td>\n",
              "      <td>6.000000</td>\n",
              "      <td>2.000000</td>\n",
              "      <td>0.000000</td>\n",
              "      <td>0.000000</td>\n",
              "      <td>0.000000</td>\n",
              "      <td>0.000000</td>\n",
              "      <td>0.000000</td>\n",
              "      <td>0.000000</td>\n",
              "      <td>0.000000</td>\n",
              "      <td>0.000000</td>\n",
              "      <td>0.000000</td>\n",
              "      <td>0.000000</td>\n",
              "      <td>0.000000</td>\n",
              "      <td>0.000000</td>\n",
              "      <td>0.000000</td>\n",
              "    </tr>\n",
              "    <tr>\n",
              "      <th>75%</th>\n",
              "      <td>29371.000000</td>\n",
              "      <td>9.000000</td>\n",
              "      <td>8.000000</td>\n",
              "      <td>3.000000</td>\n",
              "      <td>1.000000</td>\n",
              "      <td>0.000000</td>\n",
              "      <td>0.000000</td>\n",
              "      <td>0.000000</td>\n",
              "      <td>0.000000</td>\n",
              "      <td>1.000000</td>\n",
              "      <td>1.000000</td>\n",
              "      <td>0.000000</td>\n",
              "      <td>0.000000</td>\n",
              "      <td>0.000000</td>\n",
              "      <td>0.000000</td>\n",
              "      <td>0.000000</td>\n",
              "      <td>0.000000</td>\n",
              "    </tr>\n",
              "    <tr>\n",
              "      <th>max</th>\n",
              "      <td>39161.000000</td>\n",
              "      <td>16.000000</td>\n",
              "      <td>15.000000</td>\n",
              "      <td>4.000000</td>\n",
              "      <td>3.000000</td>\n",
              "      <td>1.000000</td>\n",
              "      <td>1.000000</td>\n",
              "      <td>1.000000</td>\n",
              "      <td>2.000000</td>\n",
              "      <td>3.000000</td>\n",
              "      <td>2.000000</td>\n",
              "      <td>2.000000</td>\n",
              "      <td>1.000000</td>\n",
              "      <td>1.000000</td>\n",
              "      <td>4.000000</td>\n",
              "      <td>1.000000</td>\n",
              "      <td>1.000000</td>\n",
              "    </tr>\n",
              "  </tbody>\n",
              "</table>\n",
              "</div>\n",
              "      <button class=\"colab-df-convert\" onclick=\"convertToInteractive('df-fe919499-ce9a-495b-a801-e20acb500c49')\"\n",
              "              title=\"Convert this dataframe to an interactive table.\"\n",
              "              style=\"display:none;\">\n",
              "        \n",
              "  <svg xmlns=\"http://www.w3.org/2000/svg\" height=\"24px\"viewBox=\"0 0 24 24\"\n",
              "       width=\"24px\">\n",
              "    <path d=\"M0 0h24v24H0V0z\" fill=\"none\"/>\n",
              "    <path d=\"M18.56 5.44l.94 2.06.94-2.06 2.06-.94-2.06-.94-.94-2.06-.94 2.06-2.06.94zm-11 1L8.5 8.5l.94-2.06 2.06-.94-2.06-.94L8.5 2.5l-.94 2.06-2.06.94zm10 10l.94 2.06.94-2.06 2.06-.94-2.06-.94-.94-2.06-.94 2.06-2.06.94z\"/><path d=\"M17.41 7.96l-1.37-1.37c-.4-.4-.92-.59-1.43-.59-.52 0-1.04.2-1.43.59L10.3 9.45l-7.72 7.72c-.78.78-.78 2.05 0 2.83L4 21.41c.39.39.9.59 1.41.59.51 0 1.02-.2 1.41-.59l7.78-7.78 2.81-2.81c.8-.78.8-2.07 0-2.86zM5.41 20L4 18.59l7.72-7.72 1.47 1.35L5.41 20z\"/>\n",
              "  </svg>\n",
              "      </button>\n",
              "      \n",
              "  <style>\n",
              "    .colab-df-container {\n",
              "      display:flex;\n",
              "      flex-wrap:wrap;\n",
              "      gap: 12px;\n",
              "    }\n",
              "\n",
              "    .colab-df-convert {\n",
              "      background-color: #E8F0FE;\n",
              "      border: none;\n",
              "      border-radius: 50%;\n",
              "      cursor: pointer;\n",
              "      display: none;\n",
              "      fill: #1967D2;\n",
              "      height: 32px;\n",
              "      padding: 0 0 0 0;\n",
              "      width: 32px;\n",
              "    }\n",
              "\n",
              "    .colab-df-convert:hover {\n",
              "      background-color: #E2EBFA;\n",
              "      box-shadow: 0px 1px 2px rgba(60, 64, 67, 0.3), 0px 1px 3px 1px rgba(60, 64, 67, 0.15);\n",
              "      fill: #174EA6;\n",
              "    }\n",
              "\n",
              "    [theme=dark] .colab-df-convert {\n",
              "      background-color: #3B4455;\n",
              "      fill: #D2E3FC;\n",
              "    }\n",
              "\n",
              "    [theme=dark] .colab-df-convert:hover {\n",
              "      background-color: #434B5C;\n",
              "      box-shadow: 0px 1px 3px 1px rgba(0, 0, 0, 0.15);\n",
              "      filter: drop-shadow(0px 1px 2px rgba(0, 0, 0, 0.3));\n",
              "      fill: #FFFFFF;\n",
              "    }\n",
              "  </style>\n",
              "\n",
              "      <script>\n",
              "        const buttonEl =\n",
              "          document.querySelector('#df-fe919499-ce9a-495b-a801-e20acb500c49 button.colab-df-convert');\n",
              "        buttonEl.style.display =\n",
              "          google.colab.kernel.accessAllowed ? 'block' : 'none';\n",
              "\n",
              "        async function convertToInteractive(key) {\n",
              "          const element = document.querySelector('#df-fe919499-ce9a-495b-a801-e20acb500c49');\n",
              "          const dataTable =\n",
              "            await google.colab.kernel.invokeFunction('convertToInteractive',\n",
              "                                                     [key], {});\n",
              "          if (!dataTable) return;\n",
              "\n",
              "          const docLinkHtml = 'Like what you see? Visit the ' +\n",
              "            '<a target=\"_blank\" href=https://colab.research.google.com/notebooks/data_table.ipynb>data table notebook</a>'\n",
              "            + ' to learn more about interactive tables.';\n",
              "          element.innerHTML = '';\n",
              "          dataTable['output_type'] = 'display_data';\n",
              "          await google.colab.output.renderOutput(dataTable, element);\n",
              "          const docLink = document.createElement('div');\n",
              "          docLink.innerHTML = docLinkHtml;\n",
              "          element.appendChild(docLink);\n",
              "        }\n",
              "      </script>\n",
              "    </div>\n",
              "  </div>\n",
              "  "
            ]
          },
          "metadata": {},
          "execution_count": 7
        }
      ],
      "source": [
        "test_dataset.describe()"
      ]
    },
    {
      "cell_type": "code",
      "execution_count": 8,
      "metadata": {
        "colab": {
          "base_uri": "https://localhost:8080/"
        },
        "id": "Lhj45tEXil-6",
        "outputId": "eaba9d10-b639-48a6-a275-09232b80aded"
      },
      "outputs": [
        {
          "output_type": "stream",
          "name": "stdout",
          "text": [
            "<class 'pandas.core.frame.DataFrame'>\n",
            "RangeIndex: 39161 entries, 0 to 39160\n",
            "Data columns (total 19 columns):\n",
            " #   Column                Non-Null Count  Dtype  \n",
            "---  ------                --------------  -----  \n",
            " 0   id                    39161 non-null  int64  \n",
            " 1   created_at            39161 non-null  object \n",
            " 2   campaign_var_1        39161 non-null  int64  \n",
            " 3   campaign_var_2        39161 non-null  int64  \n",
            " 4   products_purchased    18250 non-null  float64\n",
            " 5   signup_date           24048 non-null  object \n",
            " 6   user_activity_var_1   39161 non-null  int64  \n",
            " 7   user_activity_var_2   39161 non-null  int64  \n",
            " 8   user_activity_var_3   39161 non-null  int64  \n",
            " 9   user_activity_var_4   39161 non-null  int64  \n",
            " 10  user_activity_var_5   39161 non-null  int64  \n",
            " 11  user_activity_var_6   39161 non-null  int64  \n",
            " 12  user_activity_var_7   39161 non-null  int64  \n",
            " 13  user_activity_var_8   39161 non-null  int64  \n",
            " 14  user_activity_var_9   39161 non-null  int64  \n",
            " 15  user_activity_var_10  39161 non-null  int64  \n",
            " 16  user_activity_var_11  39161 non-null  int64  \n",
            " 17  user_activity_var_12  39161 non-null  int64  \n",
            " 18  buy                   39161 non-null  int64  \n",
            "dtypes: float64(1), int64(16), object(2)\n",
            "memory usage: 5.7+ MB\n"
          ]
        }
      ],
      "source": [
        "test_dataset.info()"
      ]
    },
    {
      "cell_type": "code",
      "execution_count": 9,
      "metadata": {
        "id": "g0thTn0fjBYA"
      },
      "outputs": [],
      "source": [
        "test_dataset=test_dataset.drop(columns=['signup_date','id','created_at'],axis=1)"
      ]
    },
    {
      "cell_type": "code",
      "execution_count": 10,
      "metadata": {
        "id": "d_JmBBp9iu51"
      },
      "outputs": [],
      "source": [
        "test_dataset=test_dataset.dropna()"
      ]
    },
    {
      "cell_type": "code",
      "execution_count": 11,
      "metadata": {
        "colab": {
          "base_uri": "https://localhost:8080/"
        },
        "id": "LNtvebjGi33V",
        "outputId": "7c2f56c0-bfbb-4bf2-acd2-fd6a54296ac9"
      },
      "outputs": [
        {
          "output_type": "stream",
          "name": "stdout",
          "text": [
            "<class 'pandas.core.frame.DataFrame'>\n",
            "Int64Index: 18250 entries, 0 to 39159\n",
            "Data columns (total 16 columns):\n",
            " #   Column                Non-Null Count  Dtype  \n",
            "---  ------                --------------  -----  \n",
            " 0   campaign_var_1        18250 non-null  int64  \n",
            " 1   campaign_var_2        18250 non-null  int64  \n",
            " 2   products_purchased    18250 non-null  float64\n",
            " 3   user_activity_var_1   18250 non-null  int64  \n",
            " 4   user_activity_var_2   18250 non-null  int64  \n",
            " 5   user_activity_var_3   18250 non-null  int64  \n",
            " 6   user_activity_var_4   18250 non-null  int64  \n",
            " 7   user_activity_var_5   18250 non-null  int64  \n",
            " 8   user_activity_var_6   18250 non-null  int64  \n",
            " 9   user_activity_var_7   18250 non-null  int64  \n",
            " 10  user_activity_var_8   18250 non-null  int64  \n",
            " 11  user_activity_var_9   18250 non-null  int64  \n",
            " 12  user_activity_var_10  18250 non-null  int64  \n",
            " 13  user_activity_var_11  18250 non-null  int64  \n",
            " 14  user_activity_var_12  18250 non-null  int64  \n",
            " 15  buy                   18250 non-null  int64  \n",
            "dtypes: float64(1), int64(15)\n",
            "memory usage: 2.4 MB\n"
          ]
        }
      ],
      "source": [
        "test_dataset.info()"
      ]
    },
    {
      "cell_type": "code",
      "execution_count": 12,
      "metadata": {
        "colab": {
          "base_uri": "https://localhost:8080/"
        },
        "id": "o-D4nBnsjT1E",
        "outputId": "401a40fd-3866-40ec-e293-592cef82b980"
      },
      "outputs": [
        {
          "output_type": "execute_result",
          "data": {
            "text/plain": [
              "0    17297\n",
              "1      953\n",
              "Name: buy, dtype: int64"
            ]
          },
          "metadata": {},
          "execution_count": 12
        }
      ],
      "source": [
        "test_dataset['buy'].value_counts()"
      ]
    },
    {
      "cell_type": "code",
      "source": [
        "for i in list(test_dataset.describe()):\n",
        "  print(f'The Value count for {i} is','\\n')\n",
        "  print(test_dataset[i].value_counts())"
      ],
      "metadata": {
        "colab": {
          "base_uri": "https://localhost:8080/"
        },
        "id": "MLAxZcX7gsgX",
        "outputId": "3a7ab014-5d98-4ec3-c7e7-bf18375a7122"
      },
      "execution_count": 13,
      "outputs": [
        {
          "output_type": "stream",
          "name": "stdout",
          "text": [
            "The Value count for campaign_var_1 is \n",
            "\n",
            "4     2035\n",
            "5     2016\n",
            "3     1935\n",
            "2     1918\n",
            "6     1900\n",
            "7     1676\n",
            "8     1523\n",
            "9     1188\n",
            "10     980\n",
            "1      975\n",
            "11     718\n",
            "12     549\n",
            "13     399\n",
            "14     240\n",
            "15     146\n",
            "16      52\n",
            "Name: campaign_var_1, dtype: int64\n",
            "The Value count for campaign_var_2 is \n",
            "\n",
            "6     2688\n",
            "5     2567\n",
            "7     2488\n",
            "8     2062\n",
            "4     2050\n",
            "3     1539\n",
            "9     1531\n",
            "2     1013\n",
            "10     952\n",
            "11     541\n",
            "1      341\n",
            "12     286\n",
            "13     143\n",
            "14      46\n",
            "15       3\n",
            "Name: campaign_var_2, dtype: int64\n",
            "The Value count for products_purchased is \n",
            "\n",
            "2.0    8867\n",
            "3.0    5024\n",
            "1.0    3643\n",
            "4.0     716\n",
            "Name: products_purchased, dtype: int64\n",
            "The Value count for user_activity_var_1 is \n",
            "\n",
            "0    11342\n",
            "1     6765\n",
            "2      143\n",
            "Name: user_activity_var_1, dtype: int64\n",
            "The Value count for user_activity_var_2 is \n",
            "\n",
            "0    18126\n",
            "1      124\n",
            "Name: user_activity_var_2, dtype: int64\n",
            "The Value count for user_activity_var_3 is \n",
            "\n",
            "0    16274\n",
            "1     1976\n",
            "Name: user_activity_var_3, dtype: int64\n",
            "The Value count for user_activity_var_4 is \n",
            "\n",
            "0    18039\n",
            "1      211\n",
            "Name: user_activity_var_4, dtype: int64\n",
            "The Value count for user_activity_var_5 is \n",
            "\n",
            "0    15376\n",
            "1     2868\n",
            "2        6\n",
            "Name: user_activity_var_5, dtype: int64\n",
            "The Value count for user_activity_var_6 is \n",
            "\n",
            "0    9564\n",
            "1    8128\n",
            "2     549\n",
            "3       9\n",
            "Name: user_activity_var_6, dtype: int64\n",
            "The Value count for user_activity_var_7 is \n",
            "\n",
            "0    12810\n",
            "1     5412\n",
            "2       28\n",
            "Name: user_activity_var_7, dtype: int64\n",
            "The Value count for user_activity_var_8 is \n",
            "\n",
            "0    15524\n",
            "1     2725\n",
            "2        1\n",
            "Name: user_activity_var_8, dtype: int64\n",
            "The Value count for user_activity_var_9 is \n",
            "\n",
            "0    18017\n",
            "1      233\n",
            "Name: user_activity_var_9, dtype: int64\n",
            "The Value count for user_activity_var_10 is \n",
            "\n",
            "0    18240\n",
            "1       10\n",
            "Name: user_activity_var_10, dtype: int64\n",
            "The Value count for user_activity_var_11 is \n",
            "\n",
            "0    14280\n",
            "1     3846\n",
            "2      111\n",
            "3       13\n",
            "Name: user_activity_var_11, dtype: int64\n",
            "The Value count for user_activity_var_12 is \n",
            "\n",
            "0    18239\n",
            "1       11\n",
            "Name: user_activity_var_12, dtype: int64\n",
            "The Value count for buy is \n",
            "\n",
            "0    17297\n",
            "1      953\n",
            "Name: buy, dtype: int64\n"
          ]
        }
      ]
    },
    {
      "cell_type": "code",
      "source": [
        "test_dataset=test_dataset.drop(columns=['user_activity_var_2','user_activity_var_3','user_activity_var_4','user_activity_var_9','user_activity_var_10','user_activity_var_12','products_purchased'],axis=1)"
      ],
      "metadata": {
        "id": "rZ1czxeJijOk"
      },
      "execution_count": 14,
      "outputs": []
    },
    {
      "cell_type": "code",
      "source": [
        "buyers=test_dataset[test_dataset['buy']==1]\n",
        "non_buyers=test_dataset[test_dataset['buy']==0]"
      ],
      "metadata": {
        "id": "qmV9SbBmRPlj"
      },
      "execution_count": 15,
      "outputs": []
    },
    {
      "cell_type": "code",
      "source": [
        "# Distribution plot\n",
        "for i in list(test_dataset.describe()):\n",
        "   plt.figure(figsize=(8,5))\n",
        "   ax = sns.distplot(buyers[i],label='buy',hist=False)\n",
        "   ax = sns.distplot(non_buyers[i],label='didnt buy',hist=False)\n",
        "   ax.set(xlabel=i)\n",
        "plt.show()"
      ],
      "metadata": {
        "colab": {
          "base_uri": "https://localhost:8080/",
          "height": 1000
        },
        "id": "iIEaDB9RP77q",
        "outputId": "bd2ffd74-bc49-419b-d215-02c3da401a27"
      },
      "execution_count": 16,
      "outputs": [
        {
          "output_type": "stream",
          "name": "stderr",
          "text": [
            "/usr/local/lib/python3.7/dist-packages/seaborn/distributions.py:2619: FutureWarning: `distplot` is a deprecated function and will be removed in a future version. Please adapt your code to use either `displot` (a figure-level function with similar flexibility) or `kdeplot` (an axes-level function for kernel density plots).\n",
            "  warnings.warn(msg, FutureWarning)\n",
            "/usr/local/lib/python3.7/dist-packages/seaborn/distributions.py:2619: FutureWarning: `distplot` is a deprecated function and will be removed in a future version. Please adapt your code to use either `displot` (a figure-level function with similar flexibility) or `kdeplot` (an axes-level function for kernel density plots).\n",
            "  warnings.warn(msg, FutureWarning)\n",
            "/usr/local/lib/python3.7/dist-packages/seaborn/distributions.py:2619: FutureWarning: `distplot` is a deprecated function and will be removed in a future version. Please adapt your code to use either `displot` (a figure-level function with similar flexibility) or `kdeplot` (an axes-level function for kernel density plots).\n",
            "  warnings.warn(msg, FutureWarning)\n",
            "/usr/local/lib/python3.7/dist-packages/seaborn/distributions.py:2619: FutureWarning: `distplot` is a deprecated function and will be removed in a future version. Please adapt your code to use either `displot` (a figure-level function with similar flexibility) or `kdeplot` (an axes-level function for kernel density plots).\n",
            "  warnings.warn(msg, FutureWarning)\n",
            "/usr/local/lib/python3.7/dist-packages/seaborn/distributions.py:2619: FutureWarning: `distplot` is a deprecated function and will be removed in a future version. Please adapt your code to use either `displot` (a figure-level function with similar flexibility) or `kdeplot` (an axes-level function for kernel density plots).\n",
            "  warnings.warn(msg, FutureWarning)\n",
            "/usr/local/lib/python3.7/dist-packages/seaborn/distributions.py:2619: FutureWarning: `distplot` is a deprecated function and will be removed in a future version. Please adapt your code to use either `displot` (a figure-level function with similar flexibility) or `kdeplot` (an axes-level function for kernel density plots).\n",
            "  warnings.warn(msg, FutureWarning)\n",
            "/usr/local/lib/python3.7/dist-packages/seaborn/distributions.py:2619: FutureWarning: `distplot` is a deprecated function and will be removed in a future version. Please adapt your code to use either `displot` (a figure-level function with similar flexibility) or `kdeplot` (an axes-level function for kernel density plots).\n",
            "  warnings.warn(msg, FutureWarning)\n",
            "/usr/local/lib/python3.7/dist-packages/seaborn/distributions.py:2619: FutureWarning: `distplot` is a deprecated function and will be removed in a future version. Please adapt your code to use either `displot` (a figure-level function with similar flexibility) or `kdeplot` (an axes-level function for kernel density plots).\n",
            "  warnings.warn(msg, FutureWarning)\n",
            "/usr/local/lib/python3.7/dist-packages/seaborn/distributions.py:2619: FutureWarning: `distplot` is a deprecated function and will be removed in a future version. Please adapt your code to use either `displot` (a figure-level function with similar flexibility) or `kdeplot` (an axes-level function for kernel density plots).\n",
            "  warnings.warn(msg, FutureWarning)\n",
            "/usr/local/lib/python3.7/dist-packages/seaborn/distributions.py:2619: FutureWarning: `distplot` is a deprecated function and will be removed in a future version. Please adapt your code to use either `displot` (a figure-level function with similar flexibility) or `kdeplot` (an axes-level function for kernel density plots).\n",
            "  warnings.warn(msg, FutureWarning)\n",
            "/usr/local/lib/python3.7/dist-packages/seaborn/distributions.py:2619: FutureWarning: `distplot` is a deprecated function and will be removed in a future version. Please adapt your code to use either `displot` (a figure-level function with similar flexibility) or `kdeplot` (an axes-level function for kernel density plots).\n",
            "  warnings.warn(msg, FutureWarning)\n",
            "/usr/local/lib/python3.7/dist-packages/seaborn/distributions.py:2619: FutureWarning: `distplot` is a deprecated function and will be removed in a future version. Please adapt your code to use either `displot` (a figure-level function with similar flexibility) or `kdeplot` (an axes-level function for kernel density plots).\n",
            "  warnings.warn(msg, FutureWarning)\n",
            "/usr/local/lib/python3.7/dist-packages/seaborn/distributions.py:2619: FutureWarning: `distplot` is a deprecated function and will be removed in a future version. Please adapt your code to use either `displot` (a figure-level function with similar flexibility) or `kdeplot` (an axes-level function for kernel density plots).\n",
            "  warnings.warn(msg, FutureWarning)\n",
            "/usr/local/lib/python3.7/dist-packages/seaborn/distributions.py:2619: FutureWarning: `distplot` is a deprecated function and will be removed in a future version. Please adapt your code to use either `displot` (a figure-level function with similar flexibility) or `kdeplot` (an axes-level function for kernel density plots).\n",
            "  warnings.warn(msg, FutureWarning)\n",
            "/usr/local/lib/python3.7/dist-packages/seaborn/distributions.py:2619: FutureWarning: `distplot` is a deprecated function and will be removed in a future version. Please adapt your code to use either `displot` (a figure-level function with similar flexibility) or `kdeplot` (an axes-level function for kernel density plots).\n",
            "  warnings.warn(msg, FutureWarning)\n",
            "/usr/local/lib/python3.7/dist-packages/seaborn/distributions.py:2619: FutureWarning: `distplot` is a deprecated function and will be removed in a future version. Please adapt your code to use either `displot` (a figure-level function with similar flexibility) or `kdeplot` (an axes-level function for kernel density plots).\n",
            "  warnings.warn(msg, FutureWarning)\n",
            "/usr/local/lib/python3.7/dist-packages/seaborn/distributions.py:2619: FutureWarning: `distplot` is a deprecated function and will be removed in a future version. Please adapt your code to use either `displot` (a figure-level function with similar flexibility) or `kdeplot` (an axes-level function for kernel density plots).\n",
            "  warnings.warn(msg, FutureWarning)\n",
            "/usr/local/lib/python3.7/dist-packages/seaborn/distributions.py:316: UserWarning: Dataset has 0 variance; skipping density estimate. Pass `warn_singular=False` to disable this warning.\n",
            "  warnings.warn(msg, UserWarning)\n",
            "/usr/local/lib/python3.7/dist-packages/seaborn/distributions.py:2619: FutureWarning: `distplot` is a deprecated function and will be removed in a future version. Please adapt your code to use either `displot` (a figure-level function with similar flexibility) or `kdeplot` (an axes-level function for kernel density plots).\n",
            "  warnings.warn(msg, FutureWarning)\n",
            "/usr/local/lib/python3.7/dist-packages/seaborn/distributions.py:316: UserWarning: Dataset has 0 variance; skipping density estimate. Pass `warn_singular=False` to disable this warning.\n",
            "  warnings.warn(msg, UserWarning)\n"
          ]
        },
        {
          "output_type": "display_data",
          "data": {
            "text/plain": [
              "<Figure size 576x360 with 1 Axes>"
            ],
            "image/png": "[encoded data removed]"
          },
          "metadata": {
            "needs_background": "light"
          }
        },
        {
          "output_type": "display_data",
          "data": {
            "text/plain": [
              "<Figure size 576x360 with 1 Axes>"
            ],
            "image/png": "[encoded data removed]"
          },
          "metadata": {
            "needs_background": "light"
          }
        },
        {
          "output_type": "display_data",
          "data": {
            "text/plain": [
              "<Figure size 576x360 with 1 Axes>"
            ],
            "image/png": "[encoded data removed]"
          },
          "metadata": {
            "needs_background": "light"
          }
        },
        {
          "output_type": "display_data",
          "data": {
            "text/plain": [
              "<Figure size 576x360 with 1 Axes>"
            ],
            "image/png": "[encoded data removed]"
          },
          "metadata": {
            "needs_background": "light"
          }
        },
        {
          "output_type": "display_data",
          "data": {
            "text/plain": [
              "<Figure size 576x360 with 1 Axes>"
            ],
            "image/png": "[encoded data removed]"
          },
          "metadata": {
            "needs_background": "light"
          }
        },
        {
          "output_type": "display_data",
          "data": {
            "text/plain": [
              "<Figure size 576x360 with 1 Axes>"
            ],
            "image/png": "[encoded data removed]"
          },
          "metadata": {
            "needs_background": "light"
          }
        },
        {
          "output_type": "display_data",
          "data": {
            "text/plain": [
              "<Figure size 576x360 with 1 Axes>"
            ],
            "image/png": "[encoded data removed]"
          },
          "metadata": {
            "needs_background": "light"
          }
        },
        {
          "output_type": "display_data",
          "data": {
            "text/plain": [
              "<Figure size 576x360 with 1 Axes>"
            ],
            "image/png": "[encoded data removed]"
          },
          "metadata": {
            "needs_background": "light"
          }
        },
        {
          "output_type": "display_data",
          "data": {
            "text/plain": [
              "<Figure size 576x360 with 1 Axes>"
            ],
            "image/png": "[encoded data removed]"
          },
          "metadata": {
            "needs_background": "light"
          }
        }
      ]
    },
    {
      "cell_type": "code",
      "source": [
        "lst=list(test_dataset.columns)\n",
        "lst"
      ],
      "metadata": {
        "colab": {
          "base_uri": "https://localhost:8080/"
        },
        "id": "a8yRZHn2Cj5t",
        "outputId": "b69c6c27-6d5a-4c50-ddc1-53608e7f5fc3"
      },
      "execution_count": 17,
      "outputs": [
        {
          "output_type": "execute_result",
          "data": {
            "text/plain": [
              "['campaign_var_1',\n",
              " 'campaign_var_2',\n",
              " 'user_activity_var_1',\n",
              " 'user_activity_var_5',\n",
              " 'user_activity_var_6',\n",
              " 'user_activity_var_7',\n",
              " 'user_activity_var_8',\n",
              " 'user_activity_var_11',\n",
              " 'buy']"
            ]
          },
          "metadata": {},
          "execution_count": 17
        }
      ]
    },
    {
      "cell_type": "code",
      "source": [
        "test_dataset=pd.get_dummies(test_dataset, columns=['campaign_var_1',\n",
        " 'campaign_var_2',\n",
        " 'user_activity_var_1',\n",
        " 'user_activity_var_5',\n",
        " 'user_activity_var_6',\n",
        " 'user_activity_var_7',\n",
        " 'user_activity_var_8',\n",
        " 'user_activity_var_11'], prefix=['campaign_var_1',\n",
        " 'campaign_var_2',\n",
        " 'user_activity_var_1',\n",
        " 'user_activity_var_5',\n",
        " 'user_activity_var_6',\n",
        " 'user_activity_var_7',\n",
        " 'user_activity_var_8',\n",
        " 'user_activity_var_11'])"
      ],
      "metadata": {
        "id": "7O-nqIrhCi_2"
      },
      "execution_count": 18,
      "outputs": []
    },
    {
      "cell_type": "code",
      "execution_count": 19,
      "metadata": {
        "colab": {
          "base_uri": "https://localhost:8080/",
          "height": 296
        },
        "id": "fn0Nk3Dvj9eZ",
        "outputId": "daf7bab1-86ce-4095-da9d-52f5e28efd3f"
      },
      "outputs": [
        {
          "output_type": "execute_result",
          "data": {
            "text/plain": [
              "<matplotlib.axes._subplots.AxesSubplot at 0x7f6edab29a10>"
            ]
          },
          "metadata": {},
          "execution_count": 19
        },
        {
          "output_type": "display_data",
          "data": {
            "text/plain": [
              "<Figure size 432x288 with 1 Axes>"
            ],
            "image/png": "[encoded data removed]"
          },
          "metadata": {
            "needs_background": "light"
          }
        }
      ],
      "source": [
        "sns.countplot(x=test_dataset['buy'])"
      ]
    },
    {
      "cell_type": "code",
      "source": [
        "# Importing SMOTE\n",
        "from imblearn.over_sampling import SMOTE"
      ],
      "metadata": {
        "id": "M_QKDCggoPYa"
      },
      "execution_count": 20,
      "outputs": []
    },
    {
      "cell_type": "code",
      "execution_count": 21,
      "metadata": {
        "id": "A6I1u91GoTFT"
      },
      "outputs": [],
      "source": [
        " # Data for all the independent variables\n",
        "X = test_dataset.drop(labels='buy',axis=1)\n",
        "\n",
        " # Data for the dependent variable\n",
        "Y = test_dataset['buy']"
      ]
    },
    {
      "cell_type": "code",
      "execution_count": 22,
      "metadata": {
        "colab": {
          "base_uri": "https://localhost:8080/"
        },
        "id": "eG5-y-ZwTF4w",
        "outputId": "496ac651-012e-4d65-cda3-6cc96e8d75bc"
      },
      "outputs": [
        {
          "output_type": "execute_result",
          "data": {
            "text/plain": [
              "((18250, 51), (18250,))"
            ]
          },
          "metadata": {},
          "execution_count": 22
        }
      ],
      "source": [
        "X.shape, Y.shape"
      ]
    },
    {
      "cell_type": "code",
      "execution_count": 23,
      "metadata": {
        "id": "vMPrQ-6rTF15"
      },
      "outputs": [],
      "source": [
        "# Train-test split\n",
        "\n",
        "X_train, X_test, Y_train, Y_test = train_test_split(X,Y,test_size = 0.2, random_state=1)"
      ]
    },
    {
      "cell_type": "code",
      "source": [
        "from sklearn.model_selection import StratifiedKFold\n",
        "from imblearn.over_sampling import SMOTE\n",
        "Xtrain=X_train\n",
        "cv = StratifiedKFold(n_splits=5)\n",
        "X_train, Y_train = SMOTE().fit_resample(X_train, Y_train)"
      ],
      "metadata": {
        "id": "HwRm4JtS2Y5q"
      },
      "execution_count": 24,
      "outputs": []
    },
    {
      "cell_type": "code",
      "source": [
        "print('Before SMOTE oversampling X_train shape=',Xtrain.shape)\n",
        "print('After SMOTE oversampling X_train shape=',X_train.shape)"
      ],
      "metadata": {
        "colab": {
          "base_uri": "https://localhost:8080/"
        },
        "id": "XOAJ19ilrGZW",
        "outputId": "87ba591b-dd7a-46c4-ae54-42d2d49db2bc"
      },
      "execution_count": 25,
      "outputs": [
        {
          "output_type": "stream",
          "name": "stdout",
          "text": [
            "Before SMOTE oversampling X_train shape= (14600, 51)\n",
            "After SMOTE oversampling X_train shape= (27678, 51)\n"
          ]
        }
      ]
    },
    {
      "cell_type": "code",
      "source": [
        "Y_train.value_counts()"
      ],
      "metadata": {
        "colab": {
          "base_uri": "https://localhost:8080/"
        },
        "id": "pw15PWlG44CO",
        "outputId": "4b0c4a48-75e5-41f6-a2e6-3ce7d1475582"
      },
      "execution_count": 26,
      "outputs": [
        {
          "output_type": "execute_result",
          "data": {
            "text/plain": [
              "0    13839\n",
              "1    13839\n",
              "Name: buy, dtype: int64"
            ]
          },
          "metadata": {},
          "execution_count": 26
        }
      ]
    },
    {
      "cell_type": "code",
      "execution_count": 27,
      "metadata": {
        "colab": {
          "base_uri": "https://localhost:8080/"
        },
        "id": "GiF-sNv4TFy1",
        "outputId": "614c91b5-05c8-4504-d4e6-a51f1a31be16"
      },
      "outputs": [
        {
          "output_type": "stream",
          "name": "stdout",
          "text": [
            "(27678, 51) (27678,)\n",
            "(3650, 51) (3650,)\n"
          ]
        }
      ],
      "source": [
        "# Check the shape of train dataset\n",
        "print(X_train.shape,Y_train.shape)\n",
        "\n",
        "# Check the shape of test dataset\n",
        "print(X_test.shape, Y_test.shape)"
      ]
    },
    {
      "cell_type": "code",
      "source": [
        "# Importing XGBoost\n",
        "from xgboost import XGBClassifier"
      ],
      "metadata": {
        "id": "79gRurlnNyuR"
      },
      "execution_count": 28,
      "outputs": []
    },
    {
      "cell_type": "code",
      "source": [
        "# Impoting metrics\n",
        "from sklearn import metrics\n",
        "from sklearn.metrics import confusion_matrix\n",
        "from sklearn.metrics import f1_score\n",
        "from sklearn.metrics import classification_report"
      ],
      "metadata": {
        "id": "Wuc0ItusGMEb"
      },
      "execution_count": 29,
      "outputs": []
    },
    {
      "cell_type": "code",
      "source": [
        "# hyperparameter tuning with XGBoost\n",
        "\n",
        "# creating a KFold object \n",
        "folds = 3\n",
        "\n",
        "# specify range of hyperparameters\n",
        "param_grid = {'learning_rate': [0.01,0.1,0.5,1,10,50], \n",
        "             'subsample': [0.3, 0.6, 0.9,1]}          \n",
        "\n",
        "\n",
        "# specify model\n",
        "xgb_model = XGBClassifier(max_depth=3, n_estimators=200)\n",
        "\n",
        "# set up GridSearchCV()\n",
        "model_cv = GridSearchCV(estimator = xgb_model, \n",
        "                        param_grid = param_grid, \n",
        "                        scoring= 'roc_auc', \n",
        "                        cv = folds, \n",
        "                        verbose = 1,\n",
        "                        return_train_score=True)      \n",
        "\n",
        "# fit the model\n",
        "model_cv.fit(X_train, Y_train) "
      ],
      "metadata": {
        "colab": {
          "base_uri": "https://localhost:8080/"
        },
        "id": "xcblD3z-MNEc",
        "outputId": "01c7dae6-5c8d-4b2a-c304-5769a23d2a16"
      },
      "execution_count": 30,
      "outputs": [
        {
          "output_type": "stream",
          "name": "stdout",
          "text": [
            "Fitting 3 folds for each of 24 candidates, totalling 72 fits\n"
          ]
        },
        {
          "output_type": "execute_result",
          "data": {
            "text/plain": [
              "GridSearchCV(cv=3, estimator=XGBClassifier(n_estimators=200),\n",
              "             param_grid={'learning_rate': [0.01, 0.1, 0.5, 1, 10, 50],\n",
              "                         'subsample': [0.3, 0.6, 0.9, 1]},\n",
              "             return_train_score=True, scoring='roc_auc', verbose=1)"
            ]
          },
          "metadata": {},
          "execution_count": 30
        }
      ]
    },
    {
      "cell_type": "code",
      "source": [
        "cv_results = pd.DataFrame(model_cv.cv_results_)\n",
        "cv_results"
      ],
      "metadata": {
        "colab": {
          "base_uri": "https://localhost:8080/",
          "height": 1000
        },
        "id": "EwOGpzvrNhfb",
        "outputId": "403fbfde-231f-43e2-c50e-38fb79e955c1"
      },
      "execution_count": 31,
      "outputs": [
        {
          "output_type": "execute_result",
          "data": {
            "text/plain": [
              "    mean_fit_time  std_fit_time  mean_score_time  std_score_time  \\\n",
              "0        5.604992      0.040177         0.057381        0.002755   \n",
              "1        6.437489      0.004482         0.054324        0.000519   \n",
              "2        5.118382      0.003118         0.053682        0.002279   \n",
              "3        4.567325      0.006062         0.052011        0.002524   \n",
              "4        5.359682      0.010815         0.041370        0.000675   \n",
              "5        6.479274      0.293150         0.040940        0.000627   \n",
              "6        4.987235      0.008792         0.041129        0.000343   \n",
              "7        5.022686      0.557759         0.040741        0.000374   \n",
              "8        5.779105      0.305166         0.054034        0.009041   \n",
              "9        6.328059      0.020840         0.043958        0.000391   \n",
              "10       4.979693      0.008528         0.041121        0.000196   \n",
              "11       4.474602      0.006588         0.043282        0.003961   \n",
              "12       5.505259      0.012663         0.050935        0.000291   \n",
              "13       6.371021      0.015634         0.049459        0.000581   \n",
              "14       5.037519      0.023626         0.048060        0.001940   \n",
              "15       4.501105      0.012692         0.046709        0.001500   \n",
              "16       2.679916      0.003203         0.017012        0.000087   \n",
              "17       2.978130      0.004468         0.016847        0.000196   \n",
              "18       2.546221      0.006015         0.017072        0.000062   \n",
              "19       2.344549      0.011438         0.017119        0.000051   \n",
              "20       2.657846      0.010818         0.018088        0.002005   \n",
              "21       3.038396      0.126032         0.018359        0.002239   \n",
              "22       2.521258      0.006676         0.016786        0.000070   \n",
              "23       2.337661      0.010613         0.017061        0.000221   \n",
              "\n",
              "   param_learning_rate param_subsample  \\\n",
              "0                 0.01             0.3   \n",
              "1                 0.01             0.6   \n",
              "2                 0.01             0.9   \n",
              "3                 0.01               1   \n",
              "4                  0.1             0.3   \n",
              "5                  0.1             0.6   \n",
              "6                  0.1             0.9   \n",
              "7                  0.1               1   \n",
              "8                  0.5             0.3   \n",
              "9                  0.5             0.6   \n",
              "10                 0.5             0.9   \n",
              "11                 0.5               1   \n",
              "12                   1             0.3   \n",
              "13                   1             0.6   \n",
              "14                   1             0.9   \n",
              "15                   1               1   \n",
              "16                  10             0.3   \n",
              "17                  10             0.6   \n",
              "18                  10             0.9   \n",
              "19                  10               1   \n",
              "20                  50             0.3   \n",
              "21                  50             0.6   \n",
              "22                  50             0.9   \n",
              "23                  50               1   \n",
              "\n",
              "                                       params  split0_test_score  \\\n",
              "0   {'learning_rate': 0.01, 'subsample': 0.3}           0.872850   \n",
              "1   {'learning_rate': 0.01, 'subsample': 0.6}           0.871326   \n",
              "2   {'learning_rate': 0.01, 'subsample': 0.9}           0.869064   \n",
              "3     {'learning_rate': 0.01, 'subsample': 1}           0.868351   \n",
              "4    {'learning_rate': 0.1, 'subsample': 0.3}           0.959516   \n",
              "5    {'learning_rate': 0.1, 'subsample': 0.6}           0.958608   \n",
              "6    {'learning_rate': 0.1, 'subsample': 0.9}           0.957816   \n",
              "7      {'learning_rate': 0.1, 'subsample': 1}           0.958093   \n",
              "8    {'learning_rate': 0.5, 'subsample': 0.3}           0.968155   \n",
              "9    {'learning_rate': 0.5, 'subsample': 0.6}           0.966573   \n",
              "10   {'learning_rate': 0.5, 'subsample': 0.9}           0.965687   \n",
              "11     {'learning_rate': 0.5, 'subsample': 1}           0.963855   \n",
              "12     {'learning_rate': 1, 'subsample': 0.3}           0.967248   \n",
              "13     {'learning_rate': 1, 'subsample': 0.6}           0.966724   \n",
              "14     {'learning_rate': 1, 'subsample': 0.9}           0.966465   \n",
              "15       {'learning_rate': 1, 'subsample': 1}           0.966415   \n",
              "16    {'learning_rate': 10, 'subsample': 0.3}           0.500000   \n",
              "17    {'learning_rate': 10, 'subsample': 0.6}           0.500000   \n",
              "18    {'learning_rate': 10, 'subsample': 0.9}           0.500000   \n",
              "19      {'learning_rate': 10, 'subsample': 1}           0.500000   \n",
              "20    {'learning_rate': 50, 'subsample': 0.3}           0.500000   \n",
              "21    {'learning_rate': 50, 'subsample': 0.6}           0.500000   \n",
              "22    {'learning_rate': 50, 'subsample': 0.9}           0.500000   \n",
              "23      {'learning_rate': 50, 'subsample': 1}           0.500000   \n",
              "\n",
              "    split1_test_score  split2_test_score  mean_test_score  std_test_score  \\\n",
              "0            0.895536           0.891615         0.886667        0.009900   \n",
              "1            0.893442           0.890342         0.885037        0.009777   \n",
              "2            0.889368           0.887477         0.881970        0.009158   \n",
              "3            0.888163           0.888324         0.881613        0.009378   \n",
              "4            0.987392           0.986164         0.977691        0.012861   \n",
              "5            0.987304           0.986626         0.977513        0.013370   \n",
              "6            0.987255           0.986158         0.977077        0.013626   \n",
              "7            0.987091           0.985850         0.977011        0.013387   \n",
              "8            0.995341           0.994456         0.985984        0.012612   \n",
              "9            0.995800           0.995134         0.985836        0.013623   \n",
              "10           0.995197           0.994078         0.984988        0.013655   \n",
              "11           0.994482           0.993514         0.983950        0.014215   \n",
              "12           0.995118           0.993913         0.985426        0.012864   \n",
              "13           0.996191           0.995363         0.986093        0.013700   \n",
              "14           0.996258           0.995827         0.986184        0.013944   \n",
              "15           0.996284           0.995480         0.986060        0.013895   \n",
              "16           0.500000           0.500000         0.500000        0.000000   \n",
              "17           0.500000           0.500000         0.500000        0.000000   \n",
              "18           0.500000           0.500000         0.500000        0.000000   \n",
              "19           0.500000           0.500000         0.500000        0.000000   \n",
              "20           0.500000           0.500000         0.500000        0.000000   \n",
              "21           0.500000           0.500000         0.500000        0.000000   \n",
              "22           0.500000           0.500000         0.500000        0.000000   \n",
              "23           0.500000           0.500000         0.500000        0.000000   \n",
              "\n",
              "    rank_test_score  split0_train_score  split1_train_score  \\\n",
              "0                13            0.892461            0.885176   \n",
              "1                14            0.891284            0.882680   \n",
              "2                15            0.888750            0.878845   \n",
              "3                16            0.888332            0.877416   \n",
              "4                 9            0.988131            0.973973   \n",
              "5                10            0.987640            0.973819   \n",
              "6                11            0.987021            0.973695   \n",
              "7                12            0.987156            0.973581   \n",
              "8                 4            0.996460            0.984909   \n",
              "9                 5            0.996191            0.985449   \n",
              "10                7            0.995452            0.984218   \n",
              "11                8            0.994058            0.982379   \n",
              "12                6            0.997039            0.984845   \n",
              "13                2            0.997652            0.987259   \n",
              "14                1            0.997565            0.987764   \n",
              "15                3            0.997500            0.987819   \n",
              "16               17            0.500000            0.500000   \n",
              "17               17            0.500000            0.500000   \n",
              "18               17            0.500000            0.500000   \n",
              "19               17            0.500000            0.500000   \n",
              "20               17            0.500000            0.500000   \n",
              "21               17            0.500000            0.500000   \n",
              "22               17            0.500000            0.500000   \n",
              "23               17            0.500000            0.500000   \n",
              "\n",
              "    split2_train_score  mean_train_score  std_train_score  \n",
              "0             0.885622          0.887753         0.003334  \n",
              "1             0.884979          0.886314         0.003637  \n",
              "2             0.881188          0.882928         0.004227  \n",
              "3             0.882392          0.882713         0.004463  \n",
              "4             0.974894          0.978999         0.006468  \n",
              "5             0.974757          0.978739         0.006306  \n",
              "6             0.974085          0.978267         0.006192  \n",
              "7             0.974045          0.978261         0.006293  \n",
              "8             0.985322          0.988897         0.005351  \n",
              "9             0.985957          0.989199         0.004949  \n",
              "10            0.984527          0.988066         0.005225  \n",
              "11            0.983285          0.986574         0.005305  \n",
              "12            0.984716          0.988867         0.005779  \n",
              "13            0.987385          0.990765         0.004870  \n",
              "14            0.988238          0.991189         0.004513  \n",
              "15            0.987738          0.991019         0.004583  \n",
              "16            0.500000          0.500000         0.000000  \n",
              "17            0.500000          0.500000         0.000000  \n",
              "18            0.500000          0.500000         0.000000  \n",
              "19            0.500000          0.500000         0.000000  \n",
              "20            0.500000          0.500000         0.000000  \n",
              "21            0.500000          0.500000         0.000000  \n",
              "22            0.500000          0.500000         0.000000  \n",
              "23            0.500000          0.500000         0.000000  "
            ],
            "text/html": [
              "\n",
              "  <div id=\"df-0f3cab01-c2a1-4bd9-b9b6-a00320a99d90\">\n",
              "    <div class=\"colab-df-container\">\n",
              "      <div>\n",
              "<style scoped>\n",
              "    .dataframe tbody tr th:only-of-type {\n",
              "        vertical-align: middle;\n",
              "    }\n",
              "\n",
              "    .dataframe tbody tr th {\n",
              "        vertical-align: top;\n",
              "    }\n",
              "\n",
              "    .dataframe thead th {\n",
              "        text-align: right;\n",
              "    }\n",
              "</style>\n",
              "<table border=\"1\" class=\"dataframe\">\n",
              "  <thead>\n",
              "    <tr style=\"text-align: right;\">\n",
              "      <th></th>\n",
              "      <th>mean_fit_time</th>\n",
              "      <th>std_fit_time</th>\n",
              "      <th>mean_score_time</th>\n",
              "      <th>std_score_time</th>\n",
              "      <th>param_learning_rate</th>\n",
              "      <th>param_subsample</th>\n",
              "      <th>params</th>\n",
              "      <th>split0_test_score</th>\n",
              "      <th>split1_test_score</th>\n",
              "      <th>split2_test_score</th>\n",
              "      <th>mean_test_score</th>\n",
              "      <th>std_test_score</th>\n",
              "      <th>rank_test_score</th>\n",
              "      <th>split0_train_score</th>\n",
              "      <th>split1_train_score</th>\n",
              "      <th>split2_train_score</th>\n",
              "      <th>mean_train_score</th>\n",
              "      <th>std_train_score</th>\n",
              "    </tr>\n",
              "  </thead>\n",
              "  <tbody>\n",
              "    <tr>\n",
              "      <th>0</th>\n",
              "      <td>5.604992</td>\n",
              "      <td>0.040177</td>\n",
              "      <td>0.057381</td>\n",
              "      <td>0.002755</td>\n",
              "      <td>0.01</td>\n",
              "      <td>0.3</td>\n",
              "      <td>{'learning_rate': 0.01, 'subsample': 0.3}</td>\n",
              "      <td>0.872850</td>\n",
              "      <td>0.895536</td>\n",
              "      <td>0.891615</td>\n",
              "      <td>0.886667</td>\n",
              "      <td>0.009900</td>\n",
              "      <td>13</td>\n",
              "      <td>0.892461</td>\n",
              "      <td>0.885176</td>\n",
              "      <td>0.885622</td>\n",
              "      <td>0.887753</td>\n",
              "      <td>0.003334</td>\n",
              "    </tr>\n",
              "    <tr>\n",
              "      <th>1</th>\n",
              "      <td>6.437489</td>\n",
              "      <td>0.004482</td>\n",
              "      <td>0.054324</td>\n",
              "      <td>0.000519</td>\n",
              "      <td>0.01</td>\n",
              "      <td>0.6</td>\n",
              "      <td>{'learning_rate': 0.01, 'subsample': 0.6}</td>\n",
              "      <td>0.871326</td>\n",
              "      <td>0.893442</td>\n",
              "      <td>0.890342</td>\n",
              "      <td>0.885037</td>\n",
              "      <td>0.009777</td>\n",
              "      <td>14</td>\n",
              "      <td>0.891284</td>\n",
              "      <td>0.882680</td>\n",
              "      <td>0.884979</td>\n",
              "      <td>0.886314</td>\n",
              "      <td>0.003637</td>\n",
              "    </tr>\n",
              "    <tr>\n",
              "      <th>2</th>\n",
              "      <td>5.118382</td>\n",
              "      <td>0.003118</td>\n",
              "      <td>0.053682</td>\n",
              "      <td>0.002279</td>\n",
              "      <td>0.01</td>\n",
              "      <td>0.9</td>\n",
              "      <td>{'learning_rate': 0.01, 'subsample': 0.9}</td>\n",
              "      <td>0.869064</td>\n",
              "      <td>0.889368</td>\n",
              "      <td>0.887477</td>\n",
              "      <td>0.881970</td>\n",
              "      <td>0.009158</td>\n",
              "      <td>15</td>\n",
              "      <td>0.888750</td>\n",
              "      <td>0.878845</td>\n",
              "      <td>0.881188</td>\n",
              "      <td>0.882928</td>\n",
              "      <td>0.004227</td>\n",
              "    </tr>\n",
              "    <tr>\n",
              "      <th>3</th>\n",
              "      <td>4.567325</td>\n",
              "      <td>0.006062</td>\n",
              "      <td>0.052011</td>\n",
              "      <td>0.002524</td>\n",
              "      <td>0.01</td>\n",
              "      <td>1</td>\n",
              "      <td>{'learning_rate': 0.01, 'subsample': 1}</td>\n",
              "      <td>0.868351</td>\n",
              "      <td>0.888163</td>\n",
              "      <td>0.888324</td>\n",
              "      <td>0.881613</td>\n",
              "      <td>0.009378</td>\n",
              "      <td>16</td>\n",
              "      <td>0.888332</td>\n",
              "      <td>0.877416</td>\n",
              "      <td>0.882392</td>\n",
              "      <td>0.882713</td>\n",
              "      <td>0.004463</td>\n",
              "    </tr>\n",
              "    <tr>\n",
              "      <th>4</th>\n",
              "      <td>5.359682</td>\n",
              "      <td>0.010815</td>\n",
              "      <td>0.041370</td>\n",
              "      <td>0.000675</td>\n",
              "      <td>0.1</td>\n",
              "      <td>0.3</td>\n",
              "      <td>{'learning_rate': 0.1, 'subsample': 0.3}</td>\n",
              "      <td>0.959516</td>\n",
              "      <td>0.987392</td>\n",
              "      <td>0.986164</td>\n",
              "      <td>0.977691</td>\n",
              "      <td>0.012861</td>\n",
              "      <td>9</td>\n",
              "      <td>0.988131</td>\n",
              "      <td>0.973973</td>\n",
              "      <td>0.974894</td>\n",
              "      <td>0.978999</td>\n",
              "      <td>0.006468</td>\n",
              "    </tr>\n",
              "    <tr>\n",
              "      <th>5</th>\n",
              "      <td>6.479274</td>\n",
              "      <td>0.293150</td>\n",
              "      <td>0.040940</td>\n",
              "      <td>0.000627</td>\n",
              "      <td>0.1</td>\n",
              "      <td>0.6</td>\n",
              "      <td>{'learning_rate': 0.1, 'subsample': 0.6}</td>\n",
              "      <td>0.958608</td>\n",
              "      <td>0.987304</td>\n",
              "      <td>0.986626</td>\n",
              "      <td>0.977513</td>\n",
              "      <td>0.013370</td>\n",
              "      <td>10</td>\n",
              "      <td>0.987640</td>\n",
              "      <td>0.973819</td>\n",
              "      <td>0.974757</td>\n",
              "      <td>0.978739</td>\n",
              "      <td>0.006306</td>\n",
              "    </tr>\n",
              "    <tr>\n",
              "      <th>6</th>\n",
              "      <td>4.987235</td>\n",
              "      <td>0.008792</td>\n",
              "      <td>0.041129</td>\n",
              "      <td>0.000343</td>\n",
              "      <td>0.1</td>\n",
              "      <td>0.9</td>\n",
              "      <td>{'learning_rate': 0.1, 'subsample': 0.9}</td>\n",
              "      <td>0.957816</td>\n",
              "      <td>0.987255</td>\n",
              "      <td>0.986158</td>\n",
              "      <td>0.977077</td>\n",
              "      <td>0.013626</td>\n",
              "      <td>11</td>\n",
              "      <td>0.987021</td>\n",
              "      <td>0.973695</td>\n",
              "      <td>0.974085</td>\n",
              "      <td>0.978267</td>\n",
              "      <td>0.006192</td>\n",
              "    </tr>\n",
              "    <tr>\n",
              "      <th>7</th>\n",
              "      <td>5.022686</td>\n",
              "      <td>0.557759</td>\n",
              "      <td>0.040741</td>\n",
              "      <td>0.000374</td>\n",
              "      <td>0.1</td>\n",
              "      <td>1</td>\n",
              "      <td>{'learning_rate': 0.1, 'subsample': 1}</td>\n",
              "      <td>0.958093</td>\n",
              "      <td>0.987091</td>\n",
              "      <td>0.985850</td>\n",
              "      <td>0.977011</td>\n",
              "      <td>0.013387</td>\n",
              "      <td>12</td>\n",
              "      <td>0.987156</td>\n",
              "      <td>0.973581</td>\n",
              "      <td>0.974045</td>\n",
              "      <td>0.978261</td>\n",
              "      <td>0.006293</td>\n",
              "    </tr>\n",
              "    <tr>\n",
              "      <th>8</th>\n",
              "      <td>5.779105</td>\n",
              "      <td>0.305166</td>\n",
              "      <td>0.054034</td>\n",
              "      <td>0.009041</td>\n",
              "      <td>0.5</td>\n",
              "      <td>0.3</td>\n",
              "      <td>{'learning_rate': 0.5, 'subsample': 0.3}</td>\n",
              "      <td>0.968155</td>\n",
              "      <td>0.995341</td>\n",
              "      <td>0.994456</td>\n",
              "      <td>0.985984</td>\n",
              "      <td>0.012612</td>\n",
              "      <td>4</td>\n",
              "      <td>0.996460</td>\n",
              "      <td>0.984909</td>\n",
              "      <td>0.985322</td>\n",
              "      <td>0.988897</td>\n",
              "      <td>0.005351</td>\n",
              "    </tr>\n",
              "    <tr>\n",
              "      <th>9</th>\n",
              "      <td>6.328059</td>\n",
              "      <td>0.020840</td>\n",
              "      <td>0.043958</td>\n",
              "      <td>0.000391</td>\n",
              "      <td>0.5</td>\n",
              "      <td>0.6</td>\n",
              "      <td>{'learning_rate': 0.5, 'subsample': 0.6}</td>\n",
              "      <td>0.966573</td>\n",
              "      <td>0.995800</td>\n",
              "      <td>0.995134</td>\n",
              "      <td>0.985836</td>\n",
              "      <td>0.013623</td>\n",
              "      <td>5</td>\n",
              "      <td>0.996191</td>\n",
              "      <td>0.985449</td>\n",
              "      <td>0.985957</td>\n",
              "      <td>0.989199</td>\n",
              "      <td>0.004949</td>\n",
              "    </tr>\n",
              "    <tr>\n",
              "      <th>10</th>\n",
              "      <td>4.979693</td>\n",
              "      <td>0.008528</td>\n",
              "      <td>0.041121</td>\n",
              "      <td>0.000196</td>\n",
              "      <td>0.5</td>\n",
              "      <td>0.9</td>\n",
              "      <td>{'learning_rate': 0.5, 'subsample': 0.9}</td>\n",
              "      <td>0.965687</td>\n",
              "      <td>0.995197</td>\n",
              "      <td>0.994078</td>\n",
              "      <td>0.984988</td>\n",
              "      <td>0.013655</td>\n",
              "      <td>7</td>\n",
              "      <td>0.995452</td>\n",
              "      <td>0.984218</td>\n",
              "      <td>0.984527</td>\n",
              "      <td>0.988066</td>\n",
              "      <td>0.005225</td>\n",
              "    </tr>\n",
              "    <tr>\n",
              "      <th>11</th>\n",
              "      <td>4.474602</td>\n",
              "      <td>0.006588</td>\n",
              "      <td>0.043282</td>\n",
              "      <td>0.003961</td>\n",
              "      <td>0.5</td>\n",
              "      <td>1</td>\n",
              "      <td>{'learning_rate': 0.5, 'subsample': 1}</td>\n",
              "      <td>0.963855</td>\n",
              "      <td>0.994482</td>\n",
              "      <td>0.993514</td>\n",
              "      <td>0.983950</td>\n",
              "      <td>0.014215</td>\n",
              "      <td>8</td>\n",
              "      <td>0.994058</td>\n",
              "      <td>0.982379</td>\n",
              "      <td>0.983285</td>\n",
              "      <td>0.986574</td>\n",
              "      <td>0.005305</td>\n",
              "    </tr>\n",
              "    <tr>\n",
              "      <th>12</th>\n",
              "      <td>5.505259</td>\n",
              "      <td>0.012663</td>\n",
              "      <td>0.050935</td>\n",
              "      <td>0.000291</td>\n",
              "      <td>1</td>\n",
              "      <td>0.3</td>\n",
              "      <td>{'learning_rate': 1, 'subsample': 0.3}</td>\n",
              "      <td>0.967248</td>\n",
              "      <td>0.995118</td>\n",
              "      <td>0.993913</td>\n",
              "      <td>0.985426</td>\n",
              "      <td>0.012864</td>\n",
              "      <td>6</td>\n",
              "      <td>0.997039</td>\n",
              "      <td>0.984845</td>\n",
              "      <td>0.984716</td>\n",
              "      <td>0.988867</td>\n",
              "      <td>0.005779</td>\n",
              "    </tr>\n",
              "    <tr>\n",
              "      <th>13</th>\n",
              "      <td>6.371021</td>\n",
              "      <td>0.015634</td>\n",
              "      <td>0.049459</td>\n",
              "      <td>0.000581</td>\n",
              "      <td>1</td>\n",
              "      <td>0.6</td>\n",
              "      <td>{'learning_rate': 1, 'subsample': 0.6}</td>\n",
              "      <td>0.966724</td>\n",
              "      <td>0.996191</td>\n",
              "      <td>0.995363</td>\n",
              "      <td>0.986093</td>\n",
              "      <td>0.013700</td>\n",
              "      <td>2</td>\n",
              "      <td>0.997652</td>\n",
              "      <td>0.987259</td>\n",
              "      <td>0.987385</td>\n",
              "      <td>0.990765</td>\n",
              "      <td>0.004870</td>\n",
              "    </tr>\n",
              "    <tr>\n",
              "      <th>14</th>\n",
              "      <td>5.037519</td>\n",
              "      <td>0.023626</td>\n",
              "      <td>0.048060</td>\n",
              "      <td>0.001940</td>\n",
              "      <td>1</td>\n",
              "      <td>0.9</td>\n",
              "      <td>{'learning_rate': 1, 'subsample': 0.9}</td>\n",
              "      <td>0.966465</td>\n",
              "      <td>0.996258</td>\n",
              "      <td>0.995827</td>\n",
              "      <td>0.986184</td>\n",
              "      <td>0.013944</td>\n",
              "      <td>1</td>\n",
              "      <td>0.997565</td>\n",
              "      <td>0.987764</td>\n",
              "      <td>0.988238</td>\n",
              "      <td>0.991189</td>\n",
              "      <td>0.004513</td>\n",
              "    </tr>\n",
              "    <tr>\n",
              "      <th>15</th>\n",
              "      <td>4.501105</td>\n",
              "      <td>0.012692</td>\n",
              "      <td>0.046709</td>\n",
              "      <td>0.001500</td>\n",
              "      <td>1</td>\n",
              "      <td>1</td>\n",
              "      <td>{'learning_rate': 1, 'subsample': 1}</td>\n",
              "      <td>0.966415</td>\n",
              "      <td>0.996284</td>\n",
              "      <td>0.995480</td>\n",
              "      <td>0.986060</td>\n",
              "      <td>0.013895</td>\n",
              "      <td>3</td>\n",
              "      <td>0.997500</td>\n",
              "      <td>0.987819</td>\n",
              "      <td>0.987738</td>\n",
              "      <td>0.991019</td>\n",
              "      <td>0.004583</td>\n",
              "    </tr>\n",
              "    <tr>\n",
              "      <th>16</th>\n",
              "      <td>2.679916</td>\n",
              "      <td>0.003203</td>\n",
              "      <td>0.017012</td>\n",
              "      <td>0.000087</td>\n",
              "      <td>10</td>\n",
              "      <td>0.3</td>\n",
              "      <td>{'learning_rate': 10, 'subsample': 0.3}</td>\n",
              "      <td>0.500000</td>\n",
              "      <td>0.500000</td>\n",
              "      <td>0.500000</td>\n",
              "      <td>0.500000</td>\n",
              "      <td>0.000000</td>\n",
              "      <td>17</td>\n",
              "      <td>0.500000</td>\n",
              "      <td>0.500000</td>\n",
              "      <td>0.500000</td>\n",
              "      <td>0.500000</td>\n",
              "      <td>0.000000</td>\n",
              "    </tr>\n",
              "    <tr>\n",
              "      <th>17</th>\n",
              "      <td>2.978130</td>\n",
              "      <td>0.004468</td>\n",
              "      <td>0.016847</td>\n",
              "      <td>0.000196</td>\n",
              "      <td>10</td>\n",
              "      <td>0.6</td>\n",
              "      <td>{'learning_rate': 10, 'subsample': 0.6}</td>\n",
              "      <td>0.500000</td>\n",
              "      <td>0.500000</td>\n",
              "      <td>0.500000</td>\n",
              "      <td>0.500000</td>\n",
              "      <td>0.000000</td>\n",
              "      <td>17</td>\n",
              "      <td>0.500000</td>\n",
              "      <td>0.500000</td>\n",
              "      <td>0.500000</td>\n",
              "      <td>0.500000</td>\n",
              "      <td>0.000000</td>\n",
              "    </tr>\n",
              "    <tr>\n",
              "      <th>18</th>\n",
              "      <td>2.546221</td>\n",
              "      <td>0.006015</td>\n",
              "      <td>0.017072</td>\n",
              "      <td>0.000062</td>\n",
              "      <td>10</td>\n",
              "      <td>0.9</td>\n",
              "      <td>{'learning_rate': 10, 'subsample': 0.9}</td>\n",
              "      <td>0.500000</td>\n",
              "      <td>0.500000</td>\n",
              "      <td>0.500000</td>\n",
              "      <td>0.500000</td>\n",
              "      <td>0.000000</td>\n",
              "      <td>17</td>\n",
              "      <td>0.500000</td>\n",
              "      <td>0.500000</td>\n",
              "      <td>0.500000</td>\n",
              "      <td>0.500000</td>\n",
              "      <td>0.000000</td>\n",
              "    </tr>\n",
              "    <tr>\n",
              "      <th>19</th>\n",
              "      <td>2.344549</td>\n",
              "      <td>0.011438</td>\n",
              "      <td>0.017119</td>\n",
              "      <td>0.000051</td>\n",
              "      <td>10</td>\n",
              "      <td>1</td>\n",
              "      <td>{'learning_rate': 10, 'subsample': 1}</td>\n",
              "      <td>0.500000</td>\n",
              "      <td>0.500000</td>\n",
              "      <td>0.500000</td>\n",
              "      <td>0.500000</td>\n",
              "      <td>0.000000</td>\n",
              "      <td>17</td>\n",
              "      <td>0.500000</td>\n",
              "      <td>0.500000</td>\n",
              "      <td>0.500000</td>\n",
              "      <td>0.500000</td>\n",
              "      <td>0.000000</td>\n",
              "    </tr>\n",
              "    <tr>\n",
              "      <th>20</th>\n",
              "      <td>2.657846</td>\n",
              "      <td>0.010818</td>\n",
              "      <td>0.018088</td>\n",
              "      <td>0.002005</td>\n",
              "      <td>50</td>\n",
              "      <td>0.3</td>\n",
              "      <td>{'learning_rate': 50, 'subsample': 0.3}</td>\n",
              "      <td>0.500000</td>\n",
              "      <td>0.500000</td>\n",
              "      <td>0.500000</td>\n",
              "      <td>0.500000</td>\n",
              "      <td>0.000000</td>\n",
              "      <td>17</td>\n",
              "      <td>0.500000</td>\n",
              "      <td>0.500000</td>\n",
              "      <td>0.500000</td>\n",
              "      <td>0.500000</td>\n",
              "      <td>0.000000</td>\n",
              "    </tr>\n",
              "    <tr>\n",
              "      <th>21</th>\n",
              "      <td>3.038396</td>\n",
              "      <td>0.126032</td>\n",
              "      <td>0.018359</td>\n",
              "      <td>0.002239</td>\n",
              "      <td>50</td>\n",
              "      <td>0.6</td>\n",
              "      <td>{'learning_rate': 50, 'subsample': 0.6}</td>\n",
              "      <td>0.500000</td>\n",
              "      <td>0.500000</td>\n",
              "      <td>0.500000</td>\n",
              "      <td>0.500000</td>\n",
              "      <td>0.000000</td>\n",
              "      <td>17</td>\n",
              "      <td>0.500000</td>\n",
              "      <td>0.500000</td>\n",
              "      <td>0.500000</td>\n",
              "      <td>0.500000</td>\n",
              "      <td>0.000000</td>\n",
              "    </tr>\n",
              "    <tr>\n",
              "      <th>22</th>\n",
              "      <td>2.521258</td>\n",
              "      <td>0.006676</td>\n",
              "      <td>0.016786</td>\n",
              "      <td>0.000070</td>\n",
              "      <td>50</td>\n",
              "      <td>0.9</td>\n",
              "      <td>{'learning_rate': 50, 'subsample': 0.9}</td>\n",
              "      <td>0.500000</td>\n",
              "      <td>0.500000</td>\n",
              "      <td>0.500000</td>\n",
              "      <td>0.500000</td>\n",
              "      <td>0.000000</td>\n",
              "      <td>17</td>\n",
              "      <td>0.500000</td>\n",
              "      <td>0.500000</td>\n",
              "      <td>0.500000</td>\n",
              "      <td>0.500000</td>\n",
              "      <td>0.000000</td>\n",
              "    </tr>\n",
              "    <tr>\n",
              "      <th>23</th>\n",
              "      <td>2.337661</td>\n",
              "      <td>0.010613</td>\n",
              "      <td>0.017061</td>\n",
              "      <td>0.000221</td>\n",
              "      <td>50</td>\n",
              "      <td>1</td>\n",
              "      <td>{'learning_rate': 50, 'subsample': 1}</td>\n",
              "      <td>0.500000</td>\n",
              "      <td>0.500000</td>\n",
              "      <td>0.500000</td>\n",
              "      <td>0.500000</td>\n",
              "      <td>0.000000</td>\n",
              "      <td>17</td>\n",
              "      <td>0.500000</td>\n",
              "      <td>0.500000</td>\n",
              "      <td>0.500000</td>\n",
              "      <td>0.500000</td>\n",
              "      <td>0.000000</td>\n",
              "    </tr>\n",
              "  </tbody>\n",
              "</table>\n",
              "</div>\n",
              "      <button class=\"colab-df-convert\" onclick=\"convertToInteractive('df-0f3cab01-c2a1-4bd9-b9b6-a00320a99d90')\"\n",
              "              title=\"Convert this dataframe to an interactive table.\"\n",
              "              style=\"display:none;\">\n",
              "        \n",
              "  <svg xmlns=\"http://www.w3.org/2000/svg\" height=\"24px\"viewBox=\"0 0 24 24\"\n",
              "       width=\"24px\">\n",
              "    <path d=\"M0 0h24v24H0V0z\" fill=\"none\"/>\n",
              "    <path d=\"M18.56 5.44l.94 2.06.94-2.06 2.06-.94-2.06-.94-.94-2.06-.94 2.06-2.06.94zm-11 1L8.5 8.5l.94-2.06 2.06-.94-2.06-.94L8.5 2.5l-.94 2.06-2.06.94zm10 10l.94 2.06.94-2.06 2.06-.94-2.06-.94-.94-2.06-.94 2.06-2.06.94z\"/><path d=\"M17.41 7.96l-1.37-1.37c-.4-.4-.92-.59-1.43-.59-.52 0-1.04.2-1.43.59L10.3 9.45l-7.72 7.72c-.78.78-.78 2.05 0 2.83L4 21.41c.39.39.9.59 1.41.59.51 0 1.02-.2 1.41-.59l7.78-7.78 2.81-2.81c.8-.78.8-2.07 0-2.86zM5.41 20L4 18.59l7.72-7.72 1.47 1.35L5.41 20z\"/>\n",
              "  </svg>\n",
              "      </button>\n",
              "      \n",
              "  <style>\n",
              "    .colab-df-container {\n",
              "      display:flex;\n",
              "      flex-wrap:wrap;\n",
              "      gap: 12px;\n",
              "    }\n",
              "\n",
              "    .colab-df-convert {\n",
              "      background-color: #E8F0FE;\n",
              "      border: none;\n",
              "      border-radius: 50%;\n",
              "      cursor: pointer;\n",
              "      display: none;\n",
              "      fill: #1967D2;\n",
              "      height: 32px;\n",
              "      padding: 0 0 0 0;\n",
              "      width: 32px;\n",
              "    }\n",
              "\n",
              "    .colab-df-convert:hover {\n",
              "      background-color: #E2EBFA;\n",
              "      box-shadow: 0px 1px 2px rgba(60, 64, 67, 0.3), 0px 1px 3px 1px rgba(60, 64, 67, 0.15);\n",
              "      fill: #174EA6;\n",
              "    }\n",
              "\n",
              "    [theme=dark] .colab-df-convert {\n",
              "      background-color: #3B4455;\n",
              "      fill: #D2E3FC;\n",
              "    }\n",
              "\n",
              "    [theme=dark] .colab-df-convert:hover {\n",
              "      background-color: #434B5C;\n",
              "      box-shadow: 0px 1px 3px 1px rgba(0, 0, 0, 0.15);\n",
              "      filter: drop-shadow(0px 1px 2px rgba(0, 0, 0, 0.3));\n",
              "      fill: #FFFFFF;\n",
              "    }\n",
              "  </style>\n",
              "\n",
              "      <script>\n",
              "        const buttonEl =\n",
              "          document.querySelector('#df-0f3cab01-c2a1-4bd9-b9b6-a00320a99d90 button.colab-df-convert');\n",
              "        buttonEl.style.display =\n",
              "          google.colab.kernel.accessAllowed ? 'block' : 'none';\n",
              "\n",
              "        async function convertToInteractive(key) {\n",
              "          const element = document.querySelector('#df-0f3cab01-c2a1-4bd9-b9b6-a00320a99d90');\n",
              "          const dataTable =\n",
              "            await google.colab.kernel.invokeFunction('convertToInteractive',\n",
              "                                                     [key], {});\n",
              "          if (!dataTable) return;\n",
              "\n",
              "          const docLinkHtml = 'Like what you see? Visit the ' +\n",
              "            '<a target=\"_blank\" href=https://colab.research.google.com/notebooks/data_table.ipynb>data table notebook</a>'\n",
              "            + ' to learn more about interactive tables.';\n",
              "          element.innerHTML = '';\n",
              "          dataTable['output_type'] = 'display_data';\n",
              "          await google.colab.output.renderOutput(dataTable, element);\n",
              "          const docLink = document.createElement('div');\n",
              "          docLink.innerHTML = docLinkHtml;\n",
              "          element.appendChild(docLink);\n",
              "        }\n",
              "      </script>\n",
              "    </div>\n",
              "  </div>\n",
              "  "
            ]
          },
          "metadata": {},
          "execution_count": 31
        }
      ]
    },
    {
      "cell_type": "code",
      "source": [
        "# # plotting\n",
        "plt.figure(figsize=(16,6))\n",
        "\n",
        "param_grid = {'learning_rate': [0.01,0.1,0.5,1,10], \n",
        "             'subsample': [0.3, 0.6, 0.9,1]} \n",
        "\n",
        "\n",
        "for n, subsample in enumerate(param_grid['subsample']):\n",
        "    \n",
        "\n",
        "    # subplot 1/n\n",
        "    plt.subplot(1,len(param_grid['subsample']), n+1)\n",
        "    df = cv_results[cv_results['param_subsample']==subsample]\n",
        "\n",
        "    plt.plot(df[\"param_learning_rate\"], df[\"mean_test_score\"])\n",
        "    plt.plot(df[\"param_learning_rate\"], df[\"mean_train_score\"])\n",
        "    plt.xlabel('learning_rate')\n",
        "    plt.ylabel('AUC')\n",
        "    plt.title(\"subsample={0}\".format(subsample))\n",
        "    plt.ylim([0.60, 1])\n",
        "    plt.legend(['test score', 'train score'], loc='upper left')\n",
        "    plt.xscale('log')"
      ],
      "metadata": {
        "colab": {
          "base_uri": "https://localhost:8080/",
          "height": 409
        },
        "id": "8INRs-lQOGTm",
        "outputId": "816b1ad4-df68-48c2-8486-23e8940343f2"
      },
      "execution_count": 32,
      "outputs": [
        {
          "output_type": "display_data",
          "data": {
            "text/plain": [
              "<Figure size 1152x432 with 4 Axes>"
            ],
            "image/png": "[encoded data removed]"
          },
          "metadata": {
            "needs_background": "light"
          }
        }
      ]
    },
    {
      "cell_type": "code",
      "source": [
        "model_cv.best_params_"
      ],
      "metadata": {
        "colab": {
          "base_uri": "https://localhost:8080/"
        },
        "id": "hGJYXX2XOlMs",
        "outputId": "f393176f-5d69-4035-f8ea-7dcaefd783f1"
      },
      "execution_count": 33,
      "outputs": [
        {
          "output_type": "execute_result",
          "data": {
            "text/plain": [
              "{'learning_rate': 1, 'subsample': 0.9}"
            ]
          },
          "metadata": {},
          "execution_count": 33
        }
      ]
    },
    {
      "cell_type": "code",
      "source": [
        "# chosen hyperparameters\n",
        "# 'objective':'binary:logistic' outputs probability rather than label, which we need for calculating auc\n",
        "params = {'learning_rate': 1,\n",
        "           \n",
        "          \n",
        "          'subsample':0.6,\n",
        "         'objective':'binary:logistic'}\n",
        "\n",
        "# fit model on training data\n",
        "xgb_imb_model = XGBClassifier(params = params)\n",
        "xgb_imb_model.fit(X_train, Y_train)"
      ],
      "metadata": {
        "colab": {
          "base_uri": "https://localhost:8080/"
        },
        "id": "iZkz0XY1Oqft",
        "outputId": "0faabbbd-7c7e-477a-9d1a-5521da1945b0"
      },
      "execution_count": 34,
      "outputs": [
        {
          "output_type": "execute_result",
          "data": {
            "text/plain": [
              "XGBClassifier(params={'learning_rate': 1, 'objective': 'binary:logistic',\n",
              "                      'subsample': 0.6})"
            ]
          },
          "metadata": {},
          "execution_count": 34
        }
      ]
    },
    {
      "cell_type": "code",
      "source": [
        "# Predictions on the train set\n",
        "Y_train_pred = xgb_imb_model.predict(X_train)"
      ],
      "metadata": {
        "id": "xGZxkZf6Oxf0"
      },
      "execution_count": 35,
      "outputs": []
    },
    {
      "cell_type": "code",
      "source": [
        "# Confusion matrix\n",
        "confusion = confusion_matrix(Y_train, Y_train_pred)\n",
        "print(confusion)\n"
      ],
      "metadata": {
        "colab": {
          "base_uri": "https://localhost:8080/"
        },
        "id": "SpDoQhz2O6Oe",
        "outputId": "193b6b36-c751-4910-d14b-cfaf4d6f948c"
      },
      "execution_count": 36,
      "outputs": [
        {
          "output_type": "stream",
          "name": "stdout",
          "text": [
            "[[13459   380]\n",
            " [ 1814 12025]]\n"
          ]
        }
      ]
    },
    {
      "cell_type": "code",
      "source": [
        "TP = confusion[1,1] # true positive \n",
        "TN = confusion[0,0] # true negatives\n",
        "FP = confusion[0,1] # false positives\n",
        "FN = confusion[1,0] # false negatives"
      ],
      "metadata": {
        "id": "QktQZfIMJdka"
      },
      "execution_count": 37,
      "outputs": []
    },
    {
      "cell_type": "code",
      "source": [
        "# Accuracy\n",
        "print(\"Accuracy:-\",metrics.accuracy_score(Y_train, Y_train_pred))\n",
        "\n",
        "# Sensitivity\n",
        "print(\"Sensitivity:-\",TP / float(TP+FN))\n",
        "\n",
        "# Specificity\n",
        "print(\"Specificity:-\", TN / float(TN+FP))\n",
        "\n",
        "# F1 score\n",
        "print(\"F1-Score:-\", f1_score(Y_train, Y_train_pred))"
      ],
      "metadata": {
        "colab": {
          "base_uri": "https://localhost:8080/"
        },
        "outputId": "6893f182-3a39-487b-811b-ae586b5b75e6",
        "id": "UKVyYQyYJdkb"
      },
      "execution_count": 38,
      "outputs": [
        {
          "output_type": "stream",
          "name": "stdout",
          "text": [
            "Accuracy:- 0.9207312667100224\n",
            "Sensitivity:- 0.868921164824048\n",
            "Specificity:- 0.9725413685959968\n",
            "F1-Score:- 0.9163999390336839\n"
          ]
        }
      ]
    },
    {
      "cell_type": "code",
      "source": [
        "Y_test_pred = xgb_imb_model.predict(X_test)"
      ],
      "metadata": {
        "id": "hh-yWdMs85CF"
      },
      "execution_count": 39,
      "outputs": []
    },
    {
      "cell_type": "code",
      "source": [
        "# Confusion matrix\n",
        "confusion = confusion_matrix(Y_test, Y_test_pred)\n",
        "print(confusion)\n"
      ],
      "metadata": {
        "colab": {
          "base_uri": "https://localhost:8080/"
        },
        "id": "ABX-sbTF84-p",
        "outputId": "f0be3468-994e-4116-eab7-382930090bd3"
      },
      "execution_count": 40,
      "outputs": [
        {
          "output_type": "stream",
          "name": "stdout",
          "text": [
            "[[3355  103]\n",
            " [ 134   58]]\n"
          ]
        }
      ]
    },
    {
      "cell_type": "code",
      "source": [
        "TP = confusion[1,1] # true positive \n",
        "TN = confusion[0,0] # true negatives\n",
        "FP = confusion[0,1] # false positives\n",
        "FN = confusion[1,0] # false negatives"
      ],
      "metadata": {
        "id": "mfAwA7pvJi-F"
      },
      "execution_count": 41,
      "outputs": []
    },
    {
      "cell_type": "code",
      "source": [
        "# Accuracy\n",
        "print(\"Accuracy:-\",metrics.accuracy_score(Y_train, Y_train_pred))\n",
        "\n",
        "# Sensitivity\n",
        "print(\"Sensitivity:-\",TP / float(TP+FN))\n",
        "\n",
        "# Specificity\n",
        "print(\"Specificity:-\", TN / float(TN+FP))\n",
        "\n",
        "# F1 score\n",
        "print(\"F1-Score:-\", f1_score(Y_test, Y_test_pred))"
      ],
      "metadata": {
        "colab": {
          "base_uri": "https://localhost:8080/"
        },
        "outputId": "ae7c8af5-b833-4075-fe03-95f0bd6728a8",
        "id": "RJXee56gJi-F"
      },
      "execution_count": 42,
      "outputs": [
        {
          "output_type": "stream",
          "name": "stdout",
          "text": [
            "Accuracy:- 0.9207312667100224\n",
            "Sensitivity:- 0.3020833333333333\n",
            "Specificity:- 0.970213996529786\n",
            "F1-Score:- 0.9163999390336839\n"
          ]
        }
      ]
    },
    {
      "cell_type": "markdown",
      "source": [
        "## LOGISTIC REGRESSION MODEL WITH K FOLD CROSS VALIDATION"
      ],
      "metadata": {
        "id": "3BqyIQy1R-_M"
      }
    },
    {
      "cell_type": "code",
      "source": [
        "# Importing scikit logistic regression module\n",
        "from sklearn.linear_model import LogisticRegression"
      ],
      "metadata": {
        "id": "UCHmB9uS_Bst"
      },
      "execution_count": 43,
      "outputs": []
    },
    {
      "cell_type": "code",
      "source": [
        "# Impoting metrics\n",
        "from sklearn import metrics\n",
        "from sklearn.metrics import confusion_matrix\n",
        "from sklearn.metrics import f1_score\n",
        "from sklearn.metrics import classification_report"
      ],
      "metadata": {
        "id": "LeTjaEll_BpA"
      },
      "execution_count": 44,
      "outputs": []
    },
    {
      "cell_type": "code",
      "source": [
        "# Importing libraries for cross validation\n",
        "from sklearn.model_selection import KFold\n",
        "from sklearn.model_selection import cross_val_score\n",
        "from sklearn.model_selection import GridSearchCV"
      ],
      "metadata": {
        "id": "0BrNSdEA_BlU"
      },
      "execution_count": 45,
      "outputs": []
    },
    {
      "cell_type": "code",
      "source": [
        "# Creating KFold object with 5 splits\n",
        "folds = KFold(n_splits=5, shuffle=True, random_state=4)\n",
        "\n",
        "# Specify params\n",
        "params = {\"C\": [0.001,0.05,0.01, 0.1, 1, 10, 100,150,250]}\n",
        "\n",
        "# Specifing score as recall as we are more focused on acheiving the higher sensitivity than the accuracy\n",
        "model_cv = GridSearchCV(estimator = LogisticRegression(),\n",
        "                        param_grid = params, \n",
        "                        scoring= 'roc_auc', \n",
        "                        cv = folds, \n",
        "                        verbose = 1,\n",
        "                        return_train_score=True) \n",
        "\n",
        "# Fit the model\n",
        "model_cv.fit(X_train, Y_train)"
      ],
      "metadata": {
        "colab": {
          "base_uri": "https://localhost:8080/"
        },
        "id": "tv8ROEjd_BiS",
        "outputId": "97112085-8bc8-4fff-87ec-3166ffe6e91a"
      },
      "execution_count": 46,
      "outputs": [
        {
          "output_type": "stream",
          "name": "stdout",
          "text": [
            "Fitting 5 folds for each of 9 candidates, totalling 45 fits\n"
          ]
        },
        {
          "output_type": "stream",
          "name": "stderr",
          "text": [
            "/usr/local/lib/python3.7/dist-packages/sklearn/linear_model/_logistic.py:818: ConvergenceWarning: lbfgs failed to converge (status=1):\n",
            "STOP: TOTAL NO. of ITERATIONS REACHED LIMIT.\n",
            "\n",
            "Increase the number of iterations (max_iter) or scale the data as shown in:\n",
            "    https://scikit-learn.org/stable/modules/preprocessing.html\n",
            "Please also refer to the documentation for alternative solver options:\n",
            "    https://scikit-learn.org/stable/modules/linear_model.html#logistic-regression\n",
            "  extra_warning_msg=_LOGISTIC_SOLVER_CONVERGENCE_MSG,\n",
            "/usr/local/lib/python3.7/dist-packages/sklearn/linear_model/_logistic.py:818: ConvergenceWarning: lbfgs failed to converge (status=1):\n",
            "STOP: TOTAL NO. of ITERATIONS REACHED LIMIT.\n",
            "\n",
            "Increase the number of iterations (max_iter) or scale the data as shown in:\n",
            "    https://scikit-learn.org/stable/modules/preprocessing.html\n",
            "Please also refer to the documentation for alternative solver options:\n",
            "    https://scikit-learn.org/stable/modules/linear_model.html#logistic-regression\n",
            "  extra_warning_msg=_LOGISTIC_SOLVER_CONVERGENCE_MSG,\n",
            "/usr/local/lib/python3.7/dist-packages/sklearn/linear_model/_logistic.py:818: ConvergenceWarning: lbfgs failed to converge (status=1):\n",
            "STOP: TOTAL NO. of ITERATIONS REACHED LIMIT.\n",
            "\n",
            "Increase the number of iterations (max_iter) or scale the data as shown in:\n",
            "    https://scikit-learn.org/stable/modules/preprocessing.html\n",
            "Please also refer to the documentation for alternative solver options:\n",
            "    https://scikit-learn.org/stable/modules/linear_model.html#logistic-regression\n",
            "  extra_warning_msg=_LOGISTIC_SOLVER_CONVERGENCE_MSG,\n",
            "/usr/local/lib/python3.7/dist-packages/sklearn/linear_model/_logistic.py:818: ConvergenceWarning: lbfgs failed to converge (status=1):\n",
            "STOP: TOTAL NO. of ITERATIONS REACHED LIMIT.\n",
            "\n",
            "Increase the number of iterations (max_iter) or scale the data as shown in:\n",
            "    https://scikit-learn.org/stable/modules/preprocessing.html\n",
            "Please also refer to the documentation for alternative solver options:\n",
            "    https://scikit-learn.org/stable/modules/linear_model.html#logistic-regression\n",
            "  extra_warning_msg=_LOGISTIC_SOLVER_CONVERGENCE_MSG,\n",
            "/usr/local/lib/python3.7/dist-packages/sklearn/linear_model/_logistic.py:818: ConvergenceWarning: lbfgs failed to converge (status=1):\n",
            "STOP: TOTAL NO. of ITERATIONS REACHED LIMIT.\n",
            "\n",
            "Increase the number of iterations (max_iter) or scale the data as shown in:\n",
            "    https://scikit-learn.org/stable/modules/preprocessing.html\n",
            "Please also refer to the documentation for alternative solver options:\n",
            "    https://scikit-learn.org/stable/modules/linear_model.html#logistic-regression\n",
            "  extra_warning_msg=_LOGISTIC_SOLVER_CONVERGENCE_MSG,\n",
            "/usr/local/lib/python3.7/dist-packages/sklearn/linear_model/_logistic.py:818: ConvergenceWarning: lbfgs failed to converge (status=1):\n",
            "STOP: TOTAL NO. of ITERATIONS REACHED LIMIT.\n",
            "\n",
            "Increase the number of iterations (max_iter) or scale the data as shown in:\n",
            "    https://scikit-learn.org/stable/modules/preprocessing.html\n",
            "Please also refer to the documentation for alternative solver options:\n",
            "    https://scikit-learn.org/stable/modules/linear_model.html#logistic-regression\n",
            "  extra_warning_msg=_LOGISTIC_SOLVER_CONVERGENCE_MSG,\n",
            "/usr/local/lib/python3.7/dist-packages/sklearn/linear_model/_logistic.py:818: ConvergenceWarning: lbfgs failed to converge (status=1):\n",
            "STOP: TOTAL NO. of ITERATIONS REACHED LIMIT.\n",
            "\n",
            "Increase the number of iterations (max_iter) or scale the data as shown in:\n",
            "    https://scikit-learn.org/stable/modules/preprocessing.html\n",
            "Please also refer to the documentation for alternative solver options:\n",
            "    https://scikit-learn.org/stable/modules/linear_model.html#logistic-regression\n",
            "  extra_warning_msg=_LOGISTIC_SOLVER_CONVERGENCE_MSG,\n",
            "/usr/local/lib/python3.7/dist-packages/sklearn/linear_model/_logistic.py:818: ConvergenceWarning: lbfgs failed to converge (status=1):\n",
            "STOP: TOTAL NO. of ITERATIONS REACHED LIMIT.\n",
            "\n",
            "Increase the number of iterations (max_iter) or scale the data as shown in:\n",
            "    https://scikit-learn.org/stable/modules/preprocessing.html\n",
            "Please also refer to the documentation for alternative solver options:\n",
            "    https://scikit-learn.org/stable/modules/linear_model.html#logistic-regression\n",
            "  extra_warning_msg=_LOGISTIC_SOLVER_CONVERGENCE_MSG,\n",
            "/usr/local/lib/python3.7/dist-packages/sklearn/linear_model/_logistic.py:818: ConvergenceWarning: lbfgs failed to converge (status=1):\n",
            "STOP: TOTAL NO. of ITERATIONS REACHED LIMIT.\n",
            "\n",
            "Increase the number of iterations (max_iter) or scale the data as shown in:\n",
            "    https://scikit-learn.org/stable/modules/preprocessing.html\n",
            "Please also refer to the documentation for alternative solver options:\n",
            "    https://scikit-learn.org/stable/modules/linear_model.html#logistic-regression\n",
            "  extra_warning_msg=_LOGISTIC_SOLVER_CONVERGENCE_MSG,\n",
            "/usr/local/lib/python3.7/dist-packages/sklearn/linear_model/_logistic.py:818: ConvergenceWarning: lbfgs failed to converge (status=1):\n",
            "STOP: TOTAL NO. of ITERATIONS REACHED LIMIT.\n",
            "\n",
            "Increase the number of iterations (max_iter) or scale the data as shown in:\n",
            "    https://scikit-learn.org/stable/modules/preprocessing.html\n",
            "Please also refer to the documentation for alternative solver options:\n",
            "    https://scikit-learn.org/stable/modules/linear_model.html#logistic-regression\n",
            "  extra_warning_msg=_LOGISTIC_SOLVER_CONVERGENCE_MSG,\n",
            "/usr/local/lib/python3.7/dist-packages/sklearn/linear_model/_logistic.py:818: ConvergenceWarning: lbfgs failed to converge (status=1):\n",
            "STOP: TOTAL NO. of ITERATIONS REACHED LIMIT.\n",
            "\n",
            "Increase the number of iterations (max_iter) or scale the data as shown in:\n",
            "    https://scikit-learn.org/stable/modules/preprocessing.html\n",
            "Please also refer to the documentation for alternative solver options:\n",
            "    https://scikit-learn.org/stable/modules/linear_model.html#logistic-regression\n",
            "  extra_warning_msg=_LOGISTIC_SOLVER_CONVERGENCE_MSG,\n",
            "/usr/local/lib/python3.7/dist-packages/sklearn/linear_model/_logistic.py:818: ConvergenceWarning: lbfgs failed to converge (status=1):\n",
            "STOP: TOTAL NO. of ITERATIONS REACHED LIMIT.\n",
            "\n",
            "Increase the number of iterations (max_iter) or scale the data as shown in:\n",
            "    https://scikit-learn.org/stable/modules/preprocessing.html\n",
            "Please also refer to the documentation for alternative solver options:\n",
            "    https://scikit-learn.org/stable/modules/linear_model.html#logistic-regression\n",
            "  extra_warning_msg=_LOGISTIC_SOLVER_CONVERGENCE_MSG,\n",
            "/usr/local/lib/python3.7/dist-packages/sklearn/linear_model/_logistic.py:818: ConvergenceWarning: lbfgs failed to converge (status=1):\n",
            "STOP: TOTAL NO. of ITERATIONS REACHED LIMIT.\n",
            "\n",
            "Increase the number of iterations (max_iter) or scale the data as shown in:\n",
            "    https://scikit-learn.org/stable/modules/preprocessing.html\n",
            "Please also refer to the documentation for alternative solver options:\n",
            "    https://scikit-learn.org/stable/modules/linear_model.html#logistic-regression\n",
            "  extra_warning_msg=_LOGISTIC_SOLVER_CONVERGENCE_MSG,\n",
            "/usr/local/lib/python3.7/dist-packages/sklearn/linear_model/_logistic.py:818: ConvergenceWarning: lbfgs failed to converge (status=1):\n",
            "STOP: TOTAL NO. of ITERATIONS REACHED LIMIT.\n",
            "\n",
            "Increase the number of iterations (max_iter) or scale the data as shown in:\n",
            "    https://scikit-learn.org/stable/modules/preprocessing.html\n",
            "Please also refer to the documentation for alternative solver options:\n",
            "    https://scikit-learn.org/stable/modules/linear_model.html#logistic-regression\n",
            "  extra_warning_msg=_LOGISTIC_SOLVER_CONVERGENCE_MSG,\n",
            "/usr/local/lib/python3.7/dist-packages/sklearn/linear_model/_logistic.py:818: ConvergenceWarning: lbfgs failed to converge (status=1):\n",
            "STOP: TOTAL NO. of ITERATIONS REACHED LIMIT.\n",
            "\n",
            "Increase the number of iterations (max_iter) or scale the data as shown in:\n",
            "    https://scikit-learn.org/stable/modules/preprocessing.html\n",
            "Please also refer to the documentation for alternative solver options:\n",
            "    https://scikit-learn.org/stable/modules/linear_model.html#logistic-regression\n",
            "  extra_warning_msg=_LOGISTIC_SOLVER_CONVERGENCE_MSG,\n",
            "/usr/local/lib/python3.7/dist-packages/sklearn/linear_model/_logistic.py:818: ConvergenceWarning: lbfgs failed to converge (status=1):\n",
            "STOP: TOTAL NO. of ITERATIONS REACHED LIMIT.\n",
            "\n",
            "Increase the number of iterations (max_iter) or scale the data as shown in:\n",
            "    https://scikit-learn.org/stable/modules/preprocessing.html\n",
            "Please also refer to the documentation for alternative solver options:\n",
            "    https://scikit-learn.org/stable/modules/linear_model.html#logistic-regression\n",
            "  extra_warning_msg=_LOGISTIC_SOLVER_CONVERGENCE_MSG,\n",
            "/usr/local/lib/python3.7/dist-packages/sklearn/linear_model/_logistic.py:818: ConvergenceWarning: lbfgs failed to converge (status=1):\n",
            "STOP: TOTAL NO. of ITERATIONS REACHED LIMIT.\n",
            "\n",
            "Increase the number of iterations (max_iter) or scale the data as shown in:\n",
            "    https://scikit-learn.org/stable/modules/preprocessing.html\n",
            "Please also refer to the documentation for alternative solver options:\n",
            "    https://scikit-learn.org/stable/modules/linear_model.html#logistic-regression\n",
            "  extra_warning_msg=_LOGISTIC_SOLVER_CONVERGENCE_MSG,\n",
            "/usr/local/lib/python3.7/dist-packages/sklearn/linear_model/_logistic.py:818: ConvergenceWarning: lbfgs failed to converge (status=1):\n",
            "STOP: TOTAL NO. of ITERATIONS REACHED LIMIT.\n",
            "\n",
            "Increase the number of iterations (max_iter) or scale the data as shown in:\n",
            "    https://scikit-learn.org/stable/modules/preprocessing.html\n",
            "Please also refer to the documentation for alternative solver options:\n",
            "    https://scikit-learn.org/stable/modules/linear_model.html#logistic-regression\n",
            "  extra_warning_msg=_LOGISTIC_SOLVER_CONVERGENCE_MSG,\n",
            "/usr/local/lib/python3.7/dist-packages/sklearn/linear_model/_logistic.py:818: ConvergenceWarning: lbfgs failed to converge (status=1):\n",
            "STOP: TOTAL NO. of ITERATIONS REACHED LIMIT.\n",
            "\n",
            "Increase the number of iterations (max_iter) or scale the data as shown in:\n",
            "    https://scikit-learn.org/stable/modules/preprocessing.html\n",
            "Please also refer to the documentation for alternative solver options:\n",
            "    https://scikit-learn.org/stable/modules/linear_model.html#logistic-regression\n",
            "  extra_warning_msg=_LOGISTIC_SOLVER_CONVERGENCE_MSG,\n",
            "/usr/local/lib/python3.7/dist-packages/sklearn/linear_model/_logistic.py:818: ConvergenceWarning: lbfgs failed to converge (status=1):\n",
            "STOP: TOTAL NO. of ITERATIONS REACHED LIMIT.\n",
            "\n",
            "Increase the number of iterations (max_iter) or scale the data as shown in:\n",
            "    https://scikit-learn.org/stable/modules/preprocessing.html\n",
            "Please also refer to the documentation for alternative solver options:\n",
            "    https://scikit-learn.org/stable/modules/linear_model.html#logistic-regression\n",
            "  extra_warning_msg=_LOGISTIC_SOLVER_CONVERGENCE_MSG,\n",
            "/usr/local/lib/python3.7/dist-packages/sklearn/linear_model/_logistic.py:818: ConvergenceWarning: lbfgs failed to converge (status=1):\n",
            "STOP: TOTAL NO. of ITERATIONS REACHED LIMIT.\n",
            "\n",
            "Increase the number of iterations (max_iter) or scale the data as shown in:\n",
            "    https://scikit-learn.org/stable/modules/preprocessing.html\n",
            "Please also refer to the documentation for alternative solver options:\n",
            "    https://scikit-learn.org/stable/modules/linear_model.html#logistic-regression\n",
            "  extra_warning_msg=_LOGISTIC_SOLVER_CONVERGENCE_MSG,\n",
            "/usr/local/lib/python3.7/dist-packages/sklearn/linear_model/_logistic.py:818: ConvergenceWarning: lbfgs failed to converge (status=1):\n",
            "STOP: TOTAL NO. of ITERATIONS REACHED LIMIT.\n",
            "\n",
            "Increase the number of iterations (max_iter) or scale the data as shown in:\n",
            "    https://scikit-learn.org/stable/modules/preprocessing.html\n",
            "Please also refer to the documentation for alternative solver options:\n",
            "    https://scikit-learn.org/stable/modules/linear_model.html#logistic-regression\n",
            "  extra_warning_msg=_LOGISTIC_SOLVER_CONVERGENCE_MSG,\n",
            "/usr/local/lib/python3.7/dist-packages/sklearn/linear_model/_logistic.py:818: ConvergenceWarning: lbfgs failed to converge (status=1):\n",
            "STOP: TOTAL NO. of ITERATIONS REACHED LIMIT.\n",
            "\n",
            "Increase the number of iterations (max_iter) or scale the data as shown in:\n",
            "    https://scikit-learn.org/stable/modules/preprocessing.html\n",
            "Please also refer to the documentation for alternative solver options:\n",
            "    https://scikit-learn.org/stable/modules/linear_model.html#logistic-regression\n",
            "  extra_warning_msg=_LOGISTIC_SOLVER_CONVERGENCE_MSG,\n",
            "/usr/local/lib/python3.7/dist-packages/sklearn/linear_model/_logistic.py:818: ConvergenceWarning: lbfgs failed to converge (status=1):\n",
            "STOP: TOTAL NO. of ITERATIONS REACHED LIMIT.\n",
            "\n",
            "Increase the number of iterations (max_iter) or scale the data as shown in:\n",
            "    https://scikit-learn.org/stable/modules/preprocessing.html\n",
            "Please also refer to the documentation for alternative solver options:\n",
            "    https://scikit-learn.org/stable/modules/linear_model.html#logistic-regression\n",
            "  extra_warning_msg=_LOGISTIC_SOLVER_CONVERGENCE_MSG,\n",
            "/usr/local/lib/python3.7/dist-packages/sklearn/linear_model/_logistic.py:818: ConvergenceWarning: lbfgs failed to converge (status=1):\n",
            "STOP: TOTAL NO. of ITERATIONS REACHED LIMIT.\n",
            "\n",
            "Increase the number of iterations (max_iter) or scale the data as shown in:\n",
            "    https://scikit-learn.org/stable/modules/preprocessing.html\n",
            "Please also refer to the documentation for alternative solver options:\n",
            "    https://scikit-learn.org/stable/modules/linear_model.html#logistic-regression\n",
            "  extra_warning_msg=_LOGISTIC_SOLVER_CONVERGENCE_MSG,\n",
            "/usr/local/lib/python3.7/dist-packages/sklearn/linear_model/_logistic.py:818: ConvergenceWarning: lbfgs failed to converge (status=1):\n",
            "STOP: TOTAL NO. of ITERATIONS REACHED LIMIT.\n",
            "\n",
            "Increase the number of iterations (max_iter) or scale the data as shown in:\n",
            "    https://scikit-learn.org/stable/modules/preprocessing.html\n",
            "Please also refer to the documentation for alternative solver options:\n",
            "    https://scikit-learn.org/stable/modules/linear_model.html#logistic-regression\n",
            "  extra_warning_msg=_LOGISTIC_SOLVER_CONVERGENCE_MSG,\n"
          ]
        },
        {
          "output_type": "execute_result",
          "data": {
            "text/plain": [
              "GridSearchCV(cv=KFold(n_splits=5, random_state=4, shuffle=True),\n",
              "             estimator=LogisticRegression(),\n",
              "             param_grid={'C': [0.001, 0.05, 0.01, 0.1, 1, 10, 100, 150, 250]},\n",
              "             return_train_score=True, scoring='roc_auc', verbose=1)"
            ]
          },
          "metadata": {},
          "execution_count": 46
        }
      ]
    },
    {
      "cell_type": "code",
      "source": [
        "# results of grid search CV\n",
        "cv_results = pd.DataFrame(model_cv.cv_results_)\n",
        "cv_results"
      ],
      "metadata": {
        "colab": {
          "base_uri": "https://localhost:8080/",
          "height": 564
        },
        "id": "tTTpWfUL_BeO",
        "outputId": "6cbf2a46-91d9-40ed-cbce-6241f19d4080"
      },
      "execution_count": 47,
      "outputs": [
        {
          "output_type": "execute_result",
          "data": {
            "text/plain": [
              "   mean_fit_time  std_fit_time  mean_score_time  std_score_time param_C  \\\n",
              "0       0.228491      0.005464         0.007728        0.000145   0.001   \n",
              "1       0.365588      0.011963         0.008099        0.000340    0.05   \n",
              "2       0.300456      0.012455         0.007823        0.000247    0.01   \n",
              "3       0.381787      0.027159         0.007842        0.000128     0.1   \n",
              "4       0.537270      0.014880         0.007836        0.000188       1   \n",
              "5       0.561151      0.018341         0.007753        0.000233      10   \n",
              "6       0.559678      0.024077         0.007997        0.000331     100   \n",
              "7       0.557335      0.017369         0.008586        0.001789     150   \n",
              "8       0.561216      0.017610         0.007668        0.000145     250   \n",
              "\n",
              "         params  split0_test_score  split1_test_score  split2_test_score  \\\n",
              "0  {'C': 0.001}           0.973034           0.974752           0.979001   \n",
              "1   {'C': 0.05}           0.977673           0.978560           0.981957   \n",
              "2   {'C': 0.01}           0.975344           0.976452           0.980455   \n",
              "3    {'C': 0.1}           0.978271           0.979220           0.982451   \n",
              "4      {'C': 1}           0.979798           0.980692           0.983619   \n",
              "5     {'C': 10}           0.980306           0.980996           0.983868   \n",
              "6    {'C': 100}           0.980349           0.981015           0.983876   \n",
              "7    {'C': 150}           0.980340           0.980973           0.983898   \n",
              "8    {'C': 250}           0.980345           0.980917           0.983911   \n",
              "\n",
              "   split3_test_score  ...  mean_test_score  std_test_score  rank_test_score  \\\n",
              "0           0.975623  ...         0.975843        0.002002                9   \n",
              "1           0.979087  ...         0.979542        0.001503                7   \n",
              "2           0.977215  ...         0.977606        0.001769                8   \n",
              "3           0.979680  ...         0.980113        0.001451                6   \n",
              "4           0.980981  ...         0.981362        0.001285                5   \n",
              "5           0.981505  ...         0.981713        0.001201                4   \n",
              "6           0.981564  ...         0.981779        0.001197                1   \n",
              "7           0.981509  ...         0.981762        0.001215                3   \n",
              "8           0.981584  ...         0.981765        0.001222                2   \n",
              "\n",
              "   split0_train_score  split1_train_score  split2_train_score  \\\n",
              "0            0.976814            0.976279            0.975357   \n",
              "1            0.980298            0.980028            0.979369   \n",
              "2            0.978368            0.978108            0.977312   \n",
              "3            0.980912            0.980633            0.979993   \n",
              "4            0.982224            0.981956            0.981277   \n",
              "5            0.982601            0.982333            0.981661   \n",
              "6            0.982639            0.982404            0.981713   \n",
              "7            0.982646            0.982409            0.981715   \n",
              "8            0.982645            0.982409            0.981697   \n",
              "\n",
              "   split3_train_score  split4_train_score  mean_train_score  std_train_score  \n",
              "0            0.976181            0.975554          0.976037         0.000525  \n",
              "1            0.980112            0.979697          0.979901         0.000329  \n",
              "2            0.978148            0.977551          0.977897         0.000398  \n",
              "3            0.980752            0.980373          0.980533         0.000322  \n",
              "4            0.981996            0.981829          0.981856         0.000317  \n",
              "5            0.982307            0.982182          0.982217         0.000309  \n",
              "6            0.982390            0.982241          0.982278         0.000310  \n",
              "7            0.982399            0.982233          0.982280         0.000312  \n",
              "8            0.982405            0.982240          0.982279         0.000318  \n",
              "\n",
              "[9 rows x 21 columns]"
            ],
            "text/html": [
              "\n",
              "  <div id=\"df-47fa17dc-ad94-4a2c-b48e-1c5507a48da1\">\n",
              "    <div class=\"colab-df-container\">\n",
              "      <div>\n",
              "<style scoped>\n",
              "    .dataframe tbody tr th:only-of-type {\n",
              "        vertical-align: middle;\n",
              "    }\n",
              "\n",
              "    .dataframe tbody tr th {\n",
              "        vertical-align: top;\n",
              "    }\n",
              "\n",
              "    .dataframe thead th {\n",
              "        text-align: right;\n",
              "    }\n",
              "</style>\n",
              "<table border=\"1\" class=\"dataframe\">\n",
              "  <thead>\n",
              "    <tr style=\"text-align: right;\">\n",
              "      <th></th>\n",
              "      <th>mean_fit_time</th>\n",
              "      <th>std_fit_time</th>\n",
              "      <th>mean_score_time</th>\n",
              "      <th>std_score_time</th>\n",
              "      <th>param_C</th>\n",
              "      <th>params</th>\n",
              "      <th>split0_test_score</th>\n",
              "      <th>split1_test_score</th>\n",
              "      <th>split2_test_score</th>\n",
              "      <th>split3_test_score</th>\n",
              "      <th>...</th>\n",
              "      <th>mean_test_score</th>\n",
              "      <th>std_test_score</th>\n",
              "      <th>rank_test_score</th>\n",
              "      <th>split0_train_score</th>\n",
              "      <th>split1_train_score</th>\n",
              "      <th>split2_train_score</th>\n",
              "      <th>split3_train_score</th>\n",
              "      <th>split4_train_score</th>\n",
              "      <th>mean_train_score</th>\n",
              "      <th>std_train_score</th>\n",
              "    </tr>\n",
              "  </thead>\n",
              "  <tbody>\n",
              "    <tr>\n",
              "      <th>0</th>\n",
              "      <td>0.228491</td>\n",
              "      <td>0.005464</td>\n",
              "      <td>0.007728</td>\n",
              "      <td>0.000145</td>\n",
              "      <td>0.001</td>\n",
              "      <td>{'C': 0.001}</td>\n",
              "      <td>0.973034</td>\n",
              "      <td>0.974752</td>\n",
              "      <td>0.979001</td>\n",
              "      <td>0.975623</td>\n",
              "      <td>...</td>\n",
              "      <td>0.975843</td>\n",
              "      <td>0.002002</td>\n",
              "      <td>9</td>\n",
              "      <td>0.976814</td>\n",
              "      <td>0.976279</td>\n",
              "      <td>0.975357</td>\n",
              "      <td>0.976181</td>\n",
              "      <td>0.975554</td>\n",
              "      <td>0.976037</td>\n",
              "      <td>0.000525</td>\n",
              "    </tr>\n",
              "    <tr>\n",
              "      <th>1</th>\n",
              "      <td>0.365588</td>\n",
              "      <td>0.011963</td>\n",
              "      <td>0.008099</td>\n",
              "      <td>0.000340</td>\n",
              "      <td>0.05</td>\n",
              "      <td>{'C': 0.05}</td>\n",
              "      <td>0.977673</td>\n",
              "      <td>0.978560</td>\n",
              "      <td>0.981957</td>\n",
              "      <td>0.979087</td>\n",
              "      <td>...</td>\n",
              "      <td>0.979542</td>\n",
              "      <td>0.001503</td>\n",
              "      <td>7</td>\n",
              "      <td>0.980298</td>\n",
              "      <td>0.980028</td>\n",
              "      <td>0.979369</td>\n",
              "      <td>0.980112</td>\n",
              "      <td>0.979697</td>\n",
              "      <td>0.979901</td>\n",
              "      <td>0.000329</td>\n",
              "    </tr>\n",
              "    <tr>\n",
              "      <th>2</th>\n",
              "      <td>0.300456</td>\n",
              "      <td>0.012455</td>\n",
              "      <td>0.007823</td>\n",
              "      <td>0.000247</td>\n",
              "      <td>0.01</td>\n",
              "      <td>{'C': 0.01}</td>\n",
              "      <td>0.975344</td>\n",
              "      <td>0.976452</td>\n",
              "      <td>0.980455</td>\n",
              "      <td>0.977215</td>\n",
              "      <td>...</td>\n",
              "      <td>0.977606</td>\n",
              "      <td>0.001769</td>\n",
              "      <td>8</td>\n",
              "      <td>0.978368</td>\n",
              "      <td>0.978108</td>\n",
              "      <td>0.977312</td>\n",
              "      <td>0.978148</td>\n",
              "      <td>0.977551</td>\n",
              "      <td>0.977897</td>\n",
              "      <td>0.000398</td>\n",
              "    </tr>\n",
              "    <tr>\n",
              "      <th>3</th>\n",
              "      <td>0.381787</td>\n",
              "      <td>0.027159</td>\n",
              "      <td>0.007842</td>\n",
              "      <td>0.000128</td>\n",
              "      <td>0.1</td>\n",
              "      <td>{'C': 0.1}</td>\n",
              "      <td>0.978271</td>\n",
              "      <td>0.979220</td>\n",
              "      <td>0.982451</td>\n",
              "      <td>0.979680</td>\n",
              "      <td>...</td>\n",
              "      <td>0.980113</td>\n",
              "      <td>0.001451</td>\n",
              "      <td>6</td>\n",
              "      <td>0.980912</td>\n",
              "      <td>0.980633</td>\n",
              "      <td>0.979993</td>\n",
              "      <td>0.980752</td>\n",
              "      <td>0.980373</td>\n",
              "      <td>0.980533</td>\n",
              "      <td>0.000322</td>\n",
              "    </tr>\n",
              "    <tr>\n",
              "      <th>4</th>\n",
              "      <td>0.537270</td>\n",
              "      <td>0.014880</td>\n",
              "      <td>0.007836</td>\n",
              "      <td>0.000188</td>\n",
              "      <td>1</td>\n",
              "      <td>{'C': 1}</td>\n",
              "      <td>0.979798</td>\n",
              "      <td>0.980692</td>\n",
              "      <td>0.983619</td>\n",
              "      <td>0.980981</td>\n",
              "      <td>...</td>\n",
              "      <td>0.981362</td>\n",
              "      <td>0.001285</td>\n",
              "      <td>5</td>\n",
              "      <td>0.982224</td>\n",
              "      <td>0.981956</td>\n",
              "      <td>0.981277</td>\n",
              "      <td>0.981996</td>\n",
              "      <td>0.981829</td>\n",
              "      <td>0.981856</td>\n",
              "      <td>0.000317</td>\n",
              "    </tr>\n",
              "    <tr>\n",
              "      <th>5</th>\n",
              "      <td>0.561151</td>\n",
              "      <td>0.018341</td>\n",
              "      <td>0.007753</td>\n",
              "      <td>0.000233</td>\n",
              "      <td>10</td>\n",
              "      <td>{'C': 10}</td>\n",
              "      <td>0.980306</td>\n",
              "      <td>0.980996</td>\n",
              "      <td>0.983868</td>\n",
              "      <td>0.981505</td>\n",
              "      <td>...</td>\n",
              "      <td>0.981713</td>\n",
              "      <td>0.001201</td>\n",
              "      <td>4</td>\n",
              "      <td>0.982601</td>\n",
              "      <td>0.982333</td>\n",
              "      <td>0.981661</td>\n",
              "      <td>0.982307</td>\n",
              "      <td>0.982182</td>\n",
              "      <td>0.982217</td>\n",
              "      <td>0.000309</td>\n",
              "    </tr>\n",
              "    <tr>\n",
              "      <th>6</th>\n",
              "      <td>0.559678</td>\n",
              "      <td>0.024077</td>\n",
              "      <td>0.007997</td>\n",
              "      <td>0.000331</td>\n",
              "      <td>100</td>\n",
              "      <td>{'C': 100}</td>\n",
              "      <td>0.980349</td>\n",
              "      <td>0.981015</td>\n",
              "      <td>0.983876</td>\n",
              "      <td>0.981564</td>\n",
              "      <td>...</td>\n",
              "      <td>0.981779</td>\n",
              "      <td>0.001197</td>\n",
              "      <td>1</td>\n",
              "      <td>0.982639</td>\n",
              "      <td>0.982404</td>\n",
              "      <td>0.981713</td>\n",
              "      <td>0.982390</td>\n",
              "      <td>0.982241</td>\n",
              "      <td>0.982278</td>\n",
              "      <td>0.000310</td>\n",
              "    </tr>\n",
              "    <tr>\n",
              "      <th>7</th>\n",
              "      <td>0.557335</td>\n",
              "      <td>0.017369</td>\n",
              "      <td>0.008586</td>\n",
              "      <td>0.001789</td>\n",
              "      <td>150</td>\n",
              "      <td>{'C': 150}</td>\n",
              "      <td>0.980340</td>\n",
              "      <td>0.980973</td>\n",
              "      <td>0.983898</td>\n",
              "      <td>0.981509</td>\n",
              "      <td>...</td>\n",
              "      <td>0.981762</td>\n",
              "      <td>0.001215</td>\n",
              "      <td>3</td>\n",
              "      <td>0.982646</td>\n",
              "      <td>0.982409</td>\n",
              "      <td>0.981715</td>\n",
              "      <td>0.982399</td>\n",
              "      <td>0.982233</td>\n",
              "      <td>0.982280</td>\n",
              "      <td>0.000312</td>\n",
              "    </tr>\n",
              "    <tr>\n",
              "      <th>8</th>\n",
              "      <td>0.561216</td>\n",
              "      <td>0.017610</td>\n",
              "      <td>0.007668</td>\n",
              "      <td>0.000145</td>\n",
              "      <td>250</td>\n",
              "      <td>{'C': 250}</td>\n",
              "      <td>0.980345</td>\n",
              "      <td>0.980917</td>\n",
              "      <td>0.983911</td>\n",
              "      <td>0.981584</td>\n",
              "      <td>...</td>\n",
              "      <td>0.981765</td>\n",
              "      <td>0.001222</td>\n",
              "      <td>2</td>\n",
              "      <td>0.982645</td>\n",
              "      <td>0.982409</td>\n",
              "      <td>0.981697</td>\n",
              "      <td>0.982405</td>\n",
              "      <td>0.982240</td>\n",
              "      <td>0.982279</td>\n",
              "      <td>0.000318</td>\n",
              "    </tr>\n",
              "  </tbody>\n",
              "</table>\n",
              "<p>9 rows × 21 columns</p>\n",
              "</div>\n",
              "      <button class=\"colab-df-convert\" onclick=\"convertToInteractive('df-47fa17dc-ad94-4a2c-b48e-1c5507a48da1')\"\n",
              "              title=\"Convert this dataframe to an interactive table.\"\n",
              "              style=\"display:none;\">\n",
              "        \n",
              "  <svg xmlns=\"http://www.w3.org/2000/svg\" height=\"24px\"viewBox=\"0 0 24 24\"\n",
              "       width=\"24px\">\n",
              "    <path d=\"M0 0h24v24H0V0z\" fill=\"none\"/>\n",
              "    <path d=\"M18.56 5.44l.94 2.06.94-2.06 2.06-.94-2.06-.94-.94-2.06-.94 2.06-2.06.94zm-11 1L8.5 8.5l.94-2.06 2.06-.94-2.06-.94L8.5 2.5l-.94 2.06-2.06.94zm10 10l.94 2.06.94-2.06 2.06-.94-2.06-.94-.94-2.06-.94 2.06-2.06.94z\"/><path d=\"M17.41 7.96l-1.37-1.37c-.4-.4-.92-.59-1.43-.59-.52 0-1.04.2-1.43.59L10.3 9.45l-7.72 7.72c-.78.78-.78 2.05 0 2.83L4 21.41c.39.39.9.59 1.41.59.51 0 1.02-.2 1.41-.59l7.78-7.78 2.81-2.81c.8-.78.8-2.07 0-2.86zM5.41 20L4 18.59l7.72-7.72 1.47 1.35L5.41 20z\"/>\n",
              "  </svg>\n",
              "      </button>\n",
              "      \n",
              "  <style>\n",
              "    .colab-df-container {\n",
              "      display:flex;\n",
              "      flex-wrap:wrap;\n",
              "      gap: 12px;\n",
              "    }\n",
              "\n",
              "    .colab-df-convert {\n",
              "      background-color: #E8F0FE;\n",
              "      border: none;\n",
              "      border-radius: 50%;\n",
              "      cursor: pointer;\n",
              "      display: none;\n",
              "      fill: #1967D2;\n",
              "      height: 32px;\n",
              "      padding: 0 0 0 0;\n",
              "      width: 32px;\n",
              "    }\n",
              "\n",
              "    .colab-df-convert:hover {\n",
              "      background-color: #E2EBFA;\n",
              "      box-shadow: 0px 1px 2px rgba(60, 64, 67, 0.3), 0px 1px 3px 1px rgba(60, 64, 67, 0.15);\n",
              "      fill: #174EA6;\n",
              "    }\n",
              "\n",
              "    [theme=dark] .colab-df-convert {\n",
              "      background-color: #3B4455;\n",
              "      fill: #D2E3FC;\n",
              "    }\n",
              "\n",
              "    [theme=dark] .colab-df-convert:hover {\n",
              "      background-color: #434B5C;\n",
              "      box-shadow: 0px 1px 3px 1px rgba(0, 0, 0, 0.15);\n",
              "      filter: drop-shadow(0px 1px 2px rgba(0, 0, 0, 0.3));\n",
              "      fill: #FFFFFF;\n",
              "    }\n",
              "  </style>\n",
              "\n",
              "      <script>\n",
              "        const buttonEl =\n",
              "          document.querySelector('#df-47fa17dc-ad94-4a2c-b48e-1c5507a48da1 button.colab-df-convert');\n",
              "        buttonEl.style.display =\n",
              "          google.colab.kernel.accessAllowed ? 'block' : 'none';\n",
              "\n",
              "        async function convertToInteractive(key) {\n",
              "          const element = document.querySelector('#df-47fa17dc-ad94-4a2c-b48e-1c5507a48da1');\n",
              "          const dataTable =\n",
              "            await google.colab.kernel.invokeFunction('convertToInteractive',\n",
              "                                                     [key], {});\n",
              "          if (!dataTable) return;\n",
              "\n",
              "          const docLinkHtml = 'Like what you see? Visit the ' +\n",
              "            '<a target=\"_blank\" href=https://colab.research.google.com/notebooks/data_table.ipynb>data table notebook</a>'\n",
              "            + ' to learn more about interactive tables.';\n",
              "          element.innerHTML = '';\n",
              "          dataTable['output_type'] = 'display_data';\n",
              "          await google.colab.output.renderOutput(dataTable, element);\n",
              "          const docLink = document.createElement('div');\n",
              "          docLink.innerHTML = docLinkHtml;\n",
              "          element.appendChild(docLink);\n",
              "        }\n",
              "      </script>\n",
              "    </div>\n",
              "  </div>\n",
              "  "
            ]
          },
          "metadata": {},
          "execution_count": 47
        }
      ]
    },
    {
      "cell_type": "code",
      "source": [
        "# plot of C versus train and validation scores\n",
        "\n",
        "plt.figure(figsize=(8, 6))\n",
        "plt.plot(cv_results['param_C'], cv_results['mean_test_score'])\n",
        "plt.plot(cv_results['param_C'], cv_results['mean_train_score'])\n",
        "plt.xlabel('C')\n",
        "plt.ylabel('roc_auc')\n",
        "plt.legend(['test result', 'train result'], loc='upper left')\n",
        "plt.xscale('log')"
      ],
      "metadata": {
        "colab": {
          "base_uri": "https://localhost:8080/",
          "height": 392
        },
        "id": "aZxAWoHk_BaO",
        "outputId": "d214bd64-490d-4b99-91c8-5c35adf75e0f"
      },
      "execution_count": 48,
      "outputs": [
        {
          "output_type": "display_data",
          "data": {
            "text/plain": [
              "<Figure size 576x432 with 1 Axes>"
            ],
            "image/png": "[encoded data removed]"
          },
          "metadata": {
            "needs_background": "light"
          }
        }
      ]
    },
    {
      "cell_type": "code",
      "source": [
        "# Best score with best C\n",
        "best_score = model_cv.best_score_\n",
        "best_C = model_cv.best_params_['C']\n",
        "\n",
        "print(\" The highest test roc_auc is {0} at C = {1}\".format(best_score, best_C))"
      ],
      "metadata": {
        "colab": {
          "base_uri": "https://localhost:8080/"
        },
        "id": "0OD_z1om_BWf",
        "outputId": "595e7846-4f0d-4713-d708-afcd6d5aa1a0"
      },
      "execution_count": 49,
      "outputs": [
        {
          "output_type": "stream",
          "name": "stdout",
          "text": [
            " The highest test roc_auc is 0.981778565114146 at C = 100\n"
          ]
        }
      ]
    },
    {
      "cell_type": "code",
      "source": [
        "# Instantiate the model with best C\n",
        "logistic_imb = LogisticRegression(C=150)"
      ],
      "metadata": {
        "id": "ROwBTfEX_BSq"
      },
      "execution_count": 50,
      "outputs": []
    },
    {
      "cell_type": "code",
      "source": [
        "# Fit the model on the train set\n",
        "logistic_imb_model = logistic_imb.fit(X_train, Y_train)"
      ],
      "metadata": {
        "id": "Mgl6ZIrf_11Y",
        "colab": {
          "base_uri": "https://localhost:8080/"
        },
        "outputId": "fad42efe-cdfb-4b58-a27c-76c2d2edf0a3"
      },
      "execution_count": 51,
      "outputs": [
        {
          "output_type": "stream",
          "name": "stderr",
          "text": [
            "/usr/local/lib/python3.7/dist-packages/sklearn/linear_model/_logistic.py:818: ConvergenceWarning: lbfgs failed to converge (status=1):\n",
            "STOP: TOTAL NO. of ITERATIONS REACHED LIMIT.\n",
            "\n",
            "Increase the number of iterations (max_iter) or scale the data as shown in:\n",
            "    https://scikit-learn.org/stable/modules/preprocessing.html\n",
            "Please also refer to the documentation for alternative solver options:\n",
            "    https://scikit-learn.org/stable/modules/linear_model.html#logistic-regression\n",
            "  extra_warning_msg=_LOGISTIC_SOLVER_CONVERGENCE_MSG,\n"
          ]
        }
      ]
    },
    {
      "cell_type": "code",
      "source": [
        "# Predictions on the train set\n",
        "Y_train_pred = logistic_imb_model.predict(X_train)"
      ],
      "metadata": {
        "id": "mFYalbs7_8Ct"
      },
      "execution_count": 52,
      "outputs": []
    },
    {
      "cell_type": "code",
      "source": [
        "# Confusion matrix\n",
        "confusion = metrics.confusion_matrix(Y_train, Y_train_pred)\n",
        "print(confusion)"
      ],
      "metadata": {
        "colab": {
          "base_uri": "https://localhost:8080/"
        },
        "id": "pdK0EWXk__Ft",
        "outputId": "b54788a3-ef5e-4203-f149-8d10fc997538"
      },
      "execution_count": 53,
      "outputs": [
        {
          "output_type": "stream",
          "name": "stdout",
          "text": [
            "[[13554   285]\n",
            " [ 1416 12423]]\n"
          ]
        }
      ]
    },
    {
      "cell_type": "code",
      "source": [
        "TP = confusion[1,1] # true positive \n",
        "TN = confusion[0,0] # true negatives\n",
        "FP = confusion[0,1] # false positives\n",
        "FN = confusion[1,0] # false negatives"
      ],
      "metadata": {
        "id": "1EbwqVsMAMPA"
      },
      "execution_count": 54,
      "outputs": []
    },
    {
      "cell_type": "code",
      "source": [
        "# Accuracy\n",
        "print(\"Accuracy:-\",metrics.accuracy_score(Y_train, Y_train_pred))\n",
        "\n",
        "# Sensitivity\n",
        "print(\"Sensitivity:-\",TP / float(TP+FN))\n",
        "\n",
        "# Specificity\n",
        "print(\"Specificity:-\", TN / float(TN+FP))\n",
        "\n",
        "# F1 score\n",
        "print(\"F1-Score:-\", f1_score(Y_train, Y_train_pred))"
      ],
      "metadata": {
        "colab": {
          "base_uri": "https://localhost:8080/"
        },
        "id": "qyEKkIBdAR10",
        "outputId": "6cf31960-87bc-49b0-ca32-3b91e77860aa"
      },
      "execution_count": 55,
      "outputs": [
        {
          "output_type": "stream",
          "name": "stdout",
          "text": [
            "Accuracy:- 0.9385432473444613\n",
            "Sensitivity:- 0.897680468241925\n",
            "Specificity:- 0.9794060264469976\n",
            "F1-Score:- 0.9359249632726863\n"
          ]
        }
      ]
    },
    {
      "cell_type": "code",
      "source": [
        "# Predictions on the train set\n",
        "Y_test_pred = logistic_imb_model.predict(X_test)"
      ],
      "metadata": {
        "id": "hGYkW1IuRzzn"
      },
      "execution_count": null,
      "outputs": []
    },
    {
      "cell_type": "code",
      "source": [
        "# Confusion matrix\n",
        "confusion = metrics.confusion_matrix(Y_test, Y_test_pred)\n",
        "print(confusion)"
      ],
      "metadata": {
        "colab": {
          "base_uri": "https://localhost:8080/"
        },
        "outputId": "bf57fed6-19c8-42b5-c735-c4028f8948b0",
        "id": "3we6vPraRzzo"
      },
      "execution_count": null,
      "outputs": [
        {
          "output_type": "stream",
          "name": "stdout",
          "text": [
            "[[3440   18]\n",
            " [ 184    8]]\n"
          ]
        }
      ]
    },
    {
      "cell_type": "code",
      "source": [
        "TP = confusion[1,1] # true positive \n",
        "TN = confusion[0,0] # true negatives\n",
        "FP = confusion[0,1] # false positives\n",
        "FN = confusion[1,0] # false negatives"
      ],
      "metadata": {
        "id": "wIdBwbTLRzzo"
      },
      "execution_count": null,
      "outputs": []
    },
    {
      "cell_type": "code",
      "source": [
        "# Accuracy\n",
        "print(\"Accuracy:-\",metrics.accuracy_score(Y_test, Y_test_pred))\n",
        "\n",
        "# Sensitivity\n",
        "print(\"Sensitivity:-\",TP / float(TP+FN))\n",
        "\n",
        "# Specificity\n",
        "print(\"Specificity:-\", TN / float(TN+FP))\n",
        "\n",
        "# F1 score\n",
        "print(\"F1-Score:-\", f1_score(Y_test, Y_test_pred))"
      ],
      "metadata": {
        "colab": {
          "base_uri": "https://localhost:8080/"
        },
        "outputId": "c1e5a807-1247-40aa-9a7a-2a3001223c3f",
        "id": "UecCFnLtRzzo"
      },
      "execution_count": null,
      "outputs": [
        {
          "output_type": "stream",
          "name": "stdout",
          "text": [
            "Accuracy:- 0.9446575342465754\n",
            "Sensitivity:- 0.041666666666666664\n",
            "Specificity:- 0.9947946790052054\n",
            "F1-Score:- 0.07339449541284403\n"
          ]
        }
      ]
    },
    {
      "cell_type": "markdown",
      "source": [
        "## **KNN MODEL**"
      ],
      "metadata": {
        "id": "bsBjMrtYRvzi"
      }
    },
    {
      "cell_type": "code",
      "source": [
        "# Import KNeighborsClassifier\n",
        "from sklearn.neighbors import KNeighborsClassifier\n",
        "\n",
        "#Setup arrays to store training and test accuracies\n",
        "neighbors = np.arange(1,20)\n",
        "train_accuracy =np.empty(len(neighbors))\n",
        "test_accuracy = np.empty(len(neighbors))\n",
        "\n",
        "for i,k in enumerate(neighbors):\n",
        "    # Setup a knn classifier with k neighbors\n",
        "    knn = KNeighborsClassifier(n_neighbors=k)\n",
        "    \n",
        "    # Fit the model\n",
        "    knn.fit(X_train, Y_train)\n",
        "    \n",
        "    # Compute accuracy on the training set\n",
        "    train_accuracy[i] = knn.score(X_train, Y_train)\n",
        "    \n",
        "    # Compute accuracy on the test set\n",
        "    test_accuracy[i] = knn.score(X_test, Y_test) "
      ],
      "metadata": {
        "id": "Owhe4bwPOmWl"
      },
      "execution_count": 56,
      "outputs": []
    },
    {
      "cell_type": "code",
      "source": [
        "# Generate plot\n",
        "plt.title('k-NN Varying number of neighbors')\n",
        "plt.plot(neighbors, test_accuracy, label='Testing Accuracy')\n",
        "plt.plot(neighbors, train_accuracy, label='Training accuracy')\n",
        "plt.legend()\n",
        "plt.xlabel('Number of neighbors')\n",
        "plt.ylabel('Accuracy')\n",
        "plt.show()"
      ],
      "metadata": {
        "colab": {
          "base_uri": "https://localhost:8080/",
          "height": 295
        },
        "id": "1qh6tl-yO_Pj",
        "outputId": "96758ecd-da0a-4f4a-eb40-60cb33a09649"
      },
      "execution_count": 57,
      "outputs": [
        {
          "output_type": "display_data",
          "data": {
            "text/plain": [
              "<Figure size 432x288 with 1 Axes>"
            ],
            "image/png": "[encoded data removed]"
          },
          "metadata": {
            "needs_background": "light"
          }
        }
      ]
    },
    {
      "cell_type": "code",
      "source": [
        "# Setup a knn classifier with k neighbors\n",
        "knn = KNeighborsClassifier(n_neighbors=2)"
      ],
      "metadata": {
        "id": "i3Md8rGhSFqZ"
      },
      "execution_count": 58,
      "outputs": []
    },
    {
      "cell_type": "code",
      "source": [
        "# Fit the model\n",
        "kn_model=knn.fit(X_train,Y_train)"
      ],
      "metadata": {
        "id": "OVVvYInXSORv"
      },
      "execution_count": 59,
      "outputs": []
    },
    {
      "cell_type": "code",
      "source": [
        "# Predictions on the train set\n",
        "Y_train_pred = kn_model.predict(X_train)"
      ],
      "metadata": {
        "id": "yuQrGucKPVwx"
      },
      "execution_count": 60,
      "outputs": []
    },
    {
      "cell_type": "code",
      "source": [
        "# Confusion matrix\n",
        "confusion = metrics.confusion_matrix(Y_train, Y_train_pred)\n",
        "print(confusion)"
      ],
      "metadata": {
        "colab": {
          "base_uri": "https://localhost:8080/"
        },
        "outputId": "a82d8f0a-222e-4eac-ec32-04f828a7ec6a",
        "id": "xUJEx47ePVwy"
      },
      "execution_count": 61,
      "outputs": [
        {
          "output_type": "stream",
          "name": "stdout",
          "text": [
            "[[13813    26]\n",
            " [ 1573 12266]]\n"
          ]
        }
      ]
    },
    {
      "cell_type": "code",
      "source": [
        "TP = confusion[1,1] # true positive \n",
        "TN = confusion[0,0] # true negatives\n",
        "FP = confusion[0,1] # false positives\n",
        "FN = confusion[1,0] # false negatives"
      ],
      "metadata": {
        "id": "FZlVJ_t6PVwy"
      },
      "execution_count": 62,
      "outputs": []
    },
    {
      "cell_type": "code",
      "source": [
        "# Accuracy\n",
        "print(\"Accuracy:-\",metrics.accuracy_score(Y_train, Y_train_pred))\n",
        "\n",
        "# Sensitivity\n",
        "print(\"Sensitivity:-\",TP / float(TP+FN))\n",
        "\n",
        "# Specificity\n",
        "print(\"Specificity:-\", TN / float(TN+FP))\n",
        "\n",
        "# F1 score\n",
        "print(\"F1-Score:-\", f1_score(Y_train, Y_train_pred))"
      ],
      "metadata": {
        "colab": {
          "base_uri": "https://localhost:8080/"
        },
        "outputId": "06c7b1a8-1473-4dca-b27f-5fbce4728d14",
        "id": "Kmfq7lrUPVwy"
      },
      "execution_count": 63,
      "outputs": [
        {
          "output_type": "stream",
          "name": "stdout",
          "text": [
            "Accuracy:- 0.9422284847171039\n",
            "Sensitivity:- 0.8863357178986921\n",
            "Specificity:- 0.9981212515355156\n",
            "F1-Score:- 0.9388083119666296\n"
          ]
        }
      ]
    },
    {
      "cell_type": "code",
      "source": [
        "# Predictions on the train set\n",
        "Y_test_pred = kn_model.predict(X_test)"
      ],
      "metadata": {
        "id": "fxMTe7c_RTfS"
      },
      "execution_count": 64,
      "outputs": []
    },
    {
      "cell_type": "code",
      "source": [
        "# Confusion matrix\n",
        "confusion = metrics.confusion_matrix(Y_test, Y_test_pred)\n",
        "print(confusion)"
      ],
      "metadata": {
        "colab": {
          "base_uri": "https://localhost:8080/"
        },
        "outputId": "bf57fed6-19c8-42b5-c735-c4028f8948b0",
        "id": "eHWMEMMxRJ9O"
      },
      "execution_count": 65,
      "outputs": [
        {
          "output_type": "stream",
          "name": "stdout",
          "text": [
            "[[3440   18]\n",
            " [ 184    8]]\n"
          ]
        }
      ]
    },
    {
      "cell_type": "code",
      "source": [
        "TP = confusion[1,1] # true positive \n",
        "TN = confusion[0,0] # true negatives\n",
        "FP = confusion[0,1] # false positives\n",
        "FN = confusion[1,0] # false negatives"
      ],
      "metadata": {
        "id": "iqAGQ2ElRJ9O"
      },
      "execution_count": 66,
      "outputs": []
    },
    {
      "cell_type": "code",
      "source": [
        "# Accuracy\n",
        "print(\"Accuracy:-\",metrics.accuracy_score(Y_test, Y_test_pred))\n",
        "\n",
        "# Sensitivity\n",
        "print(\"Sensitivity:-\",TP / float(TP+FN))\n",
        "\n",
        "# Specificity\n",
        "print(\"Specificity:-\", TN / float(TN+FP))\n",
        "\n",
        "# F1 score\n",
        "print(\"F1-Score:-\", f1_score(Y_test, Y_test_pred))"
      ],
      "metadata": {
        "colab": {
          "base_uri": "https://localhost:8080/"
        },
        "outputId": "c1e5a807-1247-40aa-9a7a-2a3001223c3f",
        "id": "dh96ApDjRJ9P"
      },
      "execution_count": 67,
      "outputs": [
        {
          "output_type": "stream",
          "name": "stdout",
          "text": [
            "Accuracy:- 0.9446575342465754\n",
            "Sensitivity:- 0.041666666666666664\n",
            "Specificity:- 0.9947946790052054\n",
            "F1-Score:- 0.07339449541284403\n"
          ]
        }
      ]
    }
  ],
  "metadata": {
    "colab": {
      "collapsed_sections": [],
      "name": "Final Customer Prediction.ipynb",
      "provenance": [],
      "authorship_tag": "ABX9TyN1YWiI7OI58Gy4UDA22d9q",
      "include_colab_link": true
    },
    "kernelspec": {
      "display_name": "Python 3",
      "name": "python3"
    },
    "language_info": {
      "name": "python"
    }
  },
  "nbformat": 4,
  "nbformat_minor": 0
}