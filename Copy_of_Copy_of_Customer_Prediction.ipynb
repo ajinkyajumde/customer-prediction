{
  "cells": [
    {
      "cell_type": "markdown",
      "metadata": {
        "id": "view-in-github",
        "colab_type": "text"
      },
      "source": [
        "<a href=\"https://colab.research.google.com/github/ajinkyajumde/customer-prediction/blob/main/Copy_of_Copy_of_Customer_Prediction.ipynb\" target=\"_parent\"><img src=\"https://colab.research.google.com/assets/colab-badge.svg\" alt=\"Open In Colab\"/></a>"
      ]
    },
    {
      "cell_type": "code",
      "execution_count": 3,
      "metadata": {
        "id": "tzNkH4pPTGxz"
      },
      "outputs": [],
      "source": [
        "import pandas as pd\n",
        "import numpy as np\n",
        "import matplotlib.pyplot as plt\n",
        "import seaborn as sns\n",
        "\n",
        "from sklearn.model_selection import train_test_split\n",
        "from sklearn.model_selection import GridSearchCV\n",
        "from sklearn.model_selection import RandomizedSearchCV\n",
        "from sklearn.model_selection import train_test_split\n",
        "from sklearn import ensemble"
      ]
    },
    {
      "cell_type": "code",
      "execution_count": 4,
      "metadata": {
        "colab": {
          "base_uri": "https://localhost:8080/"
        },
        "id": "1foyqW2GTYaR",
        "outputId": "f56935c6-4f23-4507-de07-4f1c17083baf"
      },
      "outputs": [
        {
          "output_type": "stream",
          "name": "stdout",
          "text": [
            "Mounted at /content/drive\n"
          ]
        }
      ],
      "source": [
        "from google.colab import drive\n",
        "drive.mount('/content/drive')"
      ]
    },
    {
      "cell_type": "code",
      "execution_count": 5,
      "metadata": {
        "id": "f4flj--6iCAb"
      },
      "outputs": [],
      "source": [
        "data='/content/drive/MyDrive/Almabetter projects/Customer prediction/train_wn75k28.csv'\n",
        "test_dataset=pd.read_csv(data)"
      ]
    },
    {
      "cell_type": "code",
      "execution_count": 6,
      "metadata": {
        "colab": {
          "base_uri": "https://localhost:8080/",
          "height": 270
        },
        "id": "98BpkLUhiOKt",
        "outputId": "5e50794c-2b9d-40bb-f222-b289c863750b"
      },
      "outputs": [
        {
          "output_type": "execute_result",
          "data": {
            "text/plain": [
              "   id  created_at  campaign_var_1  campaign_var_2  products_purchased  \\\n",
              "0   1  2021-01-01               1               2                 2.0   \n",
              "1   2  2021-01-01               2               1                 2.0   \n",
              "2   3  2021-01-01               9               3                 3.0   \n",
              "3   4  2021-01-01               6               7                 2.0   \n",
              "4   5  2021-01-01               4               6                 NaN   \n",
              "\n",
              "  signup_date  user_activity_var_1  user_activity_var_2  user_activity_var_3  \\\n",
              "0  2020-09-24                    0                    0                    0   \n",
              "1  2020-09-19                    1                    0                    1   \n",
              "2  2021-08-11                    1                    0                    0   \n",
              "3  2017-10-04                    0                    0                    0   \n",
              "4  2020-06-08                    0                    0                    0   \n",
              "\n",
              "   user_activity_var_4  user_activity_var_5  user_activity_var_6  \\\n",
              "0                    0                    0                    0   \n",
              "1                    0                    0                    0   \n",
              "2                    0                    0                    0   \n",
              "3                    0                    0                    0   \n",
              "4                    0                    0                    0   \n",
              "\n",
              "   user_activity_var_7  user_activity_var_8  user_activity_var_9  \\\n",
              "0                    1                    1                    0   \n",
              "1                    1                    0                    0   \n",
              "2                    0                    0                    0   \n",
              "3                    0                    0                    0   \n",
              "4                    1                    0                    0   \n",
              "\n",
              "   user_activity_var_10  user_activity_var_11  user_activity_var_12  buy  \n",
              "0                     0                     0                     0    0  \n",
              "1                     0                     0                     0    0  \n",
              "2                     0                     0                     0    0  \n",
              "3                     0                     0                     0    0  \n",
              "4                     0                     1                     0    0  "
            ],
            "text/html": [
              "\n",
              "  <div id=\"df-68781d3c-9810-468c-aaf6-c4c724bc559a\">\n",
              "    <div class=\"colab-df-container\">\n",
              "      <div>\n",
              "<style scoped>\n",
              "    .dataframe tbody tr th:only-of-type {\n",
              "        vertical-align: middle;\n",
              "    }\n",
              "\n",
              "    .dataframe tbody tr th {\n",
              "        vertical-align: top;\n",
              "    }\n",
              "\n",
              "    .dataframe thead th {\n",
              "        text-align: right;\n",
              "    }\n",
              "</style>\n",
              "<table border=\"1\" class=\"dataframe\">\n",
              "  <thead>\n",
              "    <tr style=\"text-align: right;\">\n",
              "      <th></th>\n",
              "      <th>id</th>\n",
              "      <th>created_at</th>\n",
              "      <th>campaign_var_1</th>\n",
              "      <th>campaign_var_2</th>\n",
              "      <th>products_purchased</th>\n",
              "      <th>signup_date</th>\n",
              "      <th>user_activity_var_1</th>\n",
              "      <th>user_activity_var_2</th>\n",
              "      <th>user_activity_var_3</th>\n",
              "      <th>user_activity_var_4</th>\n",
              "      <th>user_activity_var_5</th>\n",
              "      <th>user_activity_var_6</th>\n",
              "      <th>user_activity_var_7</th>\n",
              "      <th>user_activity_var_8</th>\n",
              "      <th>user_activity_var_9</th>\n",
              "      <th>user_activity_var_10</th>\n",
              "      <th>user_activity_var_11</th>\n",
              "      <th>user_activity_var_12</th>\n",
              "      <th>buy</th>\n",
              "    </tr>\n",
              "  </thead>\n",
              "  <tbody>\n",
              "    <tr>\n",
              "      <th>0</th>\n",
              "      <td>1</td>\n",
              "      <td>2021-01-01</td>\n",
              "      <td>1</td>\n",
              "      <td>2</td>\n",
              "      <td>2.0</td>\n",
              "      <td>2020-09-24</td>\n",
              "      <td>0</td>\n",
              "      <td>0</td>\n",
              "      <td>0</td>\n",
              "      <td>0</td>\n",
              "      <td>0</td>\n",
              "      <td>0</td>\n",
              "      <td>1</td>\n",
              "      <td>1</td>\n",
              "      <td>0</td>\n",
              "      <td>0</td>\n",
              "      <td>0</td>\n",
              "      <td>0</td>\n",
              "      <td>0</td>\n",
              "    </tr>\n",
              "    <tr>\n",
              "      <th>1</th>\n",
              "      <td>2</td>\n",
              "      <td>2021-01-01</td>\n",
              "      <td>2</td>\n",
              "      <td>1</td>\n",
              "      <td>2.0</td>\n",
              "      <td>2020-09-19</td>\n",
              "      <td>1</td>\n",
              "      <td>0</td>\n",
              "      <td>1</td>\n",
              "      <td>0</td>\n",
              "      <td>0</td>\n",
              "      <td>0</td>\n",
              "      <td>1</td>\n",
              "      <td>0</td>\n",
              "      <td>0</td>\n",
              "      <td>0</td>\n",
              "      <td>0</td>\n",
              "      <td>0</td>\n",
              "      <td>0</td>\n",
              "    </tr>\n",
              "    <tr>\n",
              "      <th>2</th>\n",
              "      <td>3</td>\n",
              "      <td>2021-01-01</td>\n",
              "      <td>9</td>\n",
              "      <td>3</td>\n",
              "      <td>3.0</td>\n",
              "      <td>2021-08-11</td>\n",
              "      <td>1</td>\n",
              "      <td>0</td>\n",
              "      <td>0</td>\n",
              "      <td>0</td>\n",
              "      <td>0</td>\n",
              "      <td>0</td>\n",
              "      <td>0</td>\n",
              "      <td>0</td>\n",
              "      <td>0</td>\n",
              "      <td>0</td>\n",
              "      <td>0</td>\n",
              "      <td>0</td>\n",
              "      <td>0</td>\n",
              "    </tr>\n",
              "    <tr>\n",
              "      <th>3</th>\n",
              "      <td>4</td>\n",
              "      <td>2021-01-01</td>\n",
              "      <td>6</td>\n",
              "      <td>7</td>\n",
              "      <td>2.0</td>\n",
              "      <td>2017-10-04</td>\n",
              "      <td>0</td>\n",
              "      <td>0</td>\n",
              "      <td>0</td>\n",
              "      <td>0</td>\n",
              "      <td>0</td>\n",
              "      <td>0</td>\n",
              "      <td>0</td>\n",
              "      <td>0</td>\n",
              "      <td>0</td>\n",
              "      <td>0</td>\n",
              "      <td>0</td>\n",
              "      <td>0</td>\n",
              "      <td>0</td>\n",
              "    </tr>\n",
              "    <tr>\n",
              "      <th>4</th>\n",
              "      <td>5</td>\n",
              "      <td>2021-01-01</td>\n",
              "      <td>4</td>\n",
              "      <td>6</td>\n",
              "      <td>NaN</td>\n",
              "      <td>2020-06-08</td>\n",
              "      <td>0</td>\n",
              "      <td>0</td>\n",
              "      <td>0</td>\n",
              "      <td>0</td>\n",
              "      <td>0</td>\n",
              "      <td>0</td>\n",
              "      <td>1</td>\n",
              "      <td>0</td>\n",
              "      <td>0</td>\n",
              "      <td>0</td>\n",
              "      <td>1</td>\n",
              "      <td>0</td>\n",
              "      <td>0</td>\n",
              "    </tr>\n",
              "  </tbody>\n",
              "</table>\n",
              "</div>\n",
              "      <button class=\"colab-df-convert\" onclick=\"convertToInteractive('df-68781d3c-9810-468c-aaf6-c4c724bc559a')\"\n",
              "              title=\"Convert this dataframe to an interactive table.\"\n",
              "              style=\"display:none;\">\n",
              "        \n",
              "  <svg xmlns=\"http://www.w3.org/2000/svg\" height=\"24px\"viewBox=\"0 0 24 24\"\n",
              "       width=\"24px\">\n",
              "    <path d=\"M0 0h24v24H0V0z\" fill=\"none\"/>\n",
              "    <path d=\"M18.56 5.44l.94 2.06.94-2.06 2.06-.94-2.06-.94-.94-2.06-.94 2.06-2.06.94zm-11 1L8.5 8.5l.94-2.06 2.06-.94-2.06-.94L8.5 2.5l-.94 2.06-2.06.94zm10 10l.94 2.06.94-2.06 2.06-.94-2.06-.94-.94-2.06-.94 2.06-2.06.94z\"/><path d=\"M17.41 7.96l-1.37-1.37c-.4-.4-.92-.59-1.43-.59-.52 0-1.04.2-1.43.59L10.3 9.45l-7.72 7.72c-.78.78-.78 2.05 0 2.83L4 21.41c.39.39.9.59 1.41.59.51 0 1.02-.2 1.41-.59l7.78-7.78 2.81-2.81c.8-.78.8-2.07 0-2.86zM5.41 20L4 18.59l7.72-7.72 1.47 1.35L5.41 20z\"/>\n",
              "  </svg>\n",
              "      </button>\n",
              "      \n",
              "  <style>\n",
              "    .colab-df-container {\n",
              "      display:flex;\n",
              "      flex-wrap:wrap;\n",
              "      gap: 12px;\n",
              "    }\n",
              "\n",
              "    .colab-df-convert {\n",
              "      background-color: #E8F0FE;\n",
              "      border: none;\n",
              "      border-radius: 50%;\n",
              "      cursor: pointer;\n",
              "      display: none;\n",
              "      fill: #1967D2;\n",
              "      height: 32px;\n",
              "      padding: 0 0 0 0;\n",
              "      width: 32px;\n",
              "    }\n",
              "\n",
              "    .colab-df-convert:hover {\n",
              "      background-color: #E2EBFA;\n",
              "      box-shadow: 0px 1px 2px rgba(60, 64, 67, 0.3), 0px 1px 3px 1px rgba(60, 64, 67, 0.15);\n",
              "      fill: #174EA6;\n",
              "    }\n",
              "\n",
              "    [theme=dark] .colab-df-convert {\n",
              "      background-color: #3B4455;\n",
              "      fill: #D2E3FC;\n",
              "    }\n",
              "\n",
              "    [theme=dark] .colab-df-convert:hover {\n",
              "      background-color: #434B5C;\n",
              "      box-shadow: 0px 1px 3px 1px rgba(0, 0, 0, 0.15);\n",
              "      filter: drop-shadow(0px 1px 2px rgba(0, 0, 0, 0.3));\n",
              "      fill: #FFFFFF;\n",
              "    }\n",
              "  </style>\n",
              "\n",
              "      <script>\n",
              "        const buttonEl =\n",
              "          document.querySelector('#df-68781d3c-9810-468c-aaf6-c4c724bc559a button.colab-df-convert');\n",
              "        buttonEl.style.display =\n",
              "          google.colab.kernel.accessAllowed ? 'block' : 'none';\n",
              "\n",
              "        async function convertToInteractive(key) {\n",
              "          const element = document.querySelector('#df-68781d3c-9810-468c-aaf6-c4c724bc559a');\n",
              "          const dataTable =\n",
              "            await google.colab.kernel.invokeFunction('convertToInteractive',\n",
              "                                                     [key], {});\n",
              "          if (!dataTable) return;\n",
              "\n",
              "          const docLinkHtml = 'Like what you see? Visit the ' +\n",
              "            '<a target=\"_blank\" href=https://colab.research.google.com/notebooks/data_table.ipynb>data table notebook</a>'\n",
              "            + ' to learn more about interactive tables.';\n",
              "          element.innerHTML = '';\n",
              "          dataTable['output_type'] = 'display_data';\n",
              "          await google.colab.output.renderOutput(dataTable, element);\n",
              "          const docLink = document.createElement('div');\n",
              "          docLink.innerHTML = docLinkHtml;\n",
              "          element.appendChild(docLink);\n",
              "        }\n",
              "      </script>\n",
              "    </div>\n",
              "  </div>\n",
              "  "
            ]
          },
          "metadata": {},
          "execution_count": 6
        }
      ],
      "source": [
        "test_dataset.head(5)"
      ]
    },
    {
      "cell_type": "code",
      "execution_count": 7,
      "metadata": {
        "colab": {
          "base_uri": "https://localhost:8080/",
          "height": 270
        },
        "id": "6m8T30tniRJ6",
        "outputId": "04fb015f-a5a6-4986-89a6-1c5a8d4b469f"
      },
      "outputs": [
        {
          "output_type": "execute_result",
          "data": {
            "text/plain": [
              "          id  created_at  campaign_var_1  campaign_var_2  products_purchased  \\\n",
              "39156  39157  2021-12-31              11              11                 2.0   \n",
              "39157  39158  2021-12-31               3               9                 3.0   \n",
              "39158  39159  2021-12-31               8               7                 2.0   \n",
              "39159  39160  2021-12-31               7              12                 2.0   \n",
              "39160  39161  2021-12-31               2               5                 NaN   \n",
              "\n",
              "      signup_date  user_activity_var_1  user_activity_var_2  \\\n",
              "39156  2017-10-19                    1                    0   \n",
              "39157         NaN                    0                    0   \n",
              "39158         NaN                    1                    0   \n",
              "39159         NaN                    0                    0   \n",
              "39160  2019-08-11                    1                    0   \n",
              "\n",
              "       user_activity_var_3  user_activity_var_4  user_activity_var_5  \\\n",
              "39156                    0                    0                    1   \n",
              "39157                    0                    0                    0   \n",
              "39158                    0                    0                    1   \n",
              "39159                    0                    0                    0   \n",
              "39160                    0                    0                    0   \n",
              "\n",
              "       user_activity_var_6  user_activity_var_7  user_activity_var_8  \\\n",
              "39156                    1                    1                    0   \n",
              "39157                    0                    0                    0   \n",
              "39158                    0                    1                    0   \n",
              "39159                    1                    0                    0   \n",
              "39160                    0                    1                    0   \n",
              "\n",
              "       user_activity_var_9  user_activity_var_10  user_activity_var_11  \\\n",
              "39156                    0                     0                     0   \n",
              "39157                    0                     0                     0   \n",
              "39158                    0                     0                     0   \n",
              "39159                    0                     0                     1   \n",
              "39160                    0                     0                     0   \n",
              "\n",
              "       user_activity_var_12  buy  \n",
              "39156                     0    0  \n",
              "39157                     0    0  \n",
              "39158                     0    0  \n",
              "39159                     0    0  \n",
              "39160                     0    0  "
            ],
            "text/html": [
              "\n",
              "  <div id=\"df-5cd50ee5-ebfa-427e-a99f-e614bfbc105a\">\n",
              "    <div class=\"colab-df-container\">\n",
              "      <div>\n",
              "<style scoped>\n",
              "    .dataframe tbody tr th:only-of-type {\n",
              "        vertical-align: middle;\n",
              "    }\n",
              "\n",
              "    .dataframe tbody tr th {\n",
              "        vertical-align: top;\n",
              "    }\n",
              "\n",
              "    .dataframe thead th {\n",
              "        text-align: right;\n",
              "    }\n",
              "</style>\n",
              "<table border=\"1\" class=\"dataframe\">\n",
              "  <thead>\n",
              "    <tr style=\"text-align: right;\">\n",
              "      <th></th>\n",
              "      <th>id</th>\n",
              "      <th>created_at</th>\n",
              "      <th>campaign_var_1</th>\n",
              "      <th>campaign_var_2</th>\n",
              "      <th>products_purchased</th>\n",
              "      <th>signup_date</th>\n",
              "      <th>user_activity_var_1</th>\n",
              "      <th>user_activity_var_2</th>\n",
              "      <th>user_activity_var_3</th>\n",
              "      <th>user_activity_var_4</th>\n",
              "      <th>user_activity_var_5</th>\n",
              "      <th>user_activity_var_6</th>\n",
              "      <th>user_activity_var_7</th>\n",
              "      <th>user_activity_var_8</th>\n",
              "      <th>user_activity_var_9</th>\n",
              "      <th>user_activity_var_10</th>\n",
              "      <th>user_activity_var_11</th>\n",
              "      <th>user_activity_var_12</th>\n",
              "      <th>buy</th>\n",
              "    </tr>\n",
              "  </thead>\n",
              "  <tbody>\n",
              "    <tr>\n",
              "      <th>39156</th>\n",
              "      <td>39157</td>\n",
              "      <td>2021-12-31</td>\n",
              "      <td>11</td>\n",
              "      <td>11</td>\n",
              "      <td>2.0</td>\n",
              "      <td>2017-10-19</td>\n",
              "      <td>1</td>\n",
              "      <td>0</td>\n",
              "      <td>0</td>\n",
              "      <td>0</td>\n",
              "      <td>1</td>\n",
              "      <td>1</td>\n",
              "      <td>1</td>\n",
              "      <td>0</td>\n",
              "      <td>0</td>\n",
              "      <td>0</td>\n",
              "      <td>0</td>\n",
              "      <td>0</td>\n",
              "      <td>0</td>\n",
              "    </tr>\n",
              "    <tr>\n",
              "      <th>39157</th>\n",
              "      <td>39158</td>\n",
              "      <td>2021-12-31</td>\n",
              "      <td>3</td>\n",
              "      <td>9</td>\n",
              "      <td>3.0</td>\n",
              "      <td>NaN</td>\n",
              "      <td>0</td>\n",
              "      <td>0</td>\n",
              "      <td>0</td>\n",
              "      <td>0</td>\n",
              "      <td>0</td>\n",
              "      <td>0</td>\n",
              "      <td>0</td>\n",
              "      <td>0</td>\n",
              "      <td>0</td>\n",
              "      <td>0</td>\n",
              "      <td>0</td>\n",
              "      <td>0</td>\n",
              "      <td>0</td>\n",
              "    </tr>\n",
              "    <tr>\n",
              "      <th>39158</th>\n",
              "      <td>39159</td>\n",
              "      <td>2021-12-31</td>\n",
              "      <td>8</td>\n",
              "      <td>7</td>\n",
              "      <td>2.0</td>\n",
              "      <td>NaN</td>\n",
              "      <td>1</td>\n",
              "      <td>0</td>\n",
              "      <td>0</td>\n",
              "      <td>0</td>\n",
              "      <td>1</td>\n",
              "      <td>0</td>\n",
              "      <td>1</td>\n",
              "      <td>0</td>\n",
              "      <td>0</td>\n",
              "      <td>0</td>\n",
              "      <td>0</td>\n",
              "      <td>0</td>\n",
              "      <td>0</td>\n",
              "    </tr>\n",
              "    <tr>\n",
              "      <th>39159</th>\n",
              "      <td>39160</td>\n",
              "      <td>2021-12-31</td>\n",
              "      <td>7</td>\n",
              "      <td>12</td>\n",
              "      <td>2.0</td>\n",
              "      <td>NaN</td>\n",
              "      <td>0</td>\n",
              "      <td>0</td>\n",
              "      <td>0</td>\n",
              "      <td>0</td>\n",
              "      <td>0</td>\n",
              "      <td>1</td>\n",
              "      <td>0</td>\n",
              "      <td>0</td>\n",
              "      <td>0</td>\n",
              "      <td>0</td>\n",
              "      <td>1</td>\n",
              "      <td>0</td>\n",
              "      <td>0</td>\n",
              "    </tr>\n",
              "    <tr>\n",
              "      <th>39160</th>\n",
              "      <td>39161</td>\n",
              "      <td>2021-12-31</td>\n",
              "      <td>2</td>\n",
              "      <td>5</td>\n",
              "      <td>NaN</td>\n",
              "      <td>2019-08-11</td>\n",
              "      <td>1</td>\n",
              "      <td>0</td>\n",
              "      <td>0</td>\n",
              "      <td>0</td>\n",
              "      <td>0</td>\n",
              "      <td>0</td>\n",
              "      <td>1</td>\n",
              "      <td>0</td>\n",
              "      <td>0</td>\n",
              "      <td>0</td>\n",
              "      <td>0</td>\n",
              "      <td>0</td>\n",
              "      <td>0</td>\n",
              "    </tr>\n",
              "  </tbody>\n",
              "</table>\n",
              "</div>\n",
              "      <button class=\"colab-df-convert\" onclick=\"convertToInteractive('df-5cd50ee5-ebfa-427e-a99f-e614bfbc105a')\"\n",
              "              title=\"Convert this dataframe to an interactive table.\"\n",
              "              style=\"display:none;\">\n",
              "        \n",
              "  <svg xmlns=\"http://www.w3.org/2000/svg\" height=\"24px\"viewBox=\"0 0 24 24\"\n",
              "       width=\"24px\">\n",
              "    <path d=\"M0 0h24v24H0V0z\" fill=\"none\"/>\n",
              "    <path d=\"M18.56 5.44l.94 2.06.94-2.06 2.06-.94-2.06-.94-.94-2.06-.94 2.06-2.06.94zm-11 1L8.5 8.5l.94-2.06 2.06-.94-2.06-.94L8.5 2.5l-.94 2.06-2.06.94zm10 10l.94 2.06.94-2.06 2.06-.94-2.06-.94-.94-2.06-.94 2.06-2.06.94z\"/><path d=\"M17.41 7.96l-1.37-1.37c-.4-.4-.92-.59-1.43-.59-.52 0-1.04.2-1.43.59L10.3 9.45l-7.72 7.72c-.78.78-.78 2.05 0 2.83L4 21.41c.39.39.9.59 1.41.59.51 0 1.02-.2 1.41-.59l7.78-7.78 2.81-2.81c.8-.78.8-2.07 0-2.86zM5.41 20L4 18.59l7.72-7.72 1.47 1.35L5.41 20z\"/>\n",
              "  </svg>\n",
              "      </button>\n",
              "      \n",
              "  <style>\n",
              "    .colab-df-container {\n",
              "      display:flex;\n",
              "      flex-wrap:wrap;\n",
              "      gap: 12px;\n",
              "    }\n",
              "\n",
              "    .colab-df-convert {\n",
              "      background-color: #E8F0FE;\n",
              "      border: none;\n",
              "      border-radius: 50%;\n",
              "      cursor: pointer;\n",
              "      display: none;\n",
              "      fill: #1967D2;\n",
              "      height: 32px;\n",
              "      padding: 0 0 0 0;\n",
              "      width: 32px;\n",
              "    }\n",
              "\n",
              "    .colab-df-convert:hover {\n",
              "      background-color: #E2EBFA;\n",
              "      box-shadow: 0px 1px 2px rgba(60, 64, 67, 0.3), 0px 1px 3px 1px rgba(60, 64, 67, 0.15);\n",
              "      fill: #174EA6;\n",
              "    }\n",
              "\n",
              "    [theme=dark] .colab-df-convert {\n",
              "      background-color: #3B4455;\n",
              "      fill: #D2E3FC;\n",
              "    }\n",
              "\n",
              "    [theme=dark] .colab-df-convert:hover {\n",
              "      background-color: #434B5C;\n",
              "      box-shadow: 0px 1px 3px 1px rgba(0, 0, 0, 0.15);\n",
              "      filter: drop-shadow(0px 1px 2px rgba(0, 0, 0, 0.3));\n",
              "      fill: #FFFFFF;\n",
              "    }\n",
              "  </style>\n",
              "\n",
              "      <script>\n",
              "        const buttonEl =\n",
              "          document.querySelector('#df-5cd50ee5-ebfa-427e-a99f-e614bfbc105a button.colab-df-convert');\n",
              "        buttonEl.style.display =\n",
              "          google.colab.kernel.accessAllowed ? 'block' : 'none';\n",
              "\n",
              "        async function convertToInteractive(key) {\n",
              "          const element = document.querySelector('#df-5cd50ee5-ebfa-427e-a99f-e614bfbc105a');\n",
              "          const dataTable =\n",
              "            await google.colab.kernel.invokeFunction('convertToInteractive',\n",
              "                                                     [key], {});\n",
              "          if (!dataTable) return;\n",
              "\n",
              "          const docLinkHtml = 'Like what you see? Visit the ' +\n",
              "            '<a target=\"_blank\" href=https://colab.research.google.com/notebooks/data_table.ipynb>data table notebook</a>'\n",
              "            + ' to learn more about interactive tables.';\n",
              "          element.innerHTML = '';\n",
              "          dataTable['output_type'] = 'display_data';\n",
              "          await google.colab.output.renderOutput(dataTable, element);\n",
              "          const docLink = document.createElement('div');\n",
              "          docLink.innerHTML = docLinkHtml;\n",
              "          element.appendChild(docLink);\n",
              "        }\n",
              "      </script>\n",
              "    </div>\n",
              "  </div>\n",
              "  "
            ]
          },
          "metadata": {},
          "execution_count": 7
        }
      ],
      "source": [
        "test_dataset.tail(5)"
      ]
    },
    {
      "cell_type": "code",
      "execution_count": 8,
      "metadata": {
        "colab": {
          "base_uri": "https://localhost:8080/",
          "height": 364
        },
        "id": "KW2UVf9qic5R",
        "outputId": "73b4536b-fc36-46a6-eed1-a6e44980249b"
      },
      "outputs": [
        {
          "output_type": "execute_result",
          "data": {
            "text/plain": [
              "                 id  campaign_var_1  campaign_var_2  products_purchased  \\\n",
              "count  39161.000000    39161.000000    39161.000000        18250.000000   \n",
              "mean   19581.000000        6.523812        6.452746            2.154137   \n",
              "std    11304.951283        3.472944        2.614296            0.779815   \n",
              "min        1.000000        1.000000        1.000000            1.000000   \n",
              "25%     9791.000000        4.000000        5.000000            2.000000   \n",
              "50%    19581.000000        6.000000        6.000000            2.000000   \n",
              "75%    29371.000000        9.000000        8.000000            3.000000   \n",
              "max    39161.000000       16.000000       15.000000            4.000000   \n",
              "\n",
              "       user_activity_var_1  user_activity_var_2  user_activity_var_3  \\\n",
              "count         39161.000000         39161.000000         39161.000000   \n",
              "mean              0.400092             0.006716             0.102832   \n",
              "std               0.509194             0.081676             0.303743   \n",
              "min               0.000000             0.000000             0.000000   \n",
              "25%               0.000000             0.000000             0.000000   \n",
              "50%               0.000000             0.000000             0.000000   \n",
              "75%               1.000000             0.000000             0.000000   \n",
              "max               3.000000             1.000000             1.000000   \n",
              "\n",
              "       user_activity_var_4  user_activity_var_5  user_activity_var_6  \\\n",
              "count         39161.000000         39161.000000         39161.000000   \n",
              "mean              0.011465             0.151503             0.499834   \n",
              "std               0.106463             0.359681             0.558166   \n",
              "min               0.000000             0.000000             0.000000   \n",
              "25%               0.000000             0.000000             0.000000   \n",
              "50%               0.000000             0.000000             0.000000   \n",
              "75%               0.000000             0.000000             1.000000   \n",
              "max               1.000000             2.000000             3.000000   \n",
              "\n",
              "       user_activity_var_7  user_activity_var_8  user_activity_var_9  \\\n",
              "count         39161.000000         39161.000000         39161.000000   \n",
              "mean              0.286612             0.174434             0.011440   \n",
              "std               0.455784             0.379689             0.106346   \n",
              "min               0.000000             0.000000             0.000000   \n",
              "25%               0.000000             0.000000             0.000000   \n",
              "50%               0.000000             0.000000             0.000000   \n",
              "75%               1.000000             0.000000             0.000000   \n",
              "max               2.000000             2.000000             1.000000   \n",
              "\n",
              "       user_activity_var_10  user_activity_var_11  user_activity_var_12  \\\n",
              "count          39161.000000          39161.000000          39161.000000   \n",
              "mean               0.000383              0.218942              0.000562   \n",
              "std                0.019568              0.431544              0.023696   \n",
              "min                0.000000              0.000000              0.000000   \n",
              "25%                0.000000              0.000000              0.000000   \n",
              "50%                0.000000              0.000000              0.000000   \n",
              "75%                0.000000              0.000000              0.000000   \n",
              "max                1.000000              4.000000              1.000000   \n",
              "\n",
              "                buy  \n",
              "count  39161.000000  \n",
              "mean       0.051020  \n",
              "std        0.220042  \n",
              "min        0.000000  \n",
              "25%        0.000000  \n",
              "50%        0.000000  \n",
              "75%        0.000000  \n",
              "max        1.000000  "
            ],
            "text/html": [
              "\n",
              "  <div id=\"df-8dd2a122-2629-4983-920b-366e238e8564\">\n",
              "    <div class=\"colab-df-container\">\n",
              "      <div>\n",
              "<style scoped>\n",
              "    .dataframe tbody tr th:only-of-type {\n",
              "        vertical-align: middle;\n",
              "    }\n",
              "\n",
              "    .dataframe tbody tr th {\n",
              "        vertical-align: top;\n",
              "    }\n",
              "\n",
              "    .dataframe thead th {\n",
              "        text-align: right;\n",
              "    }\n",
              "</style>\n",
              "<table border=\"1\" class=\"dataframe\">\n",
              "  <thead>\n",
              "    <tr style=\"text-align: right;\">\n",
              "      <th></th>\n",
              "      <th>id</th>\n",
              "      <th>campaign_var_1</th>\n",
              "      <th>campaign_var_2</th>\n",
              "      <th>products_purchased</th>\n",
              "      <th>user_activity_var_1</th>\n",
              "      <th>user_activity_var_2</th>\n",
              "      <th>user_activity_var_3</th>\n",
              "      <th>user_activity_var_4</th>\n",
              "      <th>user_activity_var_5</th>\n",
              "      <th>user_activity_var_6</th>\n",
              "      <th>user_activity_var_7</th>\n",
              "      <th>user_activity_var_8</th>\n",
              "      <th>user_activity_var_9</th>\n",
              "      <th>user_activity_var_10</th>\n",
              "      <th>user_activity_var_11</th>\n",
              "      <th>user_activity_var_12</th>\n",
              "      <th>buy</th>\n",
              "    </tr>\n",
              "  </thead>\n",
              "  <tbody>\n",
              "    <tr>\n",
              "      <th>count</th>\n",
              "      <td>39161.000000</td>\n",
              "      <td>39161.000000</td>\n",
              "      <td>39161.000000</td>\n",
              "      <td>18250.000000</td>\n",
              "      <td>39161.000000</td>\n",
              "      <td>39161.000000</td>\n",
              "      <td>39161.000000</td>\n",
              "      <td>39161.000000</td>\n",
              "      <td>39161.000000</td>\n",
              "      <td>39161.000000</td>\n",
              "      <td>39161.000000</td>\n",
              "      <td>39161.000000</td>\n",
              "      <td>39161.000000</td>\n",
              "      <td>39161.000000</td>\n",
              "      <td>39161.000000</td>\n",
              "      <td>39161.000000</td>\n",
              "      <td>39161.000000</td>\n",
              "    </tr>\n",
              "    <tr>\n",
              "      <th>mean</th>\n",
              "      <td>19581.000000</td>\n",
              "      <td>6.523812</td>\n",
              "      <td>6.452746</td>\n",
              "      <td>2.154137</td>\n",
              "      <td>0.400092</td>\n",
              "      <td>0.006716</td>\n",
              "      <td>0.102832</td>\n",
              "      <td>0.011465</td>\n",
              "      <td>0.151503</td>\n",
              "      <td>0.499834</td>\n",
              "      <td>0.286612</td>\n",
              "      <td>0.174434</td>\n",
              "      <td>0.011440</td>\n",
              "      <td>0.000383</td>\n",
              "      <td>0.218942</td>\n",
              "      <td>0.000562</td>\n",
              "      <td>0.051020</td>\n",
              "    </tr>\n",
              "    <tr>\n",
              "      <th>std</th>\n",
              "      <td>11304.951283</td>\n",
              "      <td>3.472944</td>\n",
              "      <td>2.614296</td>\n",
              "      <td>0.779815</td>\n",
              "      <td>0.509194</td>\n",
              "      <td>0.081676</td>\n",
              "      <td>0.303743</td>\n",
              "      <td>0.106463</td>\n",
              "      <td>0.359681</td>\n",
              "      <td>0.558166</td>\n",
              "      <td>0.455784</td>\n",
              "      <td>0.379689</td>\n",
              "      <td>0.106346</td>\n",
              "      <td>0.019568</td>\n",
              "      <td>0.431544</td>\n",
              "      <td>0.023696</td>\n",
              "      <td>0.220042</td>\n",
              "    </tr>\n",
              "    <tr>\n",
              "      <th>min</th>\n",
              "      <td>1.000000</td>\n",
              "      <td>1.000000</td>\n",
              "      <td>1.000000</td>\n",
              "      <td>1.000000</td>\n",
              "      <td>0.000000</td>\n",
              "      <td>0.000000</td>\n",
              "      <td>0.000000</td>\n",
              "      <td>0.000000</td>\n",
              "      <td>0.000000</td>\n",
              "      <td>0.000000</td>\n",
              "      <td>0.000000</td>\n",
              "      <td>0.000000</td>\n",
              "      <td>0.000000</td>\n",
              "      <td>0.000000</td>\n",
              "      <td>0.000000</td>\n",
              "      <td>0.000000</td>\n",
              "      <td>0.000000</td>\n",
              "    </tr>\n",
              "    <tr>\n",
              "      <th>25%</th>\n",
              "      <td>9791.000000</td>\n",
              "      <td>4.000000</td>\n",
              "      <td>5.000000</td>\n",
              "      <td>2.000000</td>\n",
              "      <td>0.000000</td>\n",
              "      <td>0.000000</td>\n",
              "      <td>0.000000</td>\n",
              "      <td>0.000000</td>\n",
              "      <td>0.000000</td>\n",
              "      <td>0.000000</td>\n",
              "      <td>0.000000</td>\n",
              "      <td>0.000000</td>\n",
              "      <td>0.000000</td>\n",
              "      <td>0.000000</td>\n",
              "      <td>0.000000</td>\n",
              "      <td>0.000000</td>\n",
              "      <td>0.000000</td>\n",
              "    </tr>\n",
              "    <tr>\n",
              "      <th>50%</th>\n",
              "      <td>19581.000000</td>\n",
              "      <td>6.000000</td>\n",
              "      <td>6.000000</td>\n",
              "      <td>2.000000</td>\n",
              "      <td>0.000000</td>\n",
              "      <td>0.000000</td>\n",
              "      <td>0.000000</td>\n",
              "      <td>0.000000</td>\n",
              "      <td>0.000000</td>\n",
              "      <td>0.000000</td>\n",
              "      <td>0.000000</td>\n",
              "      <td>0.000000</td>\n",
              "      <td>0.000000</td>\n",
              "      <td>0.000000</td>\n",
              "      <td>0.000000</td>\n",
              "      <td>0.000000</td>\n",
              "      <td>0.000000</td>\n",
              "    </tr>\n",
              "    <tr>\n",
              "      <th>75%</th>\n",
              "      <td>29371.000000</td>\n",
              "      <td>9.000000</td>\n",
              "      <td>8.000000</td>\n",
              "      <td>3.000000</td>\n",
              "      <td>1.000000</td>\n",
              "      <td>0.000000</td>\n",
              "      <td>0.000000</td>\n",
              "      <td>0.000000</td>\n",
              "      <td>0.000000</td>\n",
              "      <td>1.000000</td>\n",
              "      <td>1.000000</td>\n",
              "      <td>0.000000</td>\n",
              "      <td>0.000000</td>\n",
              "      <td>0.000000</td>\n",
              "      <td>0.000000</td>\n",
              "      <td>0.000000</td>\n",
              "      <td>0.000000</td>\n",
              "    </tr>\n",
              "    <tr>\n",
              "      <th>max</th>\n",
              "      <td>39161.000000</td>\n",
              "      <td>16.000000</td>\n",
              "      <td>15.000000</td>\n",
              "      <td>4.000000</td>\n",
              "      <td>3.000000</td>\n",
              "      <td>1.000000</td>\n",
              "      <td>1.000000</td>\n",
              "      <td>1.000000</td>\n",
              "      <td>2.000000</td>\n",
              "      <td>3.000000</td>\n",
              "      <td>2.000000</td>\n",
              "      <td>2.000000</td>\n",
              "      <td>1.000000</td>\n",
              "      <td>1.000000</td>\n",
              "      <td>4.000000</td>\n",
              "      <td>1.000000</td>\n",
              "      <td>1.000000</td>\n",
              "    </tr>\n",
              "  </tbody>\n",
              "</table>\n",
              "</div>\n",
              "      <button class=\"colab-df-convert\" onclick=\"convertToInteractive('df-8dd2a122-2629-4983-920b-366e238e8564')\"\n",
              "              title=\"Convert this dataframe to an interactive table.\"\n",
              "              style=\"display:none;\">\n",
              "        \n",
              "  <svg xmlns=\"http://www.w3.org/2000/svg\" height=\"24px\"viewBox=\"0 0 24 24\"\n",
              "       width=\"24px\">\n",
              "    <path d=\"M0 0h24v24H0V0z\" fill=\"none\"/>\n",
              "    <path d=\"M18.56 5.44l.94 2.06.94-2.06 2.06-.94-2.06-.94-.94-2.06-.94 2.06-2.06.94zm-11 1L8.5 8.5l.94-2.06 2.06-.94-2.06-.94L8.5 2.5l-.94 2.06-2.06.94zm10 10l.94 2.06.94-2.06 2.06-.94-2.06-.94-.94-2.06-.94 2.06-2.06.94z\"/><path d=\"M17.41 7.96l-1.37-1.37c-.4-.4-.92-.59-1.43-.59-.52 0-1.04.2-1.43.59L10.3 9.45l-7.72 7.72c-.78.78-.78 2.05 0 2.83L4 21.41c.39.39.9.59 1.41.59.51 0 1.02-.2 1.41-.59l7.78-7.78 2.81-2.81c.8-.78.8-2.07 0-2.86zM5.41 20L4 18.59l7.72-7.72 1.47 1.35L5.41 20z\"/>\n",
              "  </svg>\n",
              "      </button>\n",
              "      \n",
              "  <style>\n",
              "    .colab-df-container {\n",
              "      display:flex;\n",
              "      flex-wrap:wrap;\n",
              "      gap: 12px;\n",
              "    }\n",
              "\n",
              "    .colab-df-convert {\n",
              "      background-color: #E8F0FE;\n",
              "      border: none;\n",
              "      border-radius: 50%;\n",
              "      cursor: pointer;\n",
              "      display: none;\n",
              "      fill: #1967D2;\n",
              "      height: 32px;\n",
              "      padding: 0 0 0 0;\n",
              "      width: 32px;\n",
              "    }\n",
              "\n",
              "    .colab-df-convert:hover {\n",
              "      background-color: #E2EBFA;\n",
              "      box-shadow: 0px 1px 2px rgba(60, 64, 67, 0.3), 0px 1px 3px 1px rgba(60, 64, 67, 0.15);\n",
              "      fill: #174EA6;\n",
              "    }\n",
              "\n",
              "    [theme=dark] .colab-df-convert {\n",
              "      background-color: #3B4455;\n",
              "      fill: #D2E3FC;\n",
              "    }\n",
              "\n",
              "    [theme=dark] .colab-df-convert:hover {\n",
              "      background-color: #434B5C;\n",
              "      box-shadow: 0px 1px 3px 1px rgba(0, 0, 0, 0.15);\n",
              "      filter: drop-shadow(0px 1px 2px rgba(0, 0, 0, 0.3));\n",
              "      fill: #FFFFFF;\n",
              "    }\n",
              "  </style>\n",
              "\n",
              "      <script>\n",
              "        const buttonEl =\n",
              "          document.querySelector('#df-8dd2a122-2629-4983-920b-366e238e8564 button.colab-df-convert');\n",
              "        buttonEl.style.display =\n",
              "          google.colab.kernel.accessAllowed ? 'block' : 'none';\n",
              "\n",
              "        async function convertToInteractive(key) {\n",
              "          const element = document.querySelector('#df-8dd2a122-2629-4983-920b-366e238e8564');\n",
              "          const dataTable =\n",
              "            await google.colab.kernel.invokeFunction('convertToInteractive',\n",
              "                                                     [key], {});\n",
              "          if (!dataTable) return;\n",
              "\n",
              "          const docLinkHtml = 'Like what you see? Visit the ' +\n",
              "            '<a target=\"_blank\" href=https://colab.research.google.com/notebooks/data_table.ipynb>data table notebook</a>'\n",
              "            + ' to learn more about interactive tables.';\n",
              "          element.innerHTML = '';\n",
              "          dataTable['output_type'] = 'display_data';\n",
              "          await google.colab.output.renderOutput(dataTable, element);\n",
              "          const docLink = document.createElement('div');\n",
              "          docLink.innerHTML = docLinkHtml;\n",
              "          element.appendChild(docLink);\n",
              "        }\n",
              "      </script>\n",
              "    </div>\n",
              "  </div>\n",
              "  "
            ]
          },
          "metadata": {},
          "execution_count": 8
        }
      ],
      "source": [
        "test_dataset.describe()"
      ]
    },
    {
      "cell_type": "code",
      "execution_count": 9,
      "metadata": {
        "colab": {
          "base_uri": "https://localhost:8080/"
        },
        "id": "Lhj45tEXil-6",
        "outputId": "0ab3d9d1-5bed-4c4e-dcad-5346d3c8e366"
      },
      "outputs": [
        {
          "output_type": "stream",
          "name": "stdout",
          "text": [
            "<class 'pandas.core.frame.DataFrame'>\n",
            "RangeIndex: 39161 entries, 0 to 39160\n",
            "Data columns (total 19 columns):\n",
            " #   Column                Non-Null Count  Dtype  \n",
            "---  ------                --------------  -----  \n",
            " 0   id                    39161 non-null  int64  \n",
            " 1   created_at            39161 non-null  object \n",
            " 2   campaign_var_1        39161 non-null  int64  \n",
            " 3   campaign_var_2        39161 non-null  int64  \n",
            " 4   products_purchased    18250 non-null  float64\n",
            " 5   signup_date           24048 non-null  object \n",
            " 6   user_activity_var_1   39161 non-null  int64  \n",
            " 7   user_activity_var_2   39161 non-null  int64  \n",
            " 8   user_activity_var_3   39161 non-null  int64  \n",
            " 9   user_activity_var_4   39161 non-null  int64  \n",
            " 10  user_activity_var_5   39161 non-null  int64  \n",
            " 11  user_activity_var_6   39161 non-null  int64  \n",
            " 12  user_activity_var_7   39161 non-null  int64  \n",
            " 13  user_activity_var_8   39161 non-null  int64  \n",
            " 14  user_activity_var_9   39161 non-null  int64  \n",
            " 15  user_activity_var_10  39161 non-null  int64  \n",
            " 16  user_activity_var_11  39161 non-null  int64  \n",
            " 17  user_activity_var_12  39161 non-null  int64  \n",
            " 18  buy                   39161 non-null  int64  \n",
            "dtypes: float64(1), int64(16), object(2)\n",
            "memory usage: 5.7+ MB\n"
          ]
        }
      ],
      "source": [
        "test_dataset.info()"
      ]
    },
    {
      "cell_type": "code",
      "execution_count": 10,
      "metadata": {
        "id": "g0thTn0fjBYA"
      },
      "outputs": [],
      "source": [
        "test_dataset=test_dataset.drop(columns=['signup_date','id','created_at'],axis=1)"
      ]
    },
    {
      "cell_type": "code",
      "execution_count": 11,
      "metadata": {
        "id": "d_JmBBp9iu51"
      },
      "outputs": [],
      "source": [
        "test_dataset=test_dataset.dropna()"
      ]
    },
    {
      "cell_type": "code",
      "execution_count": 12,
      "metadata": {
        "colab": {
          "base_uri": "https://localhost:8080/"
        },
        "id": "LNtvebjGi33V",
        "outputId": "062741ae-19dc-4208-8239-223c183d6d4c"
      },
      "outputs": [
        {
          "output_type": "stream",
          "name": "stdout",
          "text": [
            "<class 'pandas.core.frame.DataFrame'>\n",
            "Int64Index: 18250 entries, 0 to 39159\n",
            "Data columns (total 16 columns):\n",
            " #   Column                Non-Null Count  Dtype  \n",
            "---  ------                --------------  -----  \n",
            " 0   campaign_var_1        18250 non-null  int64  \n",
            " 1   campaign_var_2        18250 non-null  int64  \n",
            " 2   products_purchased    18250 non-null  float64\n",
            " 3   user_activity_var_1   18250 non-null  int64  \n",
            " 4   user_activity_var_2   18250 non-null  int64  \n",
            " 5   user_activity_var_3   18250 non-null  int64  \n",
            " 6   user_activity_var_4   18250 non-null  int64  \n",
            " 7   user_activity_var_5   18250 non-null  int64  \n",
            " 8   user_activity_var_6   18250 non-null  int64  \n",
            " 9   user_activity_var_7   18250 non-null  int64  \n",
            " 10  user_activity_var_8   18250 non-null  int64  \n",
            " 11  user_activity_var_9   18250 non-null  int64  \n",
            " 12  user_activity_var_10  18250 non-null  int64  \n",
            " 13  user_activity_var_11  18250 non-null  int64  \n",
            " 14  user_activity_var_12  18250 non-null  int64  \n",
            " 15  buy                   18250 non-null  int64  \n",
            "dtypes: float64(1), int64(15)\n",
            "memory usage: 2.4 MB\n"
          ]
        }
      ],
      "source": [
        "test_dataset.info()"
      ]
    },
    {
      "cell_type": "code",
      "execution_count": 13,
      "metadata": {
        "colab": {
          "base_uri": "https://localhost:8080/"
        },
        "id": "o-D4nBnsjT1E",
        "outputId": "9763308c-9401-461d-b74e-3ed9f2ebc289"
      },
      "outputs": [
        {
          "output_type": "execute_result",
          "data": {
            "text/plain": [
              "0    17297\n",
              "1      953\n",
              "Name: buy, dtype: int64"
            ]
          },
          "metadata": {},
          "execution_count": 13
        }
      ],
      "source": [
        "test_dataset['buy'].value_counts()"
      ]
    },
    {
      "cell_type": "code",
      "source": [
        "for i in list(test_dataset.describe()):\n",
        "  print(f'The Value count for {i} is','\\n')\n",
        "  print(test_dataset[i].value_counts())"
      ],
      "metadata": {
        "colab": {
          "base_uri": "https://localhost:8080/"
        },
        "id": "MLAxZcX7gsgX",
        "outputId": "47d8971a-326d-46e5-9344-3b66162791f0"
      },
      "execution_count": 14,
      "outputs": [
        {
          "output_type": "stream",
          "name": "stdout",
          "text": [
            "The Value count for campaign_var_1 is \n",
            "\n",
            "4     2035\n",
            "5     2016\n",
            "3     1935\n",
            "2     1918\n",
            "6     1900\n",
            "7     1676\n",
            "8     1523\n",
            "9     1188\n",
            "10     980\n",
            "1      975\n",
            "11     718\n",
            "12     549\n",
            "13     399\n",
            "14     240\n",
            "15     146\n",
            "16      52\n",
            "Name: campaign_var_1, dtype: int64\n",
            "The Value count for campaign_var_2 is \n",
            "\n",
            "6     2688\n",
            "5     2567\n",
            "7     2488\n",
            "8     2062\n",
            "4     2050\n",
            "3     1539\n",
            "9     1531\n",
            "2     1013\n",
            "10     952\n",
            "11     541\n",
            "1      341\n",
            "12     286\n",
            "13     143\n",
            "14      46\n",
            "15       3\n",
            "Name: campaign_var_2, dtype: int64\n",
            "The Value count for products_purchased is \n",
            "\n",
            "2.0    8867\n",
            "3.0    5024\n",
            "1.0    3643\n",
            "4.0     716\n",
            "Name: products_purchased, dtype: int64\n",
            "The Value count for user_activity_var_1 is \n",
            "\n",
            "0    11342\n",
            "1     6765\n",
            "2      143\n",
            "Name: user_activity_var_1, dtype: int64\n",
            "The Value count for user_activity_var_2 is \n",
            "\n",
            "0    18126\n",
            "1      124\n",
            "Name: user_activity_var_2, dtype: int64\n",
            "The Value count for user_activity_var_3 is \n",
            "\n",
            "0    16274\n",
            "1     1976\n",
            "Name: user_activity_var_3, dtype: int64\n",
            "The Value count for user_activity_var_4 is \n",
            "\n",
            "0    18039\n",
            "1      211\n",
            "Name: user_activity_var_4, dtype: int64\n",
            "The Value count for user_activity_var_5 is \n",
            "\n",
            "0    15376\n",
            "1     2868\n",
            "2        6\n",
            "Name: user_activity_var_5, dtype: int64\n",
            "The Value count for user_activity_var_6 is \n",
            "\n",
            "0    9564\n",
            "1    8128\n",
            "2     549\n",
            "3       9\n",
            "Name: user_activity_var_6, dtype: int64\n",
            "The Value count for user_activity_var_7 is \n",
            "\n",
            "0    12810\n",
            "1     5412\n",
            "2       28\n",
            "Name: user_activity_var_7, dtype: int64\n",
            "The Value count for user_activity_var_8 is \n",
            "\n",
            "0    15524\n",
            "1     2725\n",
            "2        1\n",
            "Name: user_activity_var_8, dtype: int64\n",
            "The Value count for user_activity_var_9 is \n",
            "\n",
            "0    18017\n",
            "1      233\n",
            "Name: user_activity_var_9, dtype: int64\n",
            "The Value count for user_activity_var_10 is \n",
            "\n",
            "0    18240\n",
            "1       10\n",
            "Name: user_activity_var_10, dtype: int64\n",
            "The Value count for user_activity_var_11 is \n",
            "\n",
            "0    14280\n",
            "1     3846\n",
            "2      111\n",
            "3       13\n",
            "Name: user_activity_var_11, dtype: int64\n",
            "The Value count for user_activity_var_12 is \n",
            "\n",
            "0    18239\n",
            "1       11\n",
            "Name: user_activity_var_12, dtype: int64\n",
            "The Value count for buy is \n",
            "\n",
            "0    17297\n",
            "1      953\n",
            "Name: buy, dtype: int64\n"
          ]
        }
      ]
    },
    {
      "cell_type": "code",
      "source": [
        "test_dataset=test_dataset.drop(columns=['user_activity_var_2','user_activity_var_3','user_activity_var_4','user_activity_var_9','user_activity_var_10','user_activity_var_12','products_purchased'],axis=1)"
      ],
      "metadata": {
        "id": "rZ1czxeJijOk"
      },
      "execution_count": 15,
      "outputs": []
    },
    {
      "cell_type": "code",
      "source": [
        "buyers=test_dataset[test_dataset['buy']==1]\n",
        "non_buyers=test_dataset[test_dataset['buy']==0]"
      ],
      "metadata": {
        "id": "qmV9SbBmRPlj"
      },
      "execution_count": 16,
      "outputs": []
    },
    {
      "cell_type": "code",
      "source": [
        "# Distribution plot\n",
        "for i in list(test_dataset.describe()):\n",
        "   plt.figure(figsize=(8,5))\n",
        "   ax = sns.distplot(buyers[i],label='buy',hist=False)\n",
        "   ax = sns.distplot(non_buyers[i],label='didnt buy',hist=False)\n",
        "   ax.set(xlabel=i)\n",
        "plt.show()"
      ],
      "metadata": {
        "colab": {
          "base_uri": "https://localhost:8080/",
          "height": 1000
        },
        "id": "iIEaDB9RP77q",
        "outputId": "bd3efcff-339b-414a-e8c7-278357f43dc0"
      },
      "execution_count": 17,
      "outputs": [
        {
          "output_type": "stream",
          "name": "stderr",
          "text": [
            "/usr/local/lib/python3.7/dist-packages/seaborn/distributions.py:2619: FutureWarning: `distplot` is a deprecated function and will be removed in a future version. Please adapt your code to use either `displot` (a figure-level function with similar flexibility) or `kdeplot` (an axes-level function for kernel density plots).\n",
            "  warnings.warn(msg, FutureWarning)\n",
            "/usr/local/lib/python3.7/dist-packages/seaborn/distributions.py:2619: FutureWarning: `distplot` is a deprecated function and will be removed in a future version. Please adapt your code to use either `displot` (a figure-level function with similar flexibility) or `kdeplot` (an axes-level function for kernel density plots).\n",
            "  warnings.warn(msg, FutureWarning)\n",
            "/usr/local/lib/python3.7/dist-packages/seaborn/distributions.py:2619: FutureWarning: `distplot` is a deprecated function and will be removed in a future version. Please adapt your code to use either `displot` (a figure-level function with similar flexibility) or `kdeplot` (an axes-level function for kernel density plots).\n",
            "  warnings.warn(msg, FutureWarning)\n",
            "/usr/local/lib/python3.7/dist-packages/seaborn/distributions.py:2619: FutureWarning: `distplot` is a deprecated function and will be removed in a future version. Please adapt your code to use either `displot` (a figure-level function with similar flexibility) or `kdeplot` (an axes-level function for kernel density plots).\n",
            "  warnings.warn(msg, FutureWarning)\n",
            "/usr/local/lib/python3.7/dist-packages/seaborn/distributions.py:2619: FutureWarning: `distplot` is a deprecated function and will be removed in a future version. Please adapt your code to use either `displot` (a figure-level function with similar flexibility) or `kdeplot` (an axes-level function for kernel density plots).\n",
            "  warnings.warn(msg, FutureWarning)\n",
            "/usr/local/lib/python3.7/dist-packages/seaborn/distributions.py:2619: FutureWarning: `distplot` is a deprecated function and will be removed in a future version. Please adapt your code to use either `displot` (a figure-level function with similar flexibility) or `kdeplot` (an axes-level function for kernel density plots).\n",
            "  warnings.warn(msg, FutureWarning)\n",
            "/usr/local/lib/python3.7/dist-packages/seaborn/distributions.py:2619: FutureWarning: `distplot` is a deprecated function and will be removed in a future version. Please adapt your code to use either `displot` (a figure-level function with similar flexibility) or `kdeplot` (an axes-level function for kernel density plots).\n",
            "  warnings.warn(msg, FutureWarning)\n",
            "/usr/local/lib/python3.7/dist-packages/seaborn/distributions.py:2619: FutureWarning: `distplot` is a deprecated function and will be removed in a future version. Please adapt your code to use either `displot` (a figure-level function with similar flexibility) or `kdeplot` (an axes-level function for kernel density plots).\n",
            "  warnings.warn(msg, FutureWarning)\n",
            "/usr/local/lib/python3.7/dist-packages/seaborn/distributions.py:2619: FutureWarning: `distplot` is a deprecated function and will be removed in a future version. Please adapt your code to use either `displot` (a figure-level function with similar flexibility) or `kdeplot` (an axes-level function for kernel density plots).\n",
            "  warnings.warn(msg, FutureWarning)\n",
            "/usr/local/lib/python3.7/dist-packages/seaborn/distributions.py:2619: FutureWarning: `distplot` is a deprecated function and will be removed in a future version. Please adapt your code to use either `displot` (a figure-level function with similar flexibility) or `kdeplot` (an axes-level function for kernel density plots).\n",
            "  warnings.warn(msg, FutureWarning)\n",
            "/usr/local/lib/python3.7/dist-packages/seaborn/distributions.py:2619: FutureWarning: `distplot` is a deprecated function and will be removed in a future version. Please adapt your code to use either `displot` (a figure-level function with similar flexibility) or `kdeplot` (an axes-level function for kernel density plots).\n",
            "  warnings.warn(msg, FutureWarning)\n",
            "/usr/local/lib/python3.7/dist-packages/seaborn/distributions.py:2619: FutureWarning: `distplot` is a deprecated function and will be removed in a future version. Please adapt your code to use either `displot` (a figure-level function with similar flexibility) or `kdeplot` (an axes-level function for kernel density plots).\n",
            "  warnings.warn(msg, FutureWarning)\n",
            "/usr/local/lib/python3.7/dist-packages/seaborn/distributions.py:2619: FutureWarning: `distplot` is a deprecated function and will be removed in a future version. Please adapt your code to use either `displot` (a figure-level function with similar flexibility) or `kdeplot` (an axes-level function for kernel density plots).\n",
            "  warnings.warn(msg, FutureWarning)\n",
            "/usr/local/lib/python3.7/dist-packages/seaborn/distributions.py:2619: FutureWarning: `distplot` is a deprecated function and will be removed in a future version. Please adapt your code to use either `displot` (a figure-level function with similar flexibility) or `kdeplot` (an axes-level function for kernel density plots).\n",
            "  warnings.warn(msg, FutureWarning)\n",
            "/usr/local/lib/python3.7/dist-packages/seaborn/distributions.py:2619: FutureWarning: `distplot` is a deprecated function and will be removed in a future version. Please adapt your code to use either `displot` (a figure-level function with similar flexibility) or `kdeplot` (an axes-level function for kernel density plots).\n",
            "  warnings.warn(msg, FutureWarning)\n",
            "/usr/local/lib/python3.7/dist-packages/seaborn/distributions.py:2619: FutureWarning: `distplot` is a deprecated function and will be removed in a future version. Please adapt your code to use either `displot` (a figure-level function with similar flexibility) or `kdeplot` (an axes-level function for kernel density plots).\n",
            "  warnings.warn(msg, FutureWarning)\n",
            "/usr/local/lib/python3.7/dist-packages/seaborn/distributions.py:2619: FutureWarning: `distplot` is a deprecated function and will be removed in a future version. Please adapt your code to use either `displot` (a figure-level function with similar flexibility) or `kdeplot` (an axes-level function for kernel density plots).\n",
            "  warnings.warn(msg, FutureWarning)\n",
            "/usr/local/lib/python3.7/dist-packages/seaborn/distributions.py:316: UserWarning: Dataset has 0 variance; skipping density estimate. Pass `warn_singular=False` to disable this warning.\n",
            "  warnings.warn(msg, UserWarning)\n",
            "/usr/local/lib/python3.7/dist-packages/seaborn/distributions.py:2619: FutureWarning: `distplot` is a deprecated function and will be removed in a future version. Please adapt your code to use either `displot` (a figure-level function with similar flexibility) or `kdeplot` (an axes-level function for kernel density plots).\n",
            "  warnings.warn(msg, FutureWarning)\n",
            "/usr/local/lib/python3.7/dist-packages/seaborn/distributions.py:316: UserWarning: Dataset has 0 variance; skipping density estimate. Pass `warn_singular=False` to disable this warning.\n",
            "  warnings.warn(msg, UserWarning)\n"
          ]
        },
        {
          "output_type": "display_data",
          "data": {
            "text/plain": [
              "<Figure size 576x360 with 1 Axes>"
            ],
            "image/png": "[encoded data removed]"
          },
          "metadata": {
            "needs_background": "light"
          }
        },
        {
          "output_type": "display_data",
          "data": {
            "text/plain": [
              "<Figure size 576x360 with 1 Axes>"
            ],
            "image/png": "[encoded data removed]"
          },
          "metadata": {
            "needs_background": "light"
          }
        },
        {
          "output_type": "display_data",
          "data": {
            "text/plain": [
              "<Figure size 576x360 with 1 Axes>"
            ],
            "image/png": "[encoded data removed]"
          },
          "metadata": {
            "needs_background": "light"
          }
        },
        {
          "output_type": "display_data",
          "data": {
            "text/plain": [
              "<Figure size 576x360 with 1 Axes>"
            ],
            "image/png": "[encoded data removed]"
          },
          "metadata": {
            "needs_background": "light"
          }
        },
        {
          "output_type": "display_data",
          "data": {
            "text/plain": [
              "<Figure size 576x360 with 1 Axes>"
            ],
            "image/png": "[encoded data removed]"
          },
          "metadata": {
            "needs_background": "light"
          }
        },
        {
          "output_type": "display_data",
          "data": {
            "text/plain": [
              "<Figure size 576x360 with 1 Axes>"
            ],
            "image/png": "[encoded data removed]"
          },
          "metadata": {
            "needs_background": "light"
          }
        },
        {
          "output_type": "display_data",
          "data": {
            "text/plain": [
              "<Figure size 576x360 with 1 Axes>"
            ],
            "image/png": "[encoded data removed]"
          },
          "metadata": {
            "needs_background": "light"
          }
        },
        {
          "output_type": "display_data",
          "data": {
            "text/plain": [
              "<Figure size 576x360 with 1 Axes>"
            ],
            "image/png": "[encoded data removed]"
          },
          "metadata": {
            "needs_background": "light"
          }
        },
        {
          "output_type": "display_data",
          "data": {
            "text/plain": [
              "<Figure size 576x360 with 1 Axes>"
            ],
            "image/png": "[encoded data removed]"
          },
          "metadata": {
            "needs_background": "light"
          }
        }
      ]
    },
    {
      "cell_type": "code",
      "source": [
        "lst=list(test_dataset.columns)\n",
        "lst"
      ],
      "metadata": {
        "colab": {
          "base_uri": "https://localhost:8080/"
        },
        "id": "a8yRZHn2Cj5t",
        "outputId": "9bfcb14e-a0f1-4cff-880e-d0bccd340d8f"
      },
      "execution_count": 19,
      "outputs": [
        {
          "output_type": "execute_result",
          "data": {
            "text/plain": [
              "['campaign_var_1',\n",
              " 'campaign_var_2',\n",
              " 'user_activity_var_1',\n",
              " 'user_activity_var_5',\n",
              " 'user_activity_var_6',\n",
              " 'user_activity_var_7',\n",
              " 'user_activity_var_8',\n",
              " 'user_activity_var_11',\n",
              " 'buy']"
            ]
          },
          "metadata": {},
          "execution_count": 19
        }
      ]
    },
    {
      "cell_type": "code",
      "source": [
        "test_dataset=pd.get_dummies(test_dataset, columns=['campaign_var_1',\n",
        " 'campaign_var_2',\n",
        " 'user_activity_var_1',\n",
        " 'user_activity_var_5',\n",
        " 'user_activity_var_6',\n",
        " 'user_activity_var_7',\n",
        " 'user_activity_var_8',\n",
        " 'user_activity_var_11'], prefix=['campaign_var_1',\n",
        " 'campaign_var_2',\n",
        " 'user_activity_var_1',\n",
        " 'user_activity_var_5',\n",
        " 'user_activity_var_6',\n",
        " 'user_activity_var_7',\n",
        " 'user_activity_var_8',\n",
        " 'user_activity_var_11'])"
      ],
      "metadata": {
        "id": "7O-nqIrhCi_2"
      },
      "execution_count": 34,
      "outputs": []
    },
    {
      "cell_type": "code",
      "execution_count": 35,
      "metadata": {
        "colab": {
          "base_uri": "https://localhost:8080/",
          "height": 296
        },
        "id": "fn0Nk3Dvj9eZ",
        "outputId": "12f4dfd8-fdc8-455b-dada-ae247c711aa4"
      },
      "outputs": [
        {
          "output_type": "execute_result",
          "data": {
            "text/plain": [
              "<matplotlib.axes._subplots.AxesSubplot at 0x7f64fc01a2d0>"
            ]
          },
          "metadata": {},
          "execution_count": 35
        },
        {
          "output_type": "display_data",
          "data": {
            "text/plain": [
              "<Figure size 432x288 with 1 Axes>"
            ],
            "image/png": "[encoded data removed]"
          },
          "metadata": {
            "needs_background": "light"
          }
        }
      ],
      "source": [
        "sns.countplot(x=test_dataset['buy'])"
      ]
    },
    {
      "cell_type": "code",
      "source": [
        "# Importing SMOTE\n",
        "from imblearn.over_sampling import SMOTE"
      ],
      "metadata": {
        "id": "M_QKDCggoPYa"
      },
      "execution_count": 36,
      "outputs": []
    },
    {
      "cell_type": "code",
      "execution_count": 37,
      "metadata": {
        "id": "A6I1u91GoTFT"
      },
      "outputs": [],
      "source": [
        " # Data for all the independent variables\n",
        "X = test_dataset.drop(labels='buy',axis=1)\n",
        "\n",
        " # Data for the dependent variable\n",
        "Y = test_dataset['buy']"
      ]
    },
    {
      "cell_type": "code",
      "execution_count": 38,
      "metadata": {
        "colab": {
          "base_uri": "https://localhost:8080/"
        },
        "id": "eG5-y-ZwTF4w",
        "outputId": "8f320b22-2e1a-4081-c71b-e88eaa6bbca7"
      },
      "outputs": [
        {
          "output_type": "execute_result",
          "data": {
            "text/plain": [
              "((18250, 51), (18250,))"
            ]
          },
          "metadata": {},
          "execution_count": 38
        }
      ],
      "source": [
        "X.shape, Y.shape"
      ]
    },
    {
      "cell_type": "code",
      "execution_count": 39,
      "metadata": {
        "id": "vMPrQ-6rTF15"
      },
      "outputs": [],
      "source": [
        "# Train-test split\n",
        "\n",
        "X_train, X_test, Y_train, Y_test = train_test_split(X,Y,test_size = 0.2, random_state=1)"
      ]
    },
    {
      "cell_type": "code",
      "source": [
        "from sklearn.model_selection import StratifiedKFold\n",
        "from imblearn.over_sampling import SMOTE\n",
        "Xtrain=X_train\n",
        "cv = StratifiedKFold(n_splits=5)\n",
        "X_train, Y_train = SMOTE().fit_resample(X_train, Y_train)"
      ],
      "metadata": {
        "id": "HwRm4JtS2Y5q"
      },
      "execution_count": 40,
      "outputs": []
    },
    {
      "cell_type": "code",
      "source": [
        "print('Before SMOTE oversampling X_train shape=',Xtrain.shape)\n",
        "print('After SMOTE oversampling X_train shape=',X_train.shape)"
      ],
      "metadata": {
        "colab": {
          "base_uri": "https://localhost:8080/"
        },
        "id": "XOAJ19ilrGZW",
        "outputId": "fa011100-24a9-45d6-a746-bf1dfcfc494f"
      },
      "execution_count": 41,
      "outputs": [
        {
          "output_type": "stream",
          "name": "stdout",
          "text": [
            "Before SMOTE oversampling X_train shape= (14600, 51)\n",
            "After SMOTE oversampling X_train shape= (27678, 51)\n"
          ]
        }
      ]
    },
    {
      "cell_type": "code",
      "source": [
        "Y_train.value_counts()"
      ],
      "metadata": {
        "colab": {
          "base_uri": "https://localhost:8080/"
        },
        "id": "pw15PWlG44CO",
        "outputId": "fe54126b-cb91-472b-ea2f-390882ddd422"
      },
      "execution_count": 42,
      "outputs": [
        {
          "output_type": "execute_result",
          "data": {
            "text/plain": [
              "0    13839\n",
              "1    13839\n",
              "Name: buy, dtype: int64"
            ]
          },
          "metadata": {},
          "execution_count": 42
        }
      ]
    },
    {
      "cell_type": "code",
      "execution_count": 43,
      "metadata": {
        "colab": {
          "base_uri": "https://localhost:8080/"
        },
        "id": "GiF-sNv4TFy1",
        "outputId": "ca17a225-64cd-4db8-a810-d8f7062757da"
      },
      "outputs": [
        {
          "output_type": "stream",
          "name": "stdout",
          "text": [
            "(27678, 51) (27678,)\n",
            "(3650, 51) (3650,)\n"
          ]
        }
      ],
      "source": [
        "# Check the shape of train dataset\n",
        "print(X_train.shape,Y_train.shape)\n",
        "\n",
        "# Check the shape of test dataset\n",
        "print(X_test.shape, Y_test.shape)"
      ]
    },
    {
      "cell_type": "code",
      "source": [
        "# Importing XGBoost\n",
        "from xgboost import XGBClassifier"
      ],
      "metadata": {
        "id": "79gRurlnNyuR"
      },
      "execution_count": 44,
      "outputs": []
    },
    {
      "cell_type": "code",
      "source": [
        "# hyperparameter tuning with XGBoost\n",
        "\n",
        "# creating a KFold object \n",
        "folds = 2\n",
        "\n",
        "# specify range of hyperparameters\n",
        "param_grid = {'learning_rate': [0.01,0.001,0.5,0.1,0.8], \n",
        "             'subsample': [0.3, 0.6, 0.9,1]}          \n",
        "\n",
        "\n",
        "# specify model\n",
        "xgb_model = XGBClassifier()\n",
        "\n",
        "# set up GridSearchCV()\n",
        "model_cv = GridSearchCV(estimator = xgb_model, \n",
        "                        param_grid = param_grid, \n",
        "                        scoring= 'roc_auc', \n",
        "                        cv = folds, \n",
        "                        verbose = 1,\n",
        "                        return_train_score=True)      \n",
        "\n",
        "# fit the model\n",
        "model_cv.fit(X_train, Y_train) "
      ],
      "metadata": {
        "colab": {
          "base_uri": "https://localhost:8080/"
        },
        "id": "xcblD3z-MNEc",
        "outputId": "3ca3c27d-15cc-4010-e0b2-fd6cf62a4117"
      },
      "execution_count": null,
      "outputs": [
        {
          "output_type": "stream",
          "name": "stdout",
          "text": [
            "Fitting 2 folds for each of 20 candidates, totalling 40 fits\n"
          ]
        }
      ]
    },
    {
      "cell_type": "code",
      "source": [
        "cv_results = pd.DataFrame(model_cv.cv_results_)\n",
        "cv_results"
      ],
      "metadata": {
        "id": "EwOGpzvrNhfb"
      },
      "execution_count": null,
      "outputs": []
    },
    {
      "cell_type": "code",
      "source": [
        "# # plotting\n",
        "plt.figure(figsize=(16,6))\n",
        "\n",
        "param_grid = {'learning_rate': [0.01,0.001,0.5,0.1,0.8], \n",
        "             'subsample': [0.2,0.3,0.5, 0.6, 0.9]} \n",
        "\n",
        "\n",
        "for n, subsample in enumerate(param_grid['subsample']):\n",
        "    \n",
        "\n",
        "    # subplot 1/n\n",
        "    plt.subplot(1,len(param_grid['subsample']), n+1)\n",
        "    df = cv_results[cv_results['param_subsample']==subsample]\n",
        "\n",
        "    plt.plot(df[\"param_learning_rate\"], df[\"mean_test_score\"])\n",
        "    plt.plot(df[\"param_learning_rate\"], df[\"mean_train_score\"])\n",
        "    plt.xlabel('learning_rate')\n",
        "    plt.ylabel('AUC')\n",
        "    plt.title(\"subsample={0}\".format(subsample))\n",
        "    plt.ylim([0.60, 1])\n",
        "    plt.legend(['test score', 'train score'], loc='upper left')\n",
        "    plt.xscale('log')"
      ],
      "metadata": {
        "id": "8INRs-lQOGTm"
      },
      "execution_count": null,
      "outputs": []
    },
    {
      "cell_type": "code",
      "source": [
        "model_cv.best_params_"
      ],
      "metadata": {
        "id": "hGJYXX2XOlMs"
      },
      "execution_count": null,
      "outputs": []
    },
    {
      "cell_type": "code",
      "source": [
        "# chosen hyperparameters\n",
        "# 'objective':'binary:logistic' outputs probability rather than label, which we need for calculating auc\n",
        "params = {'learning_rate': 0.8,\n",
        "           \n",
        "          \n",
        "          'subsample':0.9,\n",
        "         'objective':'binary:logistic'}\n",
        "\n",
        "# fit model on training data\n",
        "xgb_imb_model = XGBClassifier(params = params)\n",
        "xgb_imb_model.fit(X_train, Y_train)"
      ],
      "metadata": {
        "id": "iZkz0XY1Oqft"
      },
      "execution_count": null,
      "outputs": []
    },
    {
      "cell_type": "code",
      "source": [
        "# Predictions on the train set\n",
        "Y_train_pred = xgb_imb_model.predict(X_train)"
      ],
      "metadata": {
        "id": "xGZxkZf6Oxf0"
      },
      "execution_count": null,
      "outputs": []
    },
    {
      "cell_type": "code",
      "source": [
        "# Confusion matrix\n",
        "confusion = confusion_matrix(Y_train, Y_train_pred)\n",
        "print(confusion)\n"
      ],
      "metadata": {
        "id": "SpDoQhz2O6Oe"
      },
      "execution_count": null,
      "outputs": []
    },
    {
      "cell_type": "code",
      "source": [
        "Y_test_pred = xgb_imb_model.predict(X_test)"
      ],
      "metadata": {
        "id": "hh-yWdMs85CF"
      },
      "execution_count": null,
      "outputs": []
    },
    {
      "cell_type": "code",
      "source": [
        "# Confusion matrix\n",
        "confusion = confusion_matrix(Y_test, Y_test_pred)\n",
        "print(confusion)\n"
      ],
      "metadata": {
        "id": "ABX-sbTF84-p"
      },
      "execution_count": null,
      "outputs": []
    },
    {
      "cell_type": "code",
      "source": [
        "# Importing scikit logistic regression module\n",
        "from sklearn.linear_model import LogisticRegression"
      ],
      "metadata": {
        "id": "UCHmB9uS_Bst"
      },
      "execution_count": null,
      "outputs": []
    },
    {
      "cell_type": "code",
      "source": [
        "# Impoting metrics\n",
        "from sklearn import metrics\n",
        "from sklearn.metrics import confusion_matrix\n",
        "from sklearn.metrics import f1_score\n",
        "from sklearn.metrics import classification_report"
      ],
      "metadata": {
        "id": "LeTjaEll_BpA"
      },
      "execution_count": null,
      "outputs": []
    },
    {
      "cell_type": "code",
      "source": [
        "# Importing libraries for cross validation\n",
        "from sklearn.model_selection import KFold\n",
        "from sklearn.model_selection import cross_val_score\n",
        "from sklearn.model_selection import GridSearchCV"
      ],
      "metadata": {
        "id": "0BrNSdEA_BlU"
      },
      "execution_count": null,
      "outputs": []
    },
    {
      "cell_type": "code",
      "source": [
        "# Creating KFold object with 5 splits\n",
        "folds = KFold(n_splits=5, shuffle=True, random_state=4)\n",
        "\n",
        "# Specify params\n",
        "params = {\"C\": [0.001,0.05,0.01, 0.1, 1, 10, 100, 1000]}\n",
        "\n",
        "# Specifing score as recall as we are more focused on acheiving the higher sensitivity than the accuracy\n",
        "model_cv = GridSearchCV(estimator = LogisticRegression(),\n",
        "                        param_grid = params, \n",
        "                        scoring= 'roc_auc', \n",
        "                        cv = folds, \n",
        "                        verbose = 1,\n",
        "                        return_train_score=True) \n",
        "\n",
        "# Fit the model\n",
        "model_cv.fit(X_train, Y_train)"
      ],
      "metadata": {
        "id": "tv8ROEjd_BiS"
      },
      "execution_count": null,
      "outputs": []
    },
    {
      "cell_type": "code",
      "source": [
        "# results of grid search CV\n",
        "cv_results = pd.DataFrame(model_cv.cv_results_)\n",
        "cv_results"
      ],
      "metadata": {
        "id": "tTTpWfUL_BeO"
      },
      "execution_count": null,
      "outputs": []
    },
    {
      "cell_type": "code",
      "source": [
        "# plot of C versus train and validation scores\n",
        "\n",
        "plt.figure(figsize=(8, 6))\n",
        "plt.plot(cv_results['param_C'], cv_results['mean_test_score'])\n",
        "plt.plot(cv_results['param_C'], cv_results['mean_train_score'])\n",
        "plt.xlabel('C')\n",
        "plt.ylabel('roc_auc')\n",
        "plt.legend(['test result', 'train result'], loc='upper left')\n",
        "plt.xscale('log')"
      ],
      "metadata": {
        "id": "aZxAWoHk_BaO"
      },
      "execution_count": null,
      "outputs": []
    },
    {
      "cell_type": "code",
      "source": [
        "# Best score with best C\n",
        "best_score = model_cv.best_score_\n",
        "best_C = model_cv.best_params_['C']\n",
        "\n",
        "print(\" The highest test roc_auc is {0} at C = {1}\".format(best_score, best_C))"
      ],
      "metadata": {
        "id": "0OD_z1om_BWf"
      },
      "execution_count": null,
      "outputs": []
    },
    {
      "cell_type": "code",
      "source": [
        "# Instantiate the model with best C\n",
        "logistic_imb = LogisticRegression(C=0.1)"
      ],
      "metadata": {
        "id": "ROwBTfEX_BSq"
      },
      "execution_count": null,
      "outputs": []
    },
    {
      "cell_type": "code",
      "source": [
        "# Fit the model on the train set\n",
        "logistic_imb_model = logistic_imb.fit(X_train, Y_train)"
      ],
      "metadata": {
        "id": "Mgl6ZIrf_11Y"
      },
      "execution_count": null,
      "outputs": []
    },
    {
      "cell_type": "code",
      "source": [
        "# Predictions on the train set\n",
        "Y_train_pred = logistic_imb_model.predict(X_train)"
      ],
      "metadata": {
        "id": "mFYalbs7_8Ct"
      },
      "execution_count": null,
      "outputs": []
    },
    {
      "cell_type": "code",
      "source": [
        "# Confusion matrix\n",
        "confusion = metrics.confusion_matrix(Y_train, Y_train_pred)\n",
        "print(confusion)"
      ],
      "metadata": {
        "id": "pdK0EWXk__Ft"
      },
      "execution_count": null,
      "outputs": []
    },
    {
      "cell_type": "code",
      "source": [
        "TP = confusion[1,1] # true positive \n",
        "TN = confusion[0,0] # true negatives\n",
        "FP = confusion[0,1] # false positives\n",
        "FN = confusion[1,0] # false negatives"
      ],
      "metadata": {
        "id": "1EbwqVsMAMPA"
      },
      "execution_count": null,
      "outputs": []
    },
    {
      "cell_type": "code",
      "source": [
        "# Accuracy\n",
        "print(\"Accuracy:-\",metrics.accuracy_score(Y_train, Y_train_pred))\n",
        "\n",
        "# Sensitivity\n",
        "print(\"Sensitivity:-\",TP / float(TP+FN))\n",
        "\n",
        "# Specificity\n",
        "print(\"Specificity:-\", TN / float(TN+FP))\n",
        "\n",
        "# F1 score\n",
        "print(\"F1-Score:-\", f1_score(Y_train, Y_train_pred))"
      ],
      "metadata": {
        "id": "qyEKkIBdAR10"
      },
      "execution_count": null,
      "outputs": []
    }
  ],
  "metadata": {
    "colab": {
      "collapsed_sections": [],
      "name": "Copy of Copy of Customer Prediction.ipynb",
      "provenance": [],
      "authorship_tag": "ABX9TyPXNCe3I1/jHgEC+rWLAVeq",
      "include_colab_link": true
    },
    "kernelspec": {
      "display_name": "Python 3",
      "name": "python3"
    },
    "language_info": {
      "name": "python"
    }
  },
  "nbformat": 4,
  "nbformat_minor": 0
}